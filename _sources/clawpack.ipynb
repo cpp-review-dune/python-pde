{
 "cells": [
  {
   "cell_type": "markdown",
   "id": "276dc930-ae00-4ff8-a4a9-06d7d611f662",
   "metadata": {},
   "source": [
    "# 1D advection equation"
   ]
  },
  {
   "cell_type": "markdown",
   "id": "52db6eae-a966-40f8-821d-84afeef1ae28",
   "metadata": {},
   "source": [
    "```\n",
    "Solves the 1D advection equation with a Riemann Solver and the Finite Volume\n",
    "Method using the PyClaw Package.\n",
    "\n",
    "    ∂q/∂t + u ∂q/∂x = 0\n",
    "\n",
    "q : The conserved quantity e.g. a density\n",
    "\n",
    "u : The advection speed\n",
    "\n",
    "------\n",
    "\n",
    "Scenario: A rectangular initial condition is transported to the right\n",
    "\n",
    "         ┌────────────────────────────────────────┐   \n",
    "    1.00 │⠀⡇⠀⠀⠀⠀⠀⠀⡖⠒⠒⠒⠒⠒⠒⠒⢲⠀⠀⠀⠀⠀⠀⠀⠀⠀⠀⠀⠀⠀⠀⠀⠀│ y1\n",
    "         │⠀⡇⠀⠀⠀⠀⠀⠀⢸⠀⠀⠀⠀⠀⠀ ⢸⠀⠀⠀⠀⠀⠀⠀⠀⠀⠀⠀⠀⠀⠀⠀⠀│   \n",
    "         │⠀⡇⠀⠀⠀⠀⠀⠀⢸ ⠀⠀⠀⠀⠀ ⢸⠀⠀⠀⠀⠀⠀⠀⠀⠀⠀⠀⠀⠀⠀⠀⠀│   \n",
    "         │⠀⡇⠀⠀⠀⠀⠀⠀⢸⠀⠀⠀⠀⠀⠀ ⢸⠀⠀⠀⠀⠀⠀⠀⠀⠀⠀⠀⠀⠀⠀⠀⠀│   \n",
    "         │⠀⡇⠀⠀⠀⠀⠀⠀⢸⠀⠀⠀⠀⠀⠀ ⢸⠀⠀⠀⠀⠀⠀⠀⠀⠀⠀⠀⠀⠀⠀⠀⠀│   \n",
    "         │⠀⡇⠀⠀⠀⠀⠀⠀⢸⠀⠀⠀⠀⠀⠀ ⢸⠀⠀⠀⠀⠀⠀⠀⠀⠀⠀⠀⠀⠀⠀⠀⠀│   \n",
    "         │⠀⡇⠀⠀⠀⠀⠀⠀⢸⠀⠀⠀⠀⠀⠀⠀⢸ ⠀⠀⠀⠀u⠀⠀⠀⠀⠀⠀⠀⠀⠀⠀│   \n",
    "         │⠀⡇⠀⠀⠀⠀⠀⠀⢸⠀⠀⠀⠀⠀⠀⠀⢸ ⠀⠀-----> ⠀⠀⠀⠀⠀⠀⠀│   \n",
    "         │⠀⡇⠀⠀⠀⠀⠀⠀⢸⠀⠀⠀⠀⠀⠀⠀⢸ ⠀⠀⠀⠀⠀⠀⠀⠀⠀⠀⠀⠀⠀⠀⠀│   \n",
    "         │⠀⡇⠀⠀⠀⠀⠀⠀⢸⠀⠀⠀⠀⠀⠀⠀⢸ ⠀⠀⠀⠀⠀⠀⠀⠀⠀⠀⠀⠀⠀⠀⠀│   \n",
    "         │⠀⡇⠀⠀⠀⠀⠀⠀⢸⠀⠀⠀⠀⠀⠀⠀⢸ ⠀⠀⠀⠀⠀⠀⠀⠀⠀⠀⠀⠀⠀⠀⠀│   \n",
    "         │⠀⡇⠀⠀⠀⠀⠀⠀⢸⠀⠀⠀⠀⠀⠀⠀⢸ ⠀⠀⠀⠀⠀⠀⠀⠀⠀⠀⠀⠀⠀⠀⠀│   \n",
    "         │⠀⡇⠀⠀⠀⠀⠀⠀⢸⠀⠀⠀⠀⠀⠀⠀⢸ ⠀⠀⠀⠀⠀⠀⠀⠀⠀⠀⠀⠀⠀⠀⠀│   \n",
    "         │⠀⡇⠀⠀⠀⠀⠀⠀⢸⠀⠀⠀⠀⠀⠀⠀⢸  ⠀⠀⠀⠀⠀⠀⠀⠀⠀⠀⠀⠀⠀⠀│   \n",
    "    0.00 │⠤⡧⠤⠤⠤⠤⠤⠤⠼         ⠧⠤⠤⠤⠤⠤⠤⠤⠤⠤⠤⠤⠤⠤⠤⠤│   \n",
    "         └────────────────────────────────────────┘   \n",
    "         ⠀ 0.00⠀⠀⠀⠀⠀⠀⠀⠀⠀⠀⠀⠀⠀⠀⠀⠀⠀⠀⠀⠀⠀⠀⠀⠀⠀⠀⠀⠀⠀⠀⠀1.00⠀   \n",
    "\n",
    "-> periodic Boundary conditions on the left and right end\n",
    "\n",
    "------\n",
    "\n",
    "Solution strategy\n",
    "\n",
    "1. Instantiate a ClawPack Solver with an attached Riemann Solver according to\n",
    "   the PDE being solved including the Boundary Conditions.\n",
    "\n",
    "2. Define the Finite Volume Mesh.\n",
    "\n",
    "3. Instantiate fields on the Mesh (that save the conserved quantity \"q\").\n",
    "\n",
    "4. Prescribe the initial condition.\n",
    "\n",
    "5. Set Problem-Specific Parameters (in our case the advection speed \"u\").\n",
    "\n",
    "6. Instantiate a controller that takes care of the time integration and attach\n",
    "   solution and solver to it.\n",
    "\n",
    "7. Run the simulation and visualize the results.\n",
    "```"
   ]
  },
  {
   "cell_type": "code",
   "execution_count": 2,
   "id": "34fb1984-397d-4291-8374-7ff887d2ac1f",
   "metadata": {},
   "outputs": [],
   "source": [
    "from clawpack import pyclaw\n",
    "from clawpack import riemann\n",
    "import numpy as np"
   ]
  },
  {
   "cell_type": "code",
   "execution_count": 3,
   "id": "0b6a3612-9d2e-4ce9-940a-3533858ce126",
   "metadata": {},
   "outputs": [],
   "source": [
    "def main():\n",
    "    # (1) Define the Finite Voluem solver to be used with a Riemann Solver from\n",
    "    # the library\n",
    "    solver = pyclaw.ClawSolver1D(riemann.advection_1D)\n",
    "    solver.bc_lower[0] = pyclaw.BC.periodic\n",
    "    solver.bc_upper[0] = pyclaw.BC.periodic\n",
    "\n",
    "    # (2) Define the mesh\n",
    "    x_dimension = pyclaw.Dimension(0.0, 1.0, 100)\n",
    "    domain = pyclaw.Domain(x_dimension)\n",
    "\n",
    "    # (3) Instantiate a solution field on the Mesh\n",
    "    solution = pyclaw.Solution(solver.num_eqn, domain,)\n",
    "\n",
    "    # (4) Prescribe an initial state\n",
    "    state = solution.state\n",
    "    cell_center_coordinates = state.grid.p_centers[0]\n",
    "    state.q[0, :] = np.where(\n",
    "        (cell_center_coordinates > 0.2)\n",
    "        &\n",
    "        (cell_center_coordinates < 0.4),\n",
    "        1.0,\n",
    "        0.0,\n",
    "    )\n",
    "\n",
    "    # (5) Assign problem-specific parameters (\"u\" refers to the advection speed)\n",
    "    state.problem_data[\"u\"] = 1.0\n",
    "\n",
    "    # (6) The controller takes care of the time integration\n",
    "    controller = pyclaw.Controller()\n",
    "    controller.solution = solution\n",
    "    controller.solver = solver\n",
    "    controller.tfinal = 1.0\n",
    "\n",
    "    # (7) Run and visualize\n",
    "    controller.run()\n",
    "\n",
    "    pyclaw.plot.interactive_plot()"
   ]
  },
  {
   "cell_type": "code",
   "execution_count": null,
   "id": "d951da3b-c36a-4078-9915-d64bb315634c",
   "metadata": {},
   "outputs": [
    {
     "name": "stdout",
     "output_type": "stream",
     "text": [
      "2024-02-15 16:42:06,277 INFO CLAW: Solution 0 computed for time t=0.000000\n",
      "2024-02-15 16:42:06,282 INFO CLAW: Solution 1 computed for time t=0.100000\n",
      "2024-02-15 16:42:06,286 INFO CLAW: Solution 2 computed for time t=0.200000\n",
      "2024-02-15 16:42:06,289 INFO CLAW: Solution 3 computed for time t=0.300000\n",
      "2024-02-15 16:42:06,291 INFO CLAW: Solution 4 computed for time t=0.400000\n",
      "2024-02-15 16:42:06,293 INFO CLAW: Solution 5 computed for time t=0.500000\n",
      "2024-02-15 16:42:06,296 INFO CLAW: Solution 6 computed for time t=0.600000\n",
      "2024-02-15 16:42:06,299 INFO CLAW: Solution 7 computed for time t=0.700000\n",
      "2024-02-15 16:42:06,302 INFO CLAW: Solution 8 computed for time t=0.800000\n",
      "2024-02-15 16:42:06,306 INFO CLAW: Solution 9 computed for time t=0.900000\n",
      "2024-02-15 16:42:06,310 INFO CLAW: Solution 10 computed for time t=1.000000\n"
     ]
    },
    {
     "name": "stderr",
     "output_type": "stream",
     "text": [
      "/usr/lib/python3.11/site-packages/clawpack/visclaw/frametools.py:936: SyntaxWarning: \"is not\" with a literal. Did you mean \"!=\"?\n",
      "  elif pp['patch_bgcolor'] is not 'w':\n"
     ]
    },
    {
     "name": "stdout",
     "output_type": "stream",
     "text": [
      "Input number of spatial dimensions for this data (default=1): "
     ]
    },
    {
     "name": "stdin",
     "output_type": "stream",
     "text": [
      " 1\n"
     ]
    },
    {
     "name": "stdout",
     "output_type": "stream",
     "text": [
      "Executed setplot successfully\n",
      "\n",
      "Interactive plotting... \n",
      "Type ? at IPLOT prompt for list of commands\n"
     ]
    },
    {
     "name": "stdin",
     "output_type": "stream",
     "text": [
      "\n",
      "    Start at which frame [default=0] ?  \n"
     ]
    },
    {
     "name": "stdout",
     "output_type": "stream",
     "text": [
      "    Reading  Frame 0 at t = 0  from outdir = /tmp/python-pde/pde-book/_output\n",
      "    Plotting Frame 0 at t = 0.0\n"
     ]
    },
    {
     "name": "stdin",
     "output_type": "stream",
     "text": [
      "PLOTCLAW >  \n"
     ]
    },
    {
     "name": "stdout",
     "output_type": "stream",
     "text": [
      "    Reading  Frame 1 at t = 0.1  from outdir = /tmp/python-pde/pde-book/_output\n",
      "    Plotting Frame 1 at t = 0.1\n"
     ]
    },
    {
     "name": "stdin",
     "output_type": "stream",
     "text": [
      "PLOTCLAW >  \n"
     ]
    },
    {
     "name": "stdout",
     "output_type": "stream",
     "text": [
      "    Reading  Frame 2 at t = 0.2  from outdir = /tmp/python-pde/pde-book/_output\n",
      "    Plotting Frame 2 at t = 0.2\n"
     ]
    },
    {
     "name": "stdin",
     "output_type": "stream",
     "text": [
      "PLOTCLAW >  \n"
     ]
    },
    {
     "name": "stdout",
     "output_type": "stream",
     "text": [
      "    Reading  Frame 3 at t = 0.3  from outdir = /tmp/python-pde/pde-book/_output\n",
      "    Plotting Frame 3 at t = 0.3\n"
     ]
    },
    {
     "name": "stdin",
     "output_type": "stream",
     "text": [
      "PLOTCLAW >  \n"
     ]
    },
    {
     "name": "stdout",
     "output_type": "stream",
     "text": [
      "    Reading  Frame 4 at t = 0.4  from outdir = /tmp/python-pde/pde-book/_output\n",
      "    Plotting Frame 4 at t = 0.4\n"
     ]
    },
    {
     "name": "stdin",
     "output_type": "stream",
     "text": [
      "PLOTCLAW >  \n"
     ]
    },
    {
     "name": "stdout",
     "output_type": "stream",
     "text": [
      "    Reading  Frame 5 at t = 0.5  from outdir = /tmp/python-pde/pde-book/_output\n",
      "    Plotting Frame 5 at t = 0.5\n"
     ]
    },
    {
     "name": "stdin",
     "output_type": "stream",
     "text": [
      "PLOTCLAW >  \n"
     ]
    },
    {
     "name": "stdout",
     "output_type": "stream",
     "text": [
      "    Reading  Frame 6 at t = 0.6  from outdir = /tmp/python-pde/pde-book/_output\n",
      "    Plotting Frame 6 at t = 0.6\n"
     ]
    },
    {
     "name": "stdin",
     "output_type": "stream",
     "text": [
      "PLOTCLAW >  \n"
     ]
    },
    {
     "name": "stdout",
     "output_type": "stream",
     "text": [
      "    Reading  Frame 7 at t = 0.7  from outdir = /tmp/python-pde/pde-book/_output\n",
      "    Plotting Frame 7 at t = 0.7\n"
     ]
    },
    {
     "name": "stdin",
     "output_type": "stream",
     "text": [
      "PLOTCLAW >  \n"
     ]
    },
    {
     "name": "stdout",
     "output_type": "stream",
     "text": [
      "    Reading  Frame 8 at t = 0.8  from outdir = /tmp/python-pde/pde-book/_output\n",
      "    Plotting Frame 8 at t = 0.8\n"
     ]
    },
    {
     "name": "stdin",
     "output_type": "stream",
     "text": [
      "PLOTCLAW >  \n"
     ]
    },
    {
     "name": "stdout",
     "output_type": "stream",
     "text": [
      "    Reading  Frame 9 at t = 0.9  from outdir = /tmp/python-pde/pde-book/_output\n",
      "    Plotting Frame 9 at t = 0.9\n"
     ]
    },
    {
     "name": "stdin",
     "output_type": "stream",
     "text": [
      "PLOTCLAW >  \n"
     ]
    },
    {
     "name": "stdout",
     "output_type": "stream",
     "text": [
      "    Reading  Frame 10 at t = 1  from outdir = /tmp/python-pde/pde-book/_output\n",
      "    Plotting Frame 10 at t = 1.0\n"
     ]
    },
    {
     "name": "stdin",
     "output_type": "stream",
     "text": [
      "PLOTCLAW >  \n"
     ]
    },
    {
     "name": "stdout",
     "output_type": "stream",
     "text": [
      "[Errno 2] No such file or directory: '/tmp/python-pde/pde-book/_output/fort.t0011'\n"
     ]
    },
    {
     "name": "stdin",
     "output_type": "stream",
     "text": [
      "PLOTCLAW >  \n"
     ]
    },
    {
     "name": "stdout",
     "output_type": "stream",
     "text": [
      "[Errno 2] No such file or directory: '/tmp/python-pde/pde-book/_output/fort.t0012'\n"
     ]
    },
    {
     "name": "stdin",
     "output_type": "stream",
     "text": [
      "PLOTCLAW >  \n"
     ]
    },
    {
     "name": "stdout",
     "output_type": "stream",
     "text": [
      "[Errno 2] No such file or directory: '/tmp/python-pde/pde-book/_output/fort.t0013'\n"
     ]
    },
    {
     "name": "stdin",
     "output_type": "stream",
     "text": [
      "PLOTCLAW >  \n"
     ]
    },
    {
     "name": "stdout",
     "output_type": "stream",
     "text": [
      "[Errno 2] No such file or directory: '/tmp/python-pde/pde-book/_output/fort.t0014'\n"
     ]
    },
    {
     "name": "stdin",
     "output_type": "stream",
     "text": [
      "PLOTCLAW >  \n"
     ]
    },
    {
     "name": "stdout",
     "output_type": "stream",
     "text": [
      "[Errno 2] No such file or directory: '/tmp/python-pde/pde-book/_output/fort.t0015'\n"
     ]
    },
    {
     "name": "stdin",
     "output_type": "stream",
     "text": [
      "PLOTCLAW >  \n"
     ]
    },
    {
     "name": "stdout",
     "output_type": "stream",
     "text": [
      "[Errno 2] No such file or directory: '/tmp/python-pde/pde-book/_output/fort.t0016'\n"
     ]
    },
    {
     "name": "stdin",
     "output_type": "stream",
     "text": [
      "PLOTCLAW >  \n"
     ]
    },
    {
     "name": "stdout",
     "output_type": "stream",
     "text": [
      "[Errno 2] No such file or directory: '/tmp/python-pde/pde-book/_output/fort.t0017'\n"
     ]
    },
    {
     "name": "stdin",
     "output_type": "stream",
     "text": [
      "PLOTCLAW >  \n"
     ]
    },
    {
     "name": "stdout",
     "output_type": "stream",
     "text": [
      "[Errno 2] No such file or directory: '/tmp/python-pde/pde-book/_output/fort.t0018'\n"
     ]
    },
    {
     "name": "stdin",
     "output_type": "stream",
     "text": [
      "PLOTCLAW >  \n"
     ]
    },
    {
     "name": "stdout",
     "output_type": "stream",
     "text": [
      "[Errno 2] No such file or directory: '/tmp/python-pde/pde-book/_output/fort.t0019'\n"
     ]
    },
    {
     "name": "stdin",
     "output_type": "stream",
     "text": [
      "PLOTCLAW >  \n"
     ]
    },
    {
     "name": "stdout",
     "output_type": "stream",
     "text": [
      "[Errno 2] No such file or directory: '/tmp/python-pde/pde-book/_output/fort.t0020'\n"
     ]
    },
    {
     "name": "stdin",
     "output_type": "stream",
     "text": [
      "PLOTCLAW >  \n"
     ]
    },
    {
     "name": "stdout",
     "output_type": "stream",
     "text": [
      "[Errno 2] No such file or directory: '/tmp/python-pde/pde-book/_output/fort.t0021'\n"
     ]
    },
    {
     "name": "stdin",
     "output_type": "stream",
     "text": [
      "PLOTCLAW >  \n"
     ]
    },
    {
     "name": "stdout",
     "output_type": "stream",
     "text": [
      "[Errno 2] No such file or directory: '/tmp/python-pde/pde-book/_output/fort.t0022'\n"
     ]
    },
    {
     "name": "stdin",
     "output_type": "stream",
     "text": [
      "PLOTCLAW >  \n"
     ]
    },
    {
     "name": "stdout",
     "output_type": "stream",
     "text": [
      "[Errno 2] No such file or directory: '/tmp/python-pde/pde-book/_output/fort.t0023'\n"
     ]
    },
    {
     "name": "stdin",
     "output_type": "stream",
     "text": [
      "PLOTCLAW >  \n"
     ]
    },
    {
     "name": "stdout",
     "output_type": "stream",
     "text": [
      "[Errno 2] No such file or directory: '/tmp/python-pde/pde-book/_output/fort.t0024'\n"
     ]
    }
   ],
   "source": [
    "# main()"
   ]
  },
  {
   "cell_type": "code",
   "execution_count": null,
   "id": "ae698716-3339-4510-9b1e-07500a57afb3",
   "metadata": {},
   "outputs": [],
   "source": []
  }
 ],
 "metadata": {
  "kernelspec": {
   "display_name": "Python 3 (ipykernel)",
   "language": "python",
   "name": "python3"
  },
  "language_info": {
   "codemirror_mode": {
    "name": "ipython",
    "version": 3
   },
   "file_extension": ".py",
   "mimetype": "text/x-python",
   "name": "python",
   "nbconvert_exporter": "python",
   "pygments_lexer": "ipython3",
   "version": "3.11.7"
  }
 },
 "nbformat": 4,
 "nbformat_minor": 5
}
