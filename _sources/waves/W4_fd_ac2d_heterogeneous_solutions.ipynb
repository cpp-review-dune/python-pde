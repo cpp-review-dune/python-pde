{
 "cells": [
  {
   "cell_type": "markdown",
   "metadata": {},
   "source": [
    "<div style='background-image: url(\"./title01.png\") ; padding: 0px ; background-size: cover ; border-radius: 5px ; height: 200px'>\n",
    "<div style=\"float: right ; margin: 50px ; padding: 20px ; background: rgba(255 , 255 , 255 , 0.7) ; width: 50% ; height: 150px\">\n",
    "<div style=\"position: relative ; top: 50% ; transform: translatey(-50%)\">\n",
    "            <div style=\"font-size: xx-large ; font-weight: 900 ; color: rgba(0 , 0 , 0 , 0.8) ; line-height: 100%\">Computers, Waves, Simulations</div>\n",
    "            <div style=\"font-size: large ; padding-top: 20px ; color: rgba(0 , 0 , 0 , 0.5)\">Finite-Difference Method - Acoustic Waves 2D - Heterogeneous case</div>\n",
    "        </div>\n",
    "    </div>\n",
    "</div>"
   ]
  },
  {
   "cell_type": "markdown",
   "metadata": {},
   "source": [
    "# Acoustic Waves 2D - Heterogeneous case\n",
    "\n",
    "This exercise covers the following aspects:\n",
    "\n",
    "* Presenting you with an implementation of the 2D acoustic wave equation \n",
    "* Allowing you to explore the benefits of using high-order finite-difference operators\n",
    "* Understanding the concepts of stability (Courant criterion)\n",
    "* Exploration of numerical dispersion and numerical grid anisotropy\n",
    "* Changing the earth model and exploring some effects of structural heterogeneities (e.g., fault zones)\n",
    "\n",
    "---"
   ]
  },
  {
   "cell_type": "markdown",
   "metadata": {},
   "source": [
    "## Basic Equations\n",
    "\n",
    "The acoustic wave equation in 2D is \n",
    "$$\n",
    "\\ddot{p}(x,z,t) \\ = \\ c(x,z)^2 (\\partial_x^2 p(x,z,t) + \\partial_z^2 p(x,z,t)) \\ + s(x,z,t)\n",
    "$$\n",
    "\n",
    "and we replace the time-dependent (upper index time, lower indices space) part by\n",
    "\n",
    "$$\n",
    " \\frac{p_{j,k}^{n+1} - 2 p_{j,k}^n + p_{j,k}^{n-1}}{\\mathrm{d}t^2} \\ = \\ c_j^2 ( \\partial_x^2 p + \\partial_z^2 p) \\ + s_{j,k}^n\n",
    "$$\n",
    "\n",
    "solving for $p_{j,k}^{n+1}$. \n",
    "The extrapolation scheme is\n",
    "$$\n",
    "p_{j,k}^{n+1} \\ = \\ c_j^2 \\mathrm{d}t^2 \\left[ \\partial_x^2 p + \\partial_z^2 p \\right]\n",
    "+ 2p_{j,k}^n - p_{j,k}^{n-1} + \\mathrm{d}t^2 s_{j,k}^n\n",
    "$$\n",
    "The  space derivatives are determined by \n",
    "\n",
    "$$\n",
    "\\partial_x^2 p \\ = \\ \\frac{p_{j+1,k}^{n} - 2 p_{j,k}^n + p_{j-1,k}^{n}}{\\mathrm{d}x^2}\n",
    "$$\n",
    "$$\n",
    "\\partial_z^2 p \\ = \\ \\frac{p_{j,k+1}^{n} - 2 p_{j,k}^n + p_{j,k-1}^{n}}{\\mathrm{d}z^2} \n",
    "$$\n",
    "\n",
    "---"
   ]
  },
  {
   "cell_type": "markdown",
   "metadata": {},
   "source": [
    "### 1. Getting started\n",
    "Relate the time extrapolation loop with the numerical algorithm we developed in the course. Understand the input parameters for the simulation and the plots that are generated. Modify source and receiver locations and observe the effects on the seismograms. \n",
    "\n",
    "### 2. Stability\n",
    "The Courant criterion is defined as $eps = (v \\cdot dt) / dx$ and provides the maximum possible, stable time step, with $v$ beeing the velocity, $dt$ the time step and $dx$ the spatial step. Determine numerically the stability limit of the code as accurately as possible by increasing the time step. Print the max value of the pressure field at each time step and observe the evolution of it in the case of stable and unstable simulations. \n",
    "\n",
    "### 3. High-order operators\n",
    "Extend the code by adding the option to use a 5-point difference operator. Compare simulations with the 3-point and 5-point operator. Is the stability limit still the same? Estimate the number of points per wavelength and investigate the accuracy of the simulation by looking for signs of numerical dispersion in the resulting seismograms. The 5-pt weights are: $[-1/12, 4/3, -5/2, 4/3, -1/12]/dx^2$. \n",
    "\n",
    "### 4. Numerical anisotropy\n",
    "Increase the frequency of the wavefield by varying $f_0$. Investigate the angular dependence of the wavefield. Why does the wavefield look anisotropic? Which direction is the most accurate and why? What happens if you set the source time function to a spike (zero everywhere except one element with value $1$). \n",
    "\n",
    "### 5. Heterogeneous models\n",
    "Now let us explore the power of the finite-difference method by varying the internal structure of the model. Here we can only modify the velocity $c$ that  can vary at each grid point (any restrictions?). Here are some suggestions: investigate the influence of the structure by analysing the snapshots and the seismograms. \n",
    "\n",
    "* Add a low(high) velocity layer near the surface. Put the source at $z_s=2$.\n",
    "* Add a vertical low velocity zone (fault zone) of a certain width (e.g. $10$ grid points), and discuss the resulting wavefield\n",
    "* Simulate topography by setting the pressure to $0$ above the surface. Use a Gaussian hill shape or a random topography.\n",
    "* etc. \n",
    "\n",
    "### 6. Source-receiver reciprocity\n",
    " Initialize a strongly heterogeneous 2D velocity model of your choice and simulate waves propagating from an internal source point ($x_s, z_s$) to an internal receiver ($x_r, z_r$). Show that by reversing source and receiver you obtain the same seismogram.\n",
    "\n",
    "### 7. Time reversal\n",
    "Time reversal. Define in an arbitrary 2D velocity model a source at the centre of the domain an a receiver circle at an appropriate distance around the source. Simulate a wavefield, record it at the receiver ring and store the results. Reverse the synthetic seismograms and inject the as sources at the receiver points. What happens? Do you know examples where this principle is used?  \n",
    "\n",
    "---"
   ]
  },
  {
   "cell_type": "code",
   "execution_count": 8,
   "metadata": {
    "code_folding": [
     0
    ]
   },
   "outputs": [],
   "source": [
    "# This is a configuration step for the exercise. Please run it before the simulation code!\n",
    "import matplotlib.pyplot as plt\n",
    "import numpy as np"
   ]
  },
  {
   "cell_type": "markdown",
   "metadata": {},
   "source": [
    "Below is the 2D acoustic simulation code:"
   ]
  },
  {
   "cell_type": "code",
   "execution_count": 9,
   "metadata": {
    "code_folding": [
     0
    ]
   },
   "outputs": [],
   "source": [
    "# Simple finite difference solver\n",
    "# Acoustic wave equation  p_tt = c^2 p_xx + src\n",
    "# 2-D regular grid\n",
    "\n",
    "nx = 200  # grid points in x - 500\n",
    "nz = 200  # grid points in z - 500\n",
    "nt = 1000  # number of time steps\n",
    "dx = 10.0  # grid increment in x - 1\n",
    "dt = 0.001  # Time step\n",
    "c0 = 3000.0  # velocity (can be an array) - 580\n",
    "isx = nx // 2  # source index x - 250\n",
    "isz = nz // 2  # source index z - 250\n",
    "ist = 100  # shifting of source time function\n",
    "f0 = 50.0  # dominant frequency of source (Hz)\n",
    "isnap = 10  # snapshot frequency\n",
    "T = 1.0 / f0  # dominant period\n",
    "nop = 5  # length of operator\n",
    "\n",
    "# Model type, available are \"homogeneous\", \"fault_zone\",\n",
    "# \"surface_low_velocity_zone\", \"random\", \"topography\",\n",
    "# \"slab\"\n",
    "model_type = \"fault_zone\"\n",
    "\n",
    "# Receiver locations\n",
    "irx = np.array([60, 80, 100, 120, 140])\n",
    "irz = np.array([5, 5, 5, 5, 5])\n",
    "seis = np.zeros((len(irx), nt))\n",
    "\n",
    "# Initialize pressure at different time steps and the second\n",
    "# derivatives in each direction\n",
    "p = np.zeros((nz, nx))\n",
    "pold = np.zeros((nz, nx))\n",
    "pnew = np.zeros((nz, nx))\n",
    "pxx = np.zeros((nz, nx))\n",
    "pzz = np.zeros((nz, nx))"
   ]
  },
  {
   "cell_type": "code",
   "execution_count": 10,
   "metadata": {
    "code_folding": [
     0
    ]
   },
   "outputs": [],
   "source": [
    "# Initialize velocity model (the fun bit!)\n",
    "c = np.zeros((nz, nx))\n",
    "\n",
    "if model_type == \"homogeneous\":\n",
    "    c += c0\n",
    "elif model_type == \"fault_zone\":\n",
    "    c += c0\n",
    "    c[:, nx // 2 - 5 : nx // 2 + 5] *= 0.8\n",
    "elif model_type == \"surface_low_velocity_zone\":\n",
    "    c += c0\n",
    "    c[1:10, :] *= 0.8\n",
    "elif model_type == \"random\":\n",
    "    pert = 0.4\n",
    "    r = 2.0 * (np.random.rand(nz, nx) - 0.5) * pert\n",
    "    c += c0 * (1 + r)\n",
    "elif model_type == \"topography\":\n",
    "    c += c0\n",
    "    c[0:10, 10:50] = 0\n",
    "    c[0:10, 105:115] = 0\n",
    "    c[0:30, 145:170] = 0\n",
    "    c[10:40, 20:40] = 0\n",
    "    c[0:15, 50:105] *= 0.8\n",
    "elif model_type == \"slab\":\n",
    "    c += c0\n",
    "    c[110:125, 0:125] = 1.4 * c0\n",
    "    for i in range(110, 180):\n",
    "        c[i, i - 5 : i + 15] = 1.4 * c0\n",
    "else:\n",
    "    raise NotImplementedError\n",
    "\n",
    "cmax = c.max()"
   ]
  },
  {
   "cell_type": "code",
   "execution_count": 11,
   "metadata": {
    "code_folding": [
     0
    ]
   },
   "outputs": [],
   "source": [
    "# Source time function Gaussian, nt + 1 as we loose the last one by diff\n",
    "src = np.empty(nt + 1)\n",
    "for it in range(nt):\n",
    "    src[it] = np.exp(-1.0 / T**2 * ((it - ist) * dt) ** 2)\n",
    "# Take the first derivative\n",
    "src = np.diff(src) / dt\n",
    "src[nt - 1] = 0"
   ]
  },
  {
   "cell_type": "code",
   "execution_count": 12,
   "metadata": {
    "code_folding": [
     0
    ]
   },
   "outputs": [
    {
     "name": "stdout",
     "output_type": "stream",
     "text": [
      "Courant Criterion eps :\n",
      "0.3\n"
     ]
    },
    {
     "data": {
      "image/png": "[encoded data removed]",
      "text/plain": [
       "<Figure size 640x480 with 2 Axes>"
      ]
     },
     "metadata": {},
     "output_type": "display_data"
    }
   ],
   "source": [
    "# Plot preparation\n",
    "\n",
    "v = max([np.abs(src.min()), np.abs(src.max())])\n",
    "# Initialize animated plot\n",
    "image = plt.imshow(\n",
    "    pnew, interpolation=\"nearest\", animated=True, vmin=-v, vmax=+v, cmap=plt.cm.RdBu\n",
    ")\n",
    "\n",
    "\n",
    "# Plot the receivers\n",
    "for x, z in zip(irx, irz):\n",
    "    plt.text(x, z, \"+\")\n",
    "\n",
    "plt.text(isx, isz, \"o\")\n",
    "plt.colorbar()\n",
    "plt.xlabel(\"ix\")\n",
    "plt.ylabel(\"iz\")\n",
    "\n",
    "\n",
    "plt.ion()\n",
    "# plt.show(block=False)\n",
    "\n",
    "# required for seismograms\n",
    "ir = np.arange(len(irx))\n",
    "\n",
    "# Output Courant criterion\n",
    "print(\"Courant Criterion eps :\")\n",
    "print(cmax * dt / dx)"
   ]
  },
  {
   "cell_type": "code",
   "execution_count": null,
   "metadata": {
    "code_folding": [
     0
    ]
   },
   "outputs": [],
   "source": [
    "# Time extrapolation\n",
    "for it in range(nt):\n",
    "    if nop == 3:\n",
    "        # calculate partial derivatives, be careful around the boundaries\n",
    "        for i in range(1, nx - 1):\n",
    "            pzz[:, i] = p[:, i + 1] - 2 * p[:, i] + p[:, i - 1]\n",
    "        for j in range(1, nz - 1):\n",
    "            pxx[j, :] = p[j - 1, :] - 2 * p[j, :] + p[j + 1, :]\n",
    "\n",
    "    if nop == 5:\n",
    "        # calculate partial derivatives, be careful around the boundaries\n",
    "        for i in range(2, nx - 2):\n",
    "            pzz[:, i] = (\n",
    "                -1.0 / 12 * p[:, i + 2]\n",
    "                + 4.0 / 3 * p[:, i + 1]\n",
    "                - 5.0 / 2 * p[:, i]\n",
    "                + 4.0 / 3 * p[:, i - 1]\n",
    "                - 1.0 / 12 * p[:, i - 2]\n",
    "            )\n",
    "        for j in range(2, nz - 2):\n",
    "            pxx[j, :] = (\n",
    "                -1.0 / 12 * p[j + 2, :]\n",
    "                + 4.0 / 3 * p[j + 1, :]\n",
    "                - 5.0 / 2 * p[j, :]\n",
    "                + 4.0 / 3 * p[j - 1, :]\n",
    "                - 1.0 / 12 * p[j - 2, :]\n",
    "            )\n",
    "\n",
    "    pxx /= dx**2\n",
    "    pzz /= dx**2\n",
    "\n",
    "    # Time extrapolation\n",
    "    pnew = 2 * p - pold + dt**2 * c**2 * (pxx + pzz)\n",
    "    # Add source term at isx, isz\n",
    "    pnew[isz, isx] = pnew[isz, isx] + src[it]\n",
    "\n",
    "    # Plot every isnap-th iteration\n",
    "    if (\n",
    "        it % isnap == 0\n",
    "    ):  # you can change the speed of the plot by increasing the plotting interval\n",
    "        plt.title(\"Max P: %.2f\" % p.max())\n",
    "        image.set_data(pnew)\n",
    "        plt.gcf().canvas.draw()\n",
    "\n",
    "    pold, p = p, pnew\n",
    "\n",
    "    # Save seismograms\n",
    "    seis[ir, it] = p[irz[ir], irx[ir]]"
   ]
  },
  {
   "cell_type": "markdown",
   "metadata": {},
   "source": [
    "The cell below allows you to plot source time function, seismic velocites, and the resulting seismograms in windows inside the notebook. Remember to rerun after you simulated again!"
   ]
  },
  {
   "cell_type": "code",
   "execution_count": null,
   "metadata": {
    "code_folding": [
     0
    ]
   },
   "outputs": [],
   "source": [
    "# Plot the source time function and the seismograms\n",
    "\n",
    "plt.ioff()\n",
    "plt.figure(figsize=(8, 8))\n",
    "\n",
    "plt.subplot(221)\n",
    "time = np.arange(nt) * dt\n",
    "plt.plot(time, src)\n",
    "plt.title(\"Source time function\")\n",
    "plt.xlabel(\"Time (s) \")\n",
    "plt.ylabel(\"Source amplitude \")\n",
    "\n",
    "# plt.subplot(222)\n",
    "# ymax = seis.ravel().max()\n",
    "# for ir in range(len(seis)):\n",
    "#    plt.plot(time, seis[ir, :] + ymax * ir)\n",
    "#    plt.xlabel('Time (s)')\n",
    "#    plt.ylabel('Amplitude')\n",
    "\n",
    "plt.subplot(223)\n",
    "ymax = seis.ravel().max()\n",
    "for ir in range(len(seis)):\n",
    "    plt.plot(time, seis[ir, :] + ymax * ir)\n",
    "    plt.xlabel(\"Time (s)\")\n",
    "    plt.ylabel(\"Amplitude\")\n",
    "\n",
    "plt.subplot(224)\n",
    "# The velocity model is influenced by the Earth model above\n",
    "plt.title(\"Velocity Model\")\n",
    "plt.imshow(c)\n",
    "plt.xlabel(\"ix\")\n",
    "plt.ylabel(\"iz\")\n",
    "plt.colorbar()\n",
    "plt.show()"
   ]
  },
  {
   "cell_type": "code",
   "execution_count": null,
   "metadata": {},
   "outputs": [],
   "source": []
  }
 ],
 "metadata": {
  "anaconda-cloud": {},
  "kernelspec": {
   "display_name": "Python 3 (ipykernel)",
   "language": "python",
   "name": "python3"
  },
  "language_info": {
   "codemirror_mode": {
    "name": "ipython",
    "version": 3
   },
   "file_extension": ".py",
   "mimetype": "text/x-python",
   "name": "python",
   "nbconvert_exporter": "python",
   "pygments_lexer": "ipython3",
   "version": "3.11.7"
  }
 },
 "nbformat": 4,
 "nbformat_minor": 1
}
