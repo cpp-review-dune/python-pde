{
 "cells": [
  {
   "cell_type": "markdown",
   "id": "0bfe020c",
   "metadata": {},
   "source": [
    "# Symbolic `findiff`"
   ]
  },
  {
   "cell_type": "code",
   "execution_count": 13,
   "id": "615dafb9-503b-4ab9-8c3f-e9f523739a4a",
   "metadata": {},
   "outputs": [],
   "source": [
    "from findiff import SymbolicDiff, SymbolicMesh\n",
    "from sympy import Symbol"
   ]
  },
  {
   "cell_type": "code",
   "execution_count": 15,
   "id": "aa8e8881-a9f5-411d-949e-0270e1dddd7f",
   "metadata": {},
   "outputs": [],
   "source": [
    "mesh = SymbolicMesh(\"x, y\")"
   ]
  },
  {
   "cell_type": "code",
   "execution_count": 16,
   "id": "fc0b3992-f14f-4d5b-8cd3-53dbb17f72e9",
   "metadata": {},
   "outputs": [],
   "source": [
    "u = mesh.create_symbol(\"u\")"
   ]
  },
  {
   "cell_type": "code",
   "execution_count": 18,
   "id": "a0d20704-8682-4654-875d-2fd46b82a738",
   "metadata": {},
   "outputs": [],
   "source": [
    "m = Symbol(\"m\")\n",
    "n = Symbol(\"n\")"
   ]
  },
  {
   "cell_type": "code",
   "execution_count": 19,
   "id": "5c6d88a1-f328-4a1a-9ad3-6df0bee18b25",
   "metadata": {},
   "outputs": [
    {
     "data": {
      "text/latex": [
       "$\\displaystyle u$"
      ],
      "text/plain": [
       "u"
      ]
     },
     "execution_count": 19,
     "metadata": {},
     "output_type": "execute_result"
    }
   ],
   "source": [
    "u"
   ]
  },
  {
   "cell_type": "code",
   "execution_count": 20,
   "id": "796c2247-01ab-4095-a7ce-d6469440d200",
   "metadata": {},
   "outputs": [],
   "source": [
    "d2_dx2, d2_dy2 = (SymbolicDiff(mesh, axis=k, degree=2) for k in range(2))"
   ]
  },
  {
   "cell_type": "code",
   "execution_count": 21,
   "id": "556643d3-c1cc-4fe3-8dc9-a2428228e1d6",
   "metadata": {},
   "outputs": [
    {
     "data": {
      "text/latex": [
       "$\\displaystyle \\frac{{u}_{m,n + 1} + {u}_{m,n - 1} - 2 {u}_{m,n}}{\\Delta y^{2}} + \\frac{{u}_{m + 1,n} + {u}_{m - 1,n} - 2 {u}_{m,n}}{\\Delta x^{2}}$"
      ],
      "text/plain": [
       "(u[m, n + 1] + u[m, n - 1] - 2*u[m, n])/\\Delta y**2 + (u[m + 1, n] + u[m - 1, n] - 2*u[m, n])/\\Delta x**2"
      ]
     },
     "execution_count": 21,
     "metadata": {},
     "output_type": "execute_result"
    }
   ],
   "source": [
    "(d2_dx2(u, at=(m, n), offsets=(-1, 0, 1)) + d2_dy2(u, at=(m, n), offsets=(-1, 0, 1)))"
   ]
  }
 ],
 "metadata": {
  "kernelspec": {
   "display_name": "Python 3 (ipykernel)",
   "language": "python",
   "name": "python3"
  },
  "language_info": {
   "codemirror_mode": {
    "name": "ipython",
    "version": 3
   },
   "file_extension": ".py",
   "mimetype": "text/x-python",
   "name": "python",
   "nbconvert_exporter": "python",
   "pygments_lexer": "ipython3",
   "version": "3.11.6"
  }
 },
 "nbformat": 4,
 "nbformat_minor": 5
}
