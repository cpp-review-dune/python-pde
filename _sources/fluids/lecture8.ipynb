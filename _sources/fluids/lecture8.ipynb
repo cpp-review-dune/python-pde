{
 "cells": [
  {
   "cell_type": "markdown",
   "id": "05f136ae-5f62-49f6-8e5b-d319239f8c84",
   "metadata": {},
   "source": [
    "# Generalized FVM Formulation"
   ]
  },
  {
   "cell_type": "code",
   "execution_count": null,
   "id": "95082695-403a-41ba-9681-d5932fe21edb",
   "metadata": {},
   "outputs": [],
   "source": []
  }
 ],
 "metadata": {
  "kernelspec": {
   "display_name": "Python 3 (ipykernel)",
   "language": "python",
   "name": "python3"
  },
  "language_info": {
   "codemirror_mode": {
    "name": "ipython",
    "version": 3
   },
   "file_extension": ".py",
   "mimetype": "text/x-python",
   "name": "python",
   "nbconvert_exporter": "python",
   "pygments_lexer": "ipython3",
   "version": "3.11.7"
  }
 },
 "nbformat": 4,
 "nbformat_minor": 5
}
