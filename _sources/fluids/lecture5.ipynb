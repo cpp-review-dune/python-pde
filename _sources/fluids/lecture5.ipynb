{
 "cells": [
  {
   "cell_type": "markdown",
   "id": "9dbca97e-99ec-4a85-b1cc-ac269e7d45ba",
   "metadata": {},
   "source": [
    "# Introduction to Finite Volume Method\n",
    "\n",
    "$$\n",
    "\\begin{aligned}\n",
    "\\int\n",
    "\\dfrac{\\mathrm{d}^{2}T}{\\mathrm{d}x^{2}}\n",
    "\\mathrm{d}V&=\n",
    "0.\\\\\n",
    "\\int_{w}^{e}\n",
    "\\dfrac{\\mathrm{d}^{2}T}{\\mathrm{d}x^{2}}\n",
    "\\mathrm{d}x&=\n",
    "0.\\\\\n",
    "{\\left.\\dfrac{\\mathrm{d}T}{\\mathrm{d}x}\\right|}_{e}-\n",
    "{\\left.\\dfrac{\\mathrm{d}T}{\\mathrm{d}x}\\right|}_{w}&=\n",
    "0.\\\\\n",
    "\\dfrac{T_{i+1}-T_{i}}{h}-\n",
    "\\dfrac{T_{i}-T_{i-1}}{h}&=\n",
    "0.\\\\\n",
    "\\dfrac{T_{i+1}-2T_{i}+T_{i-1}}{h}&=\n",
    "0.\\\\\n",
    "\\dfrac{T_{i+1}-T_{i}}{h}-\n",
    "\\dfrac{T_{i}-T_{i-1}}{h}&=\n",
    "0.\\\\\n",
    "T_{i}&=\n",
    "\\dfrac{1}{2}\n",
    "\\left(T_{i+1}+T_{i-1}\\right).\n",
    "\\end{aligned}\n",
    "$$"
   ]
  }
 ],
 "metadata": {
  "kernelspec": {
   "display_name": "Python 3 (ipykernel)",
   "language": "python",
   "name": "python3"
  },
  "language_info": {
   "codemirror_mode": {
    "name": "ipython",
    "version": 3
   },
   "file_extension": ".py",
   "mimetype": "text/x-python",
   "name": "python",
   "nbconvert_exporter": "python",
   "pygments_lexer": "ipython3",
   "version": "3.11.7"
  }
 },
 "nbformat": 4,
 "nbformat_minor": 5
}
