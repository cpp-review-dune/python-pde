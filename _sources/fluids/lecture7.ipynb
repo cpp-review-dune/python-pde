{
 "cells": [
  {
   "cell_type": "markdown",
   "id": "5d0c3da4-f388-495e-b10f-d26582421bc4",
   "metadata": {},
   "source": [
    "# Conduction Visualization Python Script"
   ]
  },
  {
   "cell_type": "code",
   "execution_count": null,
   "id": "e5906e39-017d-4c35-becd-2026700bf294",
   "metadata": {},
   "outputs": [],
   "source": []
  }
 ],
 "metadata": {
  "kernelspec": {
   "display_name": "Python 3 (ipykernel)",
   "language": "python",
   "name": "python3"
  },
  "language_info": {
   "codemirror_mode": {
    "name": "ipython",
    "version": 3
   },
   "file_extension": ".py",
   "mimetype": "text/x-python",
   "name": "python",
   "nbconvert_exporter": "python",
   "pygments_lexer": "ipython3",
   "version": "3.11.7"
  }
 },
 "nbformat": 4,
 "nbformat_minor": 5
}
