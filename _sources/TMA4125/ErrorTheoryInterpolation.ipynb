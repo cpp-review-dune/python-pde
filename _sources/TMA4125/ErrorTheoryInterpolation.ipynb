{
 "cells": [
  {
   "cell_type": "markdown",
   "metadata": {
    "slideshow": {
     "slide_type": "slide"
    }
   },
   "source": [
    "<!-- dom:TITLE: Polynomial interpolation: Error theory -->\n",
    "# Polynomial interpolation: Error theory\n",
    "<!-- dom:AUTHOR: Anne Kværnø (modified by André Massing) -->\n",
    "<!-- Author: -->  \n",
    "**Anne Kværnø (modified by André Massing)**\n",
    "\n",
    "Date: **Jan 21, 2021**\n",
    "\n",
    "If you want to have a nicer theme for your jupyter notebook,\n",
    "download the [cascade stylesheet file tma4125.css](https://www.math.ntnu.no/emner/TMA4125/2020v/part_II/notebooks/tma4125.css)\n",
    "and execute the next cell:"
   ]
  },
  {
   "cell_type": "code",
   "execution_count": 60,
   "metadata": {
    "slideshow": {
     "slide_type": "fragment"
    }
   },
   "outputs": [
    {
     "data": {
      "text/html": [
       "<link href='http://fonts.googleapis.com/css?family=Alegreya+Sans:100,300,400,500,700,800,900,100italic,300italic,400italic,500italic,700italic,800italic,900italic' rel='stylesheet' type='text/css'> <link href='http://fonts.googleapis.com/css?family=Arvo:400,700,400italic' rel='stylesheet' type='text/css'> <link href=\"https://fonts.googleapis.com/css?family=News+Cycle\" rel=\"stylesheet\"> <link href='http://fonts.googleapis.com/css?family=Nixie+One' rel='stylesheet' type='text/css'> <link href='http://fonts.googleapis.com/css?family=PT+Mono' rel='stylesheet' type='text/css'> <link href='http://fonts.googleapis.com/css?family=Shadows+Into+Light' rel='stylesheet' type='text/css'> <link href=\"https://fonts.googleapis.com/css?family=Source+Code+Pro\" rel=\"stylesheet\"> <style> @font-face {\n",
       "    /*font-family: \"Computer Modern\";*/\n",
       "    /*src: url('http://mirrors.ctan.org/fonts/cm-unicode/fonts/otf/cmunss.otf');*/\n",
       "    font-family: 'News Cycle', sans-serif;\n",
       "}\n",
       "\n",
       "\n",
       "/* main background */\n",
       "\n",
       "\n",
       "/*#notebook_panel { \n",
       "        background: #C9D4E2;\n",
       "    }*/\n",
       "\n",
       "div.cell {\n",
       "    /*max-width:600px;*/\n",
       "    /*margin-left:16% !important;*/\n",
       "    /*margin-right:auto;*/\n",
       "}\n",
       "\n",
       "div.text_cell {\n",
       "    max-width: 120ex;\n",
       "    /* instead of 100%, */\n",
       "}\n",
       "\n",
       "div.text_cell_render {\n",
       "    font-family: 'Alegreya Sans', Computer Modern, \"Helvetica Neue\", Arial, Helvetica, Geneva,   sans-serif;\n",
       "    line-height: 135%;\n",
       "    /*font-size:    45pt;*/\n",
       "    font-size: 130%;\n",
       "    /*width:600px;*/\n",
       "    /*margin-left:auto;*/\n",
       "    /*margin-right:auto;*/\n",
       "}\n",
       "\n",
       ".CodeMirror {\n",
       "    /*font-family: 'Source Code Pro', monospace;*/\n",
       "    /*font-style: italic;*/\n",
       "    /*font-weight: bold;*/\n",
       "    /*font-size: 120%;*/\n",
       "}\n",
       "\n",
       "\n",
       "/*.prompt{\n",
       "        display: None;\n",
       "    }*/\n",
       "\n",
       ".text_cell_render h1 {\n",
       "    font-family: 'Nixie One', serifV;\n",
       "    font-style: regular;\n",
       "    font-weight: 400;\n",
       "    font-size: 45pt;\n",
       "    line-height: 100%;\n",
       "        color: #497BB9;    \n",
       "    /*color: #5889C5;*/\n",
       "    /*color: rgb(0, 51, 102);*/\n",
       "    /*font-weight: 200;*/\n",
       "    /*font-size: 50pt;*/\n",
       "    margin-bottom: 0.5em;\n",
       "    margin-top: 0.5em;\n",
       "    display: block;\n",
       "}\n",
       "\n",
       ".text_cell_render h2 {\n",
       "    font-family: 'Nixie One', serif;\n",
       "    font-weight: 400;\n",
       "    font-size: 30pt;\n",
       "    line-height: 100%;\n",
       "    /*color: rgb(0,51,102);*/\n",
       "    color: #497BB9;    \n",
       "    margin-bottom: 0.1em;\n",
       "    margin-top: 0.3em;\n",
       "    display: block;\n",
       "}\t\n",
       "\n",
       ".text_cell_render h3 {\n",
       "    font-family: 'Nixie One', serif;\n",
       "    margin-top:16px;\n",
       "    font-size: 22pt;\n",
       "    font-weight: 600;\n",
       "    margin-bottom: 3px;\n",
       "    font-style: regular;\n",
       "    color: rgb(102,102,0);\n",
       "}\n",
       "\n",
       ".text_cell_render h4 {    /*Use this for captions*/\n",
       "    font-family: 'Nixie One', serif;\n",
       "    font-size: 14pt;\n",
       "/*    text-align: center;*/\n",
       "    margin-top: 0em;\n",
       "    margin-bottom: 2em;\n",
       "    font-style: regular;\n",
       "}\n",
       "\n",
       ".text_cell_render h5 {  /*Use this for small titles*/\n",
       "    font-family: 'Nixie One', sans-serif;\n",
       "    font-weight: 400;\n",
       "    font-size: 16pt;\n",
       "    color: rgb(163,0,0);\n",
       "    /*color: #5889C5;*/\n",
       "    /*margin-bottom: .5em;\n",
       "    margin-top: 0.5em;*/\n",
       "    font-style: italic;\n",
       "    margin-bottom: .1em;\n",
       "    margin-top: 0.8em;\n",
       "    display: block;\n",
       "}\n",
       "\n",
       ".warning {\n",
       "    color: rgb( 240, 20, 20)\n",
       "}\n",
       "\n",
       "</style> \n",
       "<script>\n",
       " MathJax.Hub.Config( {\n",
       "    TeX: {\n",
       "        Macros: {\n",
       "            NN: \"{\\\\bf N}\",\n",
       "            RR: \"{\\\\mathbb{R}}\",\n",
       "            mcO: \"{\\\\mathcal{O}}\"\n",
       "        },\n",
       "        equationNumbers: { autoNumber: \"AMS\" },\n",
       "        extensions: [\"AMSmath.js\", \"begingroup.js\"] \n",
       "    },\n",
       "    tex2jax: {\n",
       "        inlineMath: [ ['$', '$'], [\"\\\\(\", \"\\\\)\"]], displayMath: [ ['$$', '$$'], [\"\\\\[\", \"\\\\]\"]]\n",
       "    },\n",
       "    displayAlign: 'center', // Change this to 'center' to center equations.\n",
       "    \"HTML-CSS\": {\n",
       "        styles: {\n",
       "            '.MathJax_Display': {\n",
       "                \"margin\": 4\n",
       "            }\n",
       "        }\n",
       "    }\n",
       "}\n",
       ");\n",
       "</script>\n"
      ],
      "text/plain": [
       "<IPython.core.display.HTML object>"
      ]
     },
     "execution_count": 60,
     "metadata": {},
     "output_type": "execute_result"
    }
   ],
   "source": [
    "import matplotlib.pyplot as plt\n",
    "import numpy as np\n",
    "from IPython.core.display import HTML\n",
    "from numpy import pi\n",
    "from numpy.linalg import norm, solve  # Solve linear systems and compute norms\n",
    "\n",
    "\n",
    "def css_styling():\n",
    "    try:\n",
    "        with open(\"tma4125.css\") as f:\n",
    "            styles = f.read()\n",
    "            return HTML(styles)\n",
    "    except FileNotFoundError:\n",
    "        pass  # Do nothing\n",
    "\n",
    "\n",
    "# Comment out next line and execute this cell to restore the default notebook style\n",
    "css_styling()"
   ]
  },
  {
   "cell_type": "markdown",
   "metadata": {
    "slideshow": {
     "slide_type": "slide"
    }
   },
   "source": [
    "And of course we want to import the required Modules."
   ]
  },
  {
   "cell_type": "code",
   "execution_count": 61,
   "metadata": {
    "slideshow": {
     "slide_type": "fragment"
    }
   },
   "outputs": [],
   "source": [
    "%matplotlib inline\n",
    "\n",
    "\n",
    "newparams = {\n",
    "    \"figure.figsize\": (6.0, 6.0),\n",
    "    \"axes.grid\": True,\n",
    "    \"lines.markersize\": 8,\n",
    "    \"lines.linewidth\": 2,\n",
    "    \"font.size\": 14,\n",
    "}\n",
    "plt.rcParams.update(newparams)"
   ]
  },
  {
   "cell_type": "markdown",
   "metadata": {
    "slideshow": {
     "slide_type": "slide"
    }
   },
   "source": [
    "Finally, we also run the LagrangePolynomial.ipynb to import\n",
    "the function `cardinal` and `lagrange`."
   ]
  },
  {
   "cell_type": "code",
   "execution_count": 62,
   "metadata": {
    "slideshow": {
     "slide_type": "fragment"
    }
   },
   "outputs": [
    {
     "data": {
      "image/png": "[encoded data removed]",
      "text/plain": [
       "<Figure size 432x432 with 1 Axes>"
      ]
     },
     "metadata": {
      "needs_background": "light"
     },
     "output_type": "display_data"
    },
    {
     "data": {
      "image/png": "[encoded data removed]",
      "text/plain": [
       "<Figure size 576x288 with 1 Axes>"
      ]
     },
     "metadata": {
      "needs_background": "light"
     },
     "output_type": "display_data"
    }
   ],
   "source": [
    "%run LagrangeInterpolation.ipynb"
   ]
  },
  {
   "cell_type": "markdown",
   "metadata": {
    "slideshow": {
     "slide_type": "slide"
    }
   },
   "source": [
    "# Theory\n",
    "Given some function $f\\in C[a,b]$. Choose $n+1$ distinct nodes in\n",
    "$[a,b]$ and let $p_n(x) \\in \\mathbb{P}_n$ satisfy the interpolation\n",
    "condition\n",
    "\n",
    "$$\n",
    "p_n(x_i) = f(x_i), \\qquad i=0,\\dots,n.\n",
    "$$\n",
    "\n",
    "What can be said about the error $e(x)=f(x)-p_n(x)$?"
   ]
  },
  {
   "cell_type": "markdown",
   "metadata": {
    "slideshow": {
     "slide_type": "slide"
    }
   },
   "source": [
    "The goal of this section is to cover a few theoretical aspects, and to\n",
    "give the answer to the natural question:\n",
    "* If the polynomial is used to approximate a function, can we find an\n",
    "  expression for the error?\n",
    "\n",
    "* How can the error be made as small as possible? \n",
    "\n",
    "Let us start with an numerical experiment, to have a certain feeling\n",
    "of what to expect."
   ]
  },
  {
   "cell_type": "markdown",
   "metadata": {
    "slideshow": {
     "slide_type": "slide"
    }
   },
   "source": [
    "## Example 1: Interpolation of $\\sin x$\n",
    "\n",
    "<div id=\"interpolation:ex:example_sin_interpolation\"></div>\n",
    "Let $f(x)=\\sin(x)$, $x\\in [0,2\\pi]$. Choose $n+1$ equidistributed\n",
    "nodes, that is $x_i=ih$, $i=0,\\dots,n$, and $h=2\\pi/n$. Calculate the\n",
    "interpolation polynomial by use of the functions `cardinal` and\n",
    "`lagrange`. Plot the error $e_n(x)=f(x)-p_n(x)$ for different values\n",
    "of $n$. Choose $n=4,8,16$ and $32$.  Notice how the error is\n",
    "distributed over the interval, and find the maximum error\n",
    "$\\max_{x\\in[a,b]}|e_n(x)|$ for each $n$."
   ]
  },
  {
   "cell_type": "code",
   "execution_count": 63,
   "metadata": {
    "slideshow": {
     "slide_type": "slide"
    }
   },
   "outputs": [],
   "source": [
    "# Define the function\n",
    "\n",
    "\n",
    "def f(x):\n",
    "    return np.sin(x)\n",
    "\n",
    "\n",
    "# Set the interval\n",
    "a, b = 0, 2 * pi  # The interpolation interval\n",
    "x = np.linspace(a, b, 101)  # The 'x-axis'\n",
    "\n",
    "# Set the interpolation points\n",
    "n = 8  # Interpolation points\n",
    "xdata = np.linspace(a, b, n + 1)  # Equidistributed nodes (can be changed)\n",
    "ydata = f(xdata)\n",
    "\n",
    "# Evaluate the interpolation polynomial in the x-values\n",
    "l = cardinal(xdata, x)\n",
    "p = lagrange(ydata, l)"
   ]
  },
  {
   "cell_type": "code",
   "execution_count": 64,
   "metadata": {
    "slideshow": {
     "slide_type": "slide"
    }
   },
   "outputs": [
    {
     "name": "stdout",
     "output_type": "stream",
     "text": [
      "Max error is 1.20e-03\n"
     ]
    },
    {
     "data": {
      "image/png": "[encoded data removed]",
      "text/plain": [
       "<Figure size 576x288 with 2 Axes>"
      ]
     },
     "metadata": {
      "needs_background": "light"
     },
     "output_type": "display_data"
    }
   ],
   "source": [
    "# Plot f(x) og p(x) and the interpolation points\n",
    "plt.subplot(2, 1, 1)\n",
    "plt.plot(x, f(x), x, p, xdata, ydata, \"o\")\n",
    "plt.legend([\"f(x)\", \"p(x)\"])\n",
    "plt.grid(True)\n",
    "\n",
    "# Plot the interpolation error\n",
    "plt.subplot(2, 1, 2)\n",
    "plt.plot(x, (f(x) - p))\n",
    "plt.xlabel(\"x\")\n",
    "plt.ylabel(\"Error: f(x)-p(x)\")\n",
    "plt.grid(True)\n",
    "print(f\"Max error is {max(abs(p - f(x))):.2e}\")"
   ]
  },
  {
   "cell_type": "markdown",
   "metadata": {
    "slideshow": {
     "slide_type": "slide"
    }
   },
   "source": [
    "<!-- --- begin exercise --- -->\n",
    "\n",
    "## Exercise 1: Interpolation of $\\tfrac{1}{1+x^2}$\n",
    "\n",
    "Repeat the previous experiment with Runge's function\n",
    "\n",
    "$$\n",
    "f(x) = \\frac{1}{1+x^2}, \\qquad x\\in [-5,5].\n",
    "$$"
   ]
  },
  {
   "cell_type": "code",
   "execution_count": null,
   "metadata": {
    "slideshow": {
     "slide_type": "slide"
    }
   },
   "outputs": [],
   "source": [
    "# Insert your code here"
   ]
  },
  {
   "cell_type": "markdown",
   "metadata": {
    "slideshow": {
     "slide_type": "slide"
    }
   },
   "source": [
    "<!-- --- end exercise --- -->\n",
    "\n",
    "\n",
    "## Error Analysis"
   ]
  },
  {
   "cell_type": "markdown",
   "metadata": {
    "slideshow": {
     "slide_type": "slide"
    }
   },
   "source": [
    "**Taylor polynomials once more.**\n",
    "Before we turn to the analysis of the interpolation error\n",
    "$e(x) = f(x) - p_n(x)$, we quickly recall (once more)\n",
    "Taylor polynomials and their error representation.\n",
    "For $f \\in C^{n+1}[a,b]$ and $x_0 \\in (a,b)$,\n",
    "we defined the $n$-th order Taylor polynomial $T^n_{x_0}f(x)$\n",
    "of $f$ around $x_0$ by\n",
    "\n",
    "$$\n",
    "\\begin{align*}\n",
    "T^n_{x_0}f(x) &:= \\sum_{k=0}^{n} \\frac{f^{(k)}(x_0)}{k!}(x-x_0)^k\n",
    "\\end{align*}\n",
    "$$"
   ]
  },
  {
   "cell_type": "markdown",
   "metadata": {
    "slideshow": {
     "slide_type": "slide"
    }
   },
   "source": [
    "Note that the Taylor polynomial is in fact a polynomial of order $n$\n",
    "which not only interpolates $f$ in $x_0$, but also\n",
    "its first, second etc. and $n$-th derivative $f', f'', \\ldots f^{(n)}$ in $x_0$!"
   ]
  },
  {
   "cell_type": "markdown",
   "metadata": {
    "slideshow": {
     "slide_type": "fragment"
    }
   },
   "source": [
    "So the Taylor polynomial the unique polynomial of order $n$ which\n",
    "interpolates the *first $n$ derivatives*\n",
    "of $f$ in a *single point $x_0$*. In contrast,\n",
    "the interpolation polynomial $p_n$ is the unique polynomial of order $n$\n",
    "which *interpolates only the $0$-order* (that is, $f$\n",
    "itself), but in *$n$ distinctive points* $x_0, x_1,\\ldots x_n$."
   ]
  },
  {
   "cell_type": "markdown",
   "metadata": {
    "slideshow": {
     "slide_type": "slide"
    }
   },
   "source": [
    "For the Taylor polynomial $T^n_{x_0}f(x)$ we have the error\n",
    "representation\n",
    "\n",
    "$$\n",
    "\\begin{align*}\n",
    "f(x) - T^n_{x_0}f(x) = R_{n+1}(x_0) \\qquad\n",
    "\\text{where }\n",
    "R_{n+1}(x_0) = \\frac{f^{(n+1)}(\\xi)}{(n+1)!} (x-x_0)^{n+1},\n",
    "\\end{align*}\n",
    "$$\n",
    "\n",
    "with $\\xi$ between $x$ and $x_0$."
   ]
  },
  {
   "cell_type": "markdown",
   "metadata": {
    "slideshow": {
     "slide_type": "slide"
    }
   },
   "source": [
    "Of course, we usually don't know the exact location of $\\xi$\n",
    "and thus not the exact error,\n",
    "but we can at least estimate\n",
    "it and bound it from above:\n",
    "\n",
    "$$\n",
    "|f(x) - T^n_{x_0}f(x)| \\leqslant\n",
    " \\frac{M}{(n+1)!} h^{n+1}\n",
    "$$\n",
    "\n",
    "where\n",
    "\n",
    "$$\n",
    "M=\\max_{x\\in[a,b]}|f^{(n+1)}(x)| \\qquad \\text{and} \\qquad h = |x-x_0|.\n",
    "$$"
   ]
  },
  {
   "cell_type": "markdown",
   "metadata": {
    "slideshow": {
     "slide_type": "fragment"
    }
   },
   "source": [
    "The next theorem gives us an  expression for the interpolation\n",
    "error $e(x)=f(x)-p_n(x)$ which is similar to what we have just\n",
    "seen for the error between the Taylor polynomial and the original function\n",
    "$f$."
   ]
  },
  {
   "cell_type": "markdown",
   "metadata": {},
   "source": [
    "## Theorem 1: Interpolation error\n",
    "\n",
    "Given $f \\in C^{(n+1)}[a,b]$. Let $p_{n} \\in \\mathbb{P}_n$ interpolate $f$ in\n",
    "$n+1$ distinct nodes $x_i \\in [a,b]$. For each $x\\in [a,b]$ there is at least\n",
    "one $\\xi(x) \\in (a,b)$ such that\n",
    "\n",
    "$$\n",
    "f(x) - p_n(x) = \\frac{f^{(n+1)}(\\xi(x))}{(n+1)!}\\prod_{i=0}^n(x-x_i).\n",
    "$$"
   ]
  },
  {
   "cell_type": "markdown",
   "metadata": {
    "slideshow": {
     "slide_type": "slide"
    }
   },
   "source": [
    "**Proof.**\n",
    "We start fromt the Newton polynomial $\\omega_{n+1} =: \\omega(x)$\n",
    "\n",
    "$$\n",
    "\\omega(x) = \\prod_{i=0}^{n}(x-x_i) = x^{n+1} + \\dotsm.\n",
    "$$"
   ]
  },
  {
   "cell_type": "markdown",
   "metadata": {},
   "source": [
    "Clearly, the error in the nodes, $e(x_i)=0$. \n",
    "Choose an *arbitrary* $x\\in [a,b]$, $x\\in [a,b]$, where $x\\not=x_i$,\n",
    "$i=0,1,\\dotsc,n$. For this fixed $x$, define a function in $t$ as:\n",
    "\n",
    "$$\n",
    "\\varphi(t) = e(t)\\omega(x) - e(x)\\omega(t).\n",
    "$$\n",
    "\n",
    "where $e(t) = f(t)-p_n(t)$."
   ]
  },
  {
   "cell_type": "markdown",
   "metadata": {
    "slideshow": {
     "slide_type": "slide"
    }
   },
   "source": [
    "Notice that $\\varphi(t)$ is as differentiable with respect to $t$ as $f(t)$. The\n",
    "function $\\varphi(t)$ has $n+2$ distinct zeros (the nodes and the fixed x). As a\n",
    "consequence of [Rolle's theorem](https://en.wikipedia.org/wiki/Rolle's_theorem),  the derivative\n",
    "$\\varphi'(t)$ has at least $n+1$ distinct zeros, one between each of the zeros\n",
    "of $\\varphi(t)$. So $\\varphi''(t)$ has $n$ distinct\n",
    "zeros, etc. By repeating this argument, we can see that $\\varphi^{n+1}(t)$\n",
    "has at least one zero in $[a,b]$, let us call this $\\xi(x)$, as it does depend on the fixed $x$. "
   ]
  },
  {
   "cell_type": "markdown",
   "metadata": {},
   "source": [
    " Since\n",
    "$\\omega^{(n+1)}(t)=(n+1)!$ and $e^{(n+1)}(t)=f^{(n+1)}(t)$ we obtain\n",
    "\n",
    "$$\n",
    "\\varphi^{(n+1)}(\\xi)= 0 = f^{(n+1)}(\\xi)\\omega(x) - e(x)(n+1)!\n",
    "$$\n",
    "\n",
    "which concludes the proof."
   ]
  },
  {
   "cell_type": "markdown",
   "metadata": {
    "slideshow": {
     "slide_type": "slide"
    }
   },
   "source": [
    "**Observation.** The interpolation error consists of three elements: The derivative of the\n",
    "function $f$, the number of interpolation points $n+1$ and the distribution of\n",
    "the nodes $x_i$. We cannot do much with the first of these, but we can choose\n",
    "the two others. Let us first look at the most obvious choice of nodes."
   ]
  },
  {
   "cell_type": "markdown",
   "metadata": {
    "slideshow": {
     "slide_type": "slide"
    }
   },
   "source": [
    "### Equidistributed nodes\n",
    "\n",
    "The nodes are *equidistributed* over the interval $[a,b]$ if $x_i=a+ih$, $h=(b-a)/n$. In this case it can\n",
    "be proved that:\n",
    "\n",
    "$$\n",
    "|\\omega(x)| \\leq \\frac{h^{n+1}}{4}n!\n",
    "$$\n",
    "\n",
    "such that\n",
    "\n",
    "$$\n",
    "|e(x)| \\leq \\frac{h^{n+1}}{4(n+1)}M, \\qquad M=\\max_{x\\in[a,b]}|f^{(n+1)}(x)|.\n",
    "$$\n",
    "\n",
    "for all $x\\in [a,b]$. \n",
    "\n",
    "Let us now see how good this error bound is by an example."
   ]
  },
  {
   "cell_type": "markdown",
   "metadata": {
    "slideshow": {
     "slide_type": "slide"
    }
   },
   "source": [
    "<!-- --- begin exercise --- -->\n",
    "\n",
    "## Exercise 2: Interpolation error for $\\sin(x)$ revisited\n",
    "\n",
    "Let again $f(x)=\\sin(x)$ and $p_n(x)$ the polynomial interpolating $f(x)$ in\n",
    "$n+1$ equidistributed points on $[0,1]$.\n",
    "An upper bound for the error for different values of $n$\n",
    "can be found easily. Clearly,\n",
    "$\\max_{x\\in[0,2\\pi]}|f^{(n+1)}(x)|=M=1$ for all $n$, so\n",
    "\n",
    "$$\n",
    "|e_n(x)| = |f(x)-p_n(x)| \\leq\n",
    "\\frac{1}{4(n+1)}\\left(\\frac{2\\pi}{n}\\right)^{n+1}, \\qquad x\\in[a,b].\n",
    "$$\n",
    "\n",
    "Use the code in the first Example of this lecture to verify the result\n",
    "for $n = 2, 4, 8, 16$. How close is the bound to the real error?"
   ]
  },
  {
   "cell_type": "code",
   "execution_count": null,
   "metadata": {
    "slideshow": {
     "slide_type": "slide"
    }
   },
   "outputs": [],
   "source": [
    "# Insert your code here"
   ]
  },
  {
   "cell_type": "markdown",
   "metadata": {},
   "source": [
    "\n",
    "<!-- --- end exercise --- -->\n",
    "\n",
    "\n",
    "## Optimal choice of interpolation points\n",
    "So how can the error be reduced? For a given $n$ there is only one choice: to\n",
    "distribute the nodes in order to make\n",
    "$|\\omega(x)|= \\prod_{j=0}^{n}|x-x_i|$ as small as possible. We will first do this\n",
    "on a standard interval $[-1,1]$, and then transfer the results to some arbitrary\n",
    "interval $[a,b]$.\n",
    "\n",
    "Let us start taking a look at $\\omega(x)$ for equidistributed nodes on the\n",
    "interval $[-1,1]$, for\n",
    "different values of $n$:"
   ]
  },
  {
   "cell_type": "code",
   "execution_count": null,
   "metadata": {
    "slideshow": {
     "slide_type": "slide"
    }
   },
   "outputs": [],
   "source": [
    "newparams = {\"figure.figsize\": (6, 3)}\n",
    "plt.rcParams.update(newparams)\n",
    "\n",
    "\n",
    "def omega(xdata, x):\n",
    "    # compute omega(x) for the nodes in xdata\n",
    "    n1 = len(xdata)\n",
    "    omega_value = np.ones(len(x))\n",
    "    for j in range(n1):\n",
    "        omega_value = omega_value * (x - xdata[j])  # (x-x_0)(x-x_1)...(x-x_n)\n",
    "    return omega_value"
   ]
  },
  {
   "cell_type": "code",
   "execution_count": null,
   "metadata": {
    "slideshow": {
     "slide_type": "slide"
    }
   },
   "outputs": [],
   "source": [
    "# Plot omega(x)\n",
    "n = 8  # Number of interpolation points is n+1\n",
    "a, b = -1, 1  # The interval\n",
    "x = np.linspace(a, b, 501)\n",
    "xdata = np.linspace(a, b, n)\n",
    "plt.plot(x, omega(xdata, x))\n",
    "plt.grid(True)\n",
    "plt.xlabel(\"x\")\n",
    "plt.ylabel(\"omega(x)\")\n",
    "print(f\"n = {n:2d}, max|omega(x)| = {max(abs(omega(xdata, x))):.2e}\")"
   ]
  },
  {
   "cell_type": "markdown",
   "metadata": {
    "slideshow": {
     "slide_type": "slide"
    }
   },
   "source": [
    "Run the code for different values of $n$. Notice the following: \n",
    "* $\\max_{x\\in[-1,1]} |\\omega(x)|$ becomes smaller with increasing $n$. \n",
    "\n",
    "* $|\\omega(x)|$ has its maximum values near the boundaries of $[-1, 1]$."
   ]
  },
  {
   "cell_type": "markdown",
   "metadata": {
    "slideshow": {
     "slide_type": "slide"
    }
   },
   "source": [
    "A a consequence of the latter, it seems reasonable to move the nodes towards the boundaries. \n",
    "It can be proved that the optimal choice of nodes are the *Chebyshev-nodes*, given by\n",
    "\n",
    "$$\n",
    "\\tilde{x}_i = \\cos \\left( \\frac{(2i+1)\\pi}{2(n+1)} \\right), \\qquad i=0,\\dotsc,n\n",
    "$$"
   ]
  },
  {
   "cell_type": "markdown",
   "metadata": {
    "slideshow": {
     "slide_type": "slide"
    }
   },
   "source": [
    "Let $\\omega_{Cheb}(x) = \\prod_{j=1}^n(x-\\tilde{x}_i)$. It is then possible to prove that\n",
    "\n",
    "$$\n",
    "\\frac{1}{2^{n}} = \\max_{x\\in [-1, 1]} |\\omega_{Cheb}(x)| \\leq \\max_{x \\in [-1, 1]} |q(x)|\n",
    "$$\n",
    "\n",
    "for all polynomials $q\\in \\mathbb{P}_n$ such that $q(x)=x^n + c_{n-1}x^{n-1}+\\dotsm+c_1x + c_0$. "
   ]
  },
  {
   "cell_type": "markdown",
   "metadata": {
    "slideshow": {
     "slide_type": "slide"
    }
   },
   "source": [
    "The distribution of nodes can be transferred to an interval $[a,b]$ by the linear transformation\n",
    "\n",
    "$$\n",
    "x = \\frac{b-a}{2}\\tilde{x} + \\frac{b+a}{2}\n",
    "$$\n",
    "\n",
    "where $x\\in[a,b]$ and $\\tilde{x} \\in [-1,1]$."
   ]
  },
  {
   "cell_type": "markdown",
   "metadata": {
    "slideshow": {
     "slide_type": "slide"
    }
   },
   "source": [
    "By doing so we get\n",
    "\n",
    "$$\n",
    "\\omega(x) = \\prod_{j=0}^n (x-x_i) =\n",
    "  \\left(\\frac{b-a}{2}\\right)^{n+1} \\prod_{j=0}^n (\\tilde{x}-\\tilde{x}_i)\n",
    "  = \\left(\\frac{b-a}{2}\\right)^{n+1} \\omega_{Cheb}(\\tilde{x}).\n",
    "$$"
   ]
  },
  {
   "cell_type": "markdown",
   "metadata": {
    "slideshow": {
     "slide_type": "slide"
    }
   },
   "source": [
    "From the theorem on interpolation errors we can conclude:\n",
    "\n",
    "**Theorem (interpolation error for Chebyshev interpolation).**\n",
    "\n",
    "Given $f \\in C^{(n+1)}[a,b]$, and let $M_{n+1} = \\max_{x\\in [a,b]}|f^{(n+1)}(x)|$.  Let $p_{n} \\in \\mathbb{P}_n$ interpolate $f$ i $n+1$ Chebyshev-nodes $x_i \\in [a,b]$. Then\n",
    "\n",
    "$$\n",
    "\\max_{x\\in[a,b]}|f(x) - p_n(x)| \\leq \\frac{(b-a)^{n+1}}{2^{2n+1}(n+1)!} M_{n+1}.\n",
    "$$\n",
    "\n",
    "The Chebyshev nodes over an interval $[a,b]$ are evaluated in the following function:"
   ]
  },
  {
   "cell_type": "code",
   "execution_count": null,
   "metadata": {
    "slideshow": {
     "slide_type": "fragment"
    }
   },
   "outputs": [],
   "source": [
    "def chebyshev_nodes(a, b, n):\n",
    "    # n Chebyshev nodes in the interval [a, b]\n",
    "    i = np.array(range(n))  # i = [0,1,2,3, ....n-1]\n",
    "    x = np.cos((2 * i + 1) * pi / (2 * (n)))  # nodes over the interval [-1,1]\n",
    "    return 0.5 * (b - a) * x + 0.5 * (b + a)  # nodes over the interval [a,b]"
   ]
  },
  {
   "cell_type": "markdown",
   "metadata": {
    "slideshow": {
     "slide_type": "slide"
    }
   },
   "source": [
    "<!-- --- begin exercise --- -->\n",
    "\n",
    "## Exercise 3: Chebyshev interpolation\n",
    "\n",
    "\n",
    "**a)**\n",
    "Plot $\\omega_{Cheb}(x)$ for $3, 5, 9, 17$ interpolation points on the interval $[-1,1]$."
   ]
  },
  {
   "cell_type": "code",
   "execution_count": null,
   "metadata": {
    "slideshow": {
     "slide_type": "slide"
    }
   },
   "outputs": [],
   "source": [
    "# Insert your code here"
   ]
  },
  {
   "cell_type": "markdown",
   "metadata": {
    "slideshow": {
     "slide_type": "slide"
    }
   },
   "source": [
    "**b)**\n",
    "Repeat Example 3 using Chebyshev interpolation on the functions below. Compare with the results you got from equidistributed nodes.\n",
    "\n",
    "$$\n",
    "\\begin{align*}\n",
    "  f(x) &= \\sin(x), && x\\in[0,2\\pi] \\\\ \n",
    "  f(x) &= \\frac{1}{1+x^2}, && x\\in[-5,5]. \n",
    "\\end{align*}\n",
    "$$"
   ]
  },
  {
   "cell_type": "code",
   "execution_count": null,
   "metadata": {
    "slideshow": {
     "slide_type": "slide"
    }
   },
   "outputs": [],
   "source": [
    "# Insert your code here"
   ]
  },
  {
   "cell_type": "markdown",
   "metadata": {
    "slideshow": {
     "slide_type": "slide"
    }
   },
   "source": [
    "**For information**: \n",
    "[Chebfun](http://www.chebfun.org/) is software package which makes it possible to manipulate functions and to solve equations with accuracy close to machine accuracy. The algorithms are based on polynomial interpolation in Chebyshev nodes.\n",
    "<!-- --- end exercise --- -->"
   ]
  }
 ],
 "metadata": {
  "kernelspec": {
   "display_name": "Python 3",
   "language": "python",
   "name": "python3"
  },
  "language_info": {
   "codemirror_mode": {
    "name": "ipython",
    "version": 3
   },
   "file_extension": ".py",
   "mimetype": "text/x-python",
   "name": "python",
   "nbconvert_exporter": "python",
   "pygments_lexer": "ipython3",
   "version": "3.9.1"
  }
 },
 "nbformat": 4,
 "nbformat_minor": 4
}
