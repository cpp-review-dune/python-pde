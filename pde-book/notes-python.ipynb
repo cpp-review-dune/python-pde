{
 "cells": [
  {
   "cell_type": "markdown",
   "id": "84721a49-61d3-4666-9fac-38c63260f2e3",
   "metadata": {},
   "source": [
    "# Finite-Difference Methods (python)\n",
    "\n",
    "- Homesite: https://jonshiach.github.io/files/notes/finite_difference_methods_notes.pdf\n",
    "- Course: Numerical Methods for Partial Differential Equations II\n",
    "- Recordings:\n",
    "  - https://mmutube.mmu.ac.uk/media/PDEs_Chapter_2_Exercises_Q3-7/1_85dac601\n",
    "  - https://www.youtube.com/playlist?list=PLgPpaTsP_3Dq5KsWd6-8wmjNs3ipnvCU3"
   ]
  },
  {
   "cell_type": "code",
   "execution_count": 1,
   "id": "a0bb499c-ae59-4bb1-804f-0cc721f3ae11",
   "metadata": {},
   "outputs": [],
   "source": [
    "import matplotlib.pyplot as plt\n",
    "import numpy as np\n",
    "from sympy import Derivative as D\n",
    "from sympy import Eq, Function, Matrix, O, cos, exp, pi, sin, symbols\n",
    "from tabulate import tabulate"
   ]
  },
  {
   "cell_type": "code",
   "execution_count": 2,
   "id": "cb2fd703-627e-4a57-bd7e-01cc32d6eaaa",
   "metadata": {},
   "outputs": [],
   "source": [
    "def cleaner(symbolsToDelete: list):\n",
    "    \"\"\"\n",
    "    Helper function that call the garbage collector (clean the symbol's mess).\n",
    "    \"\"\"\n",
    "    try:\n",
    "        for z0 in symbolsToDelete:\n",
    "            del globals()[z0]\n",
    "    except KeyError:\n",
    "        print(\"Symbolic variables already cleared\")"
   ]
  },
  {
   "cell_type": "markdown",
   "id": "c131fa9a-7ecc-43db-a4e8-d41796408acb",
   "metadata": {},
   "source": [
    "## 1. Partial Differential Equations"
   ]
  },
  {
   "cell_type": "code",
   "execution_count": 3,
   "id": "53f1be39-44f1-4e9c-9601-f795be83e41a",
   "metadata": {},
   "outputs": [],
   "source": [
    "x, y = symbols(\"x, y\")\n",
    "U = symbols(\"U\", cls=Function)(x, y)\n",
    "U = x**2 + x * y"
   ]
  },
  {
   "cell_type": "code",
   "execution_count": 4,
   "id": "646ea58a-758c-4411-b4de-03b3b11842e3",
   "metadata": {},
   "outputs": [
    {
     "data": {
      "text/latex": [
       "$\\displaystyle x^{2} + x y$"
      ],
      "text/plain": [
       "x**2 + x*y"
      ]
     },
     "execution_count": 4,
     "metadata": {},
     "output_type": "execute_result"
    }
   ],
   "source": [
    "U"
   ]
  },
  {
   "cell_type": "code",
   "execution_count": 5,
   "id": "eb3b9afa-8038-4240-92b8-aa612da2934e",
   "metadata": {},
   "outputs": [],
   "source": [
    "U_x = D(U, x).simplify()"
   ]
  },
  {
   "cell_type": "code",
   "execution_count": 6,
   "id": "ce271700-defa-4bf1-88e7-fc8202ba58e6",
   "metadata": {},
   "outputs": [
    {
     "data": {
      "text/latex": [
       "$\\displaystyle 2 x + y$"
      ],
      "text/plain": [
       "2*x + y"
      ]
     },
     "execution_count": 6,
     "metadata": {},
     "output_type": "execute_result"
    }
   ],
   "source": [
    "U_x"
   ]
  },
  {
   "cell_type": "code",
   "execution_count": 7,
   "id": "bce77527-f2d5-4afe-8c5a-283dbd2d7560",
   "metadata": {},
   "outputs": [],
   "source": [
    "U_y = D(U, y).simplify()"
   ]
  },
  {
   "cell_type": "code",
   "execution_count": 8,
   "id": "76bbb603-0eb8-4a4d-9a05-361d74a8504a",
   "metadata": {},
   "outputs": [
    {
     "data": {
      "text/latex": [
       "$\\displaystyle x$"
      ],
      "text/plain": [
       "x"
      ]
     },
     "execution_count": 8,
     "metadata": {},
     "output_type": "execute_result"
    }
   ],
   "source": [
    "U_y"
   ]
  },
  {
   "cell_type": "code",
   "execution_count": 9,
   "id": "b38954ac-94fa-4cfa-a547-9628874b3586",
   "metadata": {},
   "outputs": [],
   "source": [
    "cleaner([\"x\", \"y\"])"
   ]
  },
  {
   "cell_type": "markdown",
   "id": "e7f19ff0-0a3e-47c3-82d7-4a2a100e1c1d",
   "metadata": {},
   "source": [
    "### Example $1$\n",
    "\n",
    "Page 3"
   ]
  },
  {
   "cell_type": "code",
   "execution_count": 10,
   "id": "b0489a4f-50fe-4c35-a391-cf8ab5feb603",
   "metadata": {},
   "outputs": [],
   "source": [
    "t, x, k, L = symbols(\"t, x, k, L\")\n",
    "U = symbols(\"U\", cls=Function)(t, x)\n",
    "\n",
    "heat_equation = Eq(D(U, t), k * D(U, x, 2))"
   ]
  },
  {
   "cell_type": "code",
   "execution_count": 11,
   "id": "539c96f6-c70c-4231-b7a6-85dbd41e208c",
   "metadata": {},
   "outputs": [
    {
     "data": {
      "text/latex": [
       "$\\displaystyle \\frac{\\partial}{\\partial t} U{\\left(t,x \\right)} = k \\frac{\\partial^{2}}{\\partial x^{2}} U{\\left(t,x \\right)}$"
      ],
      "text/plain": [
       "Eq(Derivative(U(t, x), t), k*Derivative(U(t, x), (x, 2)))"
      ]
     },
     "execution_count": 11,
     "metadata": {},
     "output_type": "execute_result"
    }
   ],
   "source": [
    "heat_equation"
   ]
  },
  {
   "cell_type": "markdown",
   "id": "a026d17a-75ee-4f5e-b87a-7a297df595ab",
   "metadata": {},
   "source": [
    "#### Analytical solution"
   ]
  },
  {
   "cell_type": "code",
   "execution_count": 12,
   "id": "cdf787ff-4ce3-4797-9abf-313d28f4f875",
   "metadata": {},
   "outputs": [],
   "source": [
    "heat_solution = 2 * sin(pi * x / L) * exp(-k * pi**2 * t / L**2)"
   ]
  },
  {
   "cell_type": "code",
   "execution_count": 13,
   "id": "3b32cd12-9026-4ff1-8d09-26ce968c90be",
   "metadata": {},
   "outputs": [
    {
     "data": {
      "text/latex": [
       "$\\displaystyle 2 e^{- \\frac{\\pi^{2} k t}{L^{2}}} \\sin{\\left(\\frac{\\pi x}{L} \\right)}$"
      ],
      "text/plain": [
       "2*exp(-pi**2*k*t/L**2)*sin(pi*x/L)"
      ]
     },
     "execution_count": 13,
     "metadata": {},
     "output_type": "execute_result"
    }
   ],
   "source": [
    "heat_solution"
   ]
  },
  {
   "cell_type": "markdown",
   "id": "d2a60da0-315d-4c47-913b-04049985646b",
   "metadata": {},
   "source": [
    "#### Initial condition"
   ]
  },
  {
   "cell_type": "code",
   "execution_count": 14,
   "id": "2ac824b7-6c28-43b1-8c71-758f23d660db",
   "metadata": {},
   "outputs": [],
   "source": [
    "U_0 = heat_solution.subs({t: 0})"
   ]
  },
  {
   "cell_type": "code",
   "execution_count": 15,
   "id": "6cfa034f-fcc4-4f6d-ad1b-8784e167e514",
   "metadata": {},
   "outputs": [
    {
     "data": {
      "text/latex": [
       "$\\displaystyle 2 \\sin{\\left(\\frac{\\pi x}{L} \\right)}$"
      ],
      "text/plain": [
       "2*sin(pi*x/L)"
      ]
     },
     "execution_count": 15,
     "metadata": {},
     "output_type": "execute_result"
    }
   ],
   "source": [
    "U_0"
   ]
  },
  {
   "cell_type": "markdown",
   "id": "76b7acf1-3477-478b-85f9-3d0ef89ff121",
   "metadata": {},
   "source": [
    "#### Dirichlet Boundary condition"
   ]
  },
  {
   "cell_type": "code",
   "execution_count": 16,
   "id": "e0899958-a9fb-448e-9867-85b96c2434e5",
   "metadata": {},
   "outputs": [],
   "source": [
    "U_left, U_right = heat_solution.subs({x: 0}), heat_solution.subs({x: L})"
   ]
  },
  {
   "cell_type": "code",
   "execution_count": 17,
   "id": "d5c644f4-85f6-4623-97c8-b32f7ac80318",
   "metadata": {},
   "outputs": [
    {
     "data": {
      "text/latex": [
       "$\\displaystyle 0$"
      ],
      "text/plain": [
       "0"
      ]
     },
     "execution_count": 17,
     "metadata": {},
     "output_type": "execute_result"
    }
   ],
   "source": [
    "U_left"
   ]
  },
  {
   "cell_type": "code",
   "execution_count": 18,
   "id": "92f6a71a-5584-47d9-97ae-e536c9af237c",
   "metadata": {},
   "outputs": [
    {
     "data": {
      "text/latex": [
       "$\\displaystyle 0$"
      ],
      "text/plain": [
       "0"
      ]
     },
     "execution_count": 18,
     "metadata": {},
     "output_type": "execute_result"
    }
   ],
   "source": [
    "U_right"
   ]
  },
  {
   "cell_type": "markdown",
   "id": "05846d26-01d7-4b56-aa54-58aaa62f3293",
   "metadata": {},
   "source": [
    "#### Checking solution"
   ]
  },
  {
   "cell_type": "code",
   "execution_count": 19,
   "id": "5ea721a5-cd69-41d4-9817-cb21db316bee",
   "metadata": {},
   "outputs": [],
   "source": [
    "U_t = heat_equation.lhs.subs({U: heat_solution}).simplify()"
   ]
  },
  {
   "cell_type": "code",
   "execution_count": 20,
   "id": "84ede3c3-cada-4610-9691-29d6251e8c3b",
   "metadata": {},
   "outputs": [
    {
     "data": {
      "text/latex": [
       "$\\displaystyle - \\frac{2 \\pi^{2} k e^{- \\frac{\\pi^{2} k t}{L^{2}}} \\sin{\\left(\\frac{\\pi x}{L} \\right)}}{L^{2}}$"
      ],
      "text/plain": [
       "-2*pi**2*k*exp(-pi**2*k*t/L**2)*sin(pi*x/L)/L**2"
      ]
     },
     "execution_count": 20,
     "metadata": {},
     "output_type": "execute_result"
    }
   ],
   "source": [
    "U_t"
   ]
  },
  {
   "cell_type": "code",
   "execution_count": 21,
   "id": "22eb204f-c5e4-4f17-85e3-41c24630989b",
   "metadata": {},
   "outputs": [],
   "source": [
    "U_xx = heat_equation.rhs.subs({U: heat_solution}).simplify() / k"
   ]
  },
  {
   "cell_type": "code",
   "execution_count": 22,
   "id": "f798c070-cde6-432f-b33f-2c8bc05fe2ba",
   "metadata": {},
   "outputs": [
    {
     "data": {
      "text/latex": [
       "$\\displaystyle - \\frac{2 \\pi^{2} e^{- \\frac{\\pi^{2} k t}{L^{2}}} \\sin{\\left(\\frac{\\pi x}{L} \\right)}}{L^{2}}$"
      ],
      "text/plain": [
       "-2*pi**2*exp(-pi**2*k*t/L**2)*sin(pi*x/L)/L**2"
      ]
     },
     "execution_count": 22,
     "metadata": {},
     "output_type": "execute_result"
    }
   ],
   "source": [
    "U_xx"
   ]
  },
  {
   "cell_type": "code",
   "execution_count": 23,
   "id": "90b544f4-9de5-4ac8-92c3-3bf62deb9520",
   "metadata": {},
   "outputs": [
    {
     "data": {
      "text/plain": [
       "True"
      ]
     },
     "execution_count": 23,
     "metadata": {},
     "output_type": "execute_result"
    }
   ],
   "source": [
    "U_t.equals(k * U_xx)"
   ]
  },
  {
   "cell_type": "markdown",
   "id": "6b97ae22-4f43-443b-be62-2e56817a1be7",
   "metadata": {},
   "source": [
    "### Example $2$\n",
    "\n",
    "Page 4"
   ]
  },
  {
   "cell_type": "code",
   "execution_count": 24,
   "id": "10f4a7ee-975c-48bb-9d88-44a727f5e45d",
   "metadata": {},
   "outputs": [],
   "source": [
    "cleaner([\"t\", \"x\", \"k\", \"L\", \"U\"])"
   ]
  },
  {
   "cell_type": "code",
   "execution_count": 25,
   "id": "4f0e0cc0-2aee-450d-a036-d96c5522ca9f",
   "metadata": {},
   "outputs": [],
   "source": [
    "x, y = symbols(\"x, y\")\n",
    "U = symbols(\"U\", cls=Function)(x, y)\n",
    "\n",
    "laplace_equation = Eq(D(U, x, 2) + D(U, y, 2), 0)"
   ]
  },
  {
   "cell_type": "code",
   "execution_count": 26,
   "id": "b83439ec-26cf-4354-a096-c8f493ec20a7",
   "metadata": {},
   "outputs": [
    {
     "data": {
      "text/latex": [
       "$\\displaystyle \\frac{\\partial^{2}}{\\partial x^{2}} U{\\left(x,y \\right)} + \\frac{\\partial^{2}}{\\partial y^{2}} U{\\left(x,y \\right)} = 0$"
      ],
      "text/plain": [
       "Eq(Derivative(U(x, y), (x, 2)) + Derivative(U(x, y), (y, 2)), 0)"
      ]
     },
     "execution_count": 26,
     "metadata": {},
     "output_type": "execute_result"
    }
   ],
   "source": [
    "laplace_equation"
   ]
  },
  {
   "cell_type": "code",
   "execution_count": 27,
   "id": "5d5dacef-707b-4e1a-b309-3947a5303857",
   "metadata": {},
   "outputs": [],
   "source": [
    "t, x, k = symbols(\"t, x, k\")\n",
    "U = symbols(\"U\", cls=Function)(t, x)\n",
    "heat_equation = Eq(D(U, t), k * D(U, x, 2))"
   ]
  },
  {
   "cell_type": "code",
   "execution_count": 28,
   "id": "74b9ecdf-fe7a-47d1-a552-20eaebe9ee70",
   "metadata": {},
   "outputs": [
    {
     "data": {
      "text/latex": [
       "$\\displaystyle \\frac{\\partial}{\\partial t} U{\\left(t,x \\right)} = k \\frac{\\partial^{2}}{\\partial x^{2}} U{\\left(t,x \\right)}$"
      ],
      "text/plain": [
       "Eq(Derivative(U(t, x), t), k*Derivative(U(t, x), (x, 2)))"
      ]
     },
     "execution_count": 28,
     "metadata": {},
     "output_type": "execute_result"
    }
   ],
   "source": [
    "heat_equation"
   ]
  },
  {
   "cell_type": "code",
   "execution_count": 29,
   "id": "91cd8fbd-d10b-4a89-ae5d-c925193ee8aa",
   "metadata": {},
   "outputs": [],
   "source": [
    "t, x, c = symbols(\"t, x, c\")\n",
    "U = symbols(\"U\", cls=Function)(t, x)\n",
    "wave_equation = Eq(D(U, t, 2), c**2 * D(U, x, 2))"
   ]
  },
  {
   "cell_type": "code",
   "execution_count": 30,
   "id": "e14d78e0-5a73-4f0d-8c7d-a0d9c71d73d9",
   "metadata": {},
   "outputs": [
    {
     "data": {
      "text/latex": [
       "$\\displaystyle \\frac{\\partial^{2}}{\\partial t^{2}} U{\\left(t,x \\right)} = c^{2} \\frac{\\partial^{2}}{\\partial x^{2}} U{\\left(t,x \\right)}$"
      ],
      "text/plain": [
       "Eq(Derivative(U(t, x), (t, 2)), c**2*Derivative(U(t, x), (x, 2)))"
      ]
     },
     "execution_count": 30,
     "metadata": {},
     "output_type": "execute_result"
    }
   ],
   "source": [
    "wave_equation"
   ]
  },
  {
   "cell_type": "code",
   "execution_count": 31,
   "id": "c51605cc-a5c9-47bb-b4c5-39c4ce90a588",
   "metadata": {},
   "outputs": [
    {
     "name": "stdout",
     "output_type": "stream",
     "text": [
      "Symbolic variables already cleared\n"
     ]
    }
   ],
   "source": [
    "cleaner([\"t\", \"x\", \"k\", \"c\", \"L\", \"U\"])"
   ]
  },
  {
   "cell_type": "markdown",
   "id": "6516ca66-5f27-4eef-b732-96986057d7b5",
   "metadata": {},
   "source": [
    "## 2. Finite-Difference Approximations"
   ]
  },
  {
   "cell_type": "code",
   "execution_count": 32,
   "id": "f89b5082-390a-4256-bf84-f533cde99b3a",
   "metadata": {},
   "outputs": [],
   "source": [
    "x = symbols(\"x\")\n",
    "h = symbols(\"h\", positive=True)\n",
    "f = Function(\"f\")"
   ]
  },
  {
   "cell_type": "markdown",
   "id": "917ae619-604e-42af-aacf-b84751d91bb8",
   "metadata": {},
   "source": [
    "### Forward Taylor Series"
   ]
  },
  {
   "cell_type": "code",
   "execution_count": 33,
   "id": "54294d07-2c92-41c3-887e-55a735851143",
   "metadata": {},
   "outputs": [
    {
     "data": {
      "text/latex": [
       "$\\displaystyle f{\\left(x \\right)} + h \\frac{d}{d x} f{\\left(x \\right)} + \\frac{h^{2} \\frac{d^{2}}{d x^{2}} f{\\left(x \\right)}}{2} + \\frac{h^{3} \\frac{d^{3}}{d x^{3}} f{\\left(x \\right)}}{6} + \\frac{h^{4} \\frac{d^{4}}{d x^{4}} f{\\left(x \\right)}}{24} + O\\left(h^{5}\\right)$"
      ],
      "text/plain": [
       "f(x) + h*Derivative(f(x), x) + h**2*Derivative(f(x), (x, 2))/2 + h**3*Derivative(f(x), (x, 3))/6 + h**4*Derivative(f(x), (x, 4))/24 + O(h**5)"
      ]
     },
     "execution_count": 33,
     "metadata": {},
     "output_type": "execute_result"
    }
   ],
   "source": [
    "f(x + h).series(x=h, x0=0, n=5).simplify()"
   ]
  },
  {
   "cell_type": "markdown",
   "id": "a33f5ed4-f01e-4529-8c69-7ba7fd327659",
   "metadata": {},
   "source": [
    "### Backward Taylor Series"
   ]
  },
  {
   "cell_type": "code",
   "execution_count": 34,
   "id": "4b01411e-af4e-4ea5-911a-c688576f6956",
   "metadata": {},
   "outputs": [
    {
     "data": {
      "text/latex": [
       "$\\displaystyle f{\\left(x \\right)} - h \\frac{d}{d x} f{\\left(x \\right)} + \\frac{h^{2} \\frac{d^{2}}{d x^{2}} f{\\left(x \\right)}}{2} - \\frac{h^{3} \\frac{d^{3}}{d x^{3}} f{\\left(x \\right)}}{6} + \\frac{h^{4} \\frac{d^{4}}{d x^{4}} f{\\left(x \\right)}}{24} + O\\left(h^{5}\\right)$"
      ],
      "text/plain": [
       "f(x) - h*Derivative(f(x), x) + h**2*Derivative(f(x), (x, 2))/2 - h**3*Derivative(f(x), (x, 3))/6 + h**4*Derivative(f(x), (x, 4))/24 + O(h**5)"
      ]
     },
     "execution_count": 34,
     "metadata": {},
     "output_type": "execute_result"
    }
   ],
   "source": [
    "f(x - h).series(x=h, x0=0, n=5).simplify()"
   ]
  },
  {
   "cell_type": "markdown",
   "id": "8862ecbb-ffef-4c92-9f8a-72ee2f479e50",
   "metadata": {},
   "source": [
    "### Truncation error"
   ]
  },
  {
   "cell_type": "code",
   "execution_count": 35,
   "id": "253a8eec-41d2-4d7b-b87f-88d08a4d8aa0",
   "metadata": {},
   "outputs": [
    {
     "data": {
      "text/latex": [
       "$\\displaystyle \\cos{\\left(x \\right)} - h \\sin{\\left(x \\right)} + O\\left(h^{2}\\right)$"
      ],
      "text/plain": [
       "cos(x) - h*sin(x) + O(h**2)"
      ]
     },
     "execution_count": 35,
     "metadata": {},
     "output_type": "execute_result"
    }
   ],
   "source": [
    "cos(x + h).series(x=h, x0=0, n=2).simplify()"
   ]
  },
  {
   "cell_type": "code",
   "execution_count": 36,
   "id": "20012404-7315-4a71-8f38-7f415ebe2fa1",
   "metadata": {},
   "outputs": [],
   "source": [
    "x = 0\n",
    "h = 0.1\n",
    "exact = np.cos(x + h)\n",
    "first_order_approximation = np.cos(x) - h * np.sin(x)\n",
    "truncation_error = np.abs(exact - first_order_approximation)\n",
    "E_h = np.abs(-(h**2) / 2 * np.cos(x))"
   ]
  },
  {
   "cell_type": "code",
   "execution_count": 37,
   "id": "f329eb7a-bc26-42e3-8d06-44c0b94e322f",
   "metadata": {},
   "outputs": [
    {
     "data": {
      "text/plain": [
       "0.0049958347219741794"
      ]
     },
     "execution_count": 37,
     "metadata": {},
     "output_type": "execute_result"
    }
   ],
   "source": [
    "truncation_error"
   ]
  },
  {
   "cell_type": "code",
   "execution_count": 38,
   "id": "817d96bf-e026-4e4c-a3b2-c732a9b10eaa",
   "metadata": {},
   "outputs": [
    {
     "data": {
      "text/plain": [
       "0.005000000000000001"
      ]
     },
     "execution_count": 38,
     "metadata": {},
     "output_type": "execute_result"
    }
   ],
   "source": [
    "E_h"
   ]
  },
  {
   "cell_type": "code",
   "execution_count": 39,
   "id": "bb9d724b-9610-480f-9661-082fd7b5004c",
   "metadata": {},
   "outputs": [],
   "source": [
    "error = np.abs(truncation_error - E_h)"
   ]
  },
  {
   "cell_type": "code",
   "execution_count": 40,
   "id": "fd24f03a-2ca4-4063-a394-fa6590dbd100",
   "metadata": {},
   "outputs": [
    {
     "data": {
      "text/plain": [
       "4.165278025821534e-06"
      ]
     },
     "execution_count": 40,
     "metadata": {},
     "output_type": "execute_result"
    }
   ],
   "source": [
    "error"
   ]
  },
  {
   "cell_type": "markdown",
   "id": "d6d51d2d-ae6e-4e55-98b5-ce708f9fe4a0",
   "metadata": {},
   "source": [
    "#### Plot"
   ]
  },
  {
   "cell_type": "code",
   "execution_count": 41,
   "id": "5edd64e7-72c8-4665-aad4-3cab0b7f0a03",
   "metadata": {},
   "outputs": [],
   "source": [
    "h_list = np.flip(1 / (2 ** np.arange(1, 5)))"
   ]
  },
  {
   "cell_type": "code",
   "execution_count": 42,
   "id": "b13cdf99-b1ad-4df0-b36b-21058d910f8d",
   "metadata": {},
   "outputs": [
    {
     "data": {
      "text/plain": [
       "array([0.0625, 0.125 , 0.25  , 0.5   ])"
      ]
     },
     "execution_count": 42,
     "metadata": {},
     "output_type": "execute_result"
    }
   ],
   "source": [
    "h_list"
   ]
  },
  {
   "cell_type": "code",
   "execution_count": 43,
   "id": "5e835615-c506-4230-bbe8-f73b7365a7ab",
   "metadata": {},
   "outputs": [],
   "source": [
    "x = 1\n",
    "error_truncation = np.abs(np.cos(x + h_list) - (np.cos(x) - h_list * np.sin(x)))"
   ]
  },
  {
   "cell_type": "code",
   "execution_count": 44,
   "id": "b243116c-1519-4cec-9cb8-0c6558458c2b",
   "metadata": {},
   "outputs": [
    {
     "data": {
      "text/plain": [
       "array([0.0010207 , 0.00394192, 0.0146122 , 0.04882961])"
      ]
     },
     "execution_count": 44,
     "metadata": {},
     "output_type": "execute_result"
    }
   ],
   "source": [
    "error_truncation"
   ]
  },
  {
   "cell_type": "code",
   "execution_count": 45,
   "id": "7f6af1a9-4863-458c-9a13-c28add680276",
   "metadata": {},
   "outputs": [],
   "source": [
    "h_range = np.linspace(start=0, stop=max(h_list))\n",
    "E_h = np.abs(-1 / 2 * h_range**2 * np.cos(x))"
   ]
  },
  {
   "cell_type": "code",
   "execution_count": 46,
   "id": "77fa5a3d-1e98-45f6-83c0-a873569f0f89",
   "metadata": {},
   "outputs": [
    {
     "data": {
      "image/png": "[encoded data removed]",
      "text/plain": [
       "<Figure size 640x480 with 1 Axes>"
      ]
     },
     "metadata": {},
     "output_type": "display_data"
    }
   ],
   "source": [
    "fig, ax = plt.subplots()\n",
    "ax.plot(\n",
    "    h_list,\n",
    "    error_truncation,\n",
    "    \"bo-\",\n",
    "    label=r\"Truncation error: $|\\cos(x+h) - (\\cos(x) - h\\sin(x))|$\",\n",
    ")\n",
    "ax.plot(h_range, E_h, \"r--\", label=r\"$E(h)=|-\\frac{1}{2}h^2\\cos(1)|$\")\n",
    "ax.set_xlabel(r\"$h$\")\n",
    "ax.set_ylabel(r\"Truncation error\")\n",
    "ax.set_title(\"Truncation error plot\")\n",
    "ax.grid()\n",
    "legend = ax.legend(loc=\"best\", shadow=True)"
   ]
  },
  {
   "cell_type": "markdown",
   "id": "3833591f-66ac-4ede-a39a-de1b415b58cd",
   "metadata": {},
   "source": [
    "### Big-oh notation\n",
    "\n",
    "Page 13"
   ]
  },
  {
   "cell_type": "markdown",
   "id": "a3e0428d-b100-42b5-ae39-a73061afaa02",
   "metadata": {},
   "source": [
    "#### Properties of $O\\left(h^{n}\\right)$"
   ]
  },
  {
   "cell_type": "code",
   "execution_count": 47,
   "id": "d7e608a2-bc99-40ee-aea3-eba2f5d64a41",
   "metadata": {},
   "outputs": [
    {
     "data": {
      "text/plain": [
       "True"
      ]
     },
     "execution_count": 47,
     "metadata": {},
     "output_type": "execute_result"
    }
   ],
   "source": [
    "h = symbols(\"h\")\n",
    "m, n, k = (5, 2, -2)\n",
    "assert m > n\n",
    "k * O(h**n) == O(h**n)"
   ]
  },
  {
   "cell_type": "code",
   "execution_count": 48,
   "id": "af0a6d27-f97a-4d51-97f9-0e172fa504a2",
   "metadata": {},
   "outputs": [
    {
     "data": {
      "text/plain": [
       "True"
      ]
     },
     "execution_count": 48,
     "metadata": {},
     "output_type": "execute_result"
    }
   ],
   "source": [
    "O(h**m) + O(h**n) == O(h**n)"
   ]
  },
  {
   "cell_type": "code",
   "execution_count": 49,
   "id": "48eb1ac7-751b-4822-8742-59dd52664b61",
   "metadata": {},
   "outputs": [
    {
     "data": {
      "text/plain": [
       "True"
      ]
     },
     "execution_count": 49,
     "metadata": {},
     "output_type": "execute_result"
    }
   ],
   "source": [
    "m, n = (2, 5)\n",
    "assert m < n\n",
    "O(h**n) / h**m == O(h ** (n - m))"
   ]
  },
  {
   "cell_type": "code",
   "execution_count": 50,
   "id": "eff8baa0-a151-4e85-9de5-1fd5611fae91",
   "metadata": {},
   "outputs": [
    {
     "data": {
      "text/latex": [
       "$\\displaystyle O\\left(1\\right)$"
      ],
      "text/plain": [
       "O(1)"
      ]
     },
     "execution_count": 50,
     "metadata": {},
     "output_type": "execute_result"
    }
   ],
   "source": [
    "O(cos(x))"
   ]
  },
  {
   "cell_type": "code",
   "execution_count": 51,
   "id": "9f804f74-d051-41a3-8cb1-88e46fd244a2",
   "metadata": {},
   "outputs": [
    {
     "data": {
      "text/latex": [
       "$\\displaystyle O\\left(1\\right)$"
      ],
      "text/plain": [
       "O(1)"
      ]
     },
     "execution_count": 51,
     "metadata": {},
     "output_type": "execute_result"
    }
   ],
   "source": [
    "O(sin(x))"
   ]
  },
  {
   "cell_type": "markdown",
   "id": "0041121c-8dc9-4a28-96db-380347f363ca",
   "metadata": {},
   "source": [
    "### Deriving finite-difference approximations"
   ]
  },
  {
   "cell_type": "code",
   "execution_count": 52,
   "id": "f45e358f-a85b-4dec-97bc-1ed10be429cb",
   "metadata": {},
   "outputs": [
    {
     "data": {
      "text/latex": [
       "$\\displaystyle f{\\left(x \\right)} + h \\frac{d}{d x} f{\\left(x \\right)} + O\\left(h^{2}\\right)$"
      ],
      "text/plain": [
       "f(x) + h*Derivative(f(x), x) + O(h**2)"
      ]
     },
     "execution_count": 52,
     "metadata": {},
     "output_type": "execute_result"
    }
   ],
   "source": [
    "x = symbols(\"x\")\n",
    "h = symbols(\"h\", positive=True)\n",
    "f = Function(\"f\")\n",
    "f(x + h).series(x=h, x0=0, n=2).simplify()"
   ]
  },
  {
   "cell_type": "code",
   "execution_count": 53,
   "id": "911026ca-240e-410d-9a5c-f8ca08782739",
   "metadata": {},
   "outputs": [
    {
     "data": {
      "text/latex": [
       "$\\displaystyle f{\\left(x \\right)} - h \\frac{d}{d x} f{\\left(x \\right)} + O\\left(h^{2}\\right)$"
      ],
      "text/plain": [
       "f(x) - h*Derivative(f(x), x) + O(h**2)"
      ]
     },
     "execution_count": 53,
     "metadata": {},
     "output_type": "execute_result"
    }
   ],
   "source": [
    "f(x - h).series(x=h, x0=0, n=2).simplify()"
   ]
  },
  {
   "cell_type": "code",
   "execution_count": 54,
   "id": "c811de9f-dea7-45c7-bde1-102a419d41f8",
   "metadata": {},
   "outputs": [
    {
     "data": {
      "text/latex": [
       "$\\displaystyle f{\\left(x \\right)} + h \\frac{d}{d x} f{\\left(x \\right)} + \\frac{h^{2} \\frac{d^{2}}{d x^{2}} f{\\left(x \\right)}}{2} + O\\left(h^{3}\\right)$"
      ],
      "text/plain": [
       "f(x) + h*Derivative(f(x), x) + h**2*Derivative(f(x), (x, 2))/2 + O(h**3)"
      ]
     },
     "execution_count": 54,
     "metadata": {},
     "output_type": "execute_result"
    }
   ],
   "source": [
    "f(x + h).series(x=h, x0=0, n=3).simplify()"
   ]
  },
  {
   "cell_type": "code",
   "execution_count": 55,
   "id": "475a3e80-f0e7-4f58-ab98-485d081fe82e",
   "metadata": {},
   "outputs": [
    {
     "data": {
      "text/latex": [
       "$\\displaystyle f{\\left(x \\right)} - h \\frac{d}{d x} f{\\left(x \\right)} + \\frac{h^{2} \\frac{d^{2}}{d x^{2}} f{\\left(x \\right)}}{2} + O\\left(h^{3}\\right)$"
      ],
      "text/plain": [
       "f(x) - h*Derivative(f(x), x) + h**2*Derivative(f(x), (x, 2))/2 + O(h**3)"
      ]
     },
     "execution_count": 55,
     "metadata": {},
     "output_type": "execute_result"
    }
   ],
   "source": [
    "f(x - h).series(x=h, x0=0, n=3).simplify()"
   ]
  },
  {
   "cell_type": "code",
   "execution_count": 56,
   "id": "980f0954-da1d-467e-91d5-459dcf58a3fb",
   "metadata": {},
   "outputs": [
    {
     "data": {
      "text/latex": [
       "$\\displaystyle f{\\left(x \\right)} + h \\frac{d}{d x} f{\\left(x \\right)} + \\frac{h^{2} \\frac{d^{2}}{d x^{2}} f{\\left(x \\right)}}{2} + \\frac{h^{3} \\frac{d^{3}}{d x^{3}} f{\\left(x \\right)}}{6} + O\\left(h^{4}\\right)$"
      ],
      "text/plain": [
       "f(x) + h*Derivative(f(x), x) + h**2*Derivative(f(x), (x, 2))/2 + h**3*Derivative(f(x), (x, 3))/6 + O(h**4)"
      ]
     },
     "execution_count": 56,
     "metadata": {},
     "output_type": "execute_result"
    }
   ],
   "source": [
    "f(x + h).series(x=h, x0=0, n=4).simplify()"
   ]
  },
  {
   "cell_type": "code",
   "execution_count": 57,
   "id": "b60596e2-e6e1-4d7b-8b49-73dd726ed950",
   "metadata": {},
   "outputs": [
    {
     "data": {
      "text/latex": [
       "$\\displaystyle f{\\left(x \\right)} - h \\frac{d}{d x} f{\\left(x \\right)} + \\frac{h^{2} \\frac{d^{2}}{d x^{2}} f{\\left(x \\right)}}{2} - \\frac{h^{3} \\frac{d^{3}}{d x^{3}} f{\\left(x \\right)}}{6} + O\\left(h^{4}\\right)$"
      ],
      "text/plain": [
       "f(x) - h*Derivative(f(x), x) + h**2*Derivative(f(x), (x, 2))/2 - h**3*Derivative(f(x), (x, 3))/6 + O(h**4)"
      ]
     },
     "execution_count": 57,
     "metadata": {},
     "output_type": "execute_result"
    }
   ],
   "source": [
    "f(x - h).series(x=h, x0=0, n=4).simplify()"
   ]
  },
  {
   "cell_type": "markdown",
   "id": "53dda78d-6664-4272-b5a3-8e3cf1a81cae",
   "metadata": {},
   "source": [
    "### Example $3$"
   ]
  },
  {
   "cell_type": "code",
   "execution_count": 58,
   "id": "ad5bcfd2-08d7-4c53-975e-e1e92349e397",
   "metadata": {},
   "outputs": [],
   "source": [
    "cleaner([\"x\", \"h\", \"f\"])"
   ]
  },
  {
   "cell_type": "code",
   "execution_count": 59,
   "id": "db2e40b4-9540-4a83-9d91-67f9221cd9a0",
   "metadata": {},
   "outputs": [],
   "source": [
    "def forward_first_derivative(f: np.ufunc, x_0: float, h: np.array):\n",
    "    return (f(x_0 + h) - f(x_0)) / h"
   ]
  },
  {
   "cell_type": "code",
   "execution_count": 60,
   "id": "60634c2b-1bf5-4c70-bb09-340e76ed9c1c",
   "metadata": {},
   "outputs": [],
   "source": [
    "def backward_first_derivative(f: np.ufunc, x_0: float, h: np.array):\n",
    "    return (f(x_0) - f(x_0 - h)) / h"
   ]
  },
  {
   "cell_type": "code",
   "execution_count": 61,
   "id": "7f078dc5-ce08-46f0-a63a-7b159804e566",
   "metadata": {},
   "outputs": [],
   "source": [
    "def central_first_derivative(f: np.ufunc, x_0: float, h: np.array):\n",
    "    return (f(x_0 + h) - f(x_0 - h)) / (2 * h)"
   ]
  },
  {
   "cell_type": "code",
   "execution_count": 62,
   "id": "8f9a22f3-3fcf-4f27-af34-e15c39e73ba1",
   "metadata": {},
   "outputs": [],
   "source": [
    "def central_second_derivative(f: np.ufunc, x_0: float, h: np.array):\n",
    "    return (f(x_0 + h) - 2 * f(x_0) + f(x_0 - h)) / h**2"
   ]
  },
  {
   "cell_type": "code",
   "execution_count": 63,
   "id": "26c9b40d-6e39-43a3-9a1d-45ae033f9869",
   "metadata": {},
   "outputs": [],
   "source": [
    "f = np.cos\n",
    "f_prime = lambda x: -np.sin(x)\n",
    "f_prime_prime = lambda x: -np.cos(x)\n",
    "x_0 = np.pi / 4\n",
    "h = np.array(0.1)"
   ]
  },
  {
   "cell_type": "code",
   "execution_count": 64,
   "id": "f48a655e-cb5d-405b-bf33-3b2091530155",
   "metadata": {},
   "outputs": [],
   "source": [
    "ffd = forward_first_derivative(f=f, x_0=x_0, h=h)"
   ]
  },
  {
   "cell_type": "code",
   "execution_count": 65,
   "id": "a90741e8-d9e8-4d43-abd9-889982bfc930",
   "metadata": {},
   "outputs": [
    {
     "data": {
      "text/plain": [
       "-0.741254745095894"
      ]
     },
     "execution_count": 65,
     "metadata": {},
     "output_type": "execute_result"
    }
   ],
   "source": [
    "ffd"
   ]
  },
  {
   "cell_type": "code",
   "execution_count": 66,
   "id": "e90d850f-3c52-49c4-83d2-8b7ff0b6b756",
   "metadata": {},
   "outputs": [],
   "source": [
    "bfd = backward_first_derivative(f=f, x_0=x_0, h=h)"
   ]
  },
  {
   "cell_type": "code",
   "execution_count": 67,
   "id": "7e86c097-79ce-4c57-b6e9-aa1dccc3abf9",
   "metadata": {},
   "outputs": [
    {
     "data": {
      "text/plain": [
       "-0.6706029729039886"
      ]
     },
     "execution_count": 67,
     "metadata": {},
     "output_type": "execute_result"
    }
   ],
   "source": [
    "bfd"
   ]
  },
  {
   "cell_type": "code",
   "execution_count": 68,
   "id": "a18a1f1f-4d5d-456b-b1a7-d11c7b7ddac0",
   "metadata": {},
   "outputs": [],
   "source": [
    "cfd = central_first_derivative(f=f, x_0=x_0, h=h)"
   ]
  },
  {
   "cell_type": "code",
   "execution_count": 69,
   "id": "a26d766d-dcdf-48a5-9485-466597c2bd87",
   "metadata": {},
   "outputs": [
    {
     "data": {
      "text/plain": [
       "-0.7059288589999413"
      ]
     },
     "execution_count": 69,
     "metadata": {},
     "output_type": "execute_result"
    }
   ],
   "source": [
    "cfd"
   ]
  },
  {
   "cell_type": "code",
   "execution_count": 70,
   "id": "711d4b63-e87e-473a-b901-7351e0920e30",
   "metadata": {},
   "outputs": [],
   "source": [
    "exact_first_derivative = f_prime(x_0)"
   ]
  },
  {
   "cell_type": "code",
   "execution_count": 71,
   "id": "01a0ee53-b6d8-4076-8aa4-07b5daea435e",
   "metadata": {},
   "outputs": [
    {
     "data": {
      "text/plain": [
       "-0.7071067811865475"
      ]
     },
     "execution_count": 71,
     "metadata": {},
     "output_type": "execute_result"
    }
   ],
   "source": [
    "exact_first_derivative"
   ]
  },
  {
   "cell_type": "code",
   "execution_count": 72,
   "id": "da3bfa6e-3f53-4e1b-8e8a-26420f13bff5",
   "metadata": {},
   "outputs": [],
   "source": [
    "error_ffd = np.abs(exact_first_derivative - ffd)"
   ]
  },
  {
   "cell_type": "code",
   "execution_count": 73,
   "id": "f941784d-89a1-483f-b254-45da686d63c0",
   "metadata": {},
   "outputs": [
    {
     "data": {
      "text/plain": [
       "0.03414796390934649"
      ]
     },
     "execution_count": 73,
     "metadata": {},
     "output_type": "execute_result"
    }
   ],
   "source": [
    "error_ffd"
   ]
  },
  {
   "cell_type": "code",
   "execution_count": 74,
   "id": "9138ed82-61e2-4942-8adc-6414e31dc9b4",
   "metadata": {},
   "outputs": [],
   "source": [
    "error_bfd = np.abs(exact_first_derivative - bfd)"
   ]
  },
  {
   "cell_type": "code",
   "execution_count": 75,
   "id": "9e775f90-b844-494c-91b4-1f40239f781a",
   "metadata": {},
   "outputs": [
    {
     "data": {
      "text/plain": [
       "0.036503808282558836"
      ]
     },
     "execution_count": 75,
     "metadata": {},
     "output_type": "execute_result"
    }
   ],
   "source": [
    "error_bfd"
   ]
  },
  {
   "cell_type": "code",
   "execution_count": 76,
   "id": "bc86c3aa-5528-4dce-925f-4434a3dcf540",
   "metadata": {},
   "outputs": [],
   "source": [
    "error_cfd = np.abs(exact_first_derivative - cfd)"
   ]
  },
  {
   "cell_type": "code",
   "execution_count": 77,
   "id": "63444fce-a884-4792-917f-ac1f381f29d5",
   "metadata": {},
   "outputs": [
    {
     "data": {
      "text/plain": [
       "0.0011779221866061729"
      ]
     },
     "execution_count": 77,
     "metadata": {},
     "output_type": "execute_result"
    }
   ],
   "source": [
    "error_cfd"
   ]
  },
  {
   "cell_type": "code",
   "execution_count": 78,
   "id": "9f071604-fe39-4a2b-8de7-a1e0884c8412",
   "metadata": {},
   "outputs": [],
   "source": [
    "csd = central_second_derivative(f=f, x_0=x_0, h=h)"
   ]
  },
  {
   "cell_type": "code",
   "execution_count": 79,
   "id": "5f9cb4e1-c832-4298-a7e8-0bd86fb782f7",
   "metadata": {},
   "outputs": [
    {
     "data": {
      "text/plain": [
       "-0.7065177219190532"
      ]
     },
     "execution_count": 79,
     "metadata": {},
     "output_type": "execute_result"
    }
   ],
   "source": [
    "csd"
   ]
  },
  {
   "cell_type": "code",
   "execution_count": 80,
   "id": "af638a7f-4dd9-4e2c-8c65-e37c5a5b0f18",
   "metadata": {},
   "outputs": [],
   "source": [
    "exact_second_derivative = f_prime_prime(x_0)"
   ]
  },
  {
   "cell_type": "code",
   "execution_count": 81,
   "id": "55aa301f-a86b-4a0b-b865-c1df86a49b30",
   "metadata": {},
   "outputs": [
    {
     "data": {
      "text/plain": [
       "-0.7071067811865476"
      ]
     },
     "execution_count": 81,
     "metadata": {},
     "output_type": "execute_result"
    }
   ],
   "source": [
    "exact_second_derivative"
   ]
  },
  {
   "cell_type": "code",
   "execution_count": 82,
   "id": "34245023-d5f9-4934-8dac-43993aba3106",
   "metadata": {},
   "outputs": [],
   "source": [
    "error_csd = np.abs(exact_second_derivative - csd)"
   ]
  },
  {
   "cell_type": "code",
   "execution_count": 83,
   "id": "b8a37b72-207c-45b0-a0f7-e8c9e7f9fdd9",
   "metadata": {},
   "outputs": [
    {
     "data": {
      "text/plain": [
       "0.0005890592674944184"
      ]
     },
     "execution_count": 83,
     "metadata": {},
     "output_type": "execute_result"
    }
   ],
   "source": [
    "error_csd"
   ]
  },
  {
   "cell_type": "markdown",
   "id": "96052220-1228-4d09-888f-292f5de19f75",
   "metadata": {},
   "source": [
    "### Estimating the order of an approximation\n",
    "\n",
    "$$\n",
    "n\\approx\n",
    "\\dfrac{\\log\\left|E\\left(h_{\\max}\\right)\\right| -\\log\\left|E\\left(h_{\\min}\\right)\\right|}{\n",
    "\\log\\left(h_{\\max}\\right)-\\log\\left(h_{\\min}\\right)\n",
    "}.\n",
    "$$"
   ]
  },
  {
   "cell_type": "code",
   "execution_count": 84,
   "id": "e1e2eb4e-9d09-493b-8141-e95c47d559d9",
   "metadata": {},
   "outputs": [],
   "source": [
    "def estimate_order(h: np.array, truncation_error: np.array) -> float:\n",
    "    assert h.size == truncation_error.size\n",
    "    h_max = h.max()\n",
    "    h_min = h.min()\n",
    "    Eh_max = truncation_error[np.argmax(h, axis=0)[0]][0]\n",
    "    Eh_min = truncation_error[np.argmin(h, axis=0)[0]][0]\n",
    "\n",
    "    return (np.log(np.abs(Eh_max)) - np.log(np.abs(Eh_min))) / (\n",
    "        np.log(h_max) - np.log(h_min)\n",
    "    )"
   ]
  },
  {
   "cell_type": "markdown",
   "id": "8ae02d77-03cb-43f8-84c9-fffbb4db1eb6",
   "metadata": {},
   "source": [
    "### Table 2.1\n",
    "\n",
    "Finite-difference approximations of the first derivative of\n",
    "$f\\left(x\\right)=\\cos\\left(x\\right)$ at $x=\\dfrac{\\pi}{4}$ using\n",
    "step lengths $h\\in\\left\\{0.1,0.05,0.25,0.0125\\right\\}$."
   ]
  },
  {
   "cell_type": "code",
   "execution_count": 85,
   "id": "0938c101-ef02-4c4d-b9a9-18ddd37036b9",
   "metadata": {},
   "outputs": [],
   "source": [
    "f = np.cos\n",
    "f_prime = lambda x: -np.sin(x)\n",
    "x_0 = np.pi / 4\n",
    "h = 1 / (10 * (2 ** np.arange(4)))[np.newaxis].T\n",
    "forward = forward_first_derivative(f=f, x_0=x_0, h=h)\n",
    "backward = backward_first_derivative(f=f, x_0=x_0, h=h)\n",
    "central = central_first_derivative(f=f, x_0=x_0, h=h)"
   ]
  },
  {
   "cell_type": "code",
   "execution_count": 86,
   "id": "6ba8d75b-1dd2-4d92-944f-925148728265",
   "metadata": {},
   "outputs": [
    {
     "data": {
      "text/plain": [
       "array([[0.1   ],\n",
       "       [0.05  ],\n",
       "       [0.025 ],\n",
       "       [0.0125]])"
      ]
     },
     "execution_count": 86,
     "metadata": {},
     "output_type": "execute_result"
    }
   ],
   "source": [
    "h"
   ]
  },
  {
   "cell_type": "code",
   "execution_count": 87,
   "id": "96478537-e0a9-4473-8634-896e9757d32a",
   "metadata": {},
   "outputs": [],
   "source": [
    "tabular = np.concatenate((h, forward, backward, central), axis=1)\n",
    "header = [\"h\", \"Forward\", \"Backward\", \"Central\"]"
   ]
  },
  {
   "cell_type": "code",
   "execution_count": 88,
   "id": "8d3e3fb3-0f97-43ca-8e99-08180cd57a2b",
   "metadata": {},
   "outputs": [
    {
     "name": "stdout",
     "output_type": "stream",
     "text": [
      "     h    Forward    Backward    Central\n",
      "------  ---------  ----------  ---------\n",
      "0.1     -0.741255   -0.670603  -0.705929\n",
      "0.05    -0.724486   -0.689138  -0.706812\n",
      "0.025   -0.715872   -0.698195  -0.707033\n",
      "0.0125  -0.711508   -0.702669  -0.707088\n"
     ]
    }
   ],
   "source": [
    "print(tabulate(tabular_data=tabular, headers=header))  # TODO: As xarray."
   ]
  },
  {
   "cell_type": "code",
   "execution_count": 95,
   "id": "fc858041-05cc-4205-b963-89ca343056b7",
   "metadata": {},
   "outputs": [
    {
     "data": {
      "text/plain": [
       "-0.7071067811865475"
      ]
     },
     "execution_count": 95,
     "metadata": {},
     "output_type": "execute_result"
    }
   ],
   "source": [
    "f_prime(x_0)"
   ]
  },
  {
   "cell_type": "markdown",
   "id": "8c13d0e1-68bc-4d7c-b4ce-cc594fd3f0bb",
   "metadata": {},
   "source": [
    "### Table 2.2\n",
    "\n",
    "Truncation errors for the Taylor series approximations of\n",
    "$\\cos\\left(1+h\\right)$ for $h\\in\\left\\{0.5,0.25,0.125,0.0625\\right\\}$."
   ]
  },
  {
   "cell_type": "code",
   "execution_count": 98,
   "id": "de8fb2bc-4d7d-4180-aa47-dcc2dbfda0ba",
   "metadata": {},
   "outputs": [],
   "source": [
    "f = lambda h: np.cos(1 + h)\n",
    "f_prime = lambda h: -np.sin(1 + h)\n",
    "x_0 = 1\n",
    "h = 1 / (2 ** np.arange(1, 5))[np.newaxis].T\n",
    "forward = forward_first_derivative(f=f, x_0=x_0, h=h)\n",
    "backward = backward_first_derivative(f=f, x_0=x_0, h=h)\n",
    "central = central_first_derivative(f=f, x_0=x_0, h=h)"
   ]
  },
  {
   "cell_type": "code",
   "execution_count": 101,
   "id": "65f9d9cc-c4d2-476a-a00f-aa2d6ee791b8",
   "metadata": {},
   "outputs": [
    {
     "data": {
      "text/plain": [
       "array([[0.5   ],\n",
       "       [0.25  ],\n",
       "       [0.125 ],\n",
       "       [0.0625]])"
      ]
     },
     "execution_count": 101,
     "metadata": {},
     "output_type": "execute_result"
    }
   ],
   "source": [
    "h"
   ]
  },
  {
   "cell_type": "code",
   "execution_count": 106,
   "id": "7f479291-c10e-4bc8-9d75-d801f9d36805",
   "metadata": {},
   "outputs": [],
   "source": [
    "error_forward = np.abs(f_prime(x_0) - forward)\n",
    "error_backward = np.abs(f_prime(x_0) - backward)\n",
    "error_central = np.abs(f_prime(x_0) - central)"
   ]
  },
  {
   "cell_type": "code",
   "execution_count": 107,
   "id": "8c4e2359-11a2-47f9-8529-ac3f705b96b7",
   "metadata": {},
   "outputs": [],
   "source": [
    "tabular = np.concatenate((h, error_forward, error_backward, error_central), axis=1)\n",
    "header = [\"h\", \"Forward error\", \"Backward error\", \"Central error\"]"
   ]
  },
  {
   "cell_type": "code",
   "execution_count": 108,
   "id": "e176831c-ca27-4d2f-a80f-fb8e6bc957f4",
   "metadata": {},
   "outputs": [
    {
     "name": "stdout",
     "output_type": "stream",
     "text": [
      "     h    Forward error    Backward error    Central error\n",
      "------  ---------------  ----------------  ---------------\n",
      "0.5           0.139304          0.0644706      0.0374166\n",
      "0.25          0.0611903         0.0423057      0.00944229\n",
      "0.125         0.0283414         0.0236092      0.00236611\n",
      "0.0625        0.0135922         0.0124085      0.000591875\n"
     ]
    }
   ],
   "source": [
    "print(tabulate(tabular_data=tabular, headers=header))"
   ]
  },
  {
   "cell_type": "code",
   "execution_count": 110,
   "id": "7d9c8897-4247-4103-8d4b-460b433aa75a",
   "metadata": {},
   "outputs": [
    {
     "data": {
      "text/plain": [
       "1.1191270541574243"
      ]
     },
     "execution_count": 110,
     "metadata": {},
     "output_type": "execute_result"
    }
   ],
   "source": [
    "estimate_order(h, error_forward)"
   ]
  },
  {
   "cell_type": "code",
   "execution_count": 111,
   "id": "02ac6090-95e6-40bf-b54b-a4f263af4ad7",
   "metadata": {},
   "outputs": [
    {
     "data": {
      "text/plain": [
       "0.7924386666069776"
      ]
     },
     "execution_count": 111,
     "metadata": {},
     "output_type": "execute_result"
    }
   ],
   "source": [
    "estimate_order(h, error_backward)"
   ]
  },
  {
   "cell_type": "code",
   "execution_count": 109,
   "id": "df4cb6ea-be86-49f1-90b4-5f4efc1bff87",
   "metadata": {},
   "outputs": [
    {
     "data": {
      "text/plain": [
       "1.9940809174948577"
      ]
     },
     "execution_count": 109,
     "metadata": {},
     "output_type": "execute_result"
    }
   ],
   "source": [
    "estimate_order(h, error_central)"
   ]
  },
  {
   "cell_type": "markdown",
   "id": "f6d85726-e8c3-4156-9edb-95f10c2b295e",
   "metadata": {},
   "source": [
    "#### Plot"
   ]
  },
  {
   "cell_type": "markdown",
   "id": "41c53b4a-e949-4d97-9a97-f276b079b5fb",
   "metadata": {},
   "source": [
    "## Example 4"
   ]
  },
  {
   "cell_type": "code",
   "execution_count": null,
   "id": "4e7e8b57-eabd-4407-94e1-5db1767f1231",
   "metadata": {},
   "outputs": [],
   "source": [
    "h = symbols(\"h\")"
   ]
  },
  {
   "cell_type": "code",
   "execution_count": null,
   "id": "a3812197-0cf9-4560-80ee-a56e3f47e91e",
   "metadata": {},
   "outputs": [],
   "source": [
    "A = Matrix([[1, 1, 1], [0, 1, 2], [0, 1 / 2, 2]])\n",
    "b = Matrix([0, 1 / h, 0])"
   ]
  },
  {
   "cell_type": "code",
   "execution_count": null,
   "id": "3af0a520-ca25-4aec-8b84-dc043bbadced",
   "metadata": {},
   "outputs": [],
   "source": [
    "A"
   ]
  },
  {
   "cell_type": "code",
   "execution_count": null,
   "id": "100f39f3-ac5a-43dc-8869-02d25fe9327e",
   "metadata": {},
   "outputs": [],
   "source": [
    "b"
   ]
  },
  {
   "cell_type": "code",
   "execution_count": null,
   "id": "a7c1a87a-3cf2-40dd-8292-0580c4013e76",
   "metadata": {},
   "outputs": [],
   "source": [
    "A.solve(b)"
   ]
  },
  {
   "cell_type": "markdown",
   "id": "83206722-b40d-4b6b-a56a-70b8e3b7a89b",
   "metadata": {},
   "source": [
    "## 2.5.6"
   ]
  },
  {
   "cell_type": "code",
   "execution_count": null,
   "id": "8ef718ef-c345-406d-952a-cf00716ddbba",
   "metadata": {},
   "outputs": [],
   "source": [
    "N = 11\n",
    "x, dx = np.linspace(start=0, stop=1, num=N, retstep=True)\n",
    "v = 1\n",
    "dt = 0.05\n",
    "t = 0"
   ]
  },
  {
   "cell_type": "code",
   "execution_count": null,
   "id": "1240b0b0-7503-4416-9797-f9ba3bbeb9e3",
   "metadata": {},
   "outputs": [],
   "source": [
    "x"
   ]
  },
  {
   "cell_type": "code",
   "execution_count": null,
   "id": "5621c969-570d-4317-b912-54e1d3690d61",
   "metadata": {},
   "outputs": [],
   "source": [
    "dx"
   ]
  },
  {
   "cell_type": "code",
   "execution_count": null,
   "id": "8e63c0ba-fc4c-47e8-9a1c-e865067dd4d7",
   "metadata": {},
   "outputs": [],
   "source": [
    "u = np.exp(-100 * np.power(x - 0.4, 2))"
   ]
  },
  {
   "cell_type": "code",
   "execution_count": null,
   "id": "4a5e73e9-6b40-41d5-82f8-219bb6c736b5",
   "metadata": {},
   "outputs": [],
   "source": [
    "u"
   ]
  },
  {
   "cell_type": "code",
   "execution_count": null,
   "id": "8913e45e-8300-40c7-a9be-a9ca6013f4f3",
   "metadata": {},
   "outputs": [],
   "source": [
    "C = v * dt / dx"
   ]
  },
  {
   "cell_type": "code",
   "execution_count": null,
   "id": "56667767-7349-488e-a307-8a5bccd8eaf5",
   "metadata": {},
   "outputs": [],
   "source": [
    "C"
   ]
  },
  {
   "cell_type": "code",
   "execution_count": null,
   "id": "1f34610c-3115-4389-8ba6-3c768793134e",
   "metadata": {},
   "outputs": [],
   "source": [
    "for n in range(3):\n",
    "    u[0], u[-1] = (0, 0)\n",
    "    unew = u\n",
    "    for i in range(1, N):\n",
    "        unew[i] = u[i] - C * (u[i] - u[i - 1])\n",
    "\n",
    "    t = t + dt\n",
    "    u = unew"
   ]
  },
  {
   "cell_type": "code",
   "execution_count": null,
   "id": "a671a966-b865-4778-b5f4-a437946251d9",
   "metadata": {},
   "outputs": [],
   "source": [
    "unew"
   ]
  },
  {
   "cell_type": "code",
   "execution_count": null,
   "id": "bf8e67a2-21b9-47b1-9213-7e80b126de77",
   "metadata": {},
   "outputs": [],
   "source": [
    "tabular = np.concatenate((x[np.newaxis].T, unew[np.newaxis].T), axis=1)\n",
    "header = [\"i\", \"u\"]"
   ]
  },
  {
   "cell_type": "code",
   "execution_count": null,
   "id": "9cd1e03c-03d8-4961-95b1-d3da446669ca",
   "metadata": {},
   "outputs": [],
   "source": [
    "print(tabulate(tabular_data=tabular, headers=header))"
   ]
  }
 ],
 "metadata": {
  "kernelspec": {
   "display_name": "Python 3 (ipykernel)",
   "language": "python",
   "name": "python3"
  },
  "language_info": {
   "codemirror_mode": {
    "name": "ipython",
    "version": 3
   },
   "file_extension": ".py",
   "mimetype": "text/x-python",
   "name": "python",
   "nbconvert_exporter": "python",
   "pygments_lexer": "ipython3",
   "version": "3.11.6"
  }
 },
 "nbformat": 4,
 "nbformat_minor": 5
}
