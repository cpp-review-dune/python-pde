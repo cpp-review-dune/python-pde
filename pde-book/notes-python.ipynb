{
 "cells": [
  {
   "cell_type": "markdown",
   "id": "84721a49-61d3-4666-9fac-38c63260f2e3",
   "metadata": {},
   "source": [
    "# Finite-Difference Methods Lecture Notes (python)\n",
    "\n",
    "- Homesite: https://jonshiach.github.io/files/notes/finite_difference_methods_notes.pdf\n",
    "- Course: Numerical Methods for Partial Differential Equations II\n",
    "- Recordings:\n",
    "  - https://mmutube.mmu.ac.uk/media/PDEs_Chapter_2_Exercises_Q3-7/1_85dac601\n",
    "  - https://www.youtube.com/playlist?list=PLgPpaTsP_3Dq5KsWd6-8wmjNs3ipnvCU3"
   ]
  },
  {
   "cell_type": "code",
   "execution_count": 1,
   "id": "a0bb499c-ae59-4bb1-804f-0cc721f3ae11",
   "metadata": {},
   "outputs": [],
   "source": [
    "import matplotlib.pyplot as plt\n",
    "import numpy as np\n",
    "from sympy import Derivative as D\n",
    "from sympy import Eq, Function, O, cos, exp, pi, sin, symbols\n",
    "\n",
    "\n",
    "def cleaner(symbolsToDelete):\n",
    "    try:\n",
    "        for z0 in symbolsToDelete:\n",
    "            del globals()[z0]\n",
    "    except KeyError:\n",
    "        print(\"Symbolic variables already cleared\")"
   ]
  },
  {
   "cell_type": "markdown",
   "id": "e7f19ff0-0a3e-47c3-82d7-4a2a100e1c1d",
   "metadata": {},
   "source": [
    "## Heat equation\n",
    "\n",
    "Page 3"
   ]
  },
  {
   "cell_type": "code",
   "execution_count": 2,
   "id": "b0489a4f-50fe-4c35-a391-cf8ab5feb603",
   "metadata": {},
   "outputs": [],
   "source": [
    "t, x, k, L = symbols(\"t, x, k, L\")\n",
    "U = symbols(\"U\", cls=Function)(t, x)\n",
    "\n",
    "heat_equation = Eq(D(U, t), k * D(U, x, 2))"
   ]
  },
  {
   "cell_type": "code",
   "execution_count": 3,
   "id": "539c96f6-c70c-4231-b7a6-85dbd41e208c",
   "metadata": {},
   "outputs": [
    {
     "data": {
      "text/latex": [
       "$\\displaystyle \\frac{\\partial}{\\partial t} U{\\left(t,x \\right)} = k \\frac{\\partial^{2}}{\\partial x^{2}} U{\\left(t,x \\right)}$"
      ],
      "text/plain": [
       "Eq(Derivative(U(t, x), t), k*Derivative(U(t, x), (x, 2)))"
      ]
     },
     "execution_count": 3,
     "metadata": {},
     "output_type": "execute_result"
    }
   ],
   "source": [
    "heat_equation"
   ]
  },
  {
   "cell_type": "markdown",
   "id": "a026d17a-75ee-4f5e-b87a-7a297df595ab",
   "metadata": {},
   "source": [
    "## Analytical solution"
   ]
  },
  {
   "cell_type": "code",
   "execution_count": 4,
   "id": "cdf787ff-4ce3-4797-9abf-313d28f4f875",
   "metadata": {},
   "outputs": [],
   "source": [
    "heat_solution = 2 * sin(pi * x / L) * exp(-k * pi**2 * t / L**2)"
   ]
  },
  {
   "cell_type": "code",
   "execution_count": 5,
   "id": "3b32cd12-9026-4ff1-8d09-26ce968c90be",
   "metadata": {},
   "outputs": [
    {
     "data": {
      "text/latex": [
       "$\\displaystyle 2 e^{- \\frac{\\pi^{2} k t}{L^{2}}} \\sin{\\left(\\frac{\\pi x}{L} \\right)}$"
      ],
      "text/plain": [
       "2*exp(-pi**2*k*t/L**2)*sin(pi*x/L)"
      ]
     },
     "execution_count": 5,
     "metadata": {},
     "output_type": "execute_result"
    }
   ],
   "source": [
    "heat_solution"
   ]
  },
  {
   "cell_type": "markdown",
   "id": "d2a60da0-315d-4c47-913b-04049985646b",
   "metadata": {},
   "source": [
    "## Initial condition"
   ]
  },
  {
   "cell_type": "code",
   "execution_count": 6,
   "id": "2ac824b7-6c28-43b1-8c71-758f23d660db",
   "metadata": {},
   "outputs": [],
   "source": [
    "U_0 = heat_solution.subs({t: 0})"
   ]
  },
  {
   "cell_type": "code",
   "execution_count": 7,
   "id": "6cfa034f-fcc4-4f6d-ad1b-8784e167e514",
   "metadata": {},
   "outputs": [
    {
     "data": {
      "text/latex": [
       "$\\displaystyle 2 \\sin{\\left(\\frac{\\pi x}{L} \\right)}$"
      ],
      "text/plain": [
       "2*sin(pi*x/L)"
      ]
     },
     "execution_count": 7,
     "metadata": {},
     "output_type": "execute_result"
    }
   ],
   "source": [
    "U_0"
   ]
  },
  {
   "cell_type": "markdown",
   "id": "76b7acf1-3477-478b-85f9-3d0ef89ff121",
   "metadata": {},
   "source": [
    "## Boundary conditions"
   ]
  },
  {
   "cell_type": "code",
   "execution_count": 8,
   "id": "e0899958-a9fb-448e-9867-85b96c2434e5",
   "metadata": {},
   "outputs": [],
   "source": [
    "U_left = heat_solution.subs({x: 0})"
   ]
  },
  {
   "cell_type": "code",
   "execution_count": 9,
   "id": "d5c644f4-85f6-4623-97c8-b32f7ac80318",
   "metadata": {},
   "outputs": [
    {
     "data": {
      "text/latex": [
       "$\\displaystyle 0$"
      ],
      "text/plain": [
       "0"
      ]
     },
     "execution_count": 9,
     "metadata": {},
     "output_type": "execute_result"
    }
   ],
   "source": [
    "U_left"
   ]
  },
  {
   "cell_type": "code",
   "execution_count": 10,
   "id": "92f6a71a-5584-47d9-97ae-e536c9af237c",
   "metadata": {},
   "outputs": [],
   "source": [
    "U_right = heat_solution.subs({x: L})"
   ]
  },
  {
   "cell_type": "code",
   "execution_count": 11,
   "id": "893679f9-840d-44d4-8a51-3fc35b09650b",
   "metadata": {},
   "outputs": [
    {
     "data": {
      "text/latex": [
       "$\\displaystyle 0$"
      ],
      "text/plain": [
       "0"
      ]
     },
     "execution_count": 11,
     "metadata": {},
     "output_type": "execute_result"
    }
   ],
   "source": [
    "U_right"
   ]
  },
  {
   "cell_type": "markdown",
   "id": "05846d26-01d7-4b56-aa54-58aaa62f3293",
   "metadata": {},
   "source": [
    "## Checking solution"
   ]
  },
  {
   "cell_type": "code",
   "execution_count": 12,
   "id": "5ea721a5-cd69-41d4-9817-cb21db316bee",
   "metadata": {},
   "outputs": [],
   "source": [
    "U_t = heat_equation.lhs.subs({U: heat_solution}).simplify()"
   ]
  },
  {
   "cell_type": "code",
   "execution_count": 13,
   "id": "84ede3c3-cada-4610-9691-29d6251e8c3b",
   "metadata": {},
   "outputs": [
    {
     "data": {
      "text/latex": [
       "$\\displaystyle - \\frac{2 \\pi^{2} k e^{- \\frac{\\pi^{2} k t}{L^{2}}} \\sin{\\left(\\frac{\\pi x}{L} \\right)}}{L^{2}}$"
      ],
      "text/plain": [
       "-2*pi**2*k*exp(-pi**2*k*t/L**2)*sin(pi*x/L)/L**2"
      ]
     },
     "execution_count": 13,
     "metadata": {},
     "output_type": "execute_result"
    }
   ],
   "source": [
    "U_t"
   ]
  },
  {
   "cell_type": "code",
   "execution_count": 14,
   "id": "22eb204f-c5e4-4f17-85e3-41c24630989b",
   "metadata": {},
   "outputs": [],
   "source": [
    "U_xx = heat_equation.rhs.subs({U: heat_solution}).simplify() / k"
   ]
  },
  {
   "cell_type": "code",
   "execution_count": 15,
   "id": "f798c070-cde6-432f-b33f-2c8bc05fe2ba",
   "metadata": {},
   "outputs": [
    {
     "data": {
      "text/latex": [
       "$\\displaystyle - \\frac{2 \\pi^{2} e^{- \\frac{\\pi^{2} k t}{L^{2}}} \\sin{\\left(\\frac{\\pi x}{L} \\right)}}{L^{2}}$"
      ],
      "text/plain": [
       "-2*pi**2*exp(-pi**2*k*t/L**2)*sin(pi*x/L)/L**2"
      ]
     },
     "execution_count": 15,
     "metadata": {},
     "output_type": "execute_result"
    }
   ],
   "source": [
    "U_xx"
   ]
  },
  {
   "cell_type": "code",
   "execution_count": 16,
   "id": "90b544f4-9de5-4ac8-92c3-3bf62deb9520",
   "metadata": {},
   "outputs": [
    {
     "data": {
      "text/plain": [
       "True"
      ]
     },
     "execution_count": 16,
     "metadata": {},
     "output_type": "execute_result"
    }
   ],
   "source": [
    "U_t.equals(k * U_xx)"
   ]
  },
  {
   "cell_type": "markdown",
   "id": "6b97ae22-4f43-443b-be62-2e56817a1be7",
   "metadata": {},
   "source": [
    "## Example $2$\n",
    "\n",
    "Page 4"
   ]
  },
  {
   "cell_type": "code",
   "execution_count": 17,
   "id": "10f4a7ee-975c-48bb-9d88-44a727f5e45d",
   "metadata": {},
   "outputs": [],
   "source": [
    "cleaner([\"t\", \"x\", \"k\", \"L\", \"U\"])"
   ]
  },
  {
   "cell_type": "code",
   "execution_count": 18,
   "id": "4f0e0cc0-2aee-450d-a036-d96c5522ca9f",
   "metadata": {},
   "outputs": [],
   "source": [
    "x, y = symbols(\"x, y\")\n",
    "U = symbols(\"U\", cls=Function)(x, y)\n",
    "\n",
    "laplace_equation = Eq(D(U, x, 2) + D(U, y, 2), 0)"
   ]
  },
  {
   "cell_type": "code",
   "execution_count": 19,
   "id": "b83439ec-26cf-4354-a096-c8f493ec20a7",
   "metadata": {},
   "outputs": [
    {
     "data": {
      "text/latex": [
       "$\\displaystyle \\frac{\\partial^{2}}{\\partial x^{2}} U{\\left(x,y \\right)} + \\frac{\\partial^{2}}{\\partial y^{2}} U{\\left(x,y \\right)} = 0$"
      ],
      "text/plain": [
       "Eq(Derivative(U(x, y), (x, 2)) + Derivative(U(x, y), (y, 2)), 0)"
      ]
     },
     "execution_count": 19,
     "metadata": {},
     "output_type": "execute_result"
    }
   ],
   "source": [
    "laplace_equation"
   ]
  },
  {
   "cell_type": "code",
   "execution_count": 20,
   "id": "5d5dacef-707b-4e1a-b309-3947a5303857",
   "metadata": {},
   "outputs": [],
   "source": [
    "t, x, k = symbols(\"t, x, k\")\n",
    "U = symbols(\"U\", cls=Function)(t, x)\n",
    "heat_equation = Eq(D(U, t), k * D(U, x, 2))"
   ]
  },
  {
   "cell_type": "code",
   "execution_count": 21,
   "id": "74b9ecdf-fe7a-47d1-a552-20eaebe9ee70",
   "metadata": {},
   "outputs": [
    {
     "data": {
      "text/latex": [
       "$\\displaystyle \\frac{\\partial}{\\partial t} U{\\left(t,x \\right)} = k \\frac{\\partial^{2}}{\\partial x^{2}} U{\\left(t,x \\right)}$"
      ],
      "text/plain": [
       "Eq(Derivative(U(t, x), t), k*Derivative(U(t, x), (x, 2)))"
      ]
     },
     "execution_count": 21,
     "metadata": {},
     "output_type": "execute_result"
    }
   ],
   "source": [
    "heat_equation"
   ]
  },
  {
   "cell_type": "code",
   "execution_count": 22,
   "id": "91cd8fbd-d10b-4a89-ae5d-c925193ee8aa",
   "metadata": {},
   "outputs": [],
   "source": [
    "t, x, c = symbols(\"t, x, c\")\n",
    "U = symbols(\"U\", cls=Function)(t, x)\n",
    "wave_equation = Eq(D(U, t, 2), c**2 * D(U, x, 2))"
   ]
  },
  {
   "cell_type": "code",
   "execution_count": 23,
   "id": "e14d78e0-5a73-4f0d-8c7d-a0d9c71d73d9",
   "metadata": {},
   "outputs": [
    {
     "data": {
      "text/latex": [
       "$\\displaystyle \\frac{\\partial^{2}}{\\partial t^{2}} U{\\left(t,x \\right)} = c^{2} \\frac{\\partial^{2}}{\\partial x^{2}} U{\\left(t,x \\right)}$"
      ],
      "text/plain": [
       "Eq(Derivative(U(t, x), (t, 2)), c**2*Derivative(U(t, x), (x, 2)))"
      ]
     },
     "execution_count": 23,
     "metadata": {},
     "output_type": "execute_result"
    }
   ],
   "source": [
    "wave_equation"
   ]
  },
  {
   "cell_type": "markdown",
   "id": "6516ca66-5f27-4eef-b732-96986057d7b5",
   "metadata": {},
   "source": [
    "## The Taylor Series\n",
    "\n",
    "Page 11"
   ]
  },
  {
   "cell_type": "code",
   "execution_count": 24,
   "id": "c51605cc-a5c9-47bb-b4c5-39c4ce90a588",
   "metadata": {},
   "outputs": [
    {
     "name": "stdout",
     "output_type": "stream",
     "text": [
      "Symbolic variables already cleared\n"
     ]
    }
   ],
   "source": [
    "cleaner([\"t\", \"x\", \"k\", \"c\", \"L\", \"U\"])"
   ]
  },
  {
   "cell_type": "code",
   "execution_count": 25,
   "id": "f89b5082-390a-4256-bf84-f533cde99b3a",
   "metadata": {},
   "outputs": [],
   "source": [
    "x = symbols(\"x\")\n",
    "h = symbols(\"h\", positive=True)"
   ]
  },
  {
   "cell_type": "code",
   "execution_count": 26,
   "id": "96028d35-972b-4a6e-86f9-207a7e345142",
   "metadata": {},
   "outputs": [],
   "source": [
    "f = Function(\"f\")"
   ]
  },
  {
   "cell_type": "markdown",
   "id": "917ae619-604e-42af-aacf-b84751d91bb8",
   "metadata": {},
   "source": [
    "## Forward Taylor Series"
   ]
  },
  {
   "cell_type": "code",
   "execution_count": 27,
   "id": "54294d07-2c92-41c3-887e-55a735851143",
   "metadata": {},
   "outputs": [
    {
     "data": {
      "text/latex": [
       "$\\displaystyle f{\\left(x \\right)} + h \\frac{d}{d x} f{\\left(x \\right)} + \\frac{h^{2} \\frac{d^{2}}{d x^{2}} f{\\left(x \\right)}}{2} + \\frac{h^{3} \\frac{d^{3}}{d x^{3}} f{\\left(x \\right)}}{6} + \\frac{h^{4} \\frac{d^{4}}{d x^{4}} f{\\left(x \\right)}}{24} + O\\left(h^{5}\\right)$"
      ],
      "text/plain": [
       "f(x) + h*Derivative(f(x), x) + h**2*Derivative(f(x), (x, 2))/2 + h**3*Derivative(f(x), (x, 3))/6 + h**4*Derivative(f(x), (x, 4))/24 + O(h**5)"
      ]
     },
     "execution_count": 27,
     "metadata": {},
     "output_type": "execute_result"
    }
   ],
   "source": [
    "f(x + h).series(x=h, x0=0, n=5).simplify()"
   ]
  },
  {
   "cell_type": "markdown",
   "id": "a33f5ed4-f01e-4529-8c69-7ba7fd327659",
   "metadata": {},
   "source": [
    "## Backward Taylor Series"
   ]
  },
  {
   "cell_type": "code",
   "execution_count": 28,
   "id": "4b01411e-af4e-4ea5-911a-c688576f6956",
   "metadata": {},
   "outputs": [
    {
     "data": {
      "text/latex": [
       "$\\displaystyle f{\\left(x \\right)} - h \\frac{d}{d x} f{\\left(x \\right)} + \\frac{h^{2} \\frac{d^{2}}{d x^{2}} f{\\left(x \\right)}}{2} - \\frac{h^{3} \\frac{d^{3}}{d x^{3}} f{\\left(x \\right)}}{6} + \\frac{h^{4} \\frac{d^{4}}{d x^{4}} f{\\left(x \\right)}}{24} + O\\left(h^{5}\\right)$"
      ],
      "text/plain": [
       "f(x) - h*Derivative(f(x), x) + h**2*Derivative(f(x), (x, 2))/2 - h**3*Derivative(f(x), (x, 3))/6 + h**4*Derivative(f(x), (x, 4))/24 + O(h**5)"
      ]
     },
     "execution_count": 28,
     "metadata": {},
     "output_type": "execute_result"
    }
   ],
   "source": [
    "f(x - h).series(x=h, x0=0, n=5).simplify()"
   ]
  },
  {
   "cell_type": "markdown",
   "id": "8862ecbb-ffef-4c92-9f8a-72ee2f479e50",
   "metadata": {},
   "source": [
    "## Plot"
   ]
  },
  {
   "cell_type": "code",
   "execution_count": 29,
   "id": "253a8eec-41d2-4d7b-b87f-88d08a4d8aa0",
   "metadata": {},
   "outputs": [
    {
     "data": {
      "text/latex": [
       "$\\displaystyle \\cos{\\left(x \\right)} - h \\sin{\\left(x \\right)} + O\\left(h^{2}\\right)$"
      ],
      "text/plain": [
       "cos(x) - h*sin(x) + O(h**2)"
      ]
     },
     "execution_count": 29,
     "metadata": {},
     "output_type": "execute_result"
    }
   ],
   "source": [
    "cos(x + h).series(x=h, x0=0, n=2).simplify()"
   ]
  },
  {
   "cell_type": "code",
   "execution_count": 30,
   "id": "5edd64e7-72c8-4665-aad4-3cab0b7f0a03",
   "metadata": {},
   "outputs": [],
   "source": [
    "h_list = np.flip(1 / (2 ** np.arange(1, 5)))"
   ]
  },
  {
   "cell_type": "code",
   "execution_count": 31,
   "id": "b13cdf99-b1ad-4df0-b36b-21058d910f8d",
   "metadata": {},
   "outputs": [
    {
     "data": {
      "text/plain": [
       "array([0.0625, 0.125 , 0.25  , 0.5   ])"
      ]
     },
     "execution_count": 31,
     "metadata": {},
     "output_type": "execute_result"
    }
   ],
   "source": [
    "h_list"
   ]
  },
  {
   "cell_type": "code",
   "execution_count": 32,
   "id": "5e835615-c506-4230-bbe8-f73b7365a7ab",
   "metadata": {},
   "outputs": [],
   "source": [
    "error_truncation = np.cos(1 + h_list) - (np.cos(h_list) - h_list * np.sin(h_list))"
   ]
  },
  {
   "cell_type": "code",
   "execution_count": 33,
   "id": "b243116c-1519-4cec-9cb8-0c6558458c2b",
   "metadata": {},
   "outputs": [
    {
     "data": {
      "text/plain": [
       "array([-0.50745414, -0.54543681, -0.59173907, -0.56713259])"
      ]
     },
     "execution_count": 33,
     "metadata": {},
     "output_type": "execute_result"
    }
   ],
   "source": [
    "error_truncation"
   ]
  },
  {
   "cell_type": "code",
   "execution_count": 34,
   "id": "7f6af1a9-4863-458c-9a13-c28add680276",
   "metadata": {},
   "outputs": [],
   "source": [
    "h_range = np.linspace(min(h_list), max(h_list))\n",
    "E_h = np.abs(-1 / 2 * h_range**2 * np.cos(0))"
   ]
  },
  {
   "cell_type": "code",
   "execution_count": 37,
   "id": "77fa5a3d-1e98-45f6-83c0-a873569f0f89",
   "metadata": {},
   "outputs": [
    {
     "data": {
      "text/plain": [
       "[<matplotlib.lines.Line2D at 0x7fd89e3b5610>]"
      ]
     },
     "execution_count": 37,
     "metadata": {},
     "output_type": "execute_result"
    },
    {
     "data": {
      "image/png": "[encoded data removed]",
      "text/plain": [
       "<Figure size 640x480 with 1 Axes>"
      ]
     },
     "metadata": {},
     "output_type": "display_data"
    }
   ],
   "source": [
    "plt.plot(h_range, E_h, \"r--\")\n",
    "plt.plot(h_list, error_truncation, \"bo-\")"
   ]
  },
  {
   "cell_type": "markdown",
   "id": "3833591f-66ac-4ede-a39a-de1b415b58cd",
   "metadata": {},
   "source": [
    "## Big-oh notation\n",
    "\n",
    "Page 13"
   ]
  },
  {
   "cell_type": "markdown",
   "id": "a3e0428d-b100-42b5-ae39-a73061afaa02",
   "metadata": {},
   "source": [
    "### Properties of $O(h^n)$"
   ]
  },
  {
   "cell_type": "code",
   "execution_count": 38,
   "id": "d7e608a2-bc99-40ee-aea3-eba2f5d64a41",
   "metadata": {},
   "outputs": [
    {
     "data": {
      "text/plain": [
       "True"
      ]
     },
     "execution_count": 38,
     "metadata": {},
     "output_type": "execute_result"
    }
   ],
   "source": [
    "h = symbols(\"h\")\n",
    "m, n, k = (5, 2, -2)\n",
    "k * O(h**n) == O(h**n)"
   ]
  },
  {
   "cell_type": "code",
   "execution_count": 39,
   "id": "af0a6d27-f97a-4d51-97f9-0e172fa504a2",
   "metadata": {},
   "outputs": [
    {
     "data": {
      "text/plain": [
       "True"
      ]
     },
     "execution_count": 39,
     "metadata": {},
     "output_type": "execute_result"
    }
   ],
   "source": [
    "O(h**m) + O(h**n) == O(h**n)"
   ]
  },
  {
   "cell_type": "code",
   "execution_count": 40,
   "id": "48eb1ac7-751b-4822-8742-59dd52664b61",
   "metadata": {},
   "outputs": [
    {
     "data": {
      "text/plain": [
       "True"
      ]
     },
     "execution_count": 40,
     "metadata": {},
     "output_type": "execute_result"
    }
   ],
   "source": [
    "m, n = (2, 5)\n",
    "O(h**n) / h**m == O(h ** (n - m))"
   ]
  },
  {
   "cell_type": "code",
   "execution_count": 42,
   "id": "eff8baa0-a151-4e85-9de5-1fd5611fae91",
   "metadata": {},
   "outputs": [
    {
     "data": {
      "text/latex": [
       "$\\displaystyle O\\left(x\\right)$"
      ],
      "text/plain": [
       "O(x)"
      ]
     },
     "execution_count": 42,
     "metadata": {},
     "output_type": "execute_result"
    }
   ],
   "source": [
    "O(sin(x))"
   ]
  },
  {
   "cell_type": "code",
   "execution_count": 43,
   "id": "03652d52-443d-4fc0-bc3e-b15d4f502c8c",
   "metadata": {},
   "outputs": [],
   "source": [
    "x0 = np.pi / 4"
   ]
  },
  {
   "cell_type": "code",
   "execution_count": 44,
   "id": "bc4fda28-ac27-4a29-926e-1d3820c9295c",
   "metadata": {},
   "outputs": [
    {
     "data": {
      "text/plain": [
       "0.7853981633974483"
      ]
     },
     "execution_count": 44,
     "metadata": {},
     "output_type": "execute_result"
    }
   ],
   "source": [
    "x0"
   ]
  },
  {
   "cell_type": "code",
   "execution_count": 45,
   "id": "ff3354ed-010f-4614-8ff1-db24f1d00dc6",
   "metadata": {},
   "outputs": [],
   "source": [
    "h_list = np.flip(1 / (10 * (2 ** np.arange(4))))"
   ]
  },
  {
   "cell_type": "code",
   "execution_count": 46,
   "id": "db2e40b4-9540-4a83-9d91-67f9221cd9a0",
   "metadata": {},
   "outputs": [],
   "source": [
    "def forward(f, x0, h):\n",
    "    return (f(x0 + h) - f(x0)) / h"
   ]
  },
  {
   "cell_type": "code",
   "execution_count": 47,
   "id": "7fc771a2-db61-403b-b5f6-e8eb17fd4f26",
   "metadata": {},
   "outputs": [
    {
     "data": {
      "text/plain": [
       "array([-0.74125475, -0.72448618, -0.7158715 , -0.71150773])"
      ]
     },
     "execution_count": 47,
     "metadata": {},
     "output_type": "execute_result"
    }
   ],
   "source": [
    "np.flip(forward(np.cos, np.pi / 4, h_list))"
   ]
  },
  {
   "cell_type": "code",
   "execution_count": 48,
   "id": "60634c2b-1bf5-4c70-bb09-340e76ed9c1c",
   "metadata": {},
   "outputs": [],
   "source": [
    "def backward(f, x0, h):\n",
    "    return (f(x0) - f(x0 - h)) / h"
   ]
  },
  {
   "cell_type": "code",
   "execution_count": 49,
   "id": "0f928633-95c6-4fbd-800a-a70d7307cd40",
   "metadata": {},
   "outputs": [
    {
     "data": {
      "text/plain": [
       "array([-0.67060297, -0.6891382 , -0.69819475, -0.70266901])"
      ]
     },
     "execution_count": 49,
     "metadata": {},
     "output_type": "execute_result"
    }
   ],
   "source": [
    "np.flip(backward(np.cos, np.pi / 4, h_list))"
   ]
  },
  {
   "cell_type": "code",
   "execution_count": 50,
   "id": "7f078dc5-ce08-46f0-a63a-7b159804e566",
   "metadata": {},
   "outputs": [],
   "source": [
    "def central(f, x0, h):\n",
    "    return (f(x0 + h) - f(x0 - h)) / (2 * h)"
   ]
  },
  {
   "cell_type": "code",
   "execution_count": 51,
   "id": "1f849c48-ef32-415b-9733-5e80292046c5",
   "metadata": {},
   "outputs": [
    {
     "data": {
      "text/plain": [
       "array([-0.70592886, -0.70681219, -0.70703313, -0.70708837])"
      ]
     },
     "execution_count": 51,
     "metadata": {},
     "output_type": "execute_result"
    }
   ],
   "source": [
    "np.flip(central(np.cos, np.pi / 4, h_list))"
   ]
  },
  {
   "cell_type": "code",
   "execution_count": 52,
   "id": "990691f4-318c-4831-a1ce-99e2c37e8110",
   "metadata": {},
   "outputs": [
    {
     "data": {
      "text/plain": [
       "-0.7071067811865475"
      ]
     },
     "execution_count": 52,
     "metadata": {},
     "output_type": "execute_result"
    }
   ],
   "source": [
    "-np.sin(np.pi / 4)"
   ]
  },
  {
   "cell_type": "code",
   "execution_count": 53,
   "id": "651e0fa4-b99a-43a3-bd1a-128bd057b216",
   "metadata": {},
   "outputs": [],
   "source": [
    "h_list = np.flip(1 / (2 ** np.arange(1, 5)))"
   ]
  },
  {
   "cell_type": "code",
   "execution_count": 54,
   "id": "8d95a4c4-7e0e-49da-b8ba-0bf952c42290",
   "metadata": {},
   "outputs": [
    {
     "data": {
      "text/plain": [
       "array([0.0625, 0.125 , 0.25  , 0.5   ])"
      ]
     },
     "execution_count": 54,
     "metadata": {},
     "output_type": "execute_result"
    }
   ],
   "source": [
    "h_list"
   ]
  },
  {
   "cell_type": "code",
   "execution_count": 55,
   "id": "de8fb2bc-4d7d-4180-aa47-dcc2dbfda0ba",
   "metadata": {},
   "outputs": [
    {
     "data": {
      "text/plain": [
       "array([-0.76999356, -0.84810714, -0.88095599, -0.8957052 ])"
      ]
     },
     "execution_count": 55,
     "metadata": {},
     "output_type": "execute_result"
    }
   ],
   "source": [
    "np.flip(forward(lambda h: np.cos(1 + h), 1, h_list))"
   ]
  },
  {
   "cell_type": "code",
   "execution_count": 56,
   "id": "d1d9cb63-7285-46d8-a5d6-a788ed6e2e36",
   "metadata": {},
   "outputs": [
    {
     "data": {
      "text/plain": [
       "0.9890419496590507"
      ]
     },
     "execution_count": 56,
     "metadata": {},
     "output_type": "execute_result"
    }
   ],
   "source": [
    "(np.log(0.0344148) - np.log(0.004401)) / (np.log(0.1) - np.log(0.0125))"
   ]
  }
 ],
 "metadata": {
  "kernelspec": {
   "display_name": "Python 3 (ipykernel)",
   "language": "python",
   "name": "python3"
  },
  "language_info": {
   "codemirror_mode": {
    "name": "ipython",
    "version": 3
   },
   "file_extension": ".py",
   "mimetype": "text/x-python",
   "name": "python",
   "nbconvert_exporter": "python",
   "pygments_lexer": "ipython3",
   "version": "3.11.6"
  }
 },
 "nbformat": 4,
 "nbformat_minor": 5
}
