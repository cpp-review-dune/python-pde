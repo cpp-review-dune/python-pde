{
 "cells": [
  {
   "cell_type": "markdown",
   "id": "6516ca66-5f27-4eef-b732-96986057d7b5",
   "metadata": {},
   "source": [
    "# Finite-Difference Approximations"
   ]
  },
  {
   "cell_type": "code",
   "execution_count": 1,
   "id": "a64def4e-82b2-4bdd-a204-760bf61606ca",
   "metadata": {},
   "outputs": [],
   "source": [
    "import matplotlib.pyplot as plt\n",
    "import numpy as np\n",
    "from helper import Approx, cleaner\n",
    "from jaxtyping import Array, Float\n",
    "from sympy import Derivative as D\n",
    "from sympy import (\n",
    "    Eq,\n",
    "    Function,\n",
    "    Matrix,\n",
    "    O,\n",
    "    Symbol,\n",
    "    Wild,\n",
    "    cos,\n",
    "    solve,\n",
    "    solve_linear_system,\n",
    "    symbols,\n",
    ")\n",
    "from tabulate import tabulate"
   ]
  },
  {
   "cell_type": "code",
   "execution_count": 2,
   "id": "7f6158ca-6a32-4983-9ca1-17413ea2ee73",
   "metadata": {},
   "outputs": [],
   "source": [
    "%matplotlib widget"
   ]
  },
  {
   "cell_type": "code",
   "execution_count": 3,
   "id": "f89b5082-390a-4256-bf84-f533cde99b3a",
   "metadata": {},
   "outputs": [],
   "source": [
    "x = symbols(\"x\")\n",
    "h = symbols(\"h\", positive=True)\n",
    "f = Function(\"f\")"
   ]
  },
  {
   "cell_type": "markdown",
   "id": "917ae619-604e-42af-aacf-b84751d91bb8",
   "metadata": {},
   "source": [
    "## Forward Taylor Series"
   ]
  },
  {
   "cell_type": "code",
   "execution_count": 4,
   "id": "54294d07-2c92-41c3-887e-55a735851143",
   "metadata": {},
   "outputs": [
    {
     "data": {
      "text/latex": [
       "$\\displaystyle f{\\left(h + x \\right)} = f{\\left(x \\right)} + h \\frac{d}{d x} f{\\left(x \\right)} + \\frac{h^{2} \\frac{d^{2}}{d x^{2}} f{\\left(x \\right)}}{2} + \\frac{h^{3} \\frac{d^{3}}{d x^{3}} f{\\left(x \\right)}}{6} + \\frac{h^{4} \\frac{d^{4}}{d x^{4}} f{\\left(x \\right)}}{24} + O\\left(h^{5}\\right)$"
      ],
      "text/plain": [
       "Eq(f(h + x), f(x) + h*Derivative(f(x), x) + h**2*Derivative(f(x), (x, 2))/2 + h**3*Derivative(f(x), (x, 3))/6 + h**4*Derivative(f(x), (x, 4))/24 + O(h**5))"
      ]
     },
     "execution_count": 4,
     "metadata": {},
     "output_type": "execute_result"
    }
   ],
   "source": [
    "Eq(f(x + h), f(x + h).series(x=h, x0=0, n=5).simplify())"
   ]
  },
  {
   "cell_type": "markdown",
   "id": "a33f5ed4-f01e-4529-8c69-7ba7fd327659",
   "metadata": {},
   "source": [
    "## Backward Taylor Series"
   ]
  },
  {
   "cell_type": "code",
   "execution_count": 5,
   "id": "4b01411e-af4e-4ea5-911a-c688576f6956",
   "metadata": {},
   "outputs": [
    {
     "data": {
      "text/latex": [
       "$\\displaystyle f{\\left(- h + x \\right)} = f{\\left(x \\right)} - h \\frac{d}{d x} f{\\left(x \\right)} + \\frac{h^{2} \\frac{d^{2}}{d x^{2}} f{\\left(x \\right)}}{2} - \\frac{h^{3} \\frac{d^{3}}{d x^{3}} f{\\left(x \\right)}}{6} + \\frac{h^{4} \\frac{d^{4}}{d x^{4}} f{\\left(x \\right)}}{24} + O\\left(h^{5}\\right)$"
      ],
      "text/plain": [
       "Eq(f(-h + x), f(x) - h*Derivative(f(x), x) + h**2*Derivative(f(x), (x, 2))/2 - h**3*Derivative(f(x), (x, 3))/6 + h**4*Derivative(f(x), (x, 4))/24 + O(h**5))"
      ]
     },
     "execution_count": 5,
     "metadata": {},
     "output_type": "execute_result"
    }
   ],
   "source": [
    "Eq(f(x - h), f(x - h).series(x=h, x0=0, n=5).simplify())"
   ]
  },
  {
   "cell_type": "markdown",
   "id": "8862ecbb-ffef-4c92-9f8a-72ee2f479e50",
   "metadata": {},
   "source": [
    "## Truncation error"
   ]
  },
  {
   "cell_type": "code",
   "execution_count": 6,
   "id": "253a8eec-41d2-4d7b-b87f-88d08a4d8aa0",
   "metadata": {},
   "outputs": [
    {
     "data": {
      "text/latex": [
       "$\\displaystyle \\cos{\\left(h + x \\right)} \\approx - h \\sin{\\left(x \\right)} + \\cos{\\left(x \\right)}$"
      ],
      "text/plain": [
       "Eq(cos(h + x), -h*sin(x) + cos(x))"
      ]
     },
     "execution_count": 6,
     "metadata": {},
     "output_type": "execute_result"
    }
   ],
   "source": [
    "Approx(cos(x + h), cos(x + h).series(x=h, x0=0, n=2).removeO().simplify())"
   ]
  },
  {
   "cell_type": "code",
   "execution_count": 7,
   "id": "20012404-7315-4a71-8f38-7f415ebe2fa1",
   "metadata": {},
   "outputs": [],
   "source": [
    "x = 0\n",
    "h = 0.1\n",
    "exact = np.cos(x + h)\n",
    "first_order_approximation = np.cos(x) - h * np.sin(x)\n",
    "truncation_error = np.abs(exact - first_order_approximation)\n",
    "E_h = np.abs(-(np.power(h, 2)) / 2 * np.cos(x))"
   ]
  },
  {
   "cell_type": "code",
   "execution_count": 8,
   "id": "f329eb7a-bc26-42e3-8d06-44c0b94e322f",
   "metadata": {},
   "outputs": [
    {
     "name": "stdout",
     "output_type": "stream",
     "text": [
      "Truncation error: 0.0049958347219741794\n",
      "E(0.1): 0.005000000000000001\n",
      "Error: 4.165278025821534e-06\n"
     ]
    }
   ],
   "source": [
    "print(\n",
    "    f\"Truncation error: {truncation_error}\\nE({h}): {E_h}\\nError: {np.abs(truncation_error - E_h)}\"\n",
    ")"
   ]
  },
  {
   "cell_type": "markdown",
   "id": "d6d51d2d-ae6e-4e55-98b5-ce708f9fe4a0",
   "metadata": {},
   "source": [
    "### Plot"
   ]
  },
  {
   "cell_type": "code",
   "execution_count": 9,
   "id": "5edd64e7-72c8-4665-aad4-3cab0b7f0a03",
   "metadata": {},
   "outputs": [],
   "source": [
    "h = np.flip(np.reciprocal(2 ** np.arange(1, 5).astype(float)))\n",
    "x = 1"
   ]
  },
  {
   "cell_type": "code",
   "execution_count": 10,
   "id": "b13cdf99-b1ad-4df0-b36b-21058d910f8d",
   "metadata": {},
   "outputs": [
    {
     "data": {
      "text/plain": [
       "array([0.0625, 0.125 , 0.25  , 0.5   ])"
      ]
     },
     "execution_count": 10,
     "metadata": {},
     "output_type": "execute_result"
    }
   ],
   "source": [
    "h"
   ]
  },
  {
   "cell_type": "code",
   "execution_count": 11,
   "id": "5e835615-c506-4230-bbe8-f73b7365a7ab",
   "metadata": {},
   "outputs": [],
   "source": [
    "error_truncation = np.abs(np.cos(x + h) - (np.cos(x) - h * np.sin(x)))"
   ]
  },
  {
   "cell_type": "code",
   "execution_count": 12,
   "id": "b243116c-1519-4cec-9cb8-0c6558458c2b",
   "metadata": {},
   "outputs": [
    {
     "data": {
      "text/plain": [
       "array([0.0010207 , 0.00394192, 0.0146122 , 0.04882961])"
      ]
     },
     "execution_count": 12,
     "metadata": {},
     "output_type": "execute_result"
    }
   ],
   "source": [
    "error_truncation"
   ]
  },
  {
   "cell_type": "code",
   "execution_count": 13,
   "id": "7f6af1a9-4863-458c-9a13-c28add680276",
   "metadata": {},
   "outputs": [],
   "source": [
    "h_values = np.linspace(start=0, stop=h.max())\n",
    "E_h = np.abs(-1 / 2 * h_values**2 * np.cos(x))"
   ]
  },
  {
   "cell_type": "code",
   "execution_count": 14,
   "id": "77fa5a3d-1e98-45f6-83c0-a873569f0f89",
   "metadata": {},
   "outputs": [
    {
     "data": {
      "application/vnd.jupyter.widget-view+json": {
       "model_id": "5f17bd67a3d7497b969e06ab3c9fd81f",
       "version_major": 2,
       "version_minor": 0
      },
      "image/png": "[encoded data removed]",
      "text/html": [
       "\n",
       "            <div style=\"display: inline-block;\">\n",
       "                <div class=\"jupyter-widgets widget-label\" style=\"text-align: center;\">\n",
       "                    Figure\n",
       "                </div>\n",
       "                <img src='data:image/png;base64,iVBORw0KGgoAAAANSUhEUgAAAoAAAAHgCAYAAAA10dzkAAAAOXRFWHRTb2Z0d2FyZQBNYXRwbG90bGliIHZlcnNpb24zLjguMiwgaHR0cHM6Ly9tYXRwbG90bGliLm9yZy8g+/7EAAAACXBIWXMAAA9hAAAPYQGoP6dpAABn1UlEQVR4nO3deXxU1f3/8dcQYhRZJoHWWqHKRGtdqnaSaBfrxgQr7poQl9qqlURbV7SJ+dpvq7Y1Bpfa2lYSl7pVCxlxqaKSAft1qa0ho9afWpVcsIArJEOAaAjJ/f1xOgOTjZlkZm4m834+HvNg7p0z537umTD55Nx7znHZtm0jIiIiIhljjNMBiIiIiEhqKQEUERERyTBKAEVEREQyjBJAERERkQyjBFBEREQkwygBFBEREckwSgBFREREMowSQBEREZEMowRQREREJMMoARQRERHJMEoARURERDKMEkARERGRDKMEUERERCTDKAEUERERyTBKAEVEREQyjBJAERERkQyjBFBEREQkwygBFBEREckwSgBFREREMowSQBEREZEMowRQREREJMMoARQRERHJMEoARURERDKMEkARERGRDKMEUERERCTDKAEUERERyTBKAEVEREQyjBJAERERkQyjBFBEREQkwygBFBEREckwSgBFREREMowSQBEREZEMowRQREREJMMoARQRERHJMEoARURERDKMEkCRDFdfX09ubu4OH/PmzXM61JgVFBRQUVHhdBgjUnFxMVVVVU6HISIOG+t0ACLirPLycnw+X2TbsiyKi4tpaGjA6/VG9ufl5TkR3pBUV1fjdrudDkNEZMRSAigieDyefvf1t38kCQQCVFRU0NLSErW/pKTEoYhGn4HaWETSmy4Bi4iIiGQYJYAiEpPS0lLq6+upr68nPz+fQCAA9L2nLBgM4nK5ot43b948KioqyM3NjXpv2Lx588jPz8flclFQUBB53e/3U1BQgMvlIj8/H7/fH1VvcXExlmXhcrlwuVyEQqF+YwKoqqoiPz+f3NzcPvcHxhLjQLZ/T319/Q7ba6D9g8U42Hv6i6eqqioSV25ublS79Wew4w7UxiKS5mwRke20tLTYgN3c3By13+fz2V6v1/Z4PHZDQ0PU/srKysh2c3Ozvf1Xi8/nswG7sbHRbmtrs0tKSmyPxxN5vby83PZ6vXZzc7Pd1tZmNzY2Ruqvq6uLxNHY2NgnroaGhqi6BoqppKTE9vl8dktLSyQGn88Xc4wDCdfT1tZmt7S02G63OxLfYO3V3/7BYhzoPf3x+Xy22+2OnEt5ebkN2C0tLUNqm4HaWETSm+4BFJGYWZbFypUr4x5g4fV6IwNNKioqKC4uBiAUClFfX09LS0vkfsPtB6SUl5dHnvt8PjweD4FAIGpwyo4Eg0H8fj9tbW2RuBsaGsjNzSUQCESON1CMA7EsK6pet9tNbW0tCxYsiMQ3UHv13r+jGAerqz/bD+ypq6sjEAhQV1dHbW3tkNpGREYfJYAiEjOfzzek0bWFhYWR59uPJg4EArjd7kEHm9TX19PY2IhlWViWFfexly9fjsfj6RN3YWEhjY2NkSRnoBgHEgwGAZg+fXqfesMGaq/e+3cU42B1xcLn8/XbdrG2jYiMPkoARSRmQx0VPNTEpaCggLy8PKqqqvD5fBQUFMRdR6z3rA0lRq/XS3Nz84CvD9RevffHEmMyRmTrfj6RzKVBICKSUK2trTGX9Xq9hEKhfnunLMsiGAwOuycq3PvVO9lZvnw5RUVFQ67X6/USDAYTkkQlK8awQCDQbz3JPq6IjFxKAEVkWDweT+RyqGVZca0y4fF4KC8vp7S0NJKI+P1+qqqqIpdhwyNr/X5/5Djbvz/8vkAg0G8iGb63b8aMGZGypaWleDyeYc0X2Dv2cIxDWTEl0THW19dHktNwfNvfTxnPcWNpYxFJP0oARWRYKioqWL58eWQKkYqKirguV9bV1eHz+SguLiY3N5e6ujrKyspwu91UVlZGpjMJ9wRuf6nW6/Xi9XqZPn16nwEO2wu/t6CggOnTp5OXlzfopdt4Yvd6vRQUFERiH2pvZSJj9Pl81NTUMH36dCzLorm5ecBL3Ds6bqxtLCLpxWXbtu10ECIikhjFxcV4vV4layIyKPUAioiIiGQYJYAiIiIiGUYJoIiIiEiG0T2AIiIiIhlGPYAiIiIiGUYJoIiIiEiGUQIoIiIikmGUAIqIiIhkmLFOBzAclmXh9/sjSxWVl5cPONv9YGX9fn9k9v54FoTv6enhgw8+YMKECbhcrmGejYiIiKSCbdts3LiRL3/5y4wZk6F9YXYa83q9kectLS12SUnJkMoCfR61tbU7PP7q1av7fa8eeuihhx566DHyH6tXrx5iBpL+0rYHsPeC5B6Ph0AgEHfZUChEQ0ND1ILr8+bNo7KycocxTJgwAYDVq1czceLEuOLfka6uLpYsWcLMmTPJzs5OaN2yjdo5NdTOqaF2Tg21c2oks53b29uZNm1a5Pd4JkrbBDAQCJCXlxe1Ly8vj2AwiNfrjbmsx+OJSv78fn/U9mDCl30nTpyYlARw3LhxTJw4UV8wSaR2Tg21c2qonVND7ZwaqWjnTL59K20TwFAo1O/+1tbWuMpunyyGQiFaW1vxeDz9lu/s7KSzszOy3d7eDpgf0q6urhgjj024vkTXK9HUzqmhdk4NtXNqqJ1TI5ntrM8ujRPAgQyU7MVStqqqitra2gHL19TUcN111/XZv2TJEsaNGxfzcePR2NiYlHolmto5NdTOqaF2Tg21c2oko507OjoSXme6SdsE0O129+nta21t7XcUbyxlQ6EQgUBg0FHA1dXVzJ07N7Idvodg5syZSbkE3NjYSHFxsS4xJJHaOTXUzqmhdk4NtXNqJLOdw1fwMlnaJoA+n4+6uro++wsLC4dUdvny5TucAiYnJ4ecnJw++7Ozswf84bRtm66uLrZu3Tpo3b11dXWRnZ2tbuokUzunhto5NdTO24wdO5bs7Oyk3uM12He/JE4y2lmfWxongL3v07Msi8LCwkgSFwwGcbvdeDyeHZYNl+89UGS4Ojs7WbVqFZs2bRrS+3fbbTdWrFiR0JikL7VzaqidU0PtvM348ePZa6+9+v3DXSTTpW0CCNDQ0EBVVRVFRUU0NTXR0NAQea2mpoaioqLIdC6DlQ0baPDHUPT09PDWW28xduxYpk+fTk5OTkaPNhIRSRXbtuns7GTNmjW8+eabHHDAAUoCRXpx2bZtOx1Eumpvb2fSpEls2LChzz2AHR0dvP322+y7776MHz/eoQhFRDLXpk2beOedd/j00085+uijE5YEdnV1sXjxYmbNmqVLiUmUzHYe7Pd3psjQ9U9SJ2OXmBERcVj4+/e9994bcKEAkUyl7ETSXjAYdDqElIlnmqN0OtZIkexzzsQ2DUv0ucdT34QJE3j//ffZsmVLQmMQSWdKACVi3rx55ObmkpubS35+fuR5+FFQUOB0iP0qKCjImCQwEAj0WdowGerr6/udVD3ZKioqyM/P7/e1efPmJfXYyT7neOpP5rkO1sY7UlBQgN/vj/t9wz33/vbF838hKyuLrVu3Rk3kL5LplACOcN3d8Le/wcMPm3+7u5N3rMrKStra2mhra6OlpQUwg2fC+5qbm5N38BhVVVVRX18ftc+27T7L/8nQhUfEJ3JQVKxKS0sH/CzLy8upqqpKynGTfc7x1p/Mcx2sjXektrYWn88X13sSce7JbA+RTKUEcARbtAj22guOPhrOOsv8u9deZr9IstTU1MS8HnYs4unNCk/62p/wtE3J6AFN9DkPt/5knutgbbwjPp9vh/Ol9paIc09me4hkKiWAI9SiRVBSAmvWRO9fu9bsdyoJDF9uLS0tjfxiz83NjXwxh0KhqOlu8vPzqa+vp7i4mNzc3KjLR5ZlRfbn5+dHXquqqiI/P5/8/Pyov/orKiqor6+nqqqKgoKCyE3d2x8/XGd+fj7FxcVR9wkNFkt/LMuioKCgTxz9tUF/+waKpb+y2z93UigUSngv2Pr162MuGwgE+p3MPaysrGxIlyAHk4xzTkT9yThX2HEbJ1Iizz1Z7SGSsWwZsg0bNtiAvWHDhj6vbd682V6+fLm9efPmyL6eHtvetGnHjw0bbHuPPWwb+n+4XLY9daopF0t9PT1DOz+32203NjZG7fN4PLbH47EbGhqiyrW0tNi2bdttbW329j9WbrfbLikpsW3bthsaGmyPxxP1WrietrY2u7m5OVJuoBjKy8vturq6PnGGj+92uyP1NDY29jneQLEMdP7hukpKSiJx9NcGA7VLf7H0V7atrc1ua2sbNJ5w3OFz3V5LS4tdWVlpNzQ02HV1dZG6mpub7draWruhocGura2N+pzq6ursxsZGu6Ghwa6srLRt27br6uqi4grXXVdXZ1dWVtotLS2R8rHEa9t2pO5YAHZDQ0PkGP2dq8/ni7m+WAx0zoloz8Hqj6VNE32uth1bG/d3Ps3NzbbX6438/2tsbIxsNzY22nV1dZH/X2GJPvft9w30f2F74e/h+++/3/7tb39rt7e3D1o+Vlu2bLEfe+wxe8uWLQmpT/qXzHYe7Pd3pkjriaDTTUcHJGJKQNs2PYOTJsVWftMm2HXX4R83rKKiIq5LOmVlZYC5fBTuqfP7/eTl5UXqcbvdkfuStq979uzZBIPBmO47qq+vx+fzReoJX64KBAKR9/cXS3/8fj+FhYWRuqqrq6mrq4vU018bbL9vsFj6e3+8l9W2FwqFKC4uprm5GbfbHblPsqSkhKqqqqiF1AsKCli6dCn19fV4vd7I+YRv0G9paenTOxQIBCgvLycQCFBaWkpzczNVVVVUVFQMK+7ewqv3hNvKsiz8fn9kMvewRA/U6H3OiWzP/uqH2Ns00ecaaxv3dz5erzfy/wfMz7TP56OxsTEysX5DQwPBYDDyc5/oc3diYJLIaKUEUOIW703g/V0CsixrwHpCoRD19fW0tLQQCARiTjJaWlr6HMvj8UQlerFejrIsK3IJOGz7ePuLfft9O4ol3jYczMKFC/F4PJF2qq6uBsy9V71v9vd4PCxcuJCSkhIKCgrweDyUlZVRXl4OmLbv3d6zZ88GTPIQTgDCg4R6C4VC1NTURO0LBAJRl9AnT57cJ+EIl6uuro4cv6mpiYqKihhawAj/zAykuLi433bvfc6JbM/+6of42jSR5xprGw92PtubPHkykydPjmy73e6oJC0Z5y4Z4Pnn4dZb4fbbnY5kVFMCmELjxpneuB15/nmYNWvH5RYvhiOOiO24iRRvr09/5T0eT1RPSlj4vrna2tq4R/7l5+f3qdOyrKhELNbYw70kdXV1A74+2L4dxZLInrPev2RjqTsvL4+2tjaCwSALFiygtLSUxsZG3G53n/nVwvUtWLAg0tPT3y/2cNna2tqofVVVVX329aexsTGqXCAQ6HfJxoEMlKTsSO9zTmR79lf/9nXG0qb9Geq5xtrGg51PPJJx7jLKbdoE554LK1cyZupUGOKAJdkxDQJJIZfLXIrd0WPmTJg61ZQfqJ5p00y5WOpL9hLEeXl5kZ6t3lO0DKSkpITly5dHLomGQiH8fj+WZeF2uykpKcHtdrN8+fKo97nd7khvQe9fLLNnzyYQCETmBPT7/YRCoSH1tvWuKxQKxbWSQLyxhEKhIU+UW1JS0mcexEAgQFlZWZ+Yg8Egs2fPpqamBsuy8Hq91NbWRn755ufnR/WYhgfdBIPBqAR24cKFQ4p1MMuXL4/0sIUv2/fX7nl5eQk9bu9zTmR79ld/PG2a6HONtY0HO594fk4Tfe6Jbg8ZgX76U1i5Er7yFXquu87paEY19QCOQFlZ8NvfmtG+Lpe55y8snMzddpspNxJUVFRQUVGBx+OhuLg45suszc3NlJaWYlkWeXl5UXOM5ebm4vP58Hg8UZeYysrKIiOAq6ur+9xHt3TpUubMmYNlWRQWFg6p1yJcV0NDA3PmzIn0TsTSizXUWObMmUNRUVG/l0Z3xOPxUFdXR1VVFUVFRcC2ew5ra2uZN28eHo+HpqYmGhoacLvdTJ48mUAgQF5eHq2trVH3RtbV1UXaNfxZWpZFQ0NDJMEfag/UQHrfEuDxeMjLyyMQCER9xsFgcMhTmAykv3NOVHsOVH/4nAdr00Sfa6xtDPR7PuHewPC9u6FQiAULFkTO0bIsgsEgdXV1eDwePB5PQs89GZ+9jDCNjTB/vnl+zz2QoWv0pozTo1DSWbyjgOP1yCNmtO/2I4CnTTP7JTPFMvJxuHqP5ByueEYBx1JXMs4/0eeciPqTda6plqhz771Po4BHmVBo2y+8n/zEtm2NAk42XQIewU47DVatgueeg4ceMv+uXGn2iyRLRUVFQudbCw+iGK7wpcdkzNmX6HMebv3JPNdUS8S5j6b2kAFcfrmZ3iI/H+K42iJDpwRwhMvKgqOOgjPPNP+OlMu+Mnr5fD5aW1uHfE9ib4m6ub+mpiauy/DxSPQ5D7f+ZJ5rqiXi3EdTe0g/QiEz+tHlgvvuS+y8ZTIgl21vf4eZxKO9vZ1JkyaxYcMGJva6V6Gjo4O3336b/fbbj3GJHoYrGSuVoyUzcWRmss85E9s0LNHnHkt94e/ht956i7a2Ns477zwmTJgw7GN3dXWxePFiZs2aRXZ29rDrE8zo38ZGOPXUyK5ktvNgv78zhXoARdJIKpOHTExUkn3OmdimYYk+90xuy1Fp/Pio5E+STwmgiIiIpN6iRWay554epyPJSJoGRkRERFLr44+hvBzWrzerFfzoR05HlHHUAygiIiKpY9tQUWGSv0MOgXPOcTqijKQEUERERFLn3nvh8cchO9uM+t1pJ6cjykhKAEVERCQ1Vq6ESy81z3/5SzjoIGfjyWBKAEViEAqFImuYDoXf78fv91NVVRXXmsIiIqNGdzf88IdmypfDD4errnI6ooymBFASIlkT6MYrWXEsX758yHUHAgEsy6KkpISKigqqqqoSG9wghhrzSPk8RWQUeeUVePllM+XLffdpZQOHKQGUfs2bNw+Xy0VFRQX19fXMmzePefPmUVBQwLx586LK1tfX09raGtmuqKggPz9/wHqTKZxsJZrP59vhvGMDnbfP56OyshIAy7IoLCxMeHz96f25BINBCgoK+pTr7zNJVjuKSAb71rdMAnjvvaBl/RynBFD6VV5eDkBtbS3l5eVUVlZSWVlJQ0NDVCIUDAbJy8uLWqOztLQUr9c7YL2p7AFLpcHOO6yuri4l59/7cwmvxdrfJezR/JmIyAhTWAinn+50FIISQBlAIBDA4/H06fXyeDzk5eVFtmtqaigpKYkq09jYSHFxcb/1husbjb1Lg503mJ626urqlCxo3/tzKSkpGTA5Hc2fiYiMAH/4A/zrX05HIb0oAZR+NTY24vP5ItvhHiQgkliEQqF+k5lAIDDoZc6ysrKo+kaLwc47EAjg8/nwer1JP/eBPpfBjNbPREQc9sILcMklUFQE+iNzRNFKIE7YvHng17KyYOedYys7ZgzsssvgZXfdNf74MAmL1+ulvr6elpYWJk+e3KfMwoULKSoq6rM/GAxiWRaWZdHU1ERFRUVUQuL1eqmqqorcF5cOAoFA1OXT/nrTBjpvy7IoLS3F4/EQCoXw+Xx9ek0ty6Kuro6ioiJaW1uZPXs2brebYDAY6Y0NDyQJ17Nw4cLI86amJmpra4GBP5fBpONnIiIj3MaNZtSvbcPZZ+u+vxFGCaATxo8f+LVZs+Cpp7Ztf/GL0NHRf9kjj4S//W3b9l57wbp10WVse0ghWpZFc3Mzbrcbv9/fb49SS0tLnx6vYDCI2+2ODJqwLAu/398nsdh+cML2QqEQNTU1g8Y2efLklCcqPp8vqke0t8HO2+Px0NbWNuB7Q6EQxcXFkfauqqqivr6ekpISqqqqaGxsjJQtKChg6dKl1NfX4/V6IzFt3579fS6xGOgzEREZkiuuMPP+7bUX3Hab09FIL0oApY9AIIDb7Y7cG+bxeCI9XuFLmWASl973CAYCAaqrqyP7wz1hsXK73ZGerEQL92YOpLi4uN8kz+Vy9Vve3i65Hs55h3vywu+trq4GzH18vXsaPR4PCxcupKSkhIKCAjweD2VlZZFBO9D/5yIiklKPPw533w0ul5nyZeJEpyOSXpQAOmHTpoFf6z0v0iefDFx2TK9bOFetGnJI2+t9/9/2Scj288O53e4+88U1NjZGJXCBQICGhoaYj53MHsDtk6R42DH0og7nvHsnbLEkb3l5ebS1tREMBlmwYAGlpaWRnsL+PhcRkZT55BOYM8c8v/JKOOIIZ+ORfikBdEI89+Ulq+wgAoFAv71XFRUV1NXVRbbz8/OxLCsqQVy+fHmf3sJQKMTy5cujksrtRxJvL5k9gMMRHiDR1NTUb09hrOfdn5KSkqh2DddRVlbGnPCX6H8Fg0HuvPNOampqqKiowOv14vV6KS0tjZTp73PZ3kA9hAN9JiIicbn9dvj0U/j61+FXv3I6GhmAEkCJCN+3FgwGaW5upr6+HjD3lPU3wtXn81FXVxcZ0GBZVlSyE54yJhAIRA16CAaDg06XMtKEJ0WurKyMJFvNzc2R12M974F4PJ7I/IDhwRvhewlra2uZN28eHo+HpqamyDyMkydPJhAIkJeXR2trK2VlZZH6en8u4XMI9xDW1NRQVFSU1p+JiIxg115rLvnOnAk5OU5HIwNw2bFc35J+tbe3M2nSJDZs2MDEXvc3dHR08Pbbb7Pffvsxbtw4hyJMvtLS0rgu8QJUVVX1GRmcKH6/H6/Xm7S59sKXdnv32I008X4uvT+TZLejSCqEv4ffeust2traOO+885gwYcKw6+3q6mLx4sXMmjWL7OzsBEQq/UlmOw/2+ztTaB5AGZaKioq45o8L35uWrolFqlbyGK54Ppd0/0xEZATo6oJ58waetUJGHCWAMiw+n4/W1taYBx3U1NSMyHv8YpHKlTyGK57PJZ0/ExEZIa6/HqqqzGVfXVhMC0oAZdjiGV2b7ETD5/MlJUFL5UoeiRLr59LfZ5KsdhSRUejFF+GGG8zzyy4zU7/IiKdBIJIQI2XeuWTEEctKHiPVUNtjpHyeIjLCbdgA55wDPT1m1Y/tZiSQkS2tE8DwqNXwMlnl5eUD/uLaUdnwSM9wr8eOpu6QzLGjlTxERDLWxRebOWinT4ff/c7paCQOaZ0Abj8dh2VZzJkzZ8CRj4OV3X5kp2VZFBcXD7pihIiISMb7y1/gwQfNogQPPqjVPtJM2iaAlmVFbXs8HgKBwJDKVlRURJJDj8cTtfaqiIiI9LJ1K/zP/5jnP/sZfPvbzsYjcUvbQSDhSXC3l5eXRzAYjKusZVm0trbidrsJBoOEQqGE3vze09OTsLpERCR2+v5NorFj4fnn4fLLTQIoaSdtewAHmt6itbU1rrKWZZGXl4ff78fn81FfX4/H4+n3Jv/Ozk46Ozsj2+3t7YCZrLKrqyuqrOu/o6A2bdrE+PHjYzklERFJoE3/XXe9s7OTnp6efr+rhyJcRyLqSmu77Wbm/gMzD2CCJbOdM/6zI40TwIHEOh9duGw4CQwvvVVeXk5ubi79LZBSU1PDdddd12f/kiVL+l3tw+12s3btWgDGjx/PmDFp2+EqIpI2enp62LRpE2vXruX9999nxYoVdHV1EQgEyEng0mSZeLvQJMti53Xr+PjQQ1N2zGS0c4cmrE7fBNDtdvfp7Qtfyo2n7PaPcFkwa6N6vd6o91RXVzN37tzIdnt7O9OmTWPmzJn9LiVj2zZr166NJIEiIpI6bW1tdHR0MHXqVACOP/54dtppp2HX29XVRWNjI8XFxZm1FFxHB2OrqnC98w5b58/HPv/8pB4ume0cvoKXydI2AQwveN9bYWFhXGX7u2Q8kJycnH7/eszOzh7wh3P69Ol89NFHNDc3M2HCBMaNGxe5PDyYnp4eVq9ezbRp09RzmERq59RQO6eG2tmwbZuuri56enr47LPPaG9v5+CDD2bXXXdN6HEG++4flSor4Z13YPfdGVtSAik692S0c0Z9bgNI2wSw90ANy7IoLCyM6sFzu914PJ5By7rdbgoLCwmFQrjd7shcgL17/4bj0EMPZcuWLbz66qt89NFH/V5e7q2np4ePPvqIzs7OjP4iTza1c2qonVND7dxXdnY2Bx10kOZ2Ha5Fi6C+3qzy8cADMHmy0xHJMKVtAgjQ0NBAVVUVRUVFNDU1Rc0BWFNTQ1FREZWVlTssG36toKCA5ubmhN9vkJWVxeGHH87+++/Ppk2bYkoAt27dyosvvsjhhx/O2LFp/TGNaGrn1FA7p4baOZrL5WKXXXZh8uTJ6vEZjtWr4YILzPPKSpgxw9l4JCFcdizZiPSrvb2dSZMmsWHDhn7vARyOrq4uFi9ezKxZs/TFlURq59RQO6eG2jk1Mqqdu7vhmGPMlC9FRfDSSym79JvMdk7m7+90oWsEIiIi0r9nnjHJ3/jx8PDDKUv+JPl0jUBERET6d/zx8MgjZp6//Hyno5EEUgIoIiIiAzvtNKcjkCTQJWARERHZxrbNCh8ffuh0JJJESgBFRERkm3vvhaoqKCiAzZudjkaSRAmgiIiIGO++C5dcYp5fcgkkePJsGTmUAIqIiAh0dsKZZ5pev6OPNnP+yailBFBERETgmmsgGDSrfDzwAGRlOR2RJJESQBERkUz37LNwyy3m+d13wx57OBuPJJ0SQBERkUxm21BTY57/+Mdw8snOxiMpoXkARUREMpnLBU89ZaZ+qa52OhpJESWAIiIimW7XXeG665yOQlJIl4BFREQy0QsvwE03QU+P05GIA9QDKCIikmnWrTNTvqxda0b7zp3rdESSYuoBFBERySS2DeedZ5K/ffeF8nKnIxIHKAEUERHJJLfdBk8+CTk5sGABjB/vdETiACWAIiIimaKpyazzC/Cb38DBBzsbjzhGCaCIiEgm2LABysqgqwtOPx0uvNDpiMRBSgBFREQywd//DmvWwF57wV13mfn/JGNpFLCIiEgmOO44kwTaNrjdTkcjDlMCKCIikikKC52OQEYIXQIWEREZrTZtghNPhFdfdToSGWHUAygiIjIa2TZUVJgpX95+G/79bxirX/tiqAdQRERkNLrzTnjoIbPSx733KvmTKEoARURERpvXXoNLLzXPb7gBDj/c0XBk5FECKCIiMpq0t0NpKXR2wvHHw1VXOR2RjEBKAEVEREYL24YLLoAVK+ArX4H77oMx+lUvfemnQkREZLT47DOz4sfYsWad38mTnY5IRijdESoiIjJajBsHTz9t1vw97DCno5ERTD2AIiIi6a6ra9vzMWOU/MkOKQEUERFJZ7ZtBn1ccIG5BCwSAyWAIiIi6ey22+Dxx+GBB+Ddd52ORtKEEkAREZF09Y9/QGWlef6b38DBBzsbj6QNJYAiIiLp6NNPzaXfrVuhrAwuusjpiCSNKAEUERFJN93dcNZZsGYNfPWrUF8PLpfTUUkaUQIoIiKSbq69FgIBM+3LI4/AxIlORyRpRgmgiIhIuvnOdyAvD+68Ew480OloJA1pImgREZF0873vmeXecnOdjkTSVFongJZl4ff78Xg8WJZFeXk5brc77rLBYBAAr9eLZVmEQiG8Xm+KzkJERCQGn38OH30Ee+1ltpX8yTCkdQJYWlpKc3MzYBK8OXPm0NDQEHfZuro66uvrAfD5fAPWISIi4phLLgG/Hx56CI47zuloJM2lbQJoWVbUtsfjIRAIDKlsQUEBbW1tAAP2IIqIiDjmnnvgrrvMSN/sbKejkVEgbQeBBAIB8vLyovbl5eVFLufGW9btdiv5ExGRkefVV+EnPzHPf/lL8PmcjUdGhbTtAQyFQv3ub21tjbtsKBTC7/cD0NTUREVFBR6PJyFxioiIDFlbG5SUmPv/jj8eqqudjkhGibRNAAcyULI3WNntB4R4PB6Ki4tpaWnpU76zs5POzs7Idnt7OwBdXV10dXUNOeb+hOtLdL0STe2cGmrn1FA7p0bK2rmnh6xzzmGMZWHvtRdb77nHTADd3Z3c444QyWxn/R9J4wTQ7Xb36e1rbW3t9zLujspalhUZ9RseJWxZVp9ewJqaGq677ro+9S9ZsoRx48YN42wG1tjYmJR6JZraOTXUzqmhdk6NZLfzVxob+cZTT9Gdnc0Ll1zChpdfTurxRpLubnjrrcm0te3BG28E2X//9WRlJa7+jo6OxFWWply2bdtOBzEUlmVFjewFyM3NZeXKlX2SwMHKWpbFjBkzIoNAQqEQubm5tLW19amnvx7AadOmsW7dOiYmeBb2rq4uGhsbKS4uJls3/CaN2jk11M6poXZOjZS1c2cnY666Cvsb38A+//zkHWeEefRRF3PnZrF27bal7fbYw+bWW7s59dTEpCzt7e1MmTKFDRs2JPz3d7pI2x7A3r1zlmVRWFgYNbef2+3G4/EMWtbj8VBbWxt5LRAIUFJS0m9PYk5ODjk5OX32Z2dnJ+1LIJl1yzZq59RQO6eG2jk1kt7O2dkwf37y6h+BFi2CM86A3l1TH3zg4owzxuL3w2mnDf84+v+RxgkgQENDA1VVVRQVFdHU1BQ1f19NTQ1FRUVUVlYOWtbtdlNYWMi8efNwu920tLRoHkAREXFGRwfU15s5/xJ5zTMNdHfDZZf1Tf7A7HO54PLL4eSTM65pkiKtE8Dte+9KSkqiXuudxA1W1uv1auUPERFxlm1DRQU8+CA0NcGf/+x0RCn1wguwZs3Ar9s2rF5tyh11VMrCGrXSdh5AERGRUeX2203yl5UFc+Y4HU3KffhhYsvJ4JQAioiIOO3552HuXPP8ppsysotr990TW04GpwRQRETESWvWQGmpuQnurLPMjW4ZaLfdBl/lzuWCadPgu99NXUyjmRJAERERp3R2mpU+PvkEDjoI7rzTZDoZZsECOPRQGGh+5nCT3HabBoAkihJAERERp7z2GvzrX+B2w6OPQpIWFRipPv8cfvxjM/XLpk1w5JFw110wdWp0ualTSdgUMGKk9ShgERGRtHbYYfCPf8Cnn0KGrUHf0gKzZ0MwaLavuQauvRbGjoVzz4XnntvK00+/xnHHHcLRR49Vz1+CKQEUERFJtfDEdmAu/WaYRx6B88+H9naYPNkMfv7e97a9npUFRx5ps3nzWo488mAlf0mgS8AiIiKp9PHH8M1vwt//7nQkKbdli5nsuaTEJH/f+Y65Cr598iepoQRQREQkVbZsgdNPh1degYsugp4epyNKmVWr4PDD4Xe/M9uVlfDcc33v95PU0CVgERGRVLBtuPhieOklmDQJFi6EMZnRD/PEE/DDH0IoBLm5cP/9cMIJTkeV2TLjJ09ERMRp8+dvm+bl4Ydh332djijpurrgqqvM+r2hkBnz8uqrSv5GAvUAioiIJNvzz8Oll5rnN94Ixx3nbDwpsHo1lJXByy+b7csvh9pa2GknR8OS/1ICKCIikkz/+Y8Z9bB1K5x5Jvz0p05HlHRPPw3nnAPr15ur3X/6E5x6qtNRyfZ0CVhERCSZ8vLgiCPgG98wsxyP4pU+tm6F6mqYNcskfwUFZp4/JX8jj3oARUREkmn8eDPgY8OGUb3SxwcfmA7O55832z/5CdxyC+TkOBuX9E89gCIiIsnwj3+Ykb9gRvvm5jobTxI1NsIhh5jkb8IEs7bv73+v5G8kUwIoIiKSaIsXw7e/DWedZa6LjlLd3fCLX8Cxx5rV7A4+GJqbzRJvMrLpErCIiEgivfOOuRZq22YExNjR+av2o4/g7LNh2TKzXV4Ot90Gu+ziaFgSo9H5UykiIuKEUAhOOsmsc7b9shejzHPPmc7Njz6CXXeFujqTDEr60CVgERGRRNi6Fc44A959F6ZNA79/1E1619MDv/oV+Hwm+TvgAFi+XMlfOlIPoIiISCJcdRU8+6y5BvrYY7Dbbk5HlFCffgrf/z4sWWK2zzvPDPQYxQObRzUlgCIiIsP17rvwxz+a5w88AF6vs/Ek2Isvms7NtWtNfvvHP8K55zodlQyHEkAREZHh+upXIRAwQ2BPP93paBKmpwduugmuucaM+P3a16ChAQ480OnIZLiUAIqIiCTCEUeYxyixfj388Ifw1FNm++yzYf58M6+1pD8NAhERERmKDRvghBPgzTedjiTh/vEPs3LdU0+ZyZzr682VbSV/o4d6AEVEROLV3U3WOefAM8+AZcEbb0BWltNRDZttm7n8KivNoOZ99jGXfA8+2OnIJNGUAIqIiMTpgPvuY8wzz5gREQ8+OCqSv7Y2M7L38cfNdlmZ6fmbONHZuCQ5lACKiIjEwfWnP7H3E0+YjfvvHxUjfpuazPJtq1aZqQt/8xu46CJwuZyOTJLFsXsAb775ZqcOLSIiMjTPP0/WxRcD0P3zn0NJicMBDY9tw+23w3e+Y5I/jwf+/nf48Y+V/I12jiWAr7zyCo8++qhThxcREYnPypVw2mm4urpYc/jh9FxzjdMRDcuGDabX79JLoasLTj3VzGJTUOB0ZJIKjl0Crq6uZvbs2ViWxYwZM3C73ZHX9tprL6fCEhER6Z/bDQcdRE97O69ecgnfS+MusldfhdJSaGmB7Gwz19+ll6rXL5M4lgDOmTMH27a54447mD9/PgC2beNyuXjvvfecCktERKR/ubnwzDN0r1tHT1OT09EMiW1DXR1cfjl0dsKee8LChXDooU5HJqnmWAK4fPlyAJYuXYplWeTn53PMMcc4FY6IiEhftg3PPQfh30877QRf+IKzMQ3Rxo1QUQEPP2y2TzwR7r0X8vIcDUsc4tg9gO3t7ey9995cffXVNDY2UllZyT777MP777/vVEgiIiLRbroJZsyAuXOdjmRY3ngDCgtN8peVZU7r8ceV/GUyx3oAS0tLqaurY8aMGZF9fr+f8vJynn32WafCEhERMR55BKqqzPPp052NZYhsG/70J/jJT+Dzz2GPPWDBAjPqVzKbYz2ALS0tUckfQElJSeTSsIiIiGNeeQW+/33z/OKL4ZJLnI1nCDZvhnPPhR/9yCR/3/sevPaakj8xHEsAPR4Pr7/+etS+1157jelp+leWiIiMEu+/DyedZLKmWbPMrMhp5q23zMCO+++HMWPghhvMur5TpjgdmYwUjl0Cnj9/PoWFhRQXF+PxeGhpaWHp0qUsXbrUqZBERCTTbdgAJ5wAH38MBx0Ef/kLjE2vRbMeeAAuvBA6OmD33c19f0ce6XRUMtI42gPY2tqKz+fDtm2Ki4uxLItDDjnEqZBERCTTLV0Kb75pMqcnn4QJE5yOKGaffQYXXAA/+IFJ/nw+M9+fkj/pj2N/1tx8881cddVVzJkzZ8h1WJaF3+/H4/FgWRbl5eVRE0oPpWxVVRXV1dUD1iMiIqPYaafBokUwbZp5pIl33zUTO//rX2Yy51/8An72MzPiV6Q/jiWA4aXgTj311CHXUVpaSnNzM2ASvDlz5tDQ0DDkssFgkHnz5lFdXT3kmEREJA1t3brtUu8ppzgaSrz+8heYMwc2bYIvfhEeesjMXCMymLRdCs6yrKhtj8dDIBAYVlnLsvB4PDsOXkRERo9HHoHrrjOXfL/yFaejidnnn5vpCe+4w2wfeaS532/33Z2NS9KDY/cAbr8UXElJCT6fD5/PR3FxcUzvDwQC5PWawTIvL49gMDiksn6/n5KSkiGciYiIpK2//91M9/LGG2aNtDTR0gLf/va25O+aayAQUPInsXN8KbihCoVC/e5vbW2Nu2woFIrpnr/Ozk46Ozsj2+3t7QB0dXXR1dW1w/fHI1xfouuVaGrn1FA7p4baOU7vvsvYk07C9fnn9Bx/PN0/+xnE0HZOt/OiRS7Ky7Nob3cxebLNvfd2c+yxNrYdU/hpI5ntrP8jI2AQSKINlOwNVnbhwoWUl5fvsHxNTQ3XXXddn/1Llixh3LhxMR83Ho2NjUmpV6KpnVND7Zwaaucd2ykU4oiqKrLXr6dtn3146Zxz6F6yJK46Ut3OXV0u7rvvAJ58Mh+A/fZbz5VXLqe7+3MWL05pKCmVjHbu6OhIeJ3pJm0Hgbjd7j69fa2trf325A1WNhAIMHv27JiOWV1dzdzt1oNsb29n2rRpzJw5k4kTJ8Z/EoPo6uqisbGR4uJisrOzE1q3bKN2Tg21c2qonWPU0UFWcTFjPv4Ye/p0xi9bxrG77Rbz251o51Wr4Kyzsli+3Ny5deWV3Vx//USys49JyfGdkMx2Dl/By2RpOwjE5/NR18/9GoWFhXGVXb58OQsXLozssyyLmpoaysrK8Hq9UeVzcnLIycnpU092dnbSvgSSWbdso3ZODbVzaqidd+Dqq6GpCfLycD39NNlTpw6pmlS18+OPmyXdQiHIzTWre5xwQhaQGXO8JKOd9f/DwQRw+0Egd4TvYgVcLhfvvffeDt/fe7SuZVkUFhZGEslgMIjb7cbj8Qxa1ufzRb1WUVFBRUWFRgOLiIxW//u/8PrrcNNNsO++TkczoK4uk6veeqvZPuwwWLAA9tzT2bhkdEjbQSAADQ0NVFVVUVRURFNTU9S8fjU1NRQVFVFZWbnDsmDuB6yvrwegtraWioqKPj2AIiIyCnz5y/DSS2bG5BFq9WooK4OXXzbbV1wBN94IO+3kbFwyeji6wOGyZctoaGggNzeXG264gaVLl+JyuTjmmNjuafB4PNTW1gL0mcKld4I3WFkw9wlWVlZGEkYRERlFGhpMl9pZZ5ntEZz8LV4M55wDra0waRLce2/azU0tacCxeQCrq6upq6ujvLw8MsKnoKCAqqoqp0ISEZHR6MUXTUZ19tkwgkdIb90K1dVw/PEm+SsogGBQyZ8kh2M9gH6/P3Kvn23bgOmFi2caFxERkUG9/TacdBJ0dppMKsYrTKm2di2ceSa88ILZvvhiuPlm6GfcoUhCONYDOGnSJF5//XXADPwAePXVV5k0aZJTIYmIyGiyZg0ceyy0tcE3vwl//jNkjbyRs0uWwDe+YZK/CRNg4UK4/XYlf5JcjvUALly4kMLCQoqKimhra+Oiiy4iEAj0uXdPREQkbm1t8L3vmdEUX/uaWec3SRP2D1V3t1mC+Fe/AtuGQw4xyd8++zgdmWQCxxJAj8dDa2srjzzyCJZl4Xa7ufHGG9UDKCIiw9PZCSefDG++aUb8PvMMTJ7sdFRRPvrIjEd57jmzXVEBt90GO+/saFiSQRwdBQxw+umnOx2CiIiMJjvtBIcfDv/6l0n+RtjEec89Z+73+/hj2HVXqK/fNjhZJFUcuwdQREQkKVwuuOEGeOst+PrXnY4moqcHfvlL8PlM8nfggbB8uZI/cYYSQBERGR0aGuCzz7Ztf/nLzsXSy6efwnHHwc9/bhLB886Df/7T3J4o4gQlgCIikv7q62H2bJg5E7ZscTqaKC+8YAZ4LFkCu+xiJna+554RNyZFMowSQBERSW+PPQYXXWSeH3XUiFkvracHamvh6KPhgw9Mb98rr8APf+h0ZCIjYBCIiIjIkL34ohlR0dMDF1wA11/vdEQArF8PP/iBWdYN4PvfhzvugPHjnY1LJMyxHsBFixax9957k5WVFXmMGTOGrBE4SaeIiIxAb7wBJ54In39u/r3jjhGxxu/LL5uJnRcvNpM533kn3H+/kj8ZWRzrAZwzZw719fX4fD6nQhARkXRlWWaVj1AIvvUt+MtfYKyzF7VsG37zG6iqMuv67rOPGZdy8MGOhiXSL8f+txQUFGgOQBERGZrWVjPh84EHjohVPtrazMjexx8322VlZlzKxImOhiUyIMcSwNLSUsrKyigrK8Pj8eB2uyOv7bXXXk6FJSIi6aCw0AyvdbshL8/RUJqazADkVavM+JPf/MaMSRkBV6NFBuRYAlhbW0trayuNjY1R+10uF+vXr3coKhERGbE2bzaXfsOTO++/v6Ph2DbcfjtceSV0dYHHY9byLShwNCyRmDiWAK5YscKpQ4uISLrZsgVKSsyo3yeeMHOrOGjz5rGceWYWixaZ7VNPNXP7bXcxS2REc3wamGXLlmFZFvn5+Rzt8H9oEREZgbq7zeR5zzxjZlLOyXE0nFdfhSuvPJKPPhpDdjbcdBNceqku+Up6cSwB3LBhAwUFBeTm5jJ9+nQsy2LDhg00NjbqHkARETFsGy65xIzyzc6GRYvg2992LJS6OrjssrFs2ZLNnnvaLFzo4tBDHQlHZFgcSwBnz55NXV0dM2bMiOzz+/1UVFTw7LPPOhWWiIiMJD//+bb5/R54AL73PUfC2LgRystNHgouioo+5K9/ncJuu2U7Eo/IcDk2EXRLS0tU8gdQUlLC8uXLHYpIRERGlNtug1/9yjz/4x/N3CoO+Ne/zKDjv/wFsrKgtrab//mfV5wefCwyLI4lgB6Ph9dffz1q32uvvcb06dMdikhEREaMnh4IBMzzX/0KLrww5SHYNtx9Nxx2GLz7LkydCs8/D1dc0aP7/STtOXYJeP78+RQWFlJcXIzH46GlpYWlS5eydOlSp0ISEZGRYswYePRRs5TGmWem/PCbN5u5/B54wGwfd5xZzm3KFDPli0i6c7QHsLW1FZ/Ph23bFBcXY1kWhxxyiFMhiYiI0956y3S9gRn0cdZZKR9e+9ZbcOihJvkbMwZuuMEsNjJlSkrDEEmqlCaAr732WuT5qlWrWLVqFcXFxVx44YUUFxfT1tbGqlWrUhmSiIiMFEuXgtdrRv329DgSwv33Q1GRSQJ33x2eew6qq00iKDKapOwS8KuvvkphYSHd3d0AeL1eXC4Xtm3j+u9fd+HnWglERCTDvPQSnHSSWd937VqTAKYw6/rsM5N33n232fb54M9/hi9+MWUhiKRUyhLAb3zjG5HkD6C1tTVVhxYRkZEsGIRZs6CjA2bONMNtx6buFvV33oHSUnjjDXO1+dpr4ZprzIhfkdHKsU7tZcuW9dm3YcMGFoXX1RERkdHvzTdN0tfeDt/9rhn4kcKVPh5+2Ezx8sYbprevsdFMPajkT0Y7xxLAqqqqPvsmTZpETU2NA9GIiEjKvfeeuda6fr0ZdfHkkzBuXEoO/fnnZpTvWWfBpk1w1FHw2mvQa3pakVEr5dPA3HXXXQBYlhV5HrZixQqam5tTHZKIiDjhtdfgk0/goIPg6adh4sSUHHbFCpg926zp63KZy72/+EVKrzqLOC7lP+4rVqwAzICP3qt+uN1uJYAiIpmitBR23RUKCkjVshqPPALnn2+uOE+ZAg8+CMcem5JDi4woKU8Ab7zxRgBCoRDz589P9eFFRMRJn3xiZlLeYw+zPWtWSg7b2Qk//SncfrvZPvxwc//f1KkpObzIiOPYPYBK/kREMsy6deaevyOPhNWrU3bYlSvN+JJw8ldZCcuWKfmTzOboHQ/Lli0jGAxGzfs3efJkrrrqKgejEhGRhGttheJiM9x2993NKIwUePxxOPdcCIUgN9dM9HzCCSk5tMiI5lgP4NVXX01JSQkrVqygoaGBtrY2GhsbaWpqciokERFJhlDITPXy2muw225meY199knqIbu64Mor4ZRTzOG/+U1zeCV/IoZjPYCPPPJIZDLoCy+8kHnz5jFx4kTKysqcCklERBJtwwYzyqK5Gb7wBXPtdd99k3rI1auhrAxeftlsX3EF3Hgj7LRTUg8rklYc6wG0w4t9A/n5+SxduhSAQCDgVEgiIpJIGzfCccfBK6/A5Mlmrd/990/qIRcvhkMOMcnfpElmXulbb1XyJ9KbYwlgSUlJZNWP8vJyfvrTn1JUVMT06dOdCklERBJp0yZz719uLgQC8PWvJ+1QW7dCdTUcf7w5ZEGBWWHulFOSdkiRtObYJeDwdDBgVgBpbGzEsixmaBp2EZHRYffd4W9/gw8/NN1ySbJ2LZx5Jrzwgtm++GK4+eaUrignknYcSwAXLVqEx+PhkP9+KUyfPp1gMMiiRYs47bTTYqrDsiz8fj8ejwfLsigvL8ftdsddNnzZORQK0dTURFlZGV6vd7inKCKSeT77zGRiM2ea7S99yTySZMkSOPtsM8PMhAlw991mfmkRGZxjCWBVVVWfVT98Ph+FhYUxJ4ClpaWROizLYs6cOTQ0NMRdtrS0lKVLl+Lz+WhtbaW0tJSWlpahnpqISGb67DNzzTUQgPvug+9/P2mH6u6Ga6+FX/8abNt0MC5cmPTBxSKjhmMJ4Pr165nYa93HSZMmRc0JOBjLsqK2PR7PgANIdlS2oaEhqsdvoF5EEREZQEcHnHSSGeix666w555JO9RHH8FZZ5nZZAAqKuC222DnnZN2SJFRx7FBIIWFhTz66KNR+5YtW4bH44np/YFAgLxea0fm5eURDAbjLuvz+SL7GxoaqKioiCkGEREBNm82E+wtXQrjx8PTT5ulN5Jg2TLT2/fccybPfOghmD9fyZ9IvBzrAZw/fz6FhYVUVlbi8/loaWmhubm5z2XhgYRCoX73h+cWjLdsMBhkwYIFFBcXU15e3m/5zs5OOjs7I9vt7e0AdHV10dXVFVPcsQrXl+h6JZraOTXUzqnhSDtv2kTWKacw5vnnsSdMoPuvf8X+5jfNTMwJ1N0NN944hl/+cgw9PS4OOMDm4Ye38rWvJfxQO6Sf59RIZjvrs3MwAfR4PLS2tuL3+1m5ciU+n4/TTz992PUOlOztqKzX68Xj8VBVVYXf76ekpKRP+ZqaGq677ro++5csWcK4ceOGEu4ONTY2JqVeiaZ2Tg21c2qkqp3HbNnCt669lilvvUXXLrvw8jXX0BYKmcn4EigU2onf/KaA11//IgAzZrxPefkbWFY3ve7wSSn9PKdGMtq5o6Mj4XWmG0fXAgb6TbRi4Xa7+/T2tba29nv/Xqxl3W43paWlFBcX09bW1uf16upq5s6dG9lub29n2rRpzJw5s8/9jMPV1dVFY2MjxcXFZGdnJ7Ru2UbtnBpq59RIeTvbNmNefBF7zRpcixfzrUMPTfghXnjBxY9/nMUHH7jYZReb22/v5gc/+DLw5YQfK1b6eU6NZLZz+ApeJnN0GpjKykpWrlwZ2WfbNi6Xi+7u7h2+3+fzUVdX12d/YWFhXGUDgQClpaW0tbUBRO5BtCyrz1QwOTk55PQzsVR2dnbSvgSSWbdso3ZODbVzaqS0nW+7Da64grF77ZXQant6YN48+NnPzOXf/faDhgYXBxzgeL9FhH6eUyMZ7azPzcFBIHPmzKG2tpbW1tbIo62trd97+PrTe7CIZVkUFhZGeu2CwWBk9O9gZfPy8qIGgQSDQdxut+YBFBHpz4YNUFkJn39utl0uSHDyt349nHiiWdmjuxvOOcesJnfAAQk9jEhGc+xPqYKCgmHf89fQ0EBVVRVFRUU0NTVFzQFYU1NDUVERlZWVg5b1er2UlZVRX18PmHsNYh2IIiKSUUIhM8FzU5NZ3eOBBxJ+iL//HcrKYM0aM7L39tvhRz8yeaaIJI5jCWBpaSllZWWUlZXh8Xii7rfbK8a/Jj0eD7W1tUDfewl7Twg9WNnttwcaASwiktHWr4djj4XmZpg8Ga68MqHV2zbceitcfbVZ13effcDvh4MOSuhhROS/HEsAw5d/e4/ucblcMU8GLSIiKfDRR1BcDP/v/8GUKWa+vwRmZm1tcO658MQTZvuMM6C+3iztJiLJ4VgCuGLFCqcOLSIisVqzBmbMgHffhd13N8u87b9/wqpvaoLZs2HVKthpJzOm5MILdclXJNkcGwQiIiIjXE+PGY3x7rvwla/A888nLPmzbfjd7+A73zHJn8cDL78MF12k5E8kFRxLAMeMGUNWVlafxz5ayVtEZGQYMwb+8Aez9toLL8Deeyek2g0boLQULrvMrOJx2mkQDIImXxBJHccuAYfn3QuzbZv6+nrGjFGnpIiIo7ZuhbH//fXw7W+bgR8J+m4OBs0l35YWyM6Gm2+GSy5Rr59IqjmWbU2aNCnq4Xa7qays1NI6IiJOWr4c9t3XZGphCUj+bBvmz4dvfcskf3vuCS++CJdequRPxAmO9QCuWrWqzz7LsiKTN4uISIq99BLMmgXt7fCLX8Bf/5qQajduhPJy+MtfzPaJJ8K990JeXkKqF5EhcCwB9Hq9uFwubNuO7Js8ebLm4RMRccLSpXDSSdDRAUceCQ89lJBq//Uvc7/fu+9CVhbU1sLcuer1E3GaYwlgrEu+iYhIkj3xhLkxr7PTTPa8aBGMGzesKm0b7rkHLr7YrBo3dSosWGBuKRQR5zl2D+DNN9/s1KFFRCTs/vvNMNzOTjjlFHj88WEnf5s3ww9/CBdcYJK/446DV19V8icykjiWAL7yyis8+uijTh1eRERsGx5+GLq7zVIcDQ2QkzOsKt98E4qKzDLBY8bADTfAk0+aBUREZORw7BJwdXU1s2fPxrIsZsyYMaS1gEVEZBhcLrPg7t13m2u1wxzte9998OMfm9sId9/dDPo44ogExSoiCeVYAjhnzhxs2+aOO+7gjjvuiOx3uVy89957ToUlIjK69fTAY4/BqaeaBHDXXc1cLMPQ0WHm8rvnHrPt88Gf/wxf/OLwwxWR5EhpAlhUVERTUxMAy5cvT+WhRUSkq8tc6n3oIbj+evjf/x12le+8AyUl8P/+n8knr70WrrnGjPgVkZErpQlgS0tLKg8nIiJhHR1mpO9TT5lVPhKwrNtDD5n5/TZvht12M9vHHJOAWEUk6VKaALo08ZOISOqFQmb25RdfhF12Mff9zZo15Oo+/xwuvxzq6sz2UUeZsSRf+lIighWRVEhpAmjbNs8991zU5M/9OUZ/QoqIJMbHH8P3vgevvQaTJpkhuYcfPuTqVqwwEzu/9pq55Puzn5lFQ3TJVyS9pHwQyOmnnz7o6y6Xi/Xr16coGhGRUayz0wzDffddc4322Wfh4IOHXJ3fD+efb5Z2mzLFDPSYOTOB8YpIyqQ0AZw8ebJG+IqIpEpODvz0p3DjjfDMM0O+76+zE666Cn7/e7N9+OFmipc99khgrCKSUimdCFrLv4mIpEBX17bnF1xgFuQdYvK3cqVJ+MLJX1UVPPeckj+RdJfSBHBH9/6JiMjwTHvuOcYWFsKnn27bOcSl3R5/HLxeWL4c8vLM7YM33mgGEYtIektpAlhdXZ3Kw4mIZA7bZsxNN+H97W9xvf02zJ8/5Kq6uuDKK83SwKEQfPObZi3f449PWLQi4rCU/h3305/+NJWHExHJDD09cMUVZP3udwB0z51L1jXXDKmq//wHysrgH/8w23PnQk0N7LRTooIVkZFAHfkiIumssxN+8ANYuBCAN84/n6/deCNZQ1jX96mnTFWtrWbGmHvvNb2AIjL6KAEUEUlXGzaYDO1vf4PsbLbecw/WhAl8Lc5qtm418/nV1prtwkKTT06fnuB4RWTESOk9gCIikkBdXbBmDUyYAM88g11WFncVa9fC0UdvS/4uucQsGKLkT2R0Uw+giEi6mjIFFi82i/Eeckj09C8xWLIEzj4b1q0zOeTdd5tVPkRk9FMCKCKSTv76V5OxnXee2d5nn7ir6O6Ga6+FX/8abNvkjg0NQ54qUETSkBJAEZF08Yc/wKWXmkV499vPzM8Sp48+grPOMpM5A1RUwG23wc47JzZUERnZlACKiIx0PT1mSbdbbzXbF1wABQVxV7NsmUn+Pv4Ydt0V7rwTzjwzwbGKSFrQIBARkZGso8PcmBdO/m64AerrITs75iq6u+H666G42CR/Bx5oVvdQ8ieSudQDKCIyUn3yCZx0Evzzn2Ym5nvvjTtr++QTM9AjEDDb558Pt98+5NXhRGSUUAIoIjJSLVhgkr+8PHjsMfjud+N6+/PPwxlnwIcfwi67wB13wA9/mJxQRSS9KAEUERmpLr7YdOF9//uw774xv62nxyzf9rOfmef77WdG+R5wQBJjFZG0onsARURGkocego0bzXOXC375y7iSv/b2nTjllCz+539M8nfOOfDKK0r+RCSaEkARkZFg61azDMfZZ5tHd3fcVbz8sosrrjiKZ54Zw847m1G+990H48cnPlwRSW+6BCwi4rRQCMrKzNIcAN/+NoyJ/e9z24ZbboHq6iy2bh3LPvvY+P0uDjooOeGKSPpTAigi4qQVK+DEE+Hf/zZDcx98EE49Nea3t7XBuefCE08AuPjud9fw2GO7kZcX+zQxIpJ5lACKiDjlb3+D00+H1laYOtVkcd/4Rsxvf+UVmD0b3n/fzBJz663d7LFHMxMmzEpezCIyKqR1AmhZFn6/H4/Hg2VZlJeX43a74y4bDAYJ/HeSrKamJu68884B6xERSYjOTtN119oKhx5qpnnZffeY3mrbZi6/q66Cri7weMwo369/vYfFi5MatYiMEmmdAJaWltLc3AyYBG/OnDk0NDTEXTYQCFBZWQnAvHnzmDFjRqSsiEhS5OSYrO2PfzSPXXaJ6W0bNsCPfgSPPGK2Tz8d7r4bJk0yyaCISCzSdhSwZVlR2x6PJ9KLF0/ZYDBITU1N5LWSkhKCwWCf94iIDNv69duW5AAoKoI//Snm5C8YBK/XJH/Z2fC735kcctKkJMUrIqNW2iaAgUCAvLy8qH15eXkEg8G4ynq9Xu68887I/lAoFHldRCRh/vUvKCw0Az76+Z4ajG2bVTy+9S2wLNhzT3jxRTNrjMuVpHhFZFRL20vA4UStt9bW1rjLlpSURPYtWLAAn8/X7z2AnZ2ddHZ2Rrbb29sB6OrqoivB117C9SW6Xommdk6NTG9nl99P1gUX4OrowJ4+na0Q8/XajRvhwguzaGgwf6+fcEIPd9/dTW5u3yoyvZ1TRe2cGslsZ312aZwADmSgZC+WsqFQCL/fP+D9fzU1NVx33XV99i9ZsoRxSVpZvbGxMSn1SjS1c2pkXDt3d7Pfww/zVb8fgE8OPpjlV11F1+rVsHr1Dt++atVE5s0r4oMPxpOV1cM557zFySe38PLLg78v49rZIWrn1EhGO3d0dCS8znSTtgmg2+3u09vX2trab89drGWrqqpobGwccARwdXU1c+fOjWy3t7czbdo0Zs6cycSJE4d0HgPp6uqisbGR4uJisrM1n1eyqJ1TIyPbORQi64c/ZMzTTwPQfcUV5P761xSP3fHXrm3Dn/7k4uqrs/j8cxdTp9o89FAP3/zmvsDAy8JlZDs7QO2cGsls5/AVvEyWtgmgz+ejrq6uz/7CwsIhlZ03bx5VVVV4PJ5Iz2DvRDAnJ4ecnJw+9WRnZyftSyCZdcs2aufUyKh2vu8+ePpp2HlnuOsuss4+m6wY3rZ5M1x0ETzwgNk+7ji4/34XU6bE/nWdUe3sILVzaiSjnfW5pfEgEI/HE7VtWRaFhYVRc/uFR/LuqKzf78fr9UaSv4ULF2oeQBEZniuugDlz4KWXzNq+MXjzTTMw+IEHICsLamrgySdhypQkxyoiGSdtewABGhoaqKqqoqioiKampqg5AGtqaigqKorM7zdQWcuyKC0tjarX7XZTXl6euhMRkfTX3Q3z55tJ+nbe2WRw9fUxv/2+++DHP4aODjMf9F/+AkcckcR4RSSjpXUC6PF4qK2tBaJH8gJ9JoQeqKzH48G27SRHKiKj2rp1cNZZ0NgIr74Kd90V81s7Osx0LvfcY7aLi81ywF/8YpJiFREhjS8Bi4iMCK+8YmZnbmyEcePg6KNjfus778Bhh5nkz+WC6683tw0q+RORZEvrHkAREcfYtrnke9llZkK+r37VLNFx4IExvf2hh6C83Az62G03s33MMUmOWUTkv9QDKCISr44O+MEPzE17XV1w2mnQ1BRT8vf551BRYcaFbN4MRx0Fr72m5E9EUksJoIhIvD79FJ56ygz0uOkm8PshhrlAV6wwy7nV15tLvv/7v2Zp4C99KQUxi4hsR5eARUTiteeeZphuTg4ceWRMb2loMAOEN24007r8+c8wc2aS4xQRGYB6AEVEdmTLFrjqKtPrFzZzZkzJX2enGeU7e7ZJ/g4/3FzyVfInIk5SAigiMphVq+C734VbboFzzoG2tpjfunKlSfh+/3uzXVUFzz0He+yRnFBFRGKlS8AiIgN57DE47zwIhcDtNvO15ObG/NZzz4UNGyAvD+6/H44/PnmhiojEQz2AIiK9dXaa6V1OPdUkf4cdZiZ4PuWUHb51yxaYO9e8dcMGM+jj1VeV/InIyKIeQBGR7XV0mDXYmpvN9pVXwg03wE477fCt//mPudfvn//c9taaGtC68yIy0igBFBHZ3rhxUFRkbuC77z444YSY3vbUU2ZqwNZWc7X43nvh5JOTGqmIyJDpErCIyOefw/r127ZvvdUM1Y0h+evqMoM7TjjBJH9FRRAMKvkTkZFNCaCIZLY33zT3+M2eDd3dZt8uu8C0aTt869q1ZgWPefPM9iWXwAsvwPTpSYxXRCQBlACKSGaybTM/S2Eh/Otf8MYbYFkxv/3ZZ+GQQ+DFF80iIA0N8LvfmbmhRURGOiWAIpJ5PvkETjrJdNl9/jkcd5xJAPfZZ4dv7e42S7gddxysW2eSwOZmKClJftgiIomiBFBEMsszz8BBB8GTT5ruut/+1ozg2G23Hb71ww/B54Nf/cp0IF54Ibz8Muy9dwriFhFJII0CFpHMsXWrmZvl44/hgAPg4Yfh61/vU6y729zL9+GHsPvuZiGQ//s/OOss89bx46G+Hs4804FzEBFJACWAIpI5xo6FP//ZzNFSU2MGe/SyaJGZA3rNmm37Jk6E9nbz/OtfN/f77btvakIWEUkGJYAiMnr19MAf/2h6/i6/3Ow75BC47bZ+iy9aZO7ls+3o/eHkb8YMeOIJM1WgiEg6UwIoIqPT6tVmHd+lS03P37HHwn77DVi8u9v0/PVO/rb37rsa5Ssio4MGgYjI6GLbcP/95lrt0qXmMu9vfrPDa7YvvBB92bc/q1ebciIi6U49gCIyenzyCVRUwGOPme1vftMs5/bVrw76tu5uePTR2A7x4YfDC1FEZCRQAigio0Nnp1mH7T//gexsuPZaqKw0l38HecsDD5iVPN57L7bD7L57YsIVEXGSEkARGR1ycsxNfPfea7K6gw8esOjGjWYal1tvhQ8+MPvcbjNmZOPG/u8DdLlg6lQzJYyISLrTPYAikr4CAXjllW3bl18OTU0DJn/r1sHPfw577glXXWWSvy9/GW65xXQc/ulPppzLFf2+8PZtt0FWVsLPQkQk5ZQAikj62bAB5syB4mI45xzo6DD7x4zpd5juf/5jOge/8hX45S+hrc2s+nbXXWb537lzYcIEOO008Pthjz2i3z91qtl/2mkpODcRkRTQJWARSS9PPmkGeoSv3fp8A87d8vbb5v6+Bx80UwECeL1QXQ2nntp/b95pp8HJJ/ddCUQ9fyIymigBFJH0sG6d6cZ76CGzvffecPfdcMQRfYq+8grceKMZDBzODY8+2iR+Pl/fS7y9ZWXBUUclNHoRkRFFCaCIjHzvv29G+H76qbnMO3cuXHdd1JIctm1uCbzxRli2bNtbTzkFrr4aDjss9WGLiIxUSgBFZOT7ylfMtds1a+Cee+DQQyMvhefwu/FGaG42+8aOhbPPNrPA7L+/QzGLiIxgSgBFZOSxbXOp9/jjzfwsLpe5kW/ChMggjy1bzK7aWrNEG5hFP+bMMR2Ee+7pXPgiIiOdEkARGVnefRcuushcx/3Rj8xQXYApUwDYtAnuvNNM3bJ2rXnJ7YZLLjGPL3zBmbBFRNKJEkARGRk6O0133q9/bbr3dt7ZLOFm2+BysX493H67ebS2mrfsvrvp7auoMJ2DIiISGyWAIuK8v/0NLrwQ3nnHbB97LPzxj+DxsHq1WbGjvn7bdH977w1VVWYKwH6m/RMRkR1QAigizvrTn+D8883z3XaD3/4WZs/m3++4mHe+uc+vq8u8/I1vmBG9p5+ueflERIZDCaCIOOukk+CLXzQzMNfU0PSemxtLzMje8Bx+Rx1lEr+ZM3c8h5+IiOyYEkARSa233oKHH4brrzfZ3OTJ2P9+h2VBNzUlsHTptqInn2wSv29+07lwRURGIyWAIpISYzs6GFNZCb//vVmX7aCD6Dm9lMcegxtvdNPUZMplZcFZZ5l7/A44wNGQRURGrbROAC3Lwu/34/F4sCyL8vJy3G73kMoGg0HmzJlDc3gmWRFJjJ4eXA88wIwrryQrFDK7TjyZR1YV8b/7bxv3sfPOcMEFcNVVmsNPRCTZ0joBLC0tjSRslmUxZ84cGhoa4i4bTgyDwWBqAhfJFK++ChdfzNi//52xQHf+3jwx43YuXfw91vzVFHG74Sc/gUsvNbcCiohI8qVtAmhZVtS2x+MhEAgMqWxJSUniAxTJdD098P3vw1tv0TNuV/6yTwVX/ufXfFS/MwBf+tK2OfwmTnQ4VhGRDDPG6QCGKhAIkJeXF7UvLy+v3168eMqKyDB0d5v7+wDGjOHT6lsJ7nsGX7Pf5uzXb+Gjtp3Jz4e6Oli5En76UyV/IiJOSNsEMPTfe4l6aw0vETDEsiIyRMuWQWEh/O53vPOOuZ9vj/OPpeCdh3nvs2lMnx7iwQe38s47UF5u7vkTERFnpO0l4IEMlOwNtyxAZ2cnnZ2dke329nYAurq66ArPVJsg4foSXa9EUzsnwDvvkFVdzZgnnwTg03fW8/UrL6aLnQD47nd7mDt3C/B/zJxZTE+PTU+Pg/GOYvp5Tg21c2oks5312aVxAuh2u/v04LW2tvY7CjiesoOpqanhuuuu67N/yZIljBs3Lq66YtXY2JiUeiWa2jl+2e3t7LtwIdOffpox3d1sJYs/8mOu/+zndLETRUUfcvrp7/G1r7VF3qN2Tg21c2qonVMjGe3cEV5XMoO5bDs81356sSwramQvQG5uLitXruyT2MVa1uVyMVhz9NcDOG3aNNatW8fEBN/I1NXVRWNjI8XFxWRnZye0btlG7Tw0rieeIOuCC3D9txf9r5zAT7mJFVn7UlZmc9VV3Rx44LbyaufUUDunhto5NZLZzu3t7UyZMoUNGzYk/Pd3ukjbHkCPxxO1bVkWhYWFkYQuGAzidrvxeDw7LLu9UCg0YM9gTk4OOf2sPJ+dnZ20L4Fk1i3bqJ1j19UFf31nf04MbeRNDuJKbuGlnX386EfwzFWw114uBrq9WO2cGmrn1FA7p0Yy2lmfWxongAANDQ1UVVVRVFREU1NT1ByANTU1FBUVUVlZucOygUAg0sUcfp+mhhHZzksv0fl/L1M3/ipuvhlWr96Pb/E8/554GBddnMVDl2kOPxGRdJLWCaDH46G2thboO5df7wmhByvr8/nw+XyR10Xkv954gy2V17DTM39lLGOYzyxWsz9f+hKccsW3ufBCTeMiIpKO0joBFJEkWbWKjp/+gp39D7ATNlvJ4h7OZ+JXcpn/P/DDH2oaFxGRdKYEUES2aWuj7bJrmfDnOxjXY6ZJWEgpf973l5x57b68WAJj9a0hIpL20nYiaBFJrGAQzj3Phf3AA4zt6aIRH+WHvMKExQt57O19OeMMJX8iIqOFvs5FMpi9cRPvXL+Ay14/nyWNLsBNJ38g/7AvcNwtPuq/43SEIiKSDEoARTJQT/sm3r7kD+zx0E18bet6stmNrKwTOOMMqKo6k69/3ekIRUQkmZQAimSQrtBm/lXxB6Y/chMHdK8DYIVrb2bNGsPtt8P06Q4HKCIiKaEEUCQDdGzoIvjD2/jaX2+ioOdTAFrG7E1w1v9yxPyz+PEe+ioQEckkGgQiMoq1tcGvfgV75Wcx4fEHmdLzKSuz8nmq9F6mfPI2pX/9Absp+RMRyTj65hcZhT76f+t4/cI7OPe1y/lo8wRgDLfsdhPnHfsB3/z995k+Qf/1RUQymX4LiIwiq15YzYof38K3/t+dHEsHZ7IrSw+ay9VXQ2npTE3jIiIigBJAkVHhrUX/5uMr5/GdVQ+yF2YC53d29XLGVV/jll+Ay+VwgCIiMqIoARRJU7YNzz/XjeusMzn8Yz/7YwPw+uSjyfqfqznwimJlfiIi0i8NAhFJMz3dNk88Ad/5Dhw1I4uPPoYx2CyfejIrHniZg9ct48C5M5X8iYjIgNQDKJImulo38tplf+ILC3/PlVueYgX7kJMDb572a1b/4BcUfu8Ap0MUEZE0oQRQZIT77O1V/Psnt5P/t7sostsBuGynO1g791Yuuwy+9KV9HI5QRETSjRJAkZHIttm45GXWXPkbvvrmIr5BDwArsr7KiuMv55w7fsCkLzsco4iIpC0lgCIjzIcfwu9u2sJVt53EfvZ6AF7c2UfovCuYcdP32HtX3borIiLDowRQZCR4+21a71jANZ0/50/3jaGzM4dd+DEHuteSU3U5x171dc3hJyIiCaNfKSJO2bIFHnuMjTfdwYTlfyMPWMF36KSYb38bvNXXc/zxGswrIiKJpwRQJNXefx/7zrvouuNOdmr9mAlAN2P4Kyey/3fy+HkNfPe7TgcpIiKjmRJAkQTr7oYXXjD38u2+u0nmsrLMaz1vvInr4K/jsm12Aj7kS9zFHD4+aQ5zrp/GKQc7GrqIiGQIJYAiCbRoEVx2GaxZA2BTRBOH5a3giPlnsWUL3FizPwvsr/Ehu3PX2AvJPfcUrrw6m/x8pyMXEZFMogRQJEEWLYKSEviC/TFX8gDn8ScO4C02tE5k99mn8BnjABdHj1/OuT8ex62Xmx5CERGRVFMCKJIA3e2bWTrnrzxmP8QsFjOWbgA+Y2f+yolMpJ3OMeO47jq4+OJxuN3OxisiIplNCaBIArx34S38ofUXke1/cBj3cD4LKKOdSWZnDxx+OEr+RETEcUoAReLR0wMvvEDX/Q/z+ldOZMGm41m2DDYFy1jMfTzMmTzEWbzN/v2+/cMPUxyviIhIP5QAiuxITw+dz/+Tj//4CJOeWcCkjWvIBt7nU27m+P8W2pe9WQEMPmmf7vkTEZGRQAmgSD+6umD5P7vJvupS9nr1UaZs+ZCv/Pe1EJN4hNNZtvv3ueB4OOYYM9XLt77lYu1asO2+9blcMHWq5vcTEZGRQQmgCObK7msvf8ZbD73Gn61v8fzzsGlTFv+kiSl8yAYmsnTnE/jPoSXknj2LGTNz+NFe0XX89rdmFLDLFZ0EhlfyuO22bfMBioiIOEkJoGQk24Z//xtefORTPrp3JZSexYyup9mfLVzEp2xiEpMnQ+PXruOTQ1x8teJoTj0wZ9Bl2U47Dfz+7ecBNKZONcnfaacl/bRERERiogRQMsbKlbBsGfz70bf50t/+whGbFzOH5VFlPtl5Gn+4qIUDf+DloINgzJjj4jrGaafByScPvBKIiIjISKAEUEatDz6A556Dfy5ez3MvZvP//jMRgAv5G1dyfaSclXcAY088md0vOo0vHurl+4N188UgKwuOOmpYVYiIiCSVEkAZNdavh7/9DV58djPtz7zEPquXMYOlnEGQi/k9/x57EYcdBnt7Z/HJG7Nxnz0L17HH8EYwyKxZs8jOznb6FERERFJCCaCkrY0bzaXWZctg+ZJWjnrjdo5hKbX8g53oiip79YlvctNDMH48wJ7AAgC6urr61CsiIjLaKQGUlOvuHto9cp99Bi+/DC8828EnT75Cy7+7eLanGIDxZNPIr8hmKwAdU6aRVTyDnOOOgaOPZs+pU5N5SiIiImlFCaCk1KJF/Y+S/e1v+46S7eqCV16BpsfWsmHxS+S983e+2f0S/8NrZLOVVyhiRX4xxxwDxxwzgc5XqsnebxoccwzjPB4GHbIrIiKSwZQASsosWmTmyes9UfLatWb/woXgmbqFpS/sxLJlppdwyeZvczkv96lrc+4e7H/kV1mxyN6W6J1xfZ9yIiIi0pcSQEmJ7m7T87d98jeBdr7Bq3jtIAU0s39pkC/yCZV8SnhJtU93mkrPljGsn3YwY4/8Du7jvo3r8O+w67Rp6uETEREZIiWAknxbt/LCC1msWWMStqu4iTncyVd5r9/iF8xYxQEnTOeYY+BA962MybuHL5jRGyIiIpIAaZ0AWpaF3+/H4/FgWRbl5eW43e64y8ZTjwxiyxYz2/Jbb8Gbb257vPMObb/9D7AbAJNZH0n+/sM0mimgmQKCeDn/di93Xvyl7SrV4A0REZFES+sEsLS0lObmZsAkcXPmzKGhoSHusvHUk/Ha26GlxTyKi2HSJLP/17+Gn//cLKrbj+kdbxJOAB/k+zzH0QTxso4vRJWrPDCZwYuIiAikcQJoWVbUtsfjIRAIxF02nnpGvfZ22Hln2Gkns/1//wcLFpghu2vXwn/+A+vWbSv/wgtw+OHm+eTJJvkbNw722w/23x8OOMA89t+fr0/bi6m/MdW8aR/Im0Rnei6XGQ383e+m6FxFREQyWNomgIFAgLy8vKh9eXl5BINBvF5vzGWXL18ecz1poacHOjpg0ybYvNn8m58fngEZ/v538PvNshnr1m379+OPTdn/+z844ghT9q234I47+h5jyhRT5/a9fWecYRbB/dKX+h2ckYWZ6qWkxLy8/WCQcPHbbtOauSIiIqmQtglgKBTqd39ra2tcZeOpp7Ozk87Ozsh2e3s7YFaTSPSKEj2PP07Bb3+L69576enuNsNot26NPLpvuQUOPhgA1z33kPXzn8OmTbg6OvrUtfXZZ7GPPtqUff11xv7mNwMed+uaNdjhcykoYEx1NeyxB/aXv4y9xx7g8Wy77Atmsj6AXXc1j61bB6z7xBPhL39xMXduFmvXbksS99jD5pZbujnxRJtUL8wR/ty0IkhyqZ1TQ+2cGmrn1EhmO+uzS+MEcCADJXTxlu3vtZqaGq677ro++5csWcK4ceNiPm4s8p96igNffHHA119+5hnWrV0LwJ6vv84hn3wS9brtcrF1553p3nlnXn3hBT757DMAJnV0sMcpp7Bl4kS2TJhgHhMnsmXSJD7Ly6N7l11g8eJtFR122LbnH35oHsOQkwO/+x289dZk2tp2Jjf3c/bffz1ZWdGHTbXGxkbnDp5B1M6poXZODbVzaiSjnTv66SzJNGmbALrd7j69dK2trf2O3h2sbDz1VFdXM3fu3Mh2e3s706ZNY+bMmUycOHHoJ9OPrVOm8K+xY/nagQcyJicHxo4110f/+++hRxwBu5lBFRx6KF0XXGB64MaPN49ddgGXiyygsHfll16a0FiH4sQTnY7A6OrqorGxkeLiYrKzs50OZ9RSO6eG2jk11M6pkcx2Dl/By2RpmwD6fD7q6ur67C8s7JPuDFrW4/HEXE9OTg45OTl99mdnZyf+S+DQQ1m5bh37zZrF2B3Vvfvu5iFDlpTPUPpQO6eG2jk11M6pkYx21ueWxgmgx+OJ2rYsi8LCwkjPXTAYxO124/F4Bi3bu6evdz0iIiIio03aJoAADQ0NVFVVUVRURFNTU9TcfTU1NRQVFVFZWbnDsoO9JiIiIjLapHUC6PF4qK2tBaCkpCTqtd5J3GBlB3tNREREZLQZ43QAIiIiIpJaSgBFREREMowSQBEREZEMowRQREREJMMoARQRERHJMEoARURERDKMEkARERGRDKMEUERERCTDKAEUERERyTBKAEVEREQyTFovBec027YBaG9vT3jdXV1ddHR00N7eTnZ2dsLrF0PtnBpq59RQO6eG2jk1ktnO4d/b4d/jmUgJ4DBs3LgRgGnTpjkciYiIiMRr48aNTJo0yekwHOGyMzn9Haaenh4++OADJkyYgMvlSmjd7e3tTJs2jdWrVzNx4sSE1i3bqJ1TQ+2cGmrn1FA7p0Yy29m2bTZu3MiXv/xlxozJzLvh1AM4DGPGjGHq1KlJPcbEiRP1BZMCaufUUDunhto5NdTOqZGsds7Unr+wzEx7RURERDKYEkARERGRDKMEcITKycnhF7/4BTk5OU6HMqqpnVND7ZwaaufUUDunhto5uTQIRERERCTDqAdQREREJMMoARQRERHJMEoARURERDKM5gF0kGVZ+P1+PB4PlmVRXl6O2+0edlmJFm/bBYNB5syZQ3Nzc+qCHAXiaedgMEggEACgqamJO++8Uz/PMYqnncNtHAqFaGpqoqysDK/Xm8Jo09dQv3Orqqqorq7Wz3Mc4v3uAPB6vViWRSgU0s/0UNniGK/XG3ne0tJil5SUJKSsRIun7RoaGuzm5mZb/zXiF08719bWRj3f/r0yuHja2e12283NzbZt23ZdXZ3t8XiSHt9oMZTv3PB3R1tbWxIjG33iaevy8nIbsAHb5/OprYdBl4AdYllW1LbH44n8tT6cshIt3rYrKSnRX5NDEE87B4NBampqItslJSUEg8E+dUhf8f48NzQ0RP08q1cqNkP9zrUsC4/Hk6ywRqV427qgoIC2tjba2tpobGzUz/QwKAF0SCAQIC8vL2pfXl5epHt7qGUlmtouNeJpZ6/Xy5133hnZDoVCkfIyuHh/nn0+X+R5Q0MDFRUVSY1vtBjK94bf76ekpCTZoY06Q2lrt9utxC8BdA+gQ8K/9HprbW0dVlmJprZLjXjbeftflAsWLMDn8+kLPQZD+XkOBoMsWLCA4uJiysvLkxTZ6BJvO4dCIf38DtFQ2trv9wPm/uGKigr1ug6REsARZqD/DMMtK9HUdqmxo3YOf5lrwM3wDNbOXq8Xj8dDVVWVeqmGaaB2XrhwoZLrBBuorbcfIOLxeCguLqalpSV1gY0iugTsELfb3ecvnNbW1n7/ioynrERT26XGUNu5qqpK9/HEYajt7Ha7KS0tpbS0VH/8xCCedg4EAsyePTtFkY0+8f5Mb3/PYHjUsO4fHholgA7Z/t6c7RUWFg6rrERT26XGUNp53rx5VFVV4fF4CIVCSkxiEE87BwIBcnNzI9vhy2T6Zblj8f48L1y4kPr6eurr67Esi5qaGt1nHKN42joYDDJjxow++3X/8NDoErBDet+zYFkWhYWFkb96gsEgbrcbj8ezw7IysHjauTfd1xO7eNvZ7/dHLk2GQiFdQotRPO2cl5cX9cs1/JpGue9YPO3cO4GpqKjQfWlxiPd3YW1tbaRsIBCgpKRE39ND5LJt23Y6iExlWRZ1dXUUFRXR1NQUNXloaWkpRUVFVFZW7rCsDC6edg4EAjQ2NjJv3jwqKyspKirSPVMxirWdLcsiPz8/6r1ut5u2tjYHok4/8fw8+/3+yOW1xsZGamtrlZjEKJ52BvMHY319PVVVVZSXl1NRUaFkO0bxtHV4Enm3201LS0tUQijxUQIoIiIikmF0D6CIiIhIhlECKCIiIpJhlACKiIiIZBglgCIiIiIZRgmgiIiISIZRAigiIiKSYZQAioj0UlFR0WeuQhGR0UQrgYiI9FJaWtpnfVIRkdFEPYAiIr00NjZSXFzsdBgiIkmjBFBEpJdAINDvYvQiIqOFloITEenF5XLR0NAAQFNTExUVFVpDV0RGFfUAiohsJxgM4na78fl8lJSUMHnyZPx+v9NhiYgklBJAEZHtBAIBqqurcbvdgOkB9Hq9zgYlIpJgSgBFRLbT2NiIz+eLbAcCgahtEZHRQAmgiMh2li9fHunxCyd/oVCIQCDgcGQiIomjBFBE5L8sy4rq7fN4POTl5akXUERGHY0CFhEREckw6gEUERERyTBKAEVEREQyjBJAERERkQyjBFBEREQkwygBFBEREckwSgBFREREMowSQBEREZEMowRQREREJMMoARQRERHJMEoARURERDKMEkARERGRDKMEUERERCTDKAEUERERyTBKAEVEREQyjBJAERERkQzz/wFJ4xnI4DhDGgAAAABJRU5ErkJggg==' width=640.0/>\n",
       "            </div>\n",
       "        "
      ],
      "text/plain": [
       "Canvas(toolbar=Toolbar(toolitems=[('Home', 'Reset original view', 'home', 'home'), ('Back', 'Back to previous …"
      ]
     },
     "metadata": {},
     "output_type": "display_data"
    }
   ],
   "source": [
    "fig, ax = plt.subplots()\n",
    "ax.plot(\n",
    "    h,\n",
    "    error_truncation,\n",
    "    \"bo-\",\n",
    "    label=r\"Truncation error: $|\\cos(x+h) - (\\cos(x) - h\\sin(x))|$\",\n",
    ")\n",
    "ax.plot(h_values, E_h, \"r--\", label=r\"$E(h)=|-\\frac{1}{2}h^2\\cos(1)|$\")\n",
    "ax.set_xlabel(\"$h$\")\n",
    "ax.set_ylabel(\"Truncation error\")\n",
    "ax.set_title(\"Truncation error plot\")\n",
    "ax.grid()\n",
    "legend = ax.legend(loc=\"best\", shadow=True)"
   ]
  },
  {
   "cell_type": "markdown",
   "id": "a3e0428d-b100-42b5-ae39-a73061afaa02",
   "metadata": {},
   "source": [
    "## Properties of $O\\left(h^{n}\\right)$"
   ]
  },
  {
   "cell_type": "code",
   "execution_count": 15,
   "id": "d7e608a2-bc99-40ee-aea3-eba2f5d64a41",
   "metadata": {},
   "outputs": [
    {
     "data": {
      "text/plain": [
       "True"
      ]
     },
     "execution_count": 15,
     "metadata": {},
     "output_type": "execute_result"
    }
   ],
   "source": [
    "h = symbols(\"h\")\n",
    "m, n, k = (5, 2, -2)\n",
    "assert m > n\n",
    "k * O(h**n) == O(h**n)"
   ]
  },
  {
   "cell_type": "code",
   "execution_count": 16,
   "id": "af0a6d27-f97a-4d51-97f9-0e172fa504a2",
   "metadata": {},
   "outputs": [
    {
     "data": {
      "text/plain": [
       "True"
      ]
     },
     "execution_count": 16,
     "metadata": {},
     "output_type": "execute_result"
    }
   ],
   "source": [
    "O(h**m) + O(h**n) == O(h**n)"
   ]
  },
  {
   "cell_type": "code",
   "execution_count": 17,
   "id": "48eb1ac7-751b-4822-8742-59dd52664b61",
   "metadata": {},
   "outputs": [
    {
     "data": {
      "text/plain": [
       "True"
      ]
     },
     "execution_count": 17,
     "metadata": {},
     "output_type": "execute_result"
    }
   ],
   "source": [
    "m, n = (2, 5)\n",
    "assert m < n\n",
    "O(h**n) / h**m == O(h ** (n - m))"
   ]
  },
  {
   "cell_type": "markdown",
   "id": "0041121c-8dc9-4a28-96db-380347f363ca",
   "metadata": {},
   "source": [
    "## Deriving finite-difference approximations"
   ]
  },
  {
   "cell_type": "code",
   "execution_count": 18,
   "id": "416bfdc4-84b3-4b41-a53b-f36d4f20cf12",
   "metadata": {},
   "outputs": [
    {
     "data": {
      "application/vnd.jupyter.widget-view+json": {
       "model_id": "304313835bce4a89aa2c7c2e44fcf34a",
       "version_major": 2,
       "version_minor": 0
      },
      "image/png": "[encoded data removed]",
      "text/html": [
       "\n",
       "            <div style=\"display: inline-block;\">\n",
       "                <div class=\"jupyter-widgets widget-label\" style=\"text-align: center;\">\n",
       "                    Figure\n",
       "                </div>\n",
       "                <img src='data:image/png;base64,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' width=640.0/>\n",
       "            </div>\n",
       "        "
      ],
      "text/plain": [
       "Canvas(toolbar=Toolbar(toolitems=[('Home', 'Reset original view', 'home', 'home'), ('Back', 'Back to previous …"
      ]
     },
     "metadata": {},
     "output_type": "display_data"
    }
   ],
   "source": [
    "x = np.arange(-2, 3)\n",
    "\n",
    "fig, ax = plt.subplots()\n",
    "ax.plot(x, np.zeros_like(x), \"ko-\")\n",
    "ax.text(x[0], -0.008, rf\"$f(x-2h)$\", ha=\"center\", fontsize=15)\n",
    "ax.text(x[1], -0.008, rf\"$f(x-h)$\", ha=\"center\", fontsize=15)\n",
    "ax.text(x[2], -0.008, rf\"$f(x)$\", ha=\"center\", fontsize=15)\n",
    "ax.text(x[3], -0.008, rf\"$f(x+h)$\", ha=\"center\", fontsize=15)\n",
    "ax.text(x[-1], -0.008, rf\"$f(x+2h)$\", ha=\"center\", fontsize=15)\n",
    "ax.axes.get_xaxis().set_visible(False)\n",
    "ax.axes.get_yaxis().set_visible(False)\n",
    "ax.set_frame_on(False)"
   ]
  },
  {
   "cell_type": "markdown",
   "id": "923620e8-30ae-4f30-b0d0-6678bedff3ef",
   "metadata": {},
   "source": [
    "### First-order accurate finite difference approximation of $f_{x}\\left(x\\right)$"
   ]
  },
  {
   "cell_type": "code",
   "execution_count": 19,
   "id": "f45e358f-a85b-4dec-97bc-1ed10be429cb",
   "metadata": {},
   "outputs": [],
   "source": [
    "x = symbols(\"x\")\n",
    "h = symbols(\"h\", positive=True)\n",
    "f = Function(\"f\")"
   ]
  },
  {
   "cell_type": "code",
   "execution_count": 20,
   "id": "0768fa7e-a698-4980-b931-b856fbb82bf8",
   "metadata": {},
   "outputs": [
    {
     "data": {
      "text/latex": [
       "$\\displaystyle f{\\left(h + x \\right)} = f{\\left(x \\right)} + h \\frac{d}{d x} f{\\left(x \\right)} + O\\left(h^{2}\\right)$"
      ],
      "text/plain": [
       "Eq(f(h + x), f(x) + h*Derivative(f(x), x) + O(h**2))"
      ]
     },
     "execution_count": 20,
     "metadata": {},
     "output_type": "execute_result"
    }
   ],
   "source": [
    "Eq(f(x + h), f(x + h).series(x=h, x0=0, n=2).simplify())"
   ]
  },
  {
   "cell_type": "code",
   "execution_count": 21,
   "id": "bec3dc52-0dff-425d-8446-14603d2f0cb8",
   "metadata": {},
   "outputs": [
    {
     "data": {
      "text/latex": [
       "$\\displaystyle \\frac{d}{d x} f{\\left(x \\right)} = \\frac{f{\\left(h + x \\right)} - f{\\left(x \\right)} + O\\left(h^{2}\\right)}{h}$"
      ],
      "text/plain": [
       "Eq(Derivative(f(x), x), (f(h + x) - f(x) + O(h**2))/h)"
      ]
     },
     "execution_count": 21,
     "metadata": {},
     "output_type": "execute_result"
    }
   ],
   "source": [
    "Eq(D(f(x)), solve(Eq(f(x + h), f(x + h).series(x=h, x0=0, n=2).simplify()), D(f(x)))[0])"
   ]
  },
  {
   "cell_type": "markdown",
   "id": "2f471630-7539-45d9-8052-817fbebf1df1",
   "metadata": {},
   "source": [
    "### First-order forward difference"
   ]
  },
  {
   "cell_type": "code",
   "execution_count": 22,
   "id": "2cf3b106-bebd-4a05-986f-4aac24ec21dc",
   "metadata": {},
   "outputs": [],
   "source": [
    "_ = f(x + h).series(x=h, x0=0, n=2).removeO().simplify()\n",
    "forward_difference = Approx(D(f(x)), solve(Eq(_, f(x + h)), D(f(x)))[0])"
   ]
  },
  {
   "cell_type": "code",
   "execution_count": 23,
   "id": "85b3b54e-5d28-41aa-a54c-b637d5130532",
   "metadata": {},
   "outputs": [
    {
     "data": {
      "text/latex": [
       "$\\displaystyle \\frac{d}{d x} f{\\left(x \\right)} \\approx \\frac{- f{\\left(x \\right)} + f{\\left(h + x \\right)}}{h}$"
      ],
      "text/plain": [
       "Eq(Derivative(f(x), x), (-f(x) + f(h + x))/h)"
      ]
     },
     "execution_count": 23,
     "metadata": {},
     "output_type": "execute_result"
    }
   ],
   "source": [
    "forward_difference"
   ]
  },
  {
   "cell_type": "code",
   "execution_count": 24,
   "id": "911026ca-240e-410d-9a5c-f8ca08782739",
   "metadata": {},
   "outputs": [
    {
     "data": {
      "text/latex": [
       "$\\displaystyle f{\\left(- h + x \\right)} = f{\\left(x \\right)} - h \\frac{d}{d x} f{\\left(x \\right)} + O\\left(h^{2}\\right)$"
      ],
      "text/plain": [
       "Eq(f(-h + x), f(x) - h*Derivative(f(x), x) + O(h**2))"
      ]
     },
     "execution_count": 24,
     "metadata": {},
     "output_type": "execute_result"
    }
   ],
   "source": [
    "Eq(f(x - h), f(x - h).series(x=h, x0=0, n=2).simplify())"
   ]
  },
  {
   "cell_type": "code",
   "execution_count": 25,
   "id": "cb376425-4d38-425d-8845-6c15a66850bc",
   "metadata": {},
   "outputs": [
    {
     "data": {
      "text/latex": [
       "$\\displaystyle \\frac{d}{d x} f{\\left(x \\right)} = \\frac{- f{\\left(- h + x \\right)} + f{\\left(x \\right)} + O\\left(h^{2}\\right)}{h}$"
      ],
      "text/plain": [
       "Eq(Derivative(f(x), x), (-f(-h + x) + f(x) + O(h**2))/h)"
      ]
     },
     "execution_count": 25,
     "metadata": {},
     "output_type": "execute_result"
    }
   ],
   "source": [
    "Eq(D(f(x)), solve(Eq(f(x - h), f(x - h).series(x=h, x0=0, n=2).simplify()), D(f(x)))[0])"
   ]
  },
  {
   "cell_type": "markdown",
   "id": "be3c9e7e-8ffd-471b-9879-ffc7fc33e8ba",
   "metadata": {},
   "source": [
    "### First-order backward difference"
   ]
  },
  {
   "cell_type": "code",
   "execution_count": 26,
   "id": "b915cb8a-7b5f-4227-97b6-b8e9b8d7c7ba",
   "metadata": {},
   "outputs": [],
   "source": [
    "_ = f(x - h).series(x=h, x0=0, n=2).removeO().simplify()\n",
    "backward_difference = Approx(D(f(x)), solve(Eq(_, f(x - h)), D(f(x)))[0])"
   ]
  },
  {
   "cell_type": "code",
   "execution_count": 27,
   "id": "e50f6e9e-1248-48ba-800c-89700962e55c",
   "metadata": {},
   "outputs": [
    {
     "data": {
      "text/latex": [
       "$\\displaystyle \\frac{d}{d x} f{\\left(x \\right)} \\approx \\frac{f{\\left(x \\right)} - f{\\left(- h + x \\right)}}{h}$"
      ],
      "text/plain": [
       "Eq(Derivative(f(x), x), (f(x) - f(-h + x))/h)"
      ]
     },
     "execution_count": 27,
     "metadata": {},
     "output_type": "execute_result"
    }
   ],
   "source": [
    "backward_difference"
   ]
  },
  {
   "cell_type": "markdown",
   "id": "0cf1ba56-2661-4fcd-a6b7-fda577059b1e",
   "metadata": {},
   "source": [
    "### Second-order accurate finite difference approximation of $f_{x}\\left(x\\right)$"
   ]
  },
  {
   "cell_type": "code",
   "execution_count": 28,
   "id": "c811de9f-dea7-45c7-bde1-102a419d41f8",
   "metadata": {},
   "outputs": [
    {
     "data": {
      "text/latex": [
       "$\\displaystyle f{\\left(h + x \\right)} = f{\\left(x \\right)} + h \\frac{d}{d x} f{\\left(x \\right)} + \\frac{h^{2} \\frac{d^{2}}{d x^{2}} f{\\left(x \\right)}}{2} + O\\left(h^{3}\\right)$"
      ],
      "text/plain": [
       "Eq(f(h + x), f(x) + h*Derivative(f(x), x) + h**2*Derivative(f(x), (x, 2))/2 + O(h**3))"
      ]
     },
     "execution_count": 28,
     "metadata": {},
     "output_type": "execute_result"
    }
   ],
   "source": [
    "Eq(f(x + h), f(x + h).series(x=h, x0=0, n=3).simplify())"
   ]
  },
  {
   "cell_type": "code",
   "execution_count": 29,
   "id": "475a3e80-f0e7-4f58-ab98-485d081fe82e",
   "metadata": {},
   "outputs": [
    {
     "data": {
      "text/latex": [
       "$\\displaystyle f{\\left(- h + x \\right)} = f{\\left(x \\right)} - h \\frac{d}{d x} f{\\left(x \\right)} + \\frac{h^{2} \\frac{d^{2}}{d x^{2}} f{\\left(x \\right)}}{2} + O\\left(h^{3}\\right)$"
      ],
      "text/plain": [
       "Eq(f(-h + x), f(x) - h*Derivative(f(x), x) + h**2*Derivative(f(x), (x, 2))/2 + O(h**3))"
      ]
     },
     "execution_count": 29,
     "metadata": {},
     "output_type": "execute_result"
    }
   ],
   "source": [
    "Eq(f(x - h), f(x - h).series(x=h, x0=0, n=3).simplify())"
   ]
  },
  {
   "cell_type": "code",
   "execution_count": 30,
   "id": "a4b03a8e-9484-4ea9-ae28-2317d5acbfc8",
   "metadata": {},
   "outputs": [
    {
     "data": {
      "text/latex": [
       "$\\displaystyle - f{\\left(- h + x \\right)} + f{\\left(h + x \\right)} = 2 h \\frac{d}{d x} f{\\left(x \\right)} + O\\left(h^{3}\\right)$"
      ],
      "text/plain": [
       "Eq(-f(-h + x) + f(h + x), 2*h*Derivative(f(x), x) + O(h**3))"
      ]
     },
     "execution_count": 30,
     "metadata": {},
     "output_type": "execute_result"
    }
   ],
   "source": [
    "Eq(\n",
    "    f(x + h) - f(x - h),\n",
    "    f(x + h).series(x=h, x0=0, n=3).simplify()\n",
    "    - f(x - h).series(x=h, x0=0, n=3).simplify(),\n",
    ")"
   ]
  },
  {
   "cell_type": "markdown",
   "id": "4d5567a9-e0de-46e6-a78c-9a3cf2aed81d",
   "metadata": {},
   "source": [
    "### Second-order central difference"
   ]
  },
  {
   "cell_type": "code",
   "execution_count": 31,
   "id": "fc38d3b2-09e5-4a5e-aff3-7587422b5441",
   "metadata": {},
   "outputs": [],
   "source": [
    "_ = f(x + h).series(x=h, x0=0, n=3).removeO().simplify()\n",
    "__ = f(x - h).series(x=h, x0=0, n=3).removeO().simplify()\n",
    "central_difference = Approx(\n",
    "    D(f(x), x), solve(Eq(_ - __, f(x + h) - f(x - h)), D(f(x), x))[0]\n",
    ")"
   ]
  },
  {
   "cell_type": "code",
   "execution_count": 32,
   "id": "827c20aa-da49-4af0-b471-9a665bb9e30b",
   "metadata": {},
   "outputs": [
    {
     "data": {
      "text/latex": [
       "$\\displaystyle \\frac{d}{d x} f{\\left(x \\right)} \\approx \\frac{- f{\\left(- h + x \\right)} + f{\\left(h + x \\right)}}{2 h}$"
      ],
      "text/plain": [
       "Eq(Derivative(f(x), x), (-f(-h + x) + f(h + x))/(2*h))"
      ]
     },
     "execution_count": 32,
     "metadata": {},
     "output_type": "execute_result"
    }
   ],
   "source": [
    "central_difference"
   ]
  },
  {
   "cell_type": "markdown",
   "id": "c878b3ed-0c90-44f9-be06-8bb0e4da12cf",
   "metadata": {},
   "source": [
    "### Second-order accurate finite difference approximation of $f_{xx}\\left(x\\right)$"
   ]
  },
  {
   "cell_type": "code",
   "execution_count": 33,
   "id": "980f0954-da1d-467e-91d5-459dcf58a3fb",
   "metadata": {},
   "outputs": [
    {
     "data": {
      "text/latex": [
       "$\\displaystyle f{\\left(h + x \\right)} = f{\\left(x \\right)} + h \\frac{d}{d x} f{\\left(x \\right)} + \\frac{h^{2} \\frac{d^{2}}{d x^{2}} f{\\left(x \\right)}}{2} + \\frac{h^{3} \\frac{d^{3}}{d x^{3}} f{\\left(x \\right)}}{6} + O\\left(h^{4}\\right)$"
      ],
      "text/plain": [
       "Eq(f(h + x), f(x) + h*Derivative(f(x), x) + h**2*Derivative(f(x), (x, 2))/2 + h**3*Derivative(f(x), (x, 3))/6 + O(h**4))"
      ]
     },
     "execution_count": 33,
     "metadata": {},
     "output_type": "execute_result"
    }
   ],
   "source": [
    "Eq(f(x + h), f(x + h).series(x=h, x0=0, n=4).simplify())"
   ]
  },
  {
   "cell_type": "code",
   "execution_count": 34,
   "id": "b60596e2-e6e1-4d7b-8b49-73dd726ed950",
   "metadata": {},
   "outputs": [
    {
     "data": {
      "text/latex": [
       "$\\displaystyle f{\\left(- h + x \\right)} = f{\\left(x \\right)} - h \\frac{d}{d x} f{\\left(x \\right)} + \\frac{h^{2} \\frac{d^{2}}{d x^{2}} f{\\left(x \\right)}}{2} - \\frac{h^{3} \\frac{d^{3}}{d x^{3}} f{\\left(x \\right)}}{6} + O\\left(h^{4}\\right)$"
      ],
      "text/plain": [
       "Eq(f(-h + x), f(x) - h*Derivative(f(x), x) + h**2*Derivative(f(x), (x, 2))/2 - h**3*Derivative(f(x), (x, 3))/6 + O(h**4))"
      ]
     },
     "execution_count": 34,
     "metadata": {},
     "output_type": "execute_result"
    }
   ],
   "source": [
    "Eq(f(x - h), f(x - h).series(x=h, x0=0, n=4).simplify())"
   ]
  },
  {
   "cell_type": "code",
   "execution_count": 35,
   "id": "303a294b-5469-47b3-91b5-c5728bd6ab63",
   "metadata": {},
   "outputs": [
    {
     "data": {
      "text/latex": [
       "$\\displaystyle f{\\left(- h + x \\right)} + f{\\left(h + x \\right)} = 2 f{\\left(x \\right)} + h^{2} \\frac{d^{2}}{d x^{2}} f{\\left(x \\right)} + O\\left(h^{4}\\right)$"
      ],
      "text/plain": [
       "Eq(f(-h + x) + f(h + x), 2*f(x) + h**2*Derivative(f(x), (x, 2)) + O(h**4))"
      ]
     },
     "execution_count": 35,
     "metadata": {},
     "output_type": "execute_result"
    }
   ],
   "source": [
    "Eq(\n",
    "    f(x + h) + f(x - h),\n",
    "    f(x + h).series(x=h, x0=0, n=4).simplify()\n",
    "    + f(x - h).series(x=h, x0=0, n=4).simplify(),\n",
    ")"
   ]
  },
  {
   "cell_type": "markdown",
   "id": "8ae8e2bb-a02b-4b0e-a0f8-8fa4c157f660",
   "metadata": {},
   "source": [
    "### Second-order symmetric difference"
   ]
  },
  {
   "cell_type": "code",
   "execution_count": 36,
   "id": "9abbb006-fc11-4cd0-92e2-ca40c5e5655f",
   "metadata": {},
   "outputs": [],
   "source": [
    "_ = f(x + h).series(x=h, x0=0, n=4).removeO().simplify()\n",
    "__ = f(x - h).series(x=h, x0=0, n=4).removeO().simplify()\n",
    "symmetric_difference = Approx(\n",
    "    D(f(x), x, 2), solve(Eq(_ + __, f(x + h) + f(x - h)), D(f(x), x, 2))[0]\n",
    ")"
   ]
  },
  {
   "cell_type": "code",
   "execution_count": 37,
   "id": "01a784af-668b-4226-a225-0e0e0ec0f227",
   "metadata": {},
   "outputs": [
    {
     "data": {
      "text/latex": [
       "$\\displaystyle \\frac{d^{2}}{d x^{2}} f{\\left(x \\right)} \\approx \\frac{- 2 f{\\left(x \\right)} + f{\\left(- h + x \\right)} + f{\\left(h + x \\right)}}{h^{2}}$"
      ],
      "text/plain": [
       "Eq(Derivative(f(x), (x, 2)), (-2*f(x) + f(-h + x) + f(h + x))/h**2)"
      ]
     },
     "execution_count": 37,
     "metadata": {},
     "output_type": "execute_result"
    }
   ],
   "source": [
    "symmetric_difference"
   ]
  },
  {
   "cell_type": "code",
   "execution_count": 38,
   "id": "ad5bcfd2-08d7-4c53-975e-e1e92349e397",
   "metadata": {},
   "outputs": [
    {
     "name": "stdout",
     "output_type": "stream",
     "text": [
      "Symbolic variables already cleared\n"
     ]
    }
   ],
   "source": [
    "cleaner([\"x\", \"h\", \"f\"])"
   ]
  },
  {
   "cell_type": "markdown",
   "id": "53dda78d-6664-4272-b5a3-8e3cf1a81cae",
   "metadata": {},
   "source": [
    "## Example $3$"
   ]
  },
  {
   "cell_type": "code",
   "execution_count": 39,
   "id": "db2e40b4-9540-4a83-9d91-67f9221cd9a0",
   "metadata": {},
   "outputs": [],
   "source": [
    "def forward_first_derivative(\n",
    "    f: np.ufunc, x: float, h: Float[Array, \"dim1\"]\n",
    ") -> Float[Array, \"dim1\"]:\n",
    "    return (f(x + h) - f(x)) / h\n",
    "\n",
    "\n",
    "def backward_first_derivative(\n",
    "    f: np.ufunc, x: float, h: Float[Array, \"dim1\"]\n",
    ") -> Float[Array, \"dim1\"]:\n",
    "    return (f(x) - f(x - h)) / h\n",
    "\n",
    "\n",
    "def central_first_derivative(\n",
    "    f: np.ufunc, x: float, h: Float[Array, \"dim1\"]\n",
    ") -> Float[Array, \"dim1\"]:\n",
    "    return (f(x + h) - f(x - h)) / (2 * h)\n",
    "\n",
    "\n",
    "def central_second_derivative(\n",
    "    f: np.ufunc, x: float, h: Float[Array, \"dim1\"]\n",
    ") -> Float[Array, \"dim1\"]:\n",
    "    return (f(x + h) - 2 * f(x) + f(x - h)) / h**2"
   ]
  },
  {
   "cell_type": "code",
   "execution_count": 40,
   "id": "26c9b40d-6e39-43a3-9a1d-45ae033f9869",
   "metadata": {},
   "outputs": [],
   "source": [
    "f = np.cos\n",
    "f_prime = lambda x: -np.sin(x)\n",
    "f_prime_prime = lambda x: -np.cos(x)\n",
    "x = np.pi / 4\n",
    "h = np.array(0.1)\n",
    "exact_first_derivative = f_prime(x)\n",
    "exact_second_derivative = f_prime_prime(x)"
   ]
  },
  {
   "cell_type": "code",
   "execution_count": 41,
   "id": "f48a655e-cb5d-405b-bf33-3b2091530155",
   "metadata": {},
   "outputs": [],
   "source": [
    "ffd = forward_first_derivative(f=f, x=x, h=h)\n",
    "bfd = backward_first_derivative(f=f, x=x, h=h)\n",
    "cfd = central_first_derivative(f=f, x=x, h=h)\n",
    "csd = central_second_derivative(f=f, x=x, h=h)"
   ]
  },
  {
   "cell_type": "code",
   "execution_count": 42,
   "id": "a90741e8-d9e8-4d43-abd9-889982bfc930",
   "metadata": {},
   "outputs": [
    {
     "name": "stdout",
     "output_type": "stream",
     "text": [
      "First derivative: -0.7071067811865475\n",
      "Forward first derivative: -0.741254745095894\n",
      "Backward first derivative: -0.6706029729039886\n",
      "Central first derivative: -0.7059288589999413\n",
      "Second derivative: -0.7071067811865476\n",
      "Central second derivative: -0.7065177219190532\n"
     ]
    }
   ],
   "source": [
    "print(\n",
    "    f\"First derivative: {exact_first_derivative}\\nForward first derivative: {ffd}\\nBackward first derivative: {bfd}\\\n",
    "\\nCentral first derivative: {cfd}\\nSecond derivative: {exact_second_derivative}\\nCentral second derivative: {csd}\"\n",
    ")"
   ]
  },
  {
   "cell_type": "code",
   "execution_count": 43,
   "id": "da3bfa6e-3f53-4e1b-8e8a-26420f13bff5",
   "metadata": {},
   "outputs": [],
   "source": [
    "error_ffd = np.abs(exact_first_derivative - ffd)\n",
    "error_bfd = np.abs(exact_first_derivative - bfd)\n",
    "error_cfd = np.abs(exact_first_derivative - cfd)\n",
    "error_csd = np.abs(exact_second_derivative - csd)"
   ]
  },
  {
   "cell_type": "code",
   "execution_count": 44,
   "id": "f941784d-89a1-483f-b254-45da686d63c0",
   "metadata": {},
   "outputs": [
    {
     "name": "stdout",
     "output_type": "stream",
     "text": [
      "Error forward first derivative: 0.03414796390934649\n",
      "Error backward first derivative: 0.036503808282558836\n",
      "Error central first derivative: 0.0011779221866061729\n",
      "Error central second derivative: 0.0005890592674944184\n"
     ]
    }
   ],
   "source": [
    "print(\n",
    "    f\"Error forward first derivative: {error_ffd}\\nError backward first derivative: {error_bfd}\\\n",
    "\\nError central first derivative: {error_cfd}\\nError central second derivative: {error_csd}\"\n",
    ")"
   ]
  },
  {
   "cell_type": "markdown",
   "id": "96052220-1228-4d09-888f-292f5de19f75",
   "metadata": {},
   "source": [
    "## Estimating the order of an approximation\n",
    "\n",
    "$$\n",
    "n\\approx\n",
    "\\dfrac{\\log\\left|E\\left(h_{\\max}\\right)\\right| -\\log\\left|E\\left(h_{\\min}\\right)\\right|}{\n",
    "\\log\\left(h_{\\max}\\right)-\\log\\left(h_{\\min}\\right)\n",
    "}.\n",
    "$$"
   ]
  },
  {
   "cell_type": "code",
   "execution_count": 45,
   "id": "e1e2eb4e-9d09-493b-8141-e95c47d559d9",
   "metadata": {},
   "outputs": [],
   "source": [
    "def estimate_order(\n",
    "    h: Float[Array, \"dim1\"], truncation_error: Float[Array, \"dim1\"]\n",
    ") -> float:\n",
    "    assert h.size == truncation_error.size\n",
    "\n",
    "    Eh_max = truncation_error[np.argmax(h, axis=0)[0]][0]\n",
    "    Eh_min = truncation_error[np.argmin(h, axis=0)[0]][0]\n",
    "\n",
    "    return (np.log(np.abs(Eh_max)) - np.log(np.abs(Eh_min))) / (\n",
    "        np.log(h.max()) - np.log(h.min())\n",
    "    )"
   ]
  },
  {
   "cell_type": "markdown",
   "id": "8ae02d77-03cb-43f8-84c9-fffbb4db1eb6",
   "metadata": {},
   "source": [
    "## Table 2.1\n",
    "\n",
    "Finite-difference approximations of the first derivative of\n",
    "$f\\left(x\\right)=\\cos\\left(x\\right)$ at $x=\\dfrac{\\pi}{4}$ using\n",
    "step lengths $h\\in\\left\\{0.1,0.05,0.25,0.0125\\right\\}$."
   ]
  },
  {
   "cell_type": "code",
   "execution_count": 46,
   "id": "0938c101-ef02-4c4d-b9a9-18ddd37036b9",
   "metadata": {},
   "outputs": [],
   "source": [
    "f = np.cos\n",
    "f_prime = lambda x: -np.sin(x)\n",
    "x = np.pi / 4\n",
    "h = np.reciprocal(10 * (2 ** np.arange(4).astype(float)))[np.newaxis].T"
   ]
  },
  {
   "cell_type": "code",
   "execution_count": 47,
   "id": "6ba8d75b-1dd2-4d92-944f-925148728265",
   "metadata": {},
   "outputs": [
    {
     "data": {
      "text/plain": [
       "array([[0.1   ],\n",
       "       [0.05  ],\n",
       "       [0.025 ],\n",
       "       [0.0125]])"
      ]
     },
     "execution_count": 47,
     "metadata": {},
     "output_type": "execute_result"
    }
   ],
   "source": [
    "h"
   ]
  },
  {
   "cell_type": "code",
   "execution_count": 48,
   "id": "671d2aa4-b7f1-4829-b00e-c07bfb52ad83",
   "metadata": {},
   "outputs": [],
   "source": [
    "forward = forward_first_derivative(f=f, x=x, h=h)\n",
    "backward = backward_first_derivative(f=f, x=x, h=h)\n",
    "central = central_first_derivative(f=f, x=x, h=h)"
   ]
  },
  {
   "cell_type": "code",
   "execution_count": 49,
   "id": "96478537-e0a9-4473-8634-896e9757d32a",
   "metadata": {},
   "outputs": [],
   "source": [
    "tabular = np.concatenate((h, forward, backward, central), axis=1)\n",
    "header = [\"h\", \"Forward\", \"Backward\", \"Central\"]"
   ]
  },
  {
   "cell_type": "code",
   "execution_count": 50,
   "id": "8d3e3fb3-0f97-43ca-8e99-08180cd57a2b",
   "metadata": {},
   "outputs": [
    {
     "name": "stdout",
     "output_type": "stream",
     "text": [
      "     h    Forward    Backward    Central\n",
      "------  ---------  ----------  ---------\n",
      "0.1     -0.741255   -0.670603  -0.705929\n",
      "0.05    -0.724486   -0.689138  -0.706812\n",
      "0.025   -0.715872   -0.698195  -0.707033\n",
      "0.0125  -0.711508   -0.702669  -0.707088\n"
     ]
    }
   ],
   "source": [
    "print(tabulate(tabular_data=tabular, headers=header))  # TODO: As xarray."
   ]
  },
  {
   "cell_type": "code",
   "execution_count": 51,
   "id": "fc858041-05cc-4205-b963-89ca343056b7",
   "metadata": {},
   "outputs": [
    {
     "data": {
      "text/plain": [
       "-0.7071067811865475"
      ]
     },
     "execution_count": 51,
     "metadata": {},
     "output_type": "execute_result"
    }
   ],
   "source": [
    "f_prime(x)"
   ]
  },
  {
   "cell_type": "code",
   "execution_count": 52,
   "id": "fe08f5c6-14f2-4c78-8eb8-b983b8900b6d",
   "metadata": {},
   "outputs": [],
   "source": [
    "error_forward = np.abs(f_prime(x) - forward)\n",
    "error_backward = np.abs(f_prime(x) - backward)\n",
    "error_central = np.abs(f_prime(x) - central)"
   ]
  },
  {
   "cell_type": "code",
   "execution_count": 53,
   "id": "f5f60a70-e9c5-4013-a04f-1625ad791775",
   "metadata": {},
   "outputs": [
    {
     "data": {
      "application/vnd.jupyter.widget-view+json": {
       "model_id": "61488318ecee4326876b46e5f6e61235",
       "version_major": 2,
       "version_minor": 0
      },
      "image/png": "[encoded data removed]",
      "text/html": [
       "\n",
       "            <div style=\"display: inline-block;\">\n",
       "                <div class=\"jupyter-widgets widget-label\" style=\"text-align: center;\">\n",
       "                    Figure\n",
       "                </div>\n",
       "                <img src='data:image/png;base64,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' width=640.0/>\n",
       "            </div>\n",
       "        "
      ],
      "text/plain": [
       "Canvas(toolbar=Toolbar(toolitems=[('Home', 'Reset original view', 'home', 'home'), ('Back', 'Back to previous …"
      ]
     },
     "metadata": {},
     "output_type": "display_data"
    }
   ],
   "source": [
    "fig, ax = plt.subplots()\n",
    "ax.loglog(h, error_forward, \"ro-\", mfc=\"none\", label=\"forward\")\n",
    "ax.loglog(h, error_backward, \"b^-\", mfc=\"none\", label=\"backward\")\n",
    "ax.loglog(h, error_central, \"ks-\", mfc=\"none\", label=\"central\")\n",
    "ax.set_xlabel(r\"$h$\")\n",
    "ax.set_ylabel(r\"Error\")\n",
    "ax.set_title(\"Plot of the error for the forward, backward and central differences\")\n",
    "ax.grid()\n",
    "legend = ax.legend(loc=\"best\", shadow=True)"
   ]
  },
  {
   "cell_type": "markdown",
   "id": "8c13d0e1-68bc-4d7c-b4ce-cc594fd3f0bb",
   "metadata": {},
   "source": [
    "## Table 2.2\n",
    "\n",
    "Truncation errors for the Taylor series approximations of\n",
    "$\\cos\\left(1+h\\right)$ for $h\\in\\left\\{0.5,0.25,0.125,0.0625\\right\\}$."
   ]
  },
  {
   "cell_type": "code",
   "execution_count": 54,
   "id": "de8fb2bc-4d7d-4180-aa47-dcc2dbfda0ba",
   "metadata": {},
   "outputs": [],
   "source": [
    "f = lambda h: np.cos(1 + h)\n",
    "f_prime = lambda h: -np.sin(1 + h)\n",
    "x = 1\n",
    "h = np.reciprocal(2 ** np.arange(1, 5).astype(float))[np.newaxis].T"
   ]
  },
  {
   "cell_type": "code",
   "execution_count": 55,
   "id": "65f9d9cc-c4d2-476a-a00f-aa2d6ee791b8",
   "metadata": {},
   "outputs": [
    {
     "data": {
      "text/plain": [
       "array([[0.5   ],\n",
       "       [0.25  ],\n",
       "       [0.125 ],\n",
       "       [0.0625]])"
      ]
     },
     "execution_count": 55,
     "metadata": {},
     "output_type": "execute_result"
    }
   ],
   "source": [
    "h"
   ]
  },
  {
   "cell_type": "code",
   "execution_count": 56,
   "id": "f32fc060-526f-4a9d-b72d-251485cb00f1",
   "metadata": {},
   "outputs": [],
   "source": [
    "forward = forward_first_derivative(f=f, x=x, h=h)\n",
    "backward = backward_first_derivative(f=f, x=x, h=h)\n",
    "central = central_first_derivative(f=f, x=x, h=h)"
   ]
  },
  {
   "cell_type": "code",
   "execution_count": 57,
   "id": "7f479291-c10e-4bc8-9d75-d801f9d36805",
   "metadata": {},
   "outputs": [],
   "source": [
    "error_forward = np.abs(f_prime(x) - forward)\n",
    "error_backward = np.abs(f_prime(x) - backward)\n",
    "error_central = np.abs(f_prime(x) - central)"
   ]
  },
  {
   "cell_type": "code",
   "execution_count": 58,
   "id": "8c4e2359-11a2-47f9-8529-ac3f705b96b7",
   "metadata": {},
   "outputs": [],
   "source": [
    "tabular = np.concatenate((h, error_forward, error_backward, error_central), axis=1)\n",
    "header = [\"h\", \"Forward error\", \"Backward error\", \"Central error\"]"
   ]
  },
  {
   "cell_type": "code",
   "execution_count": 59,
   "id": "e176831c-ca27-4d2f-a80f-fb8e6bc957f4",
   "metadata": {},
   "outputs": [
    {
     "name": "stdout",
     "output_type": "stream",
     "text": [
      "     h    Forward error    Backward error    Central error\n",
      "------  ---------------  ----------------  ---------------\n",
      "0.5           0.139304          0.0644706      0.0374166\n",
      "0.25          0.0611903         0.0423057      0.00944229\n",
      "0.125         0.0283414         0.0236092      0.00236611\n",
      "0.0625        0.0135922         0.0124085      0.000591875\n"
     ]
    }
   ],
   "source": [
    "print(tabulate(tabular_data=tabular, headers=header))"
   ]
  },
  {
   "cell_type": "code",
   "execution_count": 60,
   "id": "7d9c8897-4247-4103-8d4b-460b433aa75a",
   "metadata": {},
   "outputs": [
    {
     "data": {
      "text/plain": [
       "1.1191270541574243"
      ]
     },
     "execution_count": 60,
     "metadata": {},
     "output_type": "execute_result"
    }
   ],
   "source": [
    "estimate_order(h, error_forward)"
   ]
  },
  {
   "cell_type": "code",
   "execution_count": 61,
   "id": "02ac6090-95e6-40bf-b54b-a4f263af4ad7",
   "metadata": {},
   "outputs": [
    {
     "data": {
      "text/plain": [
       "0.7924386666069776"
      ]
     },
     "execution_count": 61,
     "metadata": {},
     "output_type": "execute_result"
    }
   ],
   "source": [
    "estimate_order(h, error_backward)"
   ]
  },
  {
   "cell_type": "code",
   "execution_count": 62,
   "id": "df4cb6ea-be86-49f1-90b4-5f4efc1bff87",
   "metadata": {},
   "outputs": [
    {
     "data": {
      "text/plain": [
       "1.9940809174948577"
      ]
     },
     "execution_count": 62,
     "metadata": {},
     "output_type": "execute_result"
    }
   ],
   "source": [
    "estimate_order(h, error_central)"
   ]
  },
  {
   "cell_type": "markdown",
   "id": "426521e9-c2b7-4233-b53e-c9038a69d1f3",
   "metadata": {},
   "source": [
    "## Finite-difference approximations of mixed derivatives"
   ]
  },
  {
   "cell_type": "code",
   "execution_count": 63,
   "id": "504fe1c8-aa3b-4061-ab60-9b5327a8cbbb",
   "metadata": {},
   "outputs": [],
   "source": [
    "x, y = symbols(\"x y\")\n",
    "dx = Symbol(r\"\\Delta x\")\n",
    "dy = Symbol(r\"\\Delta y\")\n",
    "f = Function(\"f\")\n",
    "arg1, arg2 = Wild(\"arg1\"), Wild(\"arg2\")"
   ]
  },
  {
   "cell_type": "code",
   "execution_count": 64,
   "id": "99e62eb0-df8d-4dad-885b-c654a00189b8",
   "metadata": {},
   "outputs": [],
   "source": [
    "_ = Approx(f(x + dx, y), f(x + dx, y).series(x=dx, x0=0, n=2).removeO().simplify())"
   ]
  },
  {
   "cell_type": "code",
   "execution_count": 65,
   "id": "8bcb2757-207f-42b9-81ec-c64c46ac8e57",
   "metadata": {},
   "outputs": [],
   "source": [
    "__ = Approx(f(x, y + dy), f(x, y + dy).series(x=dy, x0=0, n=2).removeO().simplify())"
   ]
  },
  {
   "cell_type": "code",
   "execution_count": 66,
   "id": "2bc29465-9d01-43eb-a9e5-84a84e7aeaa3",
   "metadata": {},
   "outputs": [],
   "source": [
    "Eq1 = Approx(D(f(x, y), x), solve(_, D(f(x, y), x))[0])"
   ]
  },
  {
   "cell_type": "code",
   "execution_count": 67,
   "id": "7a109b37-29e6-42ea-8fe7-3e1d367fcfc8",
   "metadata": {},
   "outputs": [],
   "source": [
    "Eq2 = Approx(D(f(x, y), y), solve(__, D(f(x, y), y))[0])"
   ]
  },
  {
   "cell_type": "code",
   "execution_count": 68,
   "id": "669d1c8f-c47c-422a-ad1b-a884d0be694a",
   "metadata": {},
   "outputs": [
    {
     "data": {
      "text/latex": [
       "$\\displaystyle \\frac{\\partial}{\\partial x} f{\\left(x,y \\right)} \\approx \\frac{- f{\\left(x,y \\right)} + f{\\left(\\Delta x + x,y \\right)}}{\\Delta x}$"
      ],
      "text/plain": [
       "Eq(Derivative(f(x, y), x), (-f(x, y) + f(\\Delta x + x, y))/\\Delta x)"
      ]
     },
     "execution_count": 68,
     "metadata": {},
     "output_type": "execute_result"
    }
   ],
   "source": [
    "Eq1"
   ]
  },
  {
   "cell_type": "code",
   "execution_count": 69,
   "id": "ab80e86b-1b61-4177-b962-fa180fe86c51",
   "metadata": {},
   "outputs": [
    {
     "data": {
      "text/latex": [
       "$\\displaystyle \\frac{\\partial}{\\partial y} f{\\left(x,y \\right)} \\approx \\frac{- f{\\left(x,y \\right)} + f{\\left(x,\\Delta y + y \\right)}}{\\Delta y}$"
      ],
      "text/plain": [
       "Eq(Derivative(f(x, y), y), (-f(x, y) + f(x, \\Delta y + y))/\\Delta y)"
      ]
     },
     "execution_count": 69,
     "metadata": {},
     "output_type": "execute_result"
    }
   ],
   "source": [
    "Eq2"
   ]
  },
  {
   "cell_type": "code",
   "execution_count": 70,
   "id": "1221d3c0-73b5-456f-9e66-fea844b0ce33",
   "metadata": {},
   "outputs": [
    {
     "data": {
      "text/latex": [
       "$\\displaystyle \\frac{\\partial^{2}}{\\partial x\\partial y} f{\\left(x,y \\right)} \\approx \\frac{- \\frac{\\partial}{\\partial y} f{\\left(x,y \\right)} + \\frac{\\partial}{\\partial y} f{\\left(\\Delta x + x,y \\right)}}{\\Delta x}$"
      ],
      "text/plain": [
       "Eq(Derivative(f(x, y), y, x), (-Derivative(f(x, y), y) + Derivative(f(\\Delta x + x, y), y))/\\Delta x)"
      ]
     },
     "execution_count": 70,
     "metadata": {},
     "output_type": "execute_result"
    }
   ],
   "source": [
    "Approx(\n",
    "    D(D(f(x, y), y), x),\n",
    "    Eq1.rhs.replace(f(arg1, arg2), D(f(arg1, arg2), arg2)),\n",
    ")"
   ]
  },
  {
   "cell_type": "code",
   "execution_count": 71,
   "id": "5e894795-c3da-4745-98f4-e626ac269bf0",
   "metadata": {},
   "outputs": [
    {
     "data": {
      "text/latex": [
       "$\\displaystyle \\frac{\\partial^{2}}{\\partial x\\partial y} f{\\left(x,y \\right)} \\approx \\frac{- \\frac{- f{\\left(x,y \\right)} + f{\\left(x,\\Delta y + y \\right)}}{\\Delta y} + \\frac{- f{\\left(\\Delta x + x,y \\right)} + f{\\left(\\Delta x + x,\\Delta y + y \\right)}}{\\Delta y}}{\\Delta x}$"
      ],
      "text/plain": [
       "Eq(Derivative(f(x, y), y, x), (-(-f(x, y) + f(x, \\Delta y + y))/\\Delta y + (-f(\\Delta x + x, y) + f(\\Delta x + x, \\Delta y + y))/\\Delta y)/\\Delta x)"
      ]
     },
     "execution_count": 71,
     "metadata": {},
     "output_type": "execute_result"
    }
   ],
   "source": [
    "Approx(\n",
    "    D(D(f(x, y), y), x),\n",
    "    Eq1.rhs.replace(f(arg1, arg2), D(f(arg1, arg2), arg2)).subs(\n",
    "        {\n",
    "            D(f(x + dx, y), y): Eq2.rhs.replace(f(arg1, arg2), f(arg1 + dx, arg2)),\n",
    "            D(f(x, y), y): Eq2.rhs,\n",
    "        }\n",
    "    ),\n",
    ")"
   ]
  },
  {
   "cell_type": "code",
   "execution_count": 72,
   "id": "14660d9c-2204-45c3-a379-f1c81cf83089",
   "metadata": {},
   "outputs": [
    {
     "data": {
      "text/latex": [
       "$\\displaystyle \\frac{\\partial^{2}}{\\partial x\\partial y} f{\\left(x,y \\right)} \\approx \\frac{f{\\left(x,y \\right)} - f{\\left(x,\\Delta y + y \\right)} - f{\\left(\\Delta x + x,y \\right)} + f{\\left(\\Delta x + x,\\Delta y + y \\right)}}{\\Delta x \\Delta y}$"
      ],
      "text/plain": [
       "Eq(Derivative(f(x, y), y, x), (f(x, y) - f(x, \\Delta y + y) - f(\\Delta x + x, y) + f(\\Delta x + x, \\Delta y + y))/(\\Delta x*\\Delta y))"
      ]
     },
     "execution_count": 72,
     "metadata": {},
     "output_type": "execute_result"
    }
   ],
   "source": [
    "Approx(\n",
    "    D(D(f(x, y), y), x),\n",
    "    ((Eq2.rhs.replace(f(arg1, arg2), f(arg1 + dx, arg2)) - Eq2.rhs) / dx).simplify(),\n",
    ")"
   ]
  },
  {
   "cell_type": "markdown",
   "id": "416e6b54-db12-42f2-995c-2b860bfac015",
   "metadata": {},
   "source": [
    "## Deriving finite-difference formulae using the method of undetermined coeffients"
   ]
  },
  {
   "cell_type": "code",
   "execution_count": 73,
   "id": "2ac42096-3f48-4b5d-a02f-5060b9968181",
   "metadata": {},
   "outputs": [],
   "source": [
    "c_1, c_2, c_3, x, h = symbols(\"c_1 c_2 c_3 x h\")\n",
    "f_n = Function(\"f_{(n)}\")"
   ]
  },
  {
   "cell_type": "code",
   "execution_count": 74,
   "id": "4e9355db-455f-425f-9137-a90c609d0255",
   "metadata": {},
   "outputs": [
    {
     "data": {
      "text/latex": [
       "$\\displaystyle f_{(n)}{\\left(x \\right)} = c_{1} f{\\left(- h + x \\right)} + c_{2} f{\\left(x \\right)} + c_{3} f{\\left(h + x \\right)}$"
      ],
      "text/plain": [
       "Eq(f_{(n)}(x), c_1*f(-h + x) + c_2*f(x) + c_3*f(h + x))"
      ]
     },
     "execution_count": 74,
     "metadata": {},
     "output_type": "execute_result"
    }
   ],
   "source": [
    "Eq(f_n(x), c_1 * f(x - h) + c_2 * f(x) + c_3 * f(x + h))"
   ]
  },
  {
   "cell_type": "code",
   "execution_count": 75,
   "id": "d4cafdc5-a9fe-43ad-87fd-39b5c1220bc0",
   "metadata": {},
   "outputs": [
    {
     "data": {
      "text/latex": [
       "$\\displaystyle f_{(n)}{\\left(x \\right)} = c_{3} f{\\left(x \\right)} + c_{3} h \\frac{d}{d x} f{\\left(x \\right)} + \\frac{c_{3} h^{2} \\frac{d^{2}}{d x^{2}} f{\\left(x \\right)}}{2} + c_{2} f{\\left(x \\right)} + c_{1} f{\\left(x \\right)} - c_{1} h \\frac{d}{d x} f{\\left(x \\right)} + \\frac{c_{1} h^{2} \\frac{d^{2}}{d x^{2}} f{\\left(x \\right)}}{2} + O\\left(h^{3}\\right)$"
      ],
      "text/plain": [
       "Eq(f_{(n)}(x), c_3*f(x) + c_3*h*Derivative(f(x), x) + c_3*h**2*Derivative(f(x), (x, 2))/2 + c_2*f(x) + c_1*f(x) - c_1*h*Derivative(f(x), x) + c_1*h**2*Derivative(f(x), (x, 2))/2 + O(h**3))"
      ]
     },
     "execution_count": 75,
     "metadata": {},
     "output_type": "execute_result"
    }
   ],
   "source": [
    "Eq(\n",
    "    f_n(x),\n",
    "    (\n",
    "        c_1 * f(x - h).series(x=h, x0=0, n=3).simplify()\n",
    "        + c_2 * f(x)\n",
    "        + c_3 * f(x + h).series(x=h, x0=0, n=3).simplify()\n",
    "    ).simplify(),\n",
    ")"
   ]
  },
  {
   "cell_type": "code",
   "execution_count": 76,
   "id": "e1e75e6a-92e4-414c-9b58-656b62186c2c",
   "metadata": {},
   "outputs": [
    {
     "data": {
      "text/plain": [
       "{c_1: -1/(2*h), c_2: 0, c_3: 1/(2*h)}"
      ]
     },
     "execution_count": 76,
     "metadata": {},
     "output_type": "execute_result"
    }
   ],
   "source": [
    "solve_linear_system(\n",
    "    Matrix(((1, 1, 1, 0), (-1, 0, 1, 1 / h), (1, 0, 1, 0))), c_1, c_2, c_3\n",
    ")"
   ]
  },
  {
   "cell_type": "code",
   "execution_count": 77,
   "id": "6ad0365e-5d52-44ea-bcc0-376310b56018",
   "metadata": {},
   "outputs": [
    {
     "data": {
      "text/plain": [
       "{c_1: h**(-2), c_2: -2/h**2, c_3: h**(-2)}"
      ]
     },
     "execution_count": 77,
     "metadata": {},
     "output_type": "execute_result"
    }
   ],
   "source": [
    "solve_linear_system(\n",
    "    Matrix(((1, 1, 1, 0), (-1, 0, 1, 0), (1, 0, 1, 2 / h**2))), c_1, c_2, c_3\n",
    ")"
   ]
  },
  {
   "cell_type": "markdown",
   "id": "41c53b4a-e949-4d97-9a97-f276b079b5fb",
   "metadata": {},
   "source": [
    "## Example 4"
   ]
  },
  {
   "cell_type": "code",
   "execution_count": 78,
   "id": "5594c1b3-81c7-4b80-ad50-a51dddfff9c0",
   "metadata": {},
   "outputs": [
    {
     "data": {
      "text/latex": [
       "$\\displaystyle f_{(n)}{\\left(x \\right)} = c_{1} f{\\left(x \\right)} + c_{2} f{\\left(h + x \\right)} + c_{3} f{\\left(2 h + x \\right)}$"
      ],
      "text/plain": [
       "Eq(f_{(n)}(x), c_1*f(x) + c_2*f(h + x) + c_3*f(2*h + x))"
      ]
     },
     "execution_count": 78,
     "metadata": {},
     "output_type": "execute_result"
    }
   ],
   "source": [
    "Eq(f_n(x), c_1 * f(x) + c_2 * f(x + h) + c_3 * f(x + 2 * h))"
   ]
  },
  {
   "cell_type": "code",
   "execution_count": 79,
   "id": "f8a40e19-6b2c-4c65-9920-8b8b9032b650",
   "metadata": {},
   "outputs": [
    {
     "data": {
      "text/latex": [
       "$\\displaystyle f{\\left(x \\right)} + 2 h \\frac{d}{d x} f{\\left(x \\right)} + 2 h^{2} \\frac{d^{2}}{d x^{2}} f{\\left(x \\right)} + O\\left(h^{3}\\right)$"
      ],
      "text/plain": [
       "f(x) + 2*h*Derivative(f(x), x) + 2*h**2*Derivative(f(x), (x, 2)) + O(h**3)"
      ]
     },
     "execution_count": 79,
     "metadata": {},
     "output_type": "execute_result"
    }
   ],
   "source": [
    "f(x + 2 * h).series(x=2 * h, x0=0, n=3).simplify()"
   ]
  },
  {
   "cell_type": "code",
   "execution_count": 80,
   "id": "dfdea964-64be-47eb-8f91-691e1822bcdb",
   "metadata": {},
   "outputs": [
    {
     "data": {
      "text/latex": [
       "$\\displaystyle f_{(n)}{\\left(x \\right)} = c_{3} f{\\left(x \\right)} + 2 c_{3} h \\frac{d}{d x} f{\\left(x \\right)} + 2 c_{3} h^{2} \\frac{d^{2}}{d x^{2}} f{\\left(x \\right)} + c_{2} f{\\left(x \\right)} + c_{2} h \\frac{d}{d x} f{\\left(x \\right)} + \\frac{c_{2} h^{2} \\frac{d^{2}}{d x^{2}} f{\\left(x \\right)}}{2} + c_{1} f{\\left(x \\right)} + O\\left(h^{3}\\right)$"
      ],
      "text/plain": [
       "Eq(f_{(n)}(x), c_3*f(x) + 2*c_3*h*Derivative(f(x), x) + 2*c_3*h**2*Derivative(f(x), (x, 2)) + c_2*f(x) + c_2*h*Derivative(f(x), x) + c_2*h**2*Derivative(f(x), (x, 2))/2 + c_1*f(x) + O(h**3))"
      ]
     },
     "execution_count": 80,
     "metadata": {},
     "output_type": "execute_result"
    }
   ],
   "source": [
    "Eq(\n",
    "    f_n(x),\n",
    "    (\n",
    "        c_1 * f(x)\n",
    "        + c_2 * f(x + h).series(x=h, x0=0, n=3).simplify()\n",
    "        + c_3 * f(x + 2 * h).series(x=2 * h, x0=0, n=3).simplify()\n",
    "    ).simplify(),\n",
    ")"
   ]
  },
  {
   "cell_type": "code",
   "execution_count": 81,
   "id": "deb67e55-7d26-4257-b89f-4d0486b82ad8",
   "metadata": {},
   "outputs": [
    {
     "data": {
      "text/plain": [
       "{c_1: -1.5/h, c_2: 2.0/h, c_3: -0.5/h}"
      ]
     },
     "execution_count": 81,
     "metadata": {},
     "output_type": "execute_result"
    }
   ],
   "source": [
    "solve_linear_system(\n",
    "    Matrix(((1, 1, 1, 0), (0, 1, 2, 1 / h), (0, 1 / 2, 2, 0))), c_1, c_2, c_3\n",
    ")"
   ]
  },
  {
   "cell_type": "markdown",
   "id": "59dbd604-86b1-4f10-be10-70ad120abc90",
   "metadata": {},
   "source": [
    "## The finite-difference toolkit"
   ]
  },
  {
   "cell_type": "code",
   "execution_count": 82,
   "id": "c92d5ede-f9b7-4cb8-ba1f-0194f0c97206",
   "metadata": {},
   "outputs": [],
   "source": [
    "t, x = symbols(\"t x\")\n",
    "dt = Symbol(r\"\\Delta t\")\n",
    "dx = Symbol(r\"\\Delta x\")\n",
    "f = Function(\"f\")"
   ]
  },
  {
   "cell_type": "code",
   "execution_count": 83,
   "id": "53330137-b00e-4d7b-a41d-a008de9bf937",
   "metadata": {},
   "outputs": [],
   "source": [
    "_ = f(t, x + dx).series(x=dx, x0=0, n=2).removeO().simplify()\n",
    "__ = f(t, x - dx).series(x=dx, x0=0, n=2).removeO().simplify()"
   ]
  },
  {
   "cell_type": "code",
   "execution_count": 84,
   "id": "98e9d62a-9213-43fc-bd40-299cfe1cd7f0",
   "metadata": {},
   "outputs": [
    {
     "data": {
      "text/latex": [
       "$\\displaystyle \\frac{\\partial}{\\partial x} f{\\left(t,x \\right)} \\approx \\frac{- f{\\left(t,- \\Delta x + x \\right)} + f{\\left(t,\\Delta x + x \\right)}}{2 \\Delta x}$"
      ],
      "text/plain": [
       "Eq(Derivative(f(t, x), x), (-f(t, -\\Delta x + x) + f(t, \\Delta x + x))/(2*\\Delta x))"
      ]
     },
     "execution_count": 84,
     "metadata": {},
     "output_type": "execute_result"
    }
   ],
   "source": [
    "Approx(D(f(t, x), x), solve(Eq(_ - __, f(t, x + dx) - f(t, x - dx)), D(f(t, x), x))[0])"
   ]
  },
  {
   "cell_type": "code",
   "execution_count": 85,
   "id": "c0c5cc37-721f-4579-9614-76311c859464",
   "metadata": {},
   "outputs": [],
   "source": [
    "_ = f(t + dt, x).series(x=dt, x0=0, n=2).removeO().simplify()\n",
    "__ = f(t - dt, x).series(x=dt, x0=0, n=2).removeO().simplify()"
   ]
  },
  {
   "cell_type": "code",
   "execution_count": 86,
   "id": "87d1ad78-38c1-438d-8f90-3a4d899d8407",
   "metadata": {},
   "outputs": [
    {
     "data": {
      "text/latex": [
       "$\\displaystyle \\frac{\\partial}{\\partial t} f{\\left(t,x \\right)} \\approx \\frac{- f{\\left(- \\Delta t + t,x \\right)} + f{\\left(\\Delta t + t,x \\right)}}{2 \\Delta t}$"
      ],
      "text/plain": [
       "Eq(Derivative(f(t, x), t), (-f(-\\Delta t + t, x) + f(\\Delta t + t, x))/(2*\\Delta t))"
      ]
     },
     "execution_count": 86,
     "metadata": {},
     "output_type": "execute_result"
    }
   ],
   "source": [
    "Approx(D(f(t, x), t), solve(Eq(_ - __, f(t + dt, x) - f(t - dt, x)), D(f(t, x), t))[0])"
   ]
  },
  {
   "cell_type": "markdown",
   "id": "d648a0ad-5508-49af-a74c-30e0e4ff3cd0",
   "metadata": {},
   "source": [
    "## Finite-Difference Toolkit"
   ]
  },
  {
   "cell_type": "code",
   "execution_count": 87,
   "id": "21e608c3-6387-438b-8e52-89c7a685e70a",
   "metadata": {},
   "outputs": [],
   "source": [
    "# Eq(D(f(x), x, 4), 0)"
   ]
  },
  {
   "cell_type": "markdown",
   "id": "83206722-b40d-4b6b-a56a-70b8e3b7a89b",
   "metadata": {},
   "source": [
    "## Example of a finite difference scheme\n",
    "\n",
    "Let $U\\left(t,x\\right)$ the concentration of some substance and $v$ is the speed that the substance travels\n",
    "along $a\\leq x\\leq b$.\n",
    "\n",
    "$$\n",
    "\\begin{cases}\n",
    "U_{t}+v U_{x}=0\n",
    " & \\text { for }a\\leq x\\leq b, t>0. \\\\\n",
    "U\n",
    "\\left(0, x\\right)=\n",
    "f\\left(x\\right)\n",
    " & \\text { for }a\\leq x\\leq b. \\\\\n",
    "U\n",
    "\\left(t, a\\right)=\n",
    "U\\left(t, b\\right)=0\n",
    " & \\text { for }t>0. \\\\\n",
    "\\end{cases}\n",
    "$$"
   ]
  },
  {
   "cell_type": "markdown",
   "id": "1c64fae3-51ef-424d-9a8a-e1d57ab39f55",
   "metadata": {},
   "source": [
    "## Spatial discretization\n",
    "\n",
    "In a uniform grid, the $i$-th node in the grid is located at $x_{i}=a+i\\Delta x$.\n",
    "\n",
    "$$\n",
    "\\Delta x=\n",
    "\\dfrac{b-a}{N-1}.\n",
    "$$"
   ]
  },
  {
   "cell_type": "code",
   "execution_count": 88,
   "id": "4081147f-6531-49d4-9f48-fb2603571468",
   "metadata": {},
   "outputs": [
    {
     "name": "stderr",
     "output_type": "stream",
     "text": [
      "/usr/lib/python3.11/site-packages/ipympl/backend_nbagg.py:336: UserWarning: Tight layout not applied. The left and right margins cannot be made large enough to accommodate all axes decorations.\n",
      "  self.figure.savefig(buf, format='png', dpi='figure')\n"
     ]
    },
    {
     "data": {
      "application/vnd.jupyter.widget-view+json": {
       "model_id": "62403e3ee0bc4ddda1c724d4ddc6d840",
       "version_major": 2,
       "version_minor": 0
      },
      "image/png": "[encoded data removed]",
      "text/html": [
       "\n",
       "            <div style=\"display: inline-block;\">\n",
       "                <div class=\"jupyter-widgets widget-label\" style=\"text-align: center;\">\n",
       "                    Figure\n",
       "                </div>\n",
       "                <img src='data:image/png;base64,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' width=640.0/>\n",
       "            </div>\n",
       "        "
      ],
      "text/plain": [
       "Canvas(toolbar=Toolbar(toolitems=[('Home', 'Reset original view', 'home', 'home'), ('Back', 'Back to previous …"
      ]
     },
     "metadata": {},
     "output_type": "display_data"
    }
   ],
   "source": [
    "x = np.arange(-3, 4)\n",
    "\n",
    "fig, ax = plt.subplots()\n",
    "ax.plot(x, np.zeros_like(x), \"ko-\", mfc=\"none\")\n",
    "ax.text(x[0], 0.004, rf\"$a$\", ha=\"center\", fontsize=15)\n",
    "ax.text(x[0], -0.008, rf\"$x_0$\", ha=\"center\", fontsize=15)\n",
    "ax.text(x[1], 0.004, rf\"$a+\\Delta x$\", ha=\"center\", fontsize=15)\n",
    "ax.text(x[1], -0.008, rf\"$x_1$\", ha=\"center\", fontsize=15)\n",
    "ax.text(x[2], 0.004, rf\"$a+2\\Delta x$\", ha=\"center\", fontsize=15)\n",
    "ax.text(x[2], -0.008, rf\"$x_2$\", ha=\"center\", fontsize=15)\n",
    "ax.text(x[-2], 0.004, rf\"$a+(N-2)\\Delta x$\", ha=\"center\", fontsize=15)\n",
    "ax.text(x[-2], -0.008, rf\"$x_{{N-2}}$\", ha=\"center\", fontsize=15)\n",
    "ax.text(x[-1], 0.004, rf\"$b$\", ha=\"center\", fontsize=15)\n",
    "ax.text(x[-1], -0.008, rf\"$x_{{N-1}}$\", ha=\"center\", fontsize=15)\n",
    "ax.axes.get_xaxis().set_visible(False)\n",
    "ax.axes.get_yaxis().set_visible(False)\n",
    "fig.set_tight_layout(True)\n",
    "ax.set_frame_on(False)"
   ]
  },
  {
   "cell_type": "markdown",
   "id": "b657c1c4-dc43-4da3-b7f6-20feffe0d074",
   "metadata": {},
   "source": [
    "## Deriving a finite-difference scheme\n",
    "\n",
    "$$\n",
    "\\begin{aligned}\n",
    "U_{t}+vU_{x}&=0\\\\\n",
    "\\dfrac{U^{n+1}_{i}-U^{n}_{i}}{\\Delta t}+\n",
    "v\\dfrac{U^{n}_{i}-U^{n}_{i-1}}{\\Delta x}\n",
    "&=0.\\\\\n",
    "U^{n+1}_{i}\n",
    "&=\n",
    "U^{n}_{i}-\n",
    "\\dfrac{v\\Delta t}{\\Delta x}\n",
    "\\left(U^{n}_{i}-U^{n}_{i-1}\\right).\n",
    "\\end{aligned}\n",
    "$$"
   ]
  },
  {
   "cell_type": "code",
   "execution_count": 89,
   "id": "41eb0fa6-7a6d-4e70-be0d-866d131a0278",
   "metadata": {},
   "outputs": [],
   "source": [
    "v = symbols(\"v\")"
   ]
  },
  {
   "cell_type": "code",
   "execution_count": 90,
   "id": "e508af81-8c1d-4159-9892-2dccb5c31ec8",
   "metadata": {},
   "outputs": [
    {
     "data": {
      "application/vnd.jupyter.widget-view+json": {
       "model_id": "5b14a145236a4c1a8b34cb31ce182e78",
       "version_major": 2,
       "version_minor": 0
      },
      "image/png": "[encoded data removed]",
      "text/html": [
       "\n",
       "            <div style=\"display: inline-block;\">\n",
       "                <div class=\"jupyter-widgets widget-label\" style=\"text-align: center;\">\n",
       "                    Figure\n",
       "                </div>\n",
       "                <img src='data:image/png;base64,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' width=640.0/>\n",
       "            </div>\n",
       "        "
      ],
      "text/plain": [
       "Canvas(toolbar=Toolbar(toolitems=[('Home', 'Reset original view', 'home', 'home'), ('Back', 'Back to previous …"
      ]
     },
     "metadata": {},
     "output_type": "display_data"
    }
   ],
   "source": [
    "fig = plt.figure()\n",
    "for i in range(4):\n",
    "    plt.plot((0, 4), (i, i), \"k\")\n",
    "\n",
    "for j in range(5):\n",
    "    plt.plot((j, j), (0, 3), \"k\")\n",
    "\n",
    "plt.plot(2, 2, \"ko\", mfc=\"none\")\n",
    "plt.plot(2, 1, \"ko\", mfc=\"none\")\n",
    "plt.plot(1, 1, \"ko\", mfc=\"none\")\n",
    "\n",
    "ax = fig.gca()\n",
    "ax.axis(\"off\")\n",
    "ax.axis(\"equal\")\n",
    "\n",
    "plt.text(0.9, -0.15, \"$i-1$\", fontsize=12)\n",
    "plt.text(2, -0.15, \"$i$\", fontsize=12)\n",
    "plt.text(2.9, -0.15, \"$i+1$\", fontsize=12)\n",
    "plt.text(2.1, 1.1, \"$u^n_i$\", fontsize=14)\n",
    "plt.text(2.1, 2.1, \"$u^{n+1}_i$\", fontsize=14)\n",
    "plt.text(1.05, 1.1, \"$u^{n}_{i-1}$\", fontsize=14)\n",
    "plt.text(1.38, 0.85, r\"$\\Delta x$\", fontsize=12)\n",
    "plt.text(0.75, 1.38, r\"$\\Delta t$\", fontsize=12)\n",
    "plt.text(-0.35, 1, \"$n$\", fontsize=12)\n",
    "plt.text(-0.35, 2, \"$n+1$\", fontsize=12)\n",
    "plt.text(-0.35, 3, \"Time\")\n",
    "plt.text(4, -0.15, \"Space\");"
   ]
  },
  {
   "cell_type": "markdown",
   "id": "0a885dfc-2b10-4d76-8b43-e36a5b096047",
   "metadata": {},
   "source": [
    "### Computational and boundary nodes"
   ]
  },
  {
   "cell_type": "code",
   "execution_count": 91,
   "id": "8028e600-5395-47b0-9569-16c1aed90659",
   "metadata": {},
   "outputs": [],
   "source": [
    "t, x, a, b = symbols(\"t x a b\")\n",
    "U = Function(\"U\")"
   ]
  },
  {
   "cell_type": "code",
   "execution_count": 92,
   "id": "a4bbf0f2-6102-482c-98ed-2a68d0e43e07",
   "metadata": {},
   "outputs": [
    {
     "data": {
      "text/latex": [
       "$\\displaystyle U{\\left(t,a \\right)} = 0$"
      ],
      "text/plain": [
       "Eq(U(t, a), 0)"
      ]
     },
     "execution_count": 92,
     "metadata": {},
     "output_type": "execute_result"
    }
   ],
   "source": [
    "Eq(U(t, a), 0)"
   ]
  },
  {
   "cell_type": "code",
   "execution_count": 93,
   "id": "32fb34d4-5f54-460e-88b1-06d290db9499",
   "metadata": {},
   "outputs": [
    {
     "data": {
      "text/latex": [
       "$\\displaystyle U{\\left(t,b \\right)} = 0$"
      ],
      "text/plain": [
       "Eq(U(t, b), 0)"
      ]
     },
     "execution_count": 93,
     "metadata": {},
     "output_type": "execute_result"
    }
   ],
   "source": [
    "Eq(U(t, b), 0)"
   ]
  },
  {
   "cell_type": "code",
   "execution_count": 94,
   "id": "8ef718ef-c345-406d-952a-cf00716ddbba",
   "metadata": {},
   "outputs": [],
   "source": [
    "N = 11  # number of nodes\n",
    "number_iterations = 3\n",
    "x, dx = np.linspace(start=0, stop=1, num=N, retstep=True)  # node positions\n",
    "v = 1  # speed\n",
    "dt = 0.05  # time step\n",
    "t = 0  # initial value of t"
   ]
  },
  {
   "cell_type": "code",
   "execution_count": 95,
   "id": "8739101d-0fc7-4f7c-8ae9-a95b10fdcf64",
   "metadata": {},
   "outputs": [
    {
     "data": {
      "application/vnd.jupyter.widget-view+json": {
       "model_id": "55435049af6545e2a9d249a0adf59812",
       "version_major": 2,
       "version_minor": 0
      },
      "image/png": "[encoded data removed]",
      "text/html": [
       "\n",
       "            <div style=\"display: inline-block;\">\n",
       "                <div class=\"jupyter-widgets widget-label\" style=\"text-align: center;\">\n",
       "                    Figure\n",
       "                </div>\n",
       "                <img src='data:image/png;base64,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' width=640.0/>\n",
       "            </div>\n",
       "        "
      ],
      "text/plain": [
       "Canvas(toolbar=Toolbar(toolitems=[('Home', 'Reset original view', 'home', 'home'), ('Back', 'Back to previous …"
      ]
     },
     "metadata": {},
     "output_type": "display_data"
    }
   ],
   "source": [
    "fig, ax = plt.subplots()\n",
    "fig.set_tight_layout(True)\n",
    "ax.plot(x, np.zeros_like(x), \"ko-\", mfc=\"none\")\n",
    "# ax.set_xlabel(r\"$x_{i}$\")\n",
    "for i, xi in enumerate(x):\n",
    "    ax.text(xi, 0.004, rf\"$u_{{{i}}}$\", ha=\"center\", fontsize=15)\n",
    "    ax.text(xi, -0.008, rf\"${{{np.round(xi, 2)}}}$\", ha=\"center\", fontsize=15)\n",
    "ax.axes.get_xaxis().set_visible(False)\n",
    "ax.axes.get_yaxis().set_visible(False)\n",
    "ax.set_frame_on(False)"
   ]
  },
  {
   "cell_type": "code",
   "execution_count": 96,
   "id": "8913e45e-8300-40c7-a9be-a9ca6013f4f3",
   "metadata": {},
   "outputs": [],
   "source": [
    "C = v * dt / dx"
   ]
  },
  {
   "cell_type": "code",
   "execution_count": 97,
   "id": "66d3c808-7792-411d-b2a9-674ae20bc409",
   "metadata": {},
   "outputs": [],
   "source": [
    "U = np.empty((number_iterations + 1, x.size))\n",
    "U[0, :] = np.exp(-100 * np.power(x - 0.4, 2))  # initial conditions\n",
    "U[0, 0], U[0, -1] = (0, 0)"
   ]
  },
  {
   "cell_type": "code",
   "execution_count": 98,
   "id": "2afb3ee2-0e96-4196-9664-a446ad910414",
   "metadata": {
    "scrolled": true
   },
   "outputs": [],
   "source": [
    "for n in range(number_iterations):\n",
    "    U[n + 1, 0], U[n + 1, -1] = (0, 0)  # boundary nodes\n",
    "    for i in range(x.size):\n",
    "        U[n + 1, i] = U[n, i] - C * (U[n, i] - U[n, i - 1])"
   ]
  },
  {
   "cell_type": "code",
   "execution_count": 99,
   "id": "bf8e67a2-21b9-47b1-9213-7e80b126de77",
   "metadata": {},
   "outputs": [
    {
     "name": "stdout",
     "output_type": "stream",
     "text": [
      "-----  ------  ------  ------  ------  ------  ------  ------  ------  ------  ------  -------\n",
      "i      0.0000  1.0000  2.0000  3.0000  4.0000  5.0000  6.0000  7.0000  8.0000  9.0000  10.0000\n",
      "x_i    0.0000  0.1000  0.2000  0.3000  0.4000  0.5000  0.6000  0.7000  0.8000  0.9000   1.0000\n",
      "u^0_i  0.0000  0.0001  0.0183  0.3679  1.0000  0.3679  0.0183  0.0001  0.0000  0.0000   0.0000\n",
      "u^1_i  0.0000  0.0001  0.0092  0.1931  0.6839  0.6839  0.1931  0.0092  0.0001  0.0000   0.0000\n",
      "u^2_i  0.0000  0.0000  0.0046  0.1012  0.4385  0.6839  0.4385  0.1012  0.0046  0.0000   0.0000\n",
      "u^3_i  0.0000  0.0000  0.0023  0.0529  0.2698  0.5612  0.5612  0.2698  0.0529  0.0023   0.0000\n",
      "-----  ------  ------  ------  ------  ------  ------  ------  ------  ------  ------  -------\n"
     ]
    }
   ],
   "source": [
    "# Values of the first three iterations of the FDS used to solve the advection equation\n",
    "tabular = np.hstack(\n",
    "    (\n",
    "        np.array([\"i\", \"x_i\", \"u^0_i\", \"u^1_i\", \"u^2_i\", \"u^3_i\"])[np.newaxis].T,\n",
    "        np.vstack((np.arange(x.size)[np.newaxis], x, U)),\n",
    "    )\n",
    ")\n",
    "print(tabulate(tabular, floatfmt=\".4f\"))"
   ]
  },
  {
   "cell_type": "code",
   "execution_count": 100,
   "id": "21a8d35a-f9e4-459d-95c6-a08ab5e73e30",
   "metadata": {},
   "outputs": [
    {
     "name": "stdout",
     "output_type": "stream",
     "text": [
      "[3.14159]\n"
     ]
    }
   ],
   "source": [
    "with np.printoptions(precision=5, suppress=True):\n",
    "    print(np.array([np.pi]))"
   ]
  }
 ],
 "metadata": {
  "kernelspec": {
   "display_name": "Python 3 (ipykernel)",
   "language": "python",
   "name": "python3"
  },
  "language_info": {
   "codemirror_mode": {
    "name": "ipython",
    "version": 3
   },
   "file_extension": ".py",
   "mimetype": "text/x-python",
   "name": "python",
   "nbconvert_exporter": "python",
   "pygments_lexer": "ipython3",
   "version": "3.11.7"
  }
 },
 "nbformat": 4,
 "nbformat_minor": 5
}
