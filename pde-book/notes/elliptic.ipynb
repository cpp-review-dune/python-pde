{
 "cells": [
  {
   "cell_type": "markdown",
   "id": "554e9468-567c-4c40-b6bd-1b0307addb38",
   "metadata": {},
   "source": [
    "# Elliptic Partial Differential Equations"
   ]
  },
  {
   "cell_type": "code",
   "execution_count": 40,
   "id": "d46a4d89-1bf5-4457-929a-2e0382f6b6a3",
   "metadata": {},
   "outputs": [],
   "source": [
    "import matplotlib.pyplot as plt\n",
    "import numpy as np\n",
    "from helper import Approx\n",
    "from scipy.sparse import spdiags\n",
    "\n",
    "# from scipy.sparse.linalg import spsolve\n",
    "from sympy import Derivative as D\n",
    "from sympy import Eq, Function, Symbol, solve, symbols"
   ]
  },
  {
   "cell_type": "code",
   "execution_count": 14,
   "id": "10dbf933-ea22-4538-ae25-90ba0347b005",
   "metadata": {},
   "outputs": [],
   "source": [
    "x, y = symbols(\"x, y\")\n",
    "U = symbols(\"U\", cls=Function)(x, y)\n",
    "f = symbols(\"f\", cls=Function)(x, y)"
   ]
  },
  {
   "cell_type": "markdown",
   "id": "334bb125-b661-43a1-9069-0fae21751e02",
   "metadata": {},
   "source": [
    "## Laplace's equation"
   ]
  },
  {
   "cell_type": "code",
   "execution_count": 15,
   "id": "36b6509e-1e38-4a3b-a5c0-2e6c1bd8b0a6",
   "metadata": {},
   "outputs": [
    {
     "data": {
      "text/latex": [
       "$\\displaystyle \\frac{\\partial^{2}}{\\partial x^{2}} U{\\left(x,y \\right)} + \\frac{\\partial^{2}}{\\partial y^{2}} U{\\left(x,y \\right)} = 0$"
      ],
      "text/plain": [
       "Eq(Derivative(U(x, y), (x, 2)) + Derivative(U(x, y), (y, 2)), 0)"
      ]
     },
     "execution_count": 15,
     "metadata": {},
     "output_type": "execute_result"
    }
   ],
   "source": [
    "Eq(D(U, x, 2) + D(U, y, 2), 0)"
   ]
  },
  {
   "cell_type": "markdown",
   "id": "3fdeffc7-461d-4a39-ae03-9c30f603bf5e",
   "metadata": {},
   "source": [
    "## Poisson's equation"
   ]
  },
  {
   "cell_type": "code",
   "execution_count": 16,
   "id": "933293ba-2a3e-4e60-886e-d0855754a132",
   "metadata": {},
   "outputs": [
    {
     "data": {
      "text/latex": [
       "$\\displaystyle \\frac{\\partial^{2}}{\\partial x^{2}} U{\\left(x,y \\right)} + \\frac{\\partial^{2}}{\\partial y^{2}} U{\\left(x,y \\right)} = f{\\left(x,y \\right)}$"
      ],
      "text/plain": [
       "Eq(Derivative(U(x, y), (x, 2)) + Derivative(U(x, y), (y, 2)), f(x, y))"
      ]
     },
     "execution_count": 16,
     "metadata": {},
     "output_type": "execute_result"
    }
   ],
   "source": [
    "Eq(D(U, x, 2) + D(U, y, 2), f)"
   ]
  },
  {
   "cell_type": "markdown",
   "id": "8256f8ce-0a4b-4e37-9539-70abbeefb19b",
   "metadata": {},
   "source": [
    "## Discretising a two-dimensional domain\n",
    "\n",
    "$$\n",
    "\\Delta x=\n",
    "\\dfrac{x_{\\max}-x_{\\min}}{N_x-1}\n",
    "$$\n",
    "\n",
    "$$\n",
    "\\Delta y=\n",
    "\\dfrac{y_{\\max}-y_{\\min}}{N_y-1}\n",
    "$$\n",
    "\n",
    "$$\n",
    "x_{i}=\n",
    "x_{\\min}+i\\Delta x\n",
    "$$\n",
    "\n",
    "$$\n",
    "y_{j}=\n",
    "y_{\\min}+j\\Delta y\n",
    "$$"
   ]
  },
  {
   "cell_type": "code",
   "execution_count": 18,
   "id": "27c43f54-0c94-4941-b852-f650bddc0900",
   "metadata": {},
   "outputs": [
    {
     "data": {
      "image/png": "[encoded data removed]",
      "text/plain": [
       "<Figure size 640x480 with 1 Axes>"
      ]
     },
     "metadata": {},
     "output_type": "display_data"
    }
   ],
   "source": [
    "fig = plt.figure()\n",
    "for i in range(3):\n",
    "    plt.plot((0, 2), (i, i), \"k\")\n",
    "\n",
    "for j in range(3):\n",
    "    plt.plot((j, j), (0, 2), \"k\")\n",
    "\n",
    "plt.plot(0, 0, \"ko\")\n",
    "plt.plot(1, 0, \"ko\")\n",
    "plt.plot(2, 0, \"ko\")\n",
    "plt.plot(0, 1, \"ko\")\n",
    "plt.plot(1, 1, \"ko\")\n",
    "plt.plot(2, 1, \"ko\")\n",
    "plt.plot(0, 2, \"ko\")\n",
    "plt.plot(1, 2, \"ko\")\n",
    "plt.plot(2, 2, \"ko\")\n",
    "ax = fig.gca()\n",
    "ax.axis(\"off\")\n",
    "ax.axis(\"equal\")\n",
    "plt.text(0, -0.15, \"$i-1$\", ha=\"center\", fontsize=12)\n",
    "plt.text(1, -0.15, \"$i$\", ha=\"center\", fontsize=12)\n",
    "plt.text(2, -0.15, \"$i+1$\", ha=\"center\", fontsize=12)\n",
    "plt.text(-0.25, 0, \"$j-1$\", ha=\"center\", fontsize=12)\n",
    "plt.text(-0.25, 1, \"$j$\", ha=\"center\", fontsize=12)\n",
    "plt.text(-0.25, 2, \"$j+1$\", ha=\"center\", fontsize=12)\n",
    "plt.text(0.05, 0.1, \"$u^{j-1}_{i-1}$\", fontsize=14)\n",
    "plt.text(1.05, 0.1, \"$u^{j-1}_{i}$\", fontsize=14)\n",
    "plt.text(2.05, 0.1, \"$u^{j-1}_{i+1}$\", fontsize=14)\n",
    "plt.text(0.05, 1.1, \"$u^{j}_{i-1}$\", fontsize=14)\n",
    "plt.text(1.05, 1.1, \"$u^{j}_{i}$\", fontsize=14)\n",
    "plt.text(2.05, 1.1, \"$u^{j}_{i+1}$\", fontsize=14)\n",
    "plt.text(0.05, 2.1, \"$u^{j+1}_{i-1}$\", fontsize=14)\n",
    "plt.text(1.05, 2.1, \"$u^{j+1}_{i}$\", fontsize=14)\n",
    "plt.text(2.05, 2.1, \"$u^{j+1}_{i+1}$\", fontsize=14);\n",
    "# plt.text(-0.45, 2, \"$y$\")\n",
    "# plt.text(2.5, 0, \"$x$\")"
   ]
  },
  {
   "cell_type": "markdown",
   "id": "4e0d6825-662d-49ff-a0ea-0821405deb68",
   "metadata": {},
   "source": [
    "### Boundary conditions\n",
    "\n",
    "\n",
    "#### Dirichlet boundary conditions\n",
    "\n",
    "$$\n",
    "\\begin{aligned}\n",
    "u_{0}&=\\alpha\\\\\n",
    "u_{N-1}&=\\beta\n",
    "\\end{aligned}\n",
    "$$\n",
    "\n",
    "$$\n",
    "\\begin{aligned}\n",
    "u_{0}&=f\\left(t,x,y\\right)\\\\\n",
    "u_{N-1}&=g\\left(t,x,y\\right)\n",
    "\\end{aligned}\n",
    "$$\n",
    "\n",
    "$$\n",
    "\\begin{aligned}\n",
    "u_{0}&=u_{N-2}\\\\\n",
    "u_{N-1}&=u_{1}\n",
    "\\end{aligned}\n",
    "$$\n",
    "\n",
    "#### Neumann boundary conditions\n",
    "\n",
    "$$\n",
    "\\begin{aligned}\n",
    "u_{-1}&=u_{1}\\\\\n",
    "u_{N}&=u_{N-2}\n",
    "\\end{aligned}\n",
    "$$\n",
    "\n",
    "$$\n",
    "\\begin{aligned}\n",
    "v_{-1}&=-v_{1}\\\\\n",
    "v_{N}&=-v_{N-2}\n",
    "\\end{aligned}\n",
    "$$"
   ]
  },
  {
   "cell_type": "code",
   "execution_count": 19,
   "id": "08833879-6857-4585-9309-93086079b380",
   "metadata": {},
   "outputs": [],
   "source": [
    "f = symbols(\"f\", cls=Function)(U)"
   ]
  },
  {
   "cell_type": "code",
   "execution_count": 20,
   "id": "909d78e1-315c-4a25-8050-51fb44882e17",
   "metadata": {},
   "outputs": [
    {
     "data": {
      "text/latex": [
       "$\\displaystyle \\frac{\\partial}{\\partial x} U{\\left(x,y \\right)} = f{\\left(U{\\left(x,y \\right)} \\right)}$"
      ],
      "text/plain": [
       "Eq(Derivative(U(x, y), x), f(U(x, y)))"
      ]
     },
     "execution_count": 20,
     "metadata": {},
     "output_type": "execute_result"
    }
   ],
   "source": [
    "Eq(D(U, x), f)"
   ]
  },
  {
   "cell_type": "markdown",
   "id": "3610881f-bdbe-4faa-988f-f60bf55c4eae",
   "metadata": {},
   "source": [
    "### Deriving a FDS to solve Laplace's equation"
   ]
  },
  {
   "cell_type": "code",
   "execution_count": 21,
   "id": "2ec20a10-50e2-408f-bf6e-8fd1cafc7602",
   "metadata": {},
   "outputs": [],
   "source": [
    "x, y = symbols(\"x y\")\n",
    "dx = Symbol(r\"\\Delta x\")\n",
    "dy = Symbol(r\"\\Delta y\")\n",
    "U = Function(\"U\")"
   ]
  },
  {
   "cell_type": "code",
   "execution_count": 24,
   "id": "35e1365b-7ff3-4c5d-be7b-730d0289cf91",
   "metadata": {},
   "outputs": [],
   "source": [
    "_ = U(x + dx, y).series(x=dx, x0=0, n=4).removeO().simplify()\n",
    "__ = U(x - dx, y).series(x=dx, x0=0, n=4).removeO().simplify()\n",
    "U_xx = Approx(\n",
    "    D(U(x, y), x, 2),\n",
    "    solve(Eq(_ + __, U(x + dx, y) + U(x - dx, y)), D(U(x, y), x, 2))[0],\n",
    ")"
   ]
  },
  {
   "cell_type": "code",
   "execution_count": 25,
   "id": "cdaf126b-517c-472b-9847-234f1a0024ea",
   "metadata": {},
   "outputs": [
    {
     "data": {
      "text/latex": [
       "$\\displaystyle \\frac{\\partial^{2}}{\\partial x^{2}} U{\\left(x,y \\right)} \\approx \\frac{- 2 U{\\left(x,y \\right)} + U{\\left(- \\Delta x + x,y \\right)} + U{\\left(\\Delta x + x,y \\right)}}{\\Delta x^{2}}$"
      ],
      "text/plain": [
       "Eq(Derivative(U(x, y), (x, 2)), (-2*U(x, y) + U(-\\Delta x + x, y) + U(\\Delta x + x, y))/\\Delta x**2)"
      ]
     },
     "execution_count": 25,
     "metadata": {},
     "output_type": "execute_result"
    }
   ],
   "source": [
    "U_xx"
   ]
  },
  {
   "cell_type": "code",
   "execution_count": 28,
   "id": "e3e5e48c-238e-4f24-b6fc-99367c646456",
   "metadata": {},
   "outputs": [],
   "source": [
    "_ = U(x, y + dy).series(x=dy, x0=0, n=4).removeO().simplify()\n",
    "__ = U(x, y - dy).series(x=dy, x0=0, n=4).removeO().simplify()\n",
    "U_yy = Approx(\n",
    "    D(U(x, y), y, 2),\n",
    "    solve(Eq(_ + __, U(x, y + dy) + U(x, y - dy)), D(U(x, y), y, 2))[0],\n",
    ")"
   ]
  },
  {
   "cell_type": "code",
   "execution_count": 29,
   "id": "dcf32882-24ad-4897-a30d-d0fc5efef3fe",
   "metadata": {},
   "outputs": [
    {
     "data": {
      "text/latex": [
       "$\\displaystyle \\frac{\\partial^{2}}{\\partial y^{2}} U{\\left(x,y \\right)} \\approx \\frac{- 2 U{\\left(x,y \\right)} + U{\\left(x,- \\Delta y + y \\right)} + U{\\left(x,\\Delta y + y \\right)}}{\\Delta y^{2}}$"
      ],
      "text/plain": [
       "Eq(Derivative(U(x, y), (y, 2)), (-2*U(x, y) + U(x, -\\Delta y + y) + U(x, \\Delta y + y))/\\Delta y**2)"
      ]
     },
     "execution_count": 29,
     "metadata": {},
     "output_type": "execute_result"
    }
   ],
   "source": [
    "U_yy"
   ]
  },
  {
   "cell_type": "markdown",
   "id": "1ec87768-e796-4314-850b-a66b3adb2202",
   "metadata": {},
   "source": [
    "#### Second-order finite-difference scheme to solve Laplace's equation\n",
    "\n",
    "$$\n",
    "u^{j}_{i}=\n",
    "\\dfrac{{\\left(\\Delta y\\right)}^{2}\\left(u^{j}_{i-1}+u^{j}_{i+1}\\right)+{\\left(\\Delta x\\right)}^{2}\\left(u^{j-1}_{i}+u^{j+1}_{i}\\right)}\n",
    "{2\\left({\\left(\\Delta x\\right)}^{2}+{\\left(\\Delta y\\right)}^{2}\\right)}\n",
    "$$"
   ]
  },
  {
   "cell_type": "markdown",
   "id": "cfea75ed-be5c-456d-9558-65a71aa25989",
   "metadata": {},
   "source": [
    "#### Solving Laplace's equation\n",
    "\n",
    "$$\n",
    "0\\leq x\\leq 4,\\quad\n",
    "0\\leq y\\leq 3.\n",
    "$$"
   ]
  },
  {
   "cell_type": "code",
   "execution_count": 36,
   "id": "d2d5df60-3fd2-48a2-880d-98e53e024c5d",
   "metadata": {},
   "outputs": [],
   "source": [
    "N_x, N_y = 5, 4\n",
    "x, dx = np.linspace(start=0, stop=4, num=N_x, retstep=True)\n",
    "y, dy = np.linspace(start=0, stop=3, num=N_y, retstep=True)"
   ]
  },
  {
   "cell_type": "code",
   "execution_count": 37,
   "id": "2a0ab425-d211-4249-980d-d865c1a9c365",
   "metadata": {},
   "outputs": [
    {
     "data": {
      "text/plain": [
       "array([0., 1., 2., 3., 4.])"
      ]
     },
     "execution_count": 37,
     "metadata": {},
     "output_type": "execute_result"
    }
   ],
   "source": [
    "x"
   ]
  },
  {
   "cell_type": "code",
   "execution_count": 38,
   "id": "ecaa9a21-8d02-4032-b1f2-a8a756e10da8",
   "metadata": {},
   "outputs": [
    {
     "data": {
      "text/plain": [
       "array([0., 1., 2., 3.])"
      ]
     },
     "execution_count": 38,
     "metadata": {},
     "output_type": "execute_result"
    }
   ],
   "source": [
    "y"
   ]
  },
  {
   "cell_type": "code",
   "execution_count": 41,
   "id": "8c745607-cfa1-4072-bc7f-4d952f6a4cf0",
   "metadata": {},
   "outputs": [],
   "source": [
    "def Creating_Matrix_A(Nx, Ny, r):\n",
    "    # Diagonal principal\n",
    "    diag0 = np.tile(np.full(Nx, 1 - 4 * r), Nx)\n",
    "    # Diagonal principal superior\n",
    "    diag1 = np.tile(np.concatenate((np.array([0.0, 2 * r]), np.full(Nx - 2, r))), Nx)\n",
    "    # Diagonal principal inferior\n",
    "    diag_1 = np.flip(diag1)\n",
    "\n",
    "    # Diagonal superior\n",
    "    diag_sup = np.concatenate(\n",
    "        (np.zeros(Nx), np.full(Nx, 2 * r), np.tile(np.full(Nx, r), Nx - 2))\n",
    "    )\n",
    "    # Diagonal inferior\n",
    "    diag_inf = np.flip(diag_sup)\n",
    "\n",
    "    # Retornando Matriz sparse\n",
    "    return spdiags(\n",
    "        [diag_inf, diag_1, diag0, diag1, diag_sup],\n",
    "        [-Nx, -1, 0, 1, Nx],\n",
    "        Nx**2,\n",
    "        Ny**2,\n",
    "    ).tocsr()"
   ]
  },
  {
   "cell_type": "code",
   "execution_count": 47,
   "id": "c0c2ad6a-b545-4263-a7a9-8b88db05af88",
   "metadata": {},
   "outputs": [],
   "source": [
    "A = Creating_Matrix_A(2, 2, 0.5)"
   ]
  },
  {
   "cell_type": "code",
   "execution_count": 49,
   "id": "68f07358-2b84-4a86-bbea-0316e80c1892",
   "metadata": {},
   "outputs": [
    {
     "data": {
      "text/plain": [
       "matrix([[-1.,  1.,  1.,  0.],\n",
       "        [ 1., -1.,  0.,  1.],\n",
       "        [ 1.,  0., -1.,  1.],\n",
       "        [ 0.,  1.,  1., -1.]])"
      ]
     },
     "execution_count": 49,
     "metadata": {},
     "output_type": "execute_result"
    }
   ],
   "source": [
    "A.todense()"
   ]
  }
 ],
 "metadata": {
  "kernelspec": {
   "display_name": "Python 3 (ipykernel)",
   "language": "python",
   "name": "python3"
  },
  "language_info": {
   "codemirror_mode": {
    "name": "ipython",
    "version": 3
   },
   "file_extension": ".py",
   "mimetype": "text/x-python",
   "name": "python",
   "nbconvert_exporter": "python",
   "pygments_lexer": "ipython3",
   "version": "3.11.6"
  }
 },
 "nbformat": 4,
 "nbformat_minor": 5
}
