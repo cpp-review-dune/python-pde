{
 "cells": [
  {
   "cell_type": "markdown",
   "id": "cb6c030c-461d-4e9d-9fb8-936ef5278d53",
   "metadata": {},
   "source": [
    "# Partial Differential Equations"
   ]
  },
  {
   "cell_type": "code",
   "execution_count": 1,
   "id": "3fd7c926-bd7b-4e63-8299-5be2d78c97f8",
   "metadata": {},
   "outputs": [],
   "source": [
    "from cleaner import cleaner\n",
    "from sympy import Derivative as D\n",
    "from sympy import Eq, Function, exp, pi, sin, symbols"
   ]
  },
  {
   "cell_type": "code",
   "execution_count": 2,
   "id": "94defa54-ff22-4b74-a2d6-db4d7d81fcdf",
   "metadata": {},
   "outputs": [],
   "source": [
    "x, y = symbols(\"x, y\")\n",
    "U = symbols(\"U\", cls=Function)(x, y)"
   ]
  },
  {
   "cell_type": "code",
   "execution_count": 3,
   "id": "e0d09656-e4e1-41dc-a3d7-16f6a2cebc1d",
   "metadata": {},
   "outputs": [
    {
     "data": {
      "text/latex": [
       "$\\displaystyle \\frac{\\partial}{\\partial x} U{\\left(x,y \\right)}$"
      ],
      "text/plain": [
       "Derivative(U(x, y), x)"
      ]
     },
     "execution_count": 3,
     "metadata": {},
     "output_type": "execute_result"
    }
   ],
   "source": [
    "D(U, x)"
   ]
  },
  {
   "cell_type": "markdown",
   "id": "8ba0f9f6-355f-4e9c-ae80-ad264ac2c41a",
   "metadata": {},
   "source": [
    "## Partial derivatives"
   ]
  },
  {
   "cell_type": "code",
   "execution_count": 4,
   "id": "e45412a8-255d-40f5-9be9-7a39d2fa5ad6",
   "metadata": {},
   "outputs": [],
   "source": [
    "_U = x**2 + x * y\n",
    "U_x = D(_U, x).simplify()"
   ]
  },
  {
   "cell_type": "code",
   "execution_count": 5,
   "id": "3f99e357-cfd7-497a-b6d1-473b119ade82",
   "metadata": {},
   "outputs": [
    {
     "data": {
      "text/latex": [
       "$\\displaystyle \\frac{\\partial}{\\partial x} U{\\left(x,y \\right)} = 2 x + y$"
      ],
      "text/plain": [
       "Eq(Derivative(U(x, y), x), 2*x + y)"
      ]
     },
     "execution_count": 5,
     "metadata": {},
     "output_type": "execute_result"
    }
   ],
   "source": [
    "Eq(D(U, x), U_x)"
   ]
  },
  {
   "cell_type": "code",
   "execution_count": 6,
   "id": "195f74c1-4fe3-4443-b292-d2d13bd64acb",
   "metadata": {},
   "outputs": [],
   "source": [
    "U_y = D(_U, y).simplify()"
   ]
  },
  {
   "cell_type": "code",
   "execution_count": 7,
   "id": "5ac0667d-1e77-4223-a8d3-53823d1cdbbb",
   "metadata": {},
   "outputs": [
    {
     "data": {
      "text/latex": [
       "$\\displaystyle \\frac{\\partial}{\\partial y} U{\\left(x,y \\right)} = x$"
      ],
      "text/plain": [
       "Eq(Derivative(U(x, y), y), x)"
      ]
     },
     "execution_count": 7,
     "metadata": {},
     "output_type": "execute_result"
    }
   ],
   "source": [
    "Eq(D(U, y), U_y)"
   ]
  },
  {
   "cell_type": "markdown",
   "id": "62173b77-20ef-4c84-a539-03a30bf496b7",
   "metadata": {},
   "source": [
    "## Partial differential equations"
   ]
  },
  {
   "cell_type": "code",
   "execution_count": 8,
   "id": "10ace56f-9695-4a8b-96e8-7ecc77c3ea8e",
   "metadata": {},
   "outputs": [],
   "source": [
    "a = symbols(\"a\", cls=Function)(x, y)\n",
    "b = symbols(\"b\", cls=Function)(x, y)\n",
    "c = symbols(\"c\", cls=Function)(x, y)\n",
    "d = symbols(\"d\", cls=Function)(x, y)\n",
    "e = symbols(\"e\", cls=Function)(x, y)\n",
    "f = symbols(\"f\", cls=Function)(x, y)"
   ]
  },
  {
   "cell_type": "code",
   "execution_count": 9,
   "id": "1c97306d-ce9a-49d0-a2ad-e4ea01c190da",
   "metadata": {},
   "outputs": [
    {
     "data": {
      "text/latex": [
       "$\\displaystyle a{\\left(x,y \\right)} \\frac{\\partial}{\\partial x} U{\\left(x,y \\right)} + b{\\left(x,y \\right)} \\frac{\\partial}{\\partial y} U{\\left(x,y \\right)} + c{\\left(x,y \\right)} \\frac{\\partial^{2}}{\\partial x^{2}} U{\\left(x,y \\right)} + d{\\left(x,y \\right)} \\frac{\\partial^{2}}{\\partial y^{2}} U{\\left(x,y \\right)} + e{\\left(x,y \\right)} \\frac{\\partial^{2}}{\\partial x\\partial y} U{\\left(x,y \\right)} = f{\\left(x,y \\right)}$"
      ],
      "text/plain": [
       "Eq(a(x, y)*Derivative(U(x, y), x) + b(x, y)*Derivative(U(x, y), y) + c(x, y)*Derivative(U(x, y), (x, 2)) + d(x, y)*Derivative(U(x, y), (y, 2)) + e(x, y)*Derivative(U(x, y), y, x), f(x, y))"
      ]
     },
     "execution_count": 9,
     "metadata": {},
     "output_type": "execute_result"
    }
   ],
   "source": [
    "Eq(a * D(U, x) + b * D(U, y) + c * D(U, x, 2) + d * D(U, y, 2) + e * D(D(U, y), x), f)"
   ]
  },
  {
   "cell_type": "code",
   "execution_count": 10,
   "id": "ed7706ba-da55-4f83-a76f-bfacf40cd18b",
   "metadata": {},
   "outputs": [
    {
     "name": "stdout",
     "output_type": "stream",
     "text": [
      "Symbolic variables already cleared\n"
     ]
    }
   ],
   "source": [
    "cleaner([\"x\", \"y\", \"U\", \"a\", \"b\", \"c\", \"d\", \"e\", \"f\"])"
   ]
  },
  {
   "cell_type": "markdown",
   "id": "b66e00fd-90b9-427d-9db1-b40e9f5ba250",
   "metadata": {},
   "source": [
    "## Example $1$ <!-- (page 3) -->\n",
    "\n",
    "Show that the following PDE $U_{t}=k U_{xx}$ with the following initial and boundary conditions\n",
    "\n",
    "$$\n",
    "\\begin{aligned}\n",
    "U\\left(t, x\\right)&=2\\sin\\left(\\dfrac{\\pi x}{L}\\right) \\\\\n",
    "U\\left(t, 0\\right)&=0 \\\\\n",
    "U\\left(t, L\\right)&=0,\n",
    "\\end{aligned}\n",
    "$$\n",
    "\n",
    "has the solution\n",
    "\n",
    "$$\n",
    "U\\left(t,x\\right)=\n",
    "2\\sin\\left(\\dfrac{\\pi x}{L}\\right)\n",
    "\\exp\\left(-\\dfrac{k\\pi^2 t}{L^2}\\right).\n",
    "$$"
   ]
  },
  {
   "cell_type": "code",
   "execution_count": 11,
   "id": "02340edb-4214-4132-8c8c-7090c7a6fda0",
   "metadata": {},
   "outputs": [],
   "source": [
    "t, x, k, L = symbols(\"t, x, k, L\")\n",
    "U = symbols(\"U\", cls=Function)(t, x)"
   ]
  },
  {
   "cell_type": "code",
   "execution_count": 12,
   "id": "84d67dba-b8ce-4ff3-8f1e-1dc2b8721205",
   "metadata": {},
   "outputs": [],
   "source": [
    "heat_equation = Eq(D(U, t), k * D(U, x, 2))"
   ]
  },
  {
   "cell_type": "code",
   "execution_count": 13,
   "id": "7ff06904-980c-479b-ac19-5b1024b26cf4",
   "metadata": {},
   "outputs": [
    {
     "data": {
      "text/latex": [
       "$\\displaystyle \\frac{\\partial}{\\partial t} U{\\left(t,x \\right)} = k \\frac{\\partial^{2}}{\\partial x^{2}} U{\\left(t,x \\right)}$"
      ],
      "text/plain": [
       "Eq(Derivative(U(t, x), t), k*Derivative(U(t, x), (x, 2)))"
      ]
     },
     "execution_count": 13,
     "metadata": {},
     "output_type": "execute_result"
    }
   ],
   "source": [
    "heat_equation"
   ]
  },
  {
   "cell_type": "markdown",
   "id": "ac5a8eb1-3540-44f0-9d43-dcd278d6c755",
   "metadata": {},
   "source": [
    "### Analytical solution"
   ]
  },
  {
   "cell_type": "code",
   "execution_count": 14,
   "id": "360307c8-38be-4a70-960a-700990e9d947",
   "metadata": {},
   "outputs": [],
   "source": [
    "heat_solution = 2 * sin(pi * x / L) * exp(-k * pi**2 * t / L**2)"
   ]
  },
  {
   "cell_type": "code",
   "execution_count": 15,
   "id": "de6e4b76-0060-43ca-833f-b3757c5d6dc9",
   "metadata": {},
   "outputs": [
    {
     "data": {
      "text/latex": [
       "$\\displaystyle 2 e^{- \\frac{\\pi^{2} k t}{L^{2}}} \\sin{\\left(\\frac{\\pi x}{L} \\right)}$"
      ],
      "text/plain": [
       "2*exp(-pi**2*k*t/L**2)*sin(pi*x/L)"
      ]
     },
     "execution_count": 15,
     "metadata": {},
     "output_type": "execute_result"
    }
   ],
   "source": [
    "heat_solution"
   ]
  },
  {
   "cell_type": "markdown",
   "id": "0c2aab9d-7905-47d9-b8f0-0855d608817c",
   "metadata": {},
   "source": [
    "### Initial condition"
   ]
  },
  {
   "cell_type": "code",
   "execution_count": 16,
   "id": "53e40d66-779a-40a3-b641-6a5a204408f9",
   "metadata": {},
   "outputs": [],
   "source": [
    "U_0 = heat_solution.subs({t: 0})"
   ]
  },
  {
   "cell_type": "code",
   "execution_count": 17,
   "id": "1f3b9c7e-a414-4918-b6b9-1a7a6bc7dcaa",
   "metadata": {},
   "outputs": [
    {
     "data": {
      "text/latex": [
       "$\\displaystyle 2 \\sin{\\left(\\frac{\\pi x}{L} \\right)}$"
      ],
      "text/plain": [
       "2*sin(pi*x/L)"
      ]
     },
     "execution_count": 17,
     "metadata": {},
     "output_type": "execute_result"
    }
   ],
   "source": [
    "U_0"
   ]
  },
  {
   "cell_type": "markdown",
   "id": "e0aa79db-ca76-4572-9e92-65d440a18107",
   "metadata": {},
   "source": [
    "### Dirichlet Boundary condition"
   ]
  },
  {
   "cell_type": "code",
   "execution_count": 18,
   "id": "e2ebcc6c-0b4f-40da-b665-f38af4423c32",
   "metadata": {},
   "outputs": [],
   "source": [
    "U_left, U_right = heat_solution.subs({x: 0}), heat_solution.subs({x: L})"
   ]
  },
  {
   "cell_type": "code",
   "execution_count": 19,
   "id": "aa3feda4-5e5c-4cc8-a4d7-4e8e1d9b623c",
   "metadata": {},
   "outputs": [
    {
     "data": {
      "text/latex": [
       "$\\displaystyle 0$"
      ],
      "text/plain": [
       "0"
      ]
     },
     "execution_count": 19,
     "metadata": {},
     "output_type": "execute_result"
    }
   ],
   "source": [
    "U_left"
   ]
  },
  {
   "cell_type": "code",
   "execution_count": 20,
   "id": "532f5482-26ae-44df-aa41-1d559ba7c55f",
   "metadata": {},
   "outputs": [
    {
     "data": {
      "text/latex": [
       "$\\displaystyle 0$"
      ],
      "text/plain": [
       "0"
      ]
     },
     "execution_count": 20,
     "metadata": {},
     "output_type": "execute_result"
    }
   ],
   "source": [
    "U_right"
   ]
  },
  {
   "cell_type": "markdown",
   "id": "2079a5ec-8d9f-45af-ba64-f8ccffacfdf1",
   "metadata": {},
   "source": [
    "### Checking solution"
   ]
  },
  {
   "cell_type": "code",
   "execution_count": 21,
   "id": "4549e4ff-ca1a-43e1-9e6e-ef5d581baa1d",
   "metadata": {},
   "outputs": [],
   "source": [
    "U_t = heat_equation.lhs.subs({U: heat_solution}).simplify()"
   ]
  },
  {
   "cell_type": "code",
   "execution_count": 22,
   "id": "947dbfd2-8df6-4fda-bd77-79ab96482719",
   "metadata": {},
   "outputs": [
    {
     "data": {
      "text/latex": [
       "$\\displaystyle - \\frac{2 \\pi^{2} k e^{- \\frac{\\pi^{2} k t}{L^{2}}} \\sin{\\left(\\frac{\\pi x}{L} \\right)}}{L^{2}}$"
      ],
      "text/plain": [
       "-2*pi**2*k*exp(-pi**2*k*t/L**2)*sin(pi*x/L)/L**2"
      ]
     },
     "execution_count": 22,
     "metadata": {},
     "output_type": "execute_result"
    }
   ],
   "source": [
    "U_t"
   ]
  },
  {
   "cell_type": "code",
   "execution_count": 23,
   "id": "de60d1c6-8b5f-414c-89d5-17ca805364a3",
   "metadata": {},
   "outputs": [],
   "source": [
    "U_xx = heat_equation.rhs.subs({U: heat_solution}).simplify() / k"
   ]
  },
  {
   "cell_type": "code",
   "execution_count": 24,
   "id": "0d4d4aa8-2db4-4020-891a-63e24adb107c",
   "metadata": {},
   "outputs": [
    {
     "data": {
      "text/latex": [
       "$\\displaystyle - \\frac{2 \\pi^{2} e^{- \\frac{\\pi^{2} k t}{L^{2}}} \\sin{\\left(\\frac{\\pi x}{L} \\right)}}{L^{2}}$"
      ],
      "text/plain": [
       "-2*pi**2*exp(-pi**2*k*t/L**2)*sin(pi*x/L)/L**2"
      ]
     },
     "execution_count": 24,
     "metadata": {},
     "output_type": "execute_result"
    }
   ],
   "source": [
    "U_xx"
   ]
  },
  {
   "cell_type": "code",
   "execution_count": 25,
   "id": "f75275f7-4012-47c2-967a-6f8f8431b831",
   "metadata": {},
   "outputs": [
    {
     "data": {
      "text/plain": [
       "True"
      ]
     },
     "execution_count": 25,
     "metadata": {},
     "output_type": "execute_result"
    }
   ],
   "source": [
    "U_t.equals(k * U_xx)"
   ]
  },
  {
   "cell_type": "code",
   "execution_count": 26,
   "id": "75d05539-4497-43fd-9ba6-b178052b4f57",
   "metadata": {},
   "outputs": [
    {
     "name": "stdout",
     "output_type": "stream",
     "text": [
      "Symbolic variables already cleared\n"
     ]
    }
   ],
   "source": [
    "cleaner([\"t\", \"x\", \"k\", \"L\", \"U\"])"
   ]
  },
  {
   "cell_type": "markdown",
   "id": "2f4c2ed1-85f1-4fb1-b49d-9965289884f8",
   "metadata": {},
   "source": [
    "## Classifying PDEs"
   ]
  },
  {
   "cell_type": "code",
   "execution_count": 27,
   "id": "98569993-2fb2-4a9e-ac84-1f5a85d3bc3d",
   "metadata": {},
   "outputs": [],
   "source": [
    "def classification(a, b, c):\n",
    "    discriminant = b**2 - 4 * a * c\n",
    "    if discriminant < 0:\n",
    "        print(\"Elliptic PDE\")\n",
    "    elif discriminant == 0:\n",
    "        print(\"Parabolic PDE\")\n",
    "    else:\n",
    "        print(\"Hyperbolic PDE\")"
   ]
  },
  {
   "cell_type": "markdown",
   "id": "db3d0ccc-e131-402d-a328-f1fc73855d2a",
   "metadata": {},
   "source": [
    "## Example $2$ <!-- (page 4) -->\n",
    "\n",
    "For each of the PDEs given below, classify them as either an elliptic, parabolic or hyperbolic PDE."
   ]
  },
  {
   "cell_type": "code",
   "execution_count": 28,
   "id": "360bba11-5c07-4cb8-a371-456796e78201",
   "metadata": {},
   "outputs": [],
   "source": [
    "x, y = symbols(\"x, y\")\n",
    "U = symbols(\"U\", cls=Function)(x, y)"
   ]
  },
  {
   "cell_type": "code",
   "execution_count": 29,
   "id": "aa085042-b8e5-4c25-9390-34a47d328d70",
   "metadata": {},
   "outputs": [],
   "source": [
    "laplace_equation = Eq(D(U, x, 2) + D(U, y, 2), 0)"
   ]
  },
  {
   "cell_type": "code",
   "execution_count": 30,
   "id": "747600ee-6223-420d-b43b-86d70954cc1f",
   "metadata": {},
   "outputs": [
    {
     "data": {
      "text/latex": [
       "$\\displaystyle \\frac{\\partial^{2}}{\\partial x^{2}} U{\\left(x,y \\right)} + \\frac{\\partial^{2}}{\\partial y^{2}} U{\\left(x,y \\right)} = 0$"
      ],
      "text/plain": [
       "Eq(Derivative(U(x, y), (x, 2)) + Derivative(U(x, y), (y, 2)), 0)"
      ]
     },
     "execution_count": 30,
     "metadata": {},
     "output_type": "execute_result"
    }
   ],
   "source": [
    "laplace_equation"
   ]
  },
  {
   "cell_type": "code",
   "execution_count": 31,
   "id": "71428027-33e3-453d-9964-691a5f1c9fd3",
   "metadata": {},
   "outputs": [
    {
     "name": "stdout",
     "output_type": "stream",
     "text": [
      "Elliptic PDE\n"
     ]
    }
   ],
   "source": [
    "classification(a=1, b=0, c=1)"
   ]
  },
  {
   "cell_type": "code",
   "execution_count": 32,
   "id": "cb67db73-8ff5-4456-a233-472db658a993",
   "metadata": {},
   "outputs": [],
   "source": [
    "t, k = symbols(\"t, k\")\n",
    "U = symbols(\"U\", cls=Function)(t, x)"
   ]
  },
  {
   "cell_type": "code",
   "execution_count": 33,
   "id": "3ac8c7fc-ad82-4276-ad05-196e964381a1",
   "metadata": {},
   "outputs": [],
   "source": [
    "heat_equation = Eq(D(U, t), k * D(U, x, 2))"
   ]
  },
  {
   "cell_type": "code",
   "execution_count": 34,
   "id": "3024c211-6ca3-4f3c-aa6f-116aaeebcd08",
   "metadata": {},
   "outputs": [
    {
     "data": {
      "text/latex": [
       "$\\displaystyle \\frac{\\partial}{\\partial t} U{\\left(t,x \\right)} = k \\frac{\\partial^{2}}{\\partial x^{2}} U{\\left(t,x \\right)}$"
      ],
      "text/plain": [
       "Eq(Derivative(U(t, x), t), k*Derivative(U(t, x), (x, 2)))"
      ]
     },
     "execution_count": 34,
     "metadata": {},
     "output_type": "execute_result"
    }
   ],
   "source": [
    "heat_equation"
   ]
  },
  {
   "cell_type": "code",
   "execution_count": 35,
   "id": "c7710766-cf0f-4cb9-968b-22abc93e48bd",
   "metadata": {},
   "outputs": [
    {
     "name": "stdout",
     "output_type": "stream",
     "text": [
      "Parabolic PDE\n"
     ]
    }
   ],
   "source": [
    "classification(a=-k, b=0, c=0)"
   ]
  },
  {
   "cell_type": "code",
   "execution_count": 36,
   "id": "7573dfc4-84a8-44bd-b483-e3e364bb9272",
   "metadata": {},
   "outputs": [],
   "source": [
    "c = symbols(\"c\", positive=True)\n",
    "U = symbols(\"U\", cls=Function)(t, x)"
   ]
  },
  {
   "cell_type": "code",
   "execution_count": 37,
   "id": "48bcfcc4-3dcf-4c91-9e55-28b902cb72e8",
   "metadata": {},
   "outputs": [],
   "source": [
    "wave_equation = Eq(D(U, t, 2), c**2 * D(U, x, 2))"
   ]
  },
  {
   "cell_type": "code",
   "execution_count": 38,
   "id": "14d6ce99-5d99-48f8-98fe-988c179ac15e",
   "metadata": {},
   "outputs": [
    {
     "data": {
      "text/latex": [
       "$\\displaystyle \\frac{\\partial^{2}}{\\partial t^{2}} U{\\left(t,x \\right)} = c^{2} \\frac{\\partial^{2}}{\\partial x^{2}} U{\\left(t,x \\right)}$"
      ],
      "text/plain": [
       "Eq(Derivative(U(t, x), (t, 2)), c**2*Derivative(U(t, x), (x, 2)))"
      ]
     },
     "execution_count": 38,
     "metadata": {},
     "output_type": "execute_result"
    }
   ],
   "source": [
    "wave_equation"
   ]
  },
  {
   "cell_type": "code",
   "execution_count": 39,
   "id": "94c21a7f-3424-47bc-ae64-4f523256d760",
   "metadata": {},
   "outputs": [
    {
     "name": "stdout",
     "output_type": "stream",
     "text": [
      "Hyperbolic PDE\n"
     ]
    }
   ],
   "source": [
    "classification(a=-(c**2), b=0, c=1)"
   ]
  },
  {
   "cell_type": "code",
   "execution_count": 40,
   "id": "ad5eee5e-d9e1-47dd-9a81-0f105fadd145",
   "metadata": {},
   "outputs": [
    {
     "name": "stdout",
     "output_type": "stream",
     "text": [
      "Symbolic variables already cleared\n"
     ]
    }
   ],
   "source": [
    "cleaner([\"t\", \"x\", \"y\", \"k\", \"c\", \"U\"])"
   ]
  },
  {
   "cell_type": "markdown",
   "id": "845ef0f6-cfd9-4082-833d-971011b52d39",
   "metadata": {},
   "source": [
    "### Elliptic PDEs"
   ]
  },
  {
   "cell_type": "code",
   "execution_count": 41,
   "id": "e41190c6-b530-45ce-b149-2ffce27e2f0f",
   "metadata": {},
   "outputs": [],
   "source": [
    "x, y = symbols(\"x, y\")\n",
    "f = symbols(\"f\", cls=Function)(x, y)\n",
    "U = symbols(\"U\", cls=Function)(x, y)"
   ]
  },
  {
   "cell_type": "code",
   "execution_count": 42,
   "id": "8c949e3e-47ab-4e18-84dd-98b33cc1e9e3",
   "metadata": {},
   "outputs": [
    {
     "data": {
      "text/latex": [
       "$\\displaystyle \\frac{\\partial^{2}}{\\partial x^{2}} U{\\left(x,y \\right)} + \\frac{\\partial^{2}}{\\partial y^{2}} U{\\left(x,y \\right)} = f{\\left(x,y \\right)}$"
      ],
      "text/plain": [
       "Eq(Derivative(U(x, y), (x, 2)) + Derivative(U(x, y), (y, 2)), f(x, y))"
      ]
     },
     "execution_count": 42,
     "metadata": {},
     "output_type": "execute_result"
    }
   ],
   "source": [
    "Eq(D(U, x, 2) + D(U, y, 2), f)"
   ]
  },
  {
   "cell_type": "markdown",
   "id": "06163788-9cdd-4ba6-93a6-708106dd5682",
   "metadata": {},
   "source": [
    "### Parabolic PDEs"
   ]
  },
  {
   "cell_type": "code",
   "execution_count": 43,
   "id": "a3fbccb3-9226-4109-b9e6-f4d5b034103a",
   "metadata": {},
   "outputs": [],
   "source": [
    "t, alpha = symbols(\"t, alpha\")"
   ]
  },
  {
   "cell_type": "code",
   "execution_count": 44,
   "id": "eea840b1-97f1-4f34-bc88-e80e6350c095",
   "metadata": {},
   "outputs": [
    {
     "data": {
      "text/latex": [
       "$\\displaystyle \\frac{\\partial}{\\partial t} U{\\left(x,y \\right)} = \\alpha \\frac{\\partial^{2}}{\\partial x^{2}} U{\\left(x,y \\right)}$"
      ],
      "text/plain": [
       "Eq(Derivative(U(x, y), t), alpha*Derivative(U(x, y), (x, 2)))"
      ]
     },
     "execution_count": 44,
     "metadata": {},
     "output_type": "execute_result"
    }
   ],
   "source": [
    "Eq(D(U, t), alpha * D(U, x, 2))"
   ]
  },
  {
   "cell_type": "markdown",
   "id": "cc23463a-7002-48cc-b568-d9dc32b15985",
   "metadata": {},
   "source": [
    "### Hyperbolic PDEs"
   ]
  },
  {
   "cell_type": "code",
   "execution_count": 45,
   "id": "feffeee0-e2bc-41d1-bddb-b75b1c2f8d30",
   "metadata": {},
   "outputs": [],
   "source": [
    "c = symbols(\"c\")"
   ]
  },
  {
   "cell_type": "code",
   "execution_count": 46,
   "id": "db19626c-d201-4c64-9b0e-b0601e8e00b3",
   "metadata": {},
   "outputs": [
    {
     "data": {
      "text/latex": [
       "$\\displaystyle \\frac{\\partial^{2}}{\\partial t^{2}} U{\\left(x,y \\right)} = c^{2} \\frac{\\partial^{2}}{\\partial x^{2}} U{\\left(x,y \\right)}$"
      ],
      "text/plain": [
       "Eq(Derivative(U(x, y), (t, 2)), c**2*Derivative(U(x, y), (x, 2)))"
      ]
     },
     "execution_count": 46,
     "metadata": {},
     "output_type": "execute_result"
    }
   ],
   "source": [
    "Eq(D(U, t, 2), c**2 * D(U, x, 2))"
   ]
  },
  {
   "cell_type": "code",
   "execution_count": 47,
   "id": "59cacbe4-8717-461b-8177-df325944518a",
   "metadata": {},
   "outputs": [],
   "source": [
    "v = symbols(\"v\", cls=Function)(x, y)\n",
    "U = symbols(\"U\", cls=Function)(t, x)"
   ]
  },
  {
   "cell_type": "code",
   "execution_count": 48,
   "id": "d815425d-c6cb-4219-abe2-90991a1faf57",
   "metadata": {},
   "outputs": [
    {
     "data": {
      "text/latex": [
       "$\\displaystyle v{\\left(x,y \\right)} \\frac{\\partial}{\\partial x} U{\\left(t,x \\right)} + \\frac{\\partial}{\\partial t} U{\\left(t,x \\right)} = 0$"
      ],
      "text/plain": [
       "Eq(v(x, y)*Derivative(U(t, x), x) + Derivative(U(t, x), t), 0)"
      ]
     },
     "execution_count": 48,
     "metadata": {},
     "output_type": "execute_result"
    }
   ],
   "source": [
    "Eq(D(U, t) + v * D(U, x), 0)"
   ]
  }
 ],
 "metadata": {
  "kernelspec": {
   "display_name": "Python 3 (ipykernel)",
   "language": "python",
   "name": "python3"
  },
  "language_info": {
   "codemirror_mode": {
    "name": "ipython",
    "version": 3
   },
   "file_extension": ".py",
   "mimetype": "text/x-python",
   "name": "python",
   "nbconvert_exporter": "python",
   "pygments_lexer": "ipython3",
   "version": "3.11.6"
  }
 },
 "nbformat": 4,
 "nbformat_minor": 5
}
