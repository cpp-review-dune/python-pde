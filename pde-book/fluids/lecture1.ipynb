{
 "cells": [
  {
   "cell_type": "markdown",
   "id": "9529aedb-1040-4548-a7ff-fbeaea864ef6",
   "metadata": {},
   "source": [
    "# Introduction to Computational Fluid Dynamics\n",
    "\n",
    "$$\n",
    "\\begin{aligned}\n",
    "f\\left(x_0+h\\right)&=\n",
    "f\\left(x_0\\right)+\n",
    "hf^{\\prime}\\left(x_0\\right)+\n",
    "\\frac{h^2}{2!}f^{\\prime\\prime}\\left(x_0\\right)+\n",
    "\\cdots+\n",
    "\\frac{h^n}{n!}f^{\\left(n\\right)}\\left(x_0\\right)+\n",
    "\\cdots\\\\\n",
    "f\\left(x_0-h\\right)&=\n",
    "f\\left(x_0\\right)-\n",
    "hf^{\\prime}\\left(x_0\\right)+\n",
    "\\frac{h^2}{2!}f^{\\prime\\prime}\\left(x_0\\right)-\n",
    "\\cdots+\n",
    "{\\left(-1\\right)}^{n}\n",
    "\\frac{h^n}{n!}f^{\\left(n\\right)}\\left(x_0\\right)+\n",
    "\\cdots\n",
    "\\end{aligned}\n",
    "$$"
   ]
  }
 ],
 "metadata": {
  "kernelspec": {
   "display_name": "Python 3 (ipykernel)",
   "language": "python",
   "name": "python3"
  },
  "language_info": {
   "codemirror_mode": {
    "name": "ipython",
    "version": 3
   },
   "file_extension": ".py",
   "mimetype": "text/x-python",
   "name": "python",
   "nbconvert_exporter": "python",
   "pygments_lexer": "ipython3",
   "version": "3.11.7"
  }
 },
 "nbformat": 4,
 "nbformat_minor": 5
}
