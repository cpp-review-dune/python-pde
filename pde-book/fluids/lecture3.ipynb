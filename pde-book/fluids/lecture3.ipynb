{
 "cells": [
  {
   "cell_type": "markdown",
   "id": "55635d3d-476a-4a73-ae16-95b4b09e0993",
   "metadata": {},
   "source": [
    "# Finite differences - First derivative"
   ]
  },
  {
   "cell_type": "code",
   "execution_count": 1,
   "id": "cc848e01-97ba-416a-99fa-2efaff6ee8ec",
   "metadata": {},
   "outputs": [],
   "source": [
    "import numpy as np"
   ]
  },
  {
   "cell_type": "code",
   "execution_count": 2,
   "id": "bf24c7f6-7877-4ccf-979e-9d222e484b1f",
   "metadata": {},
   "outputs": [],
   "source": [
    "a = 1"
   ]
  },
  {
   "cell_type": "code",
   "execution_count": 3,
   "id": "1e409e7f-a633-45c3-8d26-b3d7b1799f21",
   "metadata": {},
   "outputs": [],
   "source": [
    "anum = np.int32(1)"
   ]
  },
  {
   "cell_type": "code",
   "execution_count": 4,
   "id": "8bcf619c-6c1e-4278-95d8-06e5bd500525",
   "metadata": {},
   "outputs": [],
   "source": [
    "b = 0.1"
   ]
  },
  {
   "cell_type": "code",
   "execution_count": 5,
   "id": "be288f2e-f59d-444c-90cc-d7ea639f31e4",
   "metadata": {},
   "outputs": [],
   "source": [
    "bnum = np.float64(0.1)"
   ]
  },
  {
   "cell_type": "code",
   "execution_count": 6,
   "id": "d5ba370e-da15-4e25-938f-eb42f1a78f39",
   "metadata": {},
   "outputs": [],
   "source": [
    "c = [1, 2, 3]"
   ]
  },
  {
   "cell_type": "code",
   "execution_count": 7,
   "id": "e9f2db31-6d07-4815-ab4f-a890a1f5ccf3",
   "metadata": {},
   "outputs": [],
   "source": [
    "cnum = np.array([1, 2, 3])"
   ]
  },
  {
   "cell_type": "code",
   "execution_count": 8,
   "id": "244136ca-d7d5-4796-bfa5-6f399b6b63f2",
   "metadata": {},
   "outputs": [],
   "source": [
    "d = [1.1, 2, 3]"
   ]
  },
  {
   "cell_type": "code",
   "execution_count": 9,
   "id": "58b2fd05-4c96-47bf-aae3-e1cbe3d3f3aa",
   "metadata": {},
   "outputs": [],
   "source": [
    "dnum = np.array([1.1, 2, 3])"
   ]
  },
  {
   "cell_type": "code",
   "execution_count": 10,
   "id": "e47b5e63-a726-4b71-9091-45d451de445f",
   "metadata": {},
   "outputs": [],
   "source": [
    "poly_p = np.array([-4, 7, -3, 9])"
   ]
  },
  {
   "cell_type": "code",
   "execution_count": 11,
   "id": "35c15041-0b26-4369-94aa-15a406a09fbd",
   "metadata": {},
   "outputs": [],
   "source": [
    "p_der = np.polyder(poly_p)"
   ]
  },
  {
   "cell_type": "code",
   "execution_count": 12,
   "id": "b8d25b98-83a9-4173-8e06-cb767ea843a0",
   "metadata": {},
   "outputs": [],
   "source": [
    "p_der_eval = np.polyval(p_der, 0)"
   ]
  },
  {
   "cell_type": "code",
   "execution_count": 13,
   "id": "3ee7c41d-6e5d-4603-9097-1c29215374d2",
   "metadata": {},
   "outputs": [
    {
     "data": {
      "text/plain": [
       "-3"
      ]
     },
     "execution_count": 13,
     "metadata": {},
     "output_type": "execute_result"
    }
   ],
   "source": [
    "p_der_eval"
   ]
  },
  {
   "cell_type": "code",
   "execution_count": 14,
   "id": "45fca0e9-8ec0-416c-8cbc-4f3f05c840fd",
   "metadata": {},
   "outputs": [],
   "source": [
    "x_0 = 0"
   ]
  },
  {
   "cell_type": "code",
   "execution_count": 15,
   "id": "00f5d5e8-832b-4bd3-8716-84659df08231",
   "metadata": {},
   "outputs": [],
   "source": [
    "h = np.float64(0.25)"
   ]
  },
  {
   "cell_type": "code",
   "execution_count": 16,
   "id": "582c4916-4b8e-4e53-924b-68a35a5d8972",
   "metadata": {},
   "outputs": [],
   "source": [
    "forward_difference = (np.polyval(poly_p, x_0 + h) - np.polyval(poly_p, x_0)) / h"
   ]
  },
  {
   "cell_type": "code",
   "execution_count": 17,
   "id": "a16da5a9-64cf-41e2-b7c6-866129916fc3",
   "metadata": {},
   "outputs": [
    {
     "data": {
      "text/plain": [
       "-1.5"
      ]
     },
     "execution_count": 17,
     "metadata": {},
     "output_type": "execute_result"
    }
   ],
   "source": [
    "forward_difference"
   ]
  },
  {
   "cell_type": "code",
   "execution_count": 18,
   "id": "b81f93e0-c209-4f7c-b88e-2cf8b54136d7",
   "metadata": {},
   "outputs": [],
   "source": [
    "backward_difference = (np.polyval(poly_p, x_0) - np.polyval(poly_p, x_0 - h)) / h"
   ]
  },
  {
   "cell_type": "code",
   "execution_count": 19,
   "id": "33b9fe83-1b18-4705-a2ba-6a4856160975",
   "metadata": {},
   "outputs": [
    {
     "data": {
      "text/plain": [
       "-5.0"
      ]
     },
     "execution_count": 19,
     "metadata": {},
     "output_type": "execute_result"
    }
   ],
   "source": [
    "backward_difference"
   ]
  },
  {
   "cell_type": "code",
   "execution_count": 20,
   "id": "b12dac22-3dc7-49ee-9518-71fcecf02d55",
   "metadata": {},
   "outputs": [],
   "source": [
    "central_difference = (np.polyval(poly_p, x_0 + h) - np.polyval(poly_p, x_0 - h)) / (\n",
    "    2 * h\n",
    ")"
   ]
  },
  {
   "cell_type": "code",
   "execution_count": 21,
   "id": "dff993e2-c886-480e-a6cb-c75b1ede7ad6",
   "metadata": {},
   "outputs": [
    {
     "data": {
      "text/plain": [
       "-3.25"
      ]
     },
     "execution_count": 21,
     "metadata": {},
     "output_type": "execute_result"
    }
   ],
   "source": [
    "central_difference"
   ]
  }
 ],
 "metadata": {
  "kernelspec": {
   "display_name": "Python 3 (ipykernel)",
   "language": "python",
   "name": "python3"
  },
  "language_info": {
   "codemirror_mode": {
    "name": "ipython",
    "version": 3
   },
   "file_extension": ".py",
   "mimetype": "text/x-python",
   "name": "python",
   "nbconvert_exporter": "python",
   "pygments_lexer": "ipython3",
   "version": "3.11.7"
  }
 },
 "nbformat": 4,
 "nbformat_minor": 5
}
