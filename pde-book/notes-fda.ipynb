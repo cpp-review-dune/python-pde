{
 "cells": [
  {
   "cell_type": "markdown",
   "id": "6516ca66-5f27-4eef-b732-96986057d7b5",
   "metadata": {},
   "source": [
    "# Finite-Difference Approximations"
   ]
  },
  {
   "cell_type": "code",
   "execution_count": 1,
   "id": "a64def4e-82b2-4bdd-a204-760bf61606ca",
   "metadata": {},
   "outputs": [],
   "source": [
    "import matplotlib.pyplot as plt\n",
    "import numpy as np\n",
    "from cleaner import cleaner\n",
    "from sympy import Derivative as D\n",
    "from sympy import Eq, Function, Matrix, O, cos, solve, symbols\n",
    "from tabulate import tabulate"
   ]
  },
  {
   "cell_type": "code",
   "execution_count": 2,
   "id": "f89b5082-390a-4256-bf84-f533cde99b3a",
   "metadata": {},
   "outputs": [],
   "source": [
    "x = symbols(\"x\")\n",
    "h = symbols(\"h\", positive=True)\n",
    "f = Function(\"f\")"
   ]
  },
  {
   "cell_type": "markdown",
   "id": "917ae619-604e-42af-aacf-b84751d91bb8",
   "metadata": {},
   "source": [
    "## Forward Taylor Series"
   ]
  },
  {
   "cell_type": "code",
   "execution_count": 3,
   "id": "54294d07-2c92-41c3-887e-55a735851143",
   "metadata": {},
   "outputs": [
    {
     "data": {
      "text/latex": [
       "$\\displaystyle f{\\left(x \\right)} + h \\frac{d}{d x} f{\\left(x \\right)} + \\frac{h^{2} \\frac{d^{2}}{d x^{2}} f{\\left(x \\right)}}{2} + \\frac{h^{3} \\frac{d^{3}}{d x^{3}} f{\\left(x \\right)}}{6} + \\frac{h^{4} \\frac{d^{4}}{d x^{4}} f{\\left(x \\right)}}{24} + O\\left(h^{5}\\right)$"
      ],
      "text/plain": [
       "f(x) + h*Derivative(f(x), x) + h**2*Derivative(f(x), (x, 2))/2 + h**3*Derivative(f(x), (x, 3))/6 + h**4*Derivative(f(x), (x, 4))/24 + O(h**5)"
      ]
     },
     "execution_count": 3,
     "metadata": {},
     "output_type": "execute_result"
    }
   ],
   "source": [
    "f(x + h).series(x=h, x0=0, n=5).simplify()"
   ]
  },
  {
   "cell_type": "markdown",
   "id": "a33f5ed4-f01e-4529-8c69-7ba7fd327659",
   "metadata": {},
   "source": [
    "## Backward Taylor Series"
   ]
  },
  {
   "cell_type": "code",
   "execution_count": 4,
   "id": "4b01411e-af4e-4ea5-911a-c688576f6956",
   "metadata": {},
   "outputs": [
    {
     "data": {
      "text/latex": [
       "$\\displaystyle f{\\left(x \\right)} - h \\frac{d}{d x} f{\\left(x \\right)} + \\frac{h^{2} \\frac{d^{2}}{d x^{2}} f{\\left(x \\right)}}{2} - \\frac{h^{3} \\frac{d^{3}}{d x^{3}} f{\\left(x \\right)}}{6} + \\frac{h^{4} \\frac{d^{4}}{d x^{4}} f{\\left(x \\right)}}{24} + O\\left(h^{5}\\right)$"
      ],
      "text/plain": [
       "f(x) - h*Derivative(f(x), x) + h**2*Derivative(f(x), (x, 2))/2 - h**3*Derivative(f(x), (x, 3))/6 + h**4*Derivative(f(x), (x, 4))/24 + O(h**5)"
      ]
     },
     "execution_count": 4,
     "metadata": {},
     "output_type": "execute_result"
    }
   ],
   "source": [
    "f(x - h).series(x=h, x0=0, n=5).simplify()"
   ]
  },
  {
   "cell_type": "markdown",
   "id": "8862ecbb-ffef-4c92-9f8a-72ee2f479e50",
   "metadata": {},
   "source": [
    "## Truncation error"
   ]
  },
  {
   "cell_type": "code",
   "execution_count": 5,
   "id": "253a8eec-41d2-4d7b-b87f-88d08a4d8aa0",
   "metadata": {},
   "outputs": [
    {
     "data": {
      "text/latex": [
       "$\\displaystyle - h \\sin{\\left(x \\right)} + \\cos{\\left(x \\right)}$"
      ],
      "text/plain": [
       "-h*sin(x) + cos(x)"
      ]
     },
     "execution_count": 5,
     "metadata": {},
     "output_type": "execute_result"
    }
   ],
   "source": [
    "cos(x + h).series(x=h, x0=0, n=2).removeO().simplify()"
   ]
  },
  {
   "cell_type": "code",
   "execution_count": 6,
   "id": "20012404-7315-4a71-8f38-7f415ebe2fa1",
   "metadata": {},
   "outputs": [],
   "source": [
    "x = 0\n",
    "h = 0.1\n",
    "exact = np.cos(x + h)\n",
    "first_order_approximation = np.cos(x) - h * np.sin(x)\n",
    "truncation_error = np.abs(exact - first_order_approximation)\n",
    "E_h = np.abs(-(np.power(h, 2)) / 2 * np.cos(x))"
   ]
  },
  {
   "cell_type": "code",
   "execution_count": 7,
   "id": "f329eb7a-bc26-42e3-8d06-44c0b94e322f",
   "metadata": {},
   "outputs": [
    {
     "data": {
      "text/plain": [
       "0.0049958347219741794"
      ]
     },
     "execution_count": 7,
     "metadata": {},
     "output_type": "execute_result"
    }
   ],
   "source": [
    "truncation_error"
   ]
  },
  {
   "cell_type": "code",
   "execution_count": 8,
   "id": "817d96bf-e026-4e4c-a3b2-c732a9b10eaa",
   "metadata": {},
   "outputs": [
    {
     "data": {
      "text/plain": [
       "0.005000000000000001"
      ]
     },
     "execution_count": 8,
     "metadata": {},
     "output_type": "execute_result"
    }
   ],
   "source": [
    "E_h"
   ]
  },
  {
   "cell_type": "code",
   "execution_count": 9,
   "id": "bb9d724b-9610-480f-9661-082fd7b5004c",
   "metadata": {},
   "outputs": [],
   "source": [
    "error = np.abs(truncation_error - E_h)"
   ]
  },
  {
   "cell_type": "code",
   "execution_count": 10,
   "id": "fd24f03a-2ca4-4063-a394-fa6590dbd100",
   "metadata": {},
   "outputs": [
    {
     "data": {
      "text/plain": [
       "4.165278025821534e-06"
      ]
     },
     "execution_count": 10,
     "metadata": {},
     "output_type": "execute_result"
    }
   ],
   "source": [
    "error"
   ]
  },
  {
   "cell_type": "markdown",
   "id": "d6d51d2d-ae6e-4e55-98b5-ce708f9fe4a0",
   "metadata": {},
   "source": [
    "#### Plot"
   ]
  },
  {
   "cell_type": "code",
   "execution_count": 11,
   "id": "5edd64e7-72c8-4665-aad4-3cab0b7f0a03",
   "metadata": {},
   "outputs": [],
   "source": [
    "h = np.flip(np.reciprocal(2 ** np.arange(1, 5).astype(float)))"
   ]
  },
  {
   "cell_type": "code",
   "execution_count": 12,
   "id": "b13cdf99-b1ad-4df0-b36b-21058d910f8d",
   "metadata": {},
   "outputs": [
    {
     "data": {
      "text/plain": [
       "array([0.0625, 0.125 , 0.25  , 0.5   ])"
      ]
     },
     "execution_count": 12,
     "metadata": {},
     "output_type": "execute_result"
    }
   ],
   "source": [
    "h"
   ]
  },
  {
   "cell_type": "code",
   "execution_count": 13,
   "id": "5e835615-c506-4230-bbe8-f73b7365a7ab",
   "metadata": {},
   "outputs": [],
   "source": [
    "x = 1\n",
    "error_truncation = np.abs(np.cos(x + h) - (np.cos(x) - h * np.sin(x)))"
   ]
  },
  {
   "cell_type": "code",
   "execution_count": 14,
   "id": "b243116c-1519-4cec-9cb8-0c6558458c2b",
   "metadata": {},
   "outputs": [
    {
     "data": {
      "text/plain": [
       "array([0.0010207 , 0.00394192, 0.0146122 , 0.04882961])"
      ]
     },
     "execution_count": 14,
     "metadata": {},
     "output_type": "execute_result"
    }
   ],
   "source": [
    "error_truncation"
   ]
  },
  {
   "cell_type": "code",
   "execution_count": 15,
   "id": "7f6af1a9-4863-458c-9a13-c28add680276",
   "metadata": {},
   "outputs": [],
   "source": [
    "h_values = np.linspace(start=0, stop=h.max())\n",
    "E_h = np.abs(-1 / 2 * h_values**2 * np.cos(x))"
   ]
  },
  {
   "cell_type": "code",
   "execution_count": 16,
   "id": "77fa5a3d-1e98-45f6-83c0-a873569f0f89",
   "metadata": {},
   "outputs": [
    {
     "data": {
      "image/png": "[encoded data removed]",
      "text/plain": [
       "<Figure size 640x480 with 1 Axes>"
      ]
     },
     "metadata": {},
     "output_type": "display_data"
    }
   ],
   "source": [
    "fig, ax = plt.subplots()\n",
    "ax.plot(\n",
    "    h,\n",
    "    error_truncation,\n",
    "    \"bo-\",\n",
    "    label=r\"Truncation error: $|\\cos(x+h) - (\\cos(x) - h\\sin(x))|$\",\n",
    ")\n",
    "ax.plot(h_values, E_h, \"r--\", label=r\"$E(h)=|-\\frac{1}{2}h^2\\cos(1)|$\")\n",
    "ax.set_xlabel(r\"$h$\")\n",
    "ax.set_ylabel(r\"Truncation error\")\n",
    "ax.set_title(\"Truncation error plot\")\n",
    "ax.grid()\n",
    "legend = ax.legend(loc=\"best\", shadow=True)"
   ]
  },
  {
   "cell_type": "markdown",
   "id": "a3e0428d-b100-42b5-ae39-a73061afaa02",
   "metadata": {},
   "source": [
    "## Properties of $O\\left(h^{n}\\right)$"
   ]
  },
  {
   "cell_type": "code",
   "execution_count": 17,
   "id": "d7e608a2-bc99-40ee-aea3-eba2f5d64a41",
   "metadata": {},
   "outputs": [
    {
     "data": {
      "text/plain": [
       "True"
      ]
     },
     "execution_count": 17,
     "metadata": {},
     "output_type": "execute_result"
    }
   ],
   "source": [
    "h = symbols(\"h\")\n",
    "m, n, k = (5, 2, -2)\n",
    "assert m > n\n",
    "k * O(h**n) == O(h**n)"
   ]
  },
  {
   "cell_type": "code",
   "execution_count": 18,
   "id": "af0a6d27-f97a-4d51-97f9-0e172fa504a2",
   "metadata": {},
   "outputs": [
    {
     "data": {
      "text/plain": [
       "True"
      ]
     },
     "execution_count": 18,
     "metadata": {},
     "output_type": "execute_result"
    }
   ],
   "source": [
    "O(h**m) + O(h**n) == O(h**n)"
   ]
  },
  {
   "cell_type": "code",
   "execution_count": 19,
   "id": "48eb1ac7-751b-4822-8742-59dd52664b61",
   "metadata": {},
   "outputs": [
    {
     "data": {
      "text/plain": [
       "True"
      ]
     },
     "execution_count": 19,
     "metadata": {},
     "output_type": "execute_result"
    }
   ],
   "source": [
    "m, n = (2, 5)\n",
    "assert m < n\n",
    "O(h**n) / h**m == O(h ** (n - m))"
   ]
  },
  {
   "cell_type": "markdown",
   "id": "0041121c-8dc9-4a28-96db-380347f363ca",
   "metadata": {},
   "source": [
    "## Deriving finite-difference approximations"
   ]
  },
  {
   "cell_type": "code",
   "execution_count": 20,
   "id": "f45e358f-a85b-4dec-97bc-1ed10be429cb",
   "metadata": {},
   "outputs": [],
   "source": [
    "x = symbols(\"x\")\n",
    "h = symbols(\"h\", positive=True)\n",
    "f = Function(\"f\")"
   ]
  },
  {
   "cell_type": "code",
   "execution_count": 21,
   "id": "0768fa7e-a698-4980-b931-b856fbb82bf8",
   "metadata": {},
   "outputs": [
    {
     "data": {
      "text/latex": [
       "$\\displaystyle f{\\left(h + x \\right)} = f{\\left(x \\right)} + h \\frac{d}{d x} f{\\left(x \\right)} + O\\left(h^{2}\\right)$"
      ],
      "text/plain": [
       "Eq(f(h + x), f(x) + h*Derivative(f(x), x) + O(h**2))"
      ]
     },
     "execution_count": 21,
     "metadata": {},
     "output_type": "execute_result"
    }
   ],
   "source": [
    "Eq(f(x + h), f(x + h).series(x=h, x0=0, n=2).simplify())"
   ]
  },
  {
   "cell_type": "code",
   "execution_count": 22,
   "id": "911026ca-240e-410d-9a5c-f8ca08782739",
   "metadata": {},
   "outputs": [
    {
     "data": {
      "text/latex": [
       "$\\displaystyle f{\\left(- h + x \\right)} = f{\\left(x \\right)} - h \\frac{d}{d x} f{\\left(x \\right)} + O\\left(h^{2}\\right)$"
      ],
      "text/plain": [
       "Eq(f(-h + x), f(x) - h*Derivative(f(x), x) + O(h**2))"
      ]
     },
     "execution_count": 22,
     "metadata": {},
     "output_type": "execute_result"
    }
   ],
   "source": [
    "Eq(f(x - h), f(x - h).series(x=h, x0=0, n=2).simplify())"
   ]
  },
  {
   "cell_type": "code",
   "execution_count": 23,
   "id": "c811de9f-dea7-45c7-bde1-102a419d41f8",
   "metadata": {},
   "outputs": [
    {
     "data": {
      "text/latex": [
       "$\\displaystyle f{\\left(h + x \\right)} = f{\\left(x \\right)} + h \\frac{d}{d x} f{\\left(x \\right)} + \\frac{h^{2} \\frac{d^{2}}{d x^{2}} f{\\left(x \\right)}}{2} + O\\left(h^{3}\\right)$"
      ],
      "text/plain": [
       "Eq(f(h + x), f(x) + h*Derivative(f(x), x) + h**2*Derivative(f(x), (x, 2))/2 + O(h**3))"
      ]
     },
     "execution_count": 23,
     "metadata": {},
     "output_type": "execute_result"
    }
   ],
   "source": [
    "Eq(f(x + h), f(x + h).series(x=h, x0=0, n=3).simplify())"
   ]
  },
  {
   "cell_type": "code",
   "execution_count": 24,
   "id": "475a3e80-f0e7-4f58-ab98-485d081fe82e",
   "metadata": {},
   "outputs": [
    {
     "data": {
      "text/latex": [
       "$\\displaystyle f{\\left(- h + x \\right)} = f{\\left(x \\right)} - h \\frac{d}{d x} f{\\left(x \\right)} + \\frac{h^{2} \\frac{d^{2}}{d x^{2}} f{\\left(x \\right)}}{2} + O\\left(h^{3}\\right)$"
      ],
      "text/plain": [
       "Eq(f(-h + x), f(x) - h*Derivative(f(x), x) + h**2*Derivative(f(x), (x, 2))/2 + O(h**3))"
      ]
     },
     "execution_count": 24,
     "metadata": {},
     "output_type": "execute_result"
    }
   ],
   "source": [
    "Eq(f(x - h), f(x - h).series(x=h, x0=0, n=3).simplify())"
   ]
  },
  {
   "cell_type": "code",
   "execution_count": 25,
   "id": "980f0954-da1d-467e-91d5-459dcf58a3fb",
   "metadata": {},
   "outputs": [
    {
     "data": {
      "text/latex": [
       "$\\displaystyle f{\\left(h + x \\right)} = f{\\left(x \\right)} + h \\frac{d}{d x} f{\\left(x \\right)} + \\frac{h^{2} \\frac{d^{2}}{d x^{2}} f{\\left(x \\right)}}{2} + \\frac{h^{3} \\frac{d^{3}}{d x^{3}} f{\\left(x \\right)}}{6} + O\\left(h^{4}\\right)$"
      ],
      "text/plain": [
       "Eq(f(h + x), f(x) + h*Derivative(f(x), x) + h**2*Derivative(f(x), (x, 2))/2 + h**3*Derivative(f(x), (x, 3))/6 + O(h**4))"
      ]
     },
     "execution_count": 25,
     "metadata": {},
     "output_type": "execute_result"
    }
   ],
   "source": [
    "Eq(f(x + h), f(x + h).series(x=h, x0=0, n=4).simplify())"
   ]
  },
  {
   "cell_type": "code",
   "execution_count": 26,
   "id": "b60596e2-e6e1-4d7b-8b49-73dd726ed950",
   "metadata": {},
   "outputs": [
    {
     "data": {
      "text/latex": [
       "$\\displaystyle f{\\left(- h + x \\right)} = f{\\left(x \\right)} - h \\frac{d}{d x} f{\\left(x \\right)} + \\frac{h^{2} \\frac{d^{2}}{d x^{2}} f{\\left(x \\right)}}{2} - \\frac{h^{3} \\frac{d^{3}}{d x^{3}} f{\\left(x \\right)}}{6} + O\\left(h^{4}\\right)$"
      ],
      "text/plain": [
       "Eq(f(-h + x), f(x) - h*Derivative(f(x), x) + h**2*Derivative(f(x), (x, 2))/2 - h**3*Derivative(f(x), (x, 3))/6 + O(h**4))"
      ]
     },
     "execution_count": 26,
     "metadata": {},
     "output_type": "execute_result"
    }
   ],
   "source": [
    "Eq(f(x - h), f(x - h).series(x=h, x0=0, n=4).simplify())"
   ]
  },
  {
   "cell_type": "markdown",
   "id": "2f471630-7539-45d9-8052-817fbebf1df1",
   "metadata": {},
   "source": [
    "### First-order forward difference"
   ]
  },
  {
   "cell_type": "code",
   "execution_count": 27,
   "id": "2cf3b106-bebd-4a05-986f-4aac24ec21dc",
   "metadata": {},
   "outputs": [
    {
     "data": {
      "text/latex": [
       "$\\displaystyle \\frac{d}{d x} f{\\left(x \\right)} = \\frac{- f{\\left(x \\right)} + f{\\left(h + x \\right)}}{h}$"
      ],
      "text/plain": [
       "Eq(Derivative(f(x), x), (-f(x) + f(h + x))/h)"
      ]
     },
     "execution_count": 27,
     "metadata": {},
     "output_type": "execute_result"
    }
   ],
   "source": [
    "_ = f(x + h).series(x=h, x0=0, n=2).removeO().simplify()\n",
    "Eq(D(f(x)), solve(Eq(_, f(x + h)), D(f(x)))[0])"
   ]
  },
  {
   "cell_type": "markdown",
   "id": "be3c9e7e-8ffd-471b-9879-ffc7fc33e8ba",
   "metadata": {},
   "source": [
    "### First-order backward difference"
   ]
  },
  {
   "cell_type": "code",
   "execution_count": 28,
   "id": "b915cb8a-7b5f-4227-97b6-b8e9b8d7c7ba",
   "metadata": {},
   "outputs": [
    {
     "data": {
      "text/latex": [
       "$\\displaystyle \\frac{d}{d x} f{\\left(x \\right)} = \\frac{f{\\left(x \\right)} - f{\\left(- h + x \\right)}}{h}$"
      ],
      "text/plain": [
       "Eq(Derivative(f(x), x), (f(x) - f(-h + x))/h)"
      ]
     },
     "execution_count": 28,
     "metadata": {},
     "output_type": "execute_result"
    }
   ],
   "source": [
    "_ = f(x - h).series(x=h, x0=0, n=2).removeO().simplify()\n",
    "Eq(D(f(x)), solve(Eq(_, f(x - h)), D(f(x)))[0])"
   ]
  },
  {
   "cell_type": "markdown",
   "id": "8ae8e2bb-a02b-4b0e-a0f8-8fa4c157f660",
   "metadata": {},
   "source": [
    "### Second-order symmetric difference"
   ]
  },
  {
   "cell_type": "code",
   "execution_count": 29,
   "id": "9abbb006-fc11-4cd0-92e2-ca40c5e5655f",
   "metadata": {},
   "outputs": [],
   "source": [
    "_ = f(x + h).series(x=h, x0=0, n=4).removeO().simplify()"
   ]
  },
  {
   "cell_type": "code",
   "execution_count": 30,
   "id": "a4d87186-67f0-4575-9678-57be089b1008",
   "metadata": {},
   "outputs": [],
   "source": [
    "__ = f(x - h).series(x=h, x0=0, n=4).removeO().simplify()"
   ]
  },
  {
   "cell_type": "code",
   "execution_count": 31,
   "id": "01a784af-668b-4226-a225-0e0e0ec0f227",
   "metadata": {},
   "outputs": [
    {
     "data": {
      "text/latex": [
       "$\\displaystyle \\frac{d^{2}}{d x^{2}} f{\\left(x \\right)} = \\frac{- 2 f{\\left(x \\right)} + f{\\left(- h + x \\right)} + f{\\left(h + x \\right)}}{h^{2}}$"
      ],
      "text/plain": [
       "Eq(Derivative(f(x), (x, 2)), (-2*f(x) + f(-h + x) + f(h + x))/h**2)"
      ]
     },
     "execution_count": 31,
     "metadata": {},
     "output_type": "execute_result"
    }
   ],
   "source": [
    "Eq(D(f(x), x, 2), solve(Eq(_ + __, f(x + h) + f(x - h)), D(f(x), x, 2))[0])"
   ]
  },
  {
   "cell_type": "code",
   "execution_count": 32,
   "id": "ad5bcfd2-08d7-4c53-975e-e1e92349e397",
   "metadata": {},
   "outputs": [
    {
     "name": "stdout",
     "output_type": "stream",
     "text": [
      "Symbolic variables already cleared\n"
     ]
    }
   ],
   "source": [
    "cleaner([\"x\", \"h\", \"f\"])"
   ]
  },
  {
   "cell_type": "markdown",
   "id": "53dda78d-6664-4272-b5a3-8e3cf1a81cae",
   "metadata": {},
   "source": [
    "## Example $3$"
   ]
  },
  {
   "cell_type": "code",
   "execution_count": 33,
   "id": "db2e40b4-9540-4a83-9d91-67f9221cd9a0",
   "metadata": {},
   "outputs": [],
   "source": [
    "def forward_first_derivative(f: np.ufunc, x_0: float, h: np.array):\n",
    "    return (f(x_0 + h) - f(x_0)) / h"
   ]
  },
  {
   "cell_type": "code",
   "execution_count": 34,
   "id": "60634c2b-1bf5-4c70-bb09-340e76ed9c1c",
   "metadata": {},
   "outputs": [],
   "source": [
    "def backward_first_derivative(f: np.ufunc, x_0: float, h: np.array):\n",
    "    return (f(x_0) - f(x_0 - h)) / h"
   ]
  },
  {
   "cell_type": "code",
   "execution_count": 35,
   "id": "7f078dc5-ce08-46f0-a63a-7b159804e566",
   "metadata": {},
   "outputs": [],
   "source": [
    "def central_first_derivative(f: np.ufunc, x_0: float, h: np.array):\n",
    "    return (f(x_0 + h) - f(x_0 - h)) / (2 * h)"
   ]
  },
  {
   "cell_type": "code",
   "execution_count": 36,
   "id": "8f9a22f3-3fcf-4f27-af34-e15c39e73ba1",
   "metadata": {},
   "outputs": [],
   "source": [
    "def central_second_derivative(f: np.ufunc, x_0: float, h: np.array):\n",
    "    return (f(x_0 + h) - 2 * f(x_0) + f(x_0 - h)) / h**2"
   ]
  },
  {
   "cell_type": "code",
   "execution_count": 37,
   "id": "26c9b40d-6e39-43a3-9a1d-45ae033f9869",
   "metadata": {},
   "outputs": [],
   "source": [
    "f = np.cos\n",
    "f_prime = lambda x: -np.sin(x)\n",
    "f_prime_prime = lambda x: -np.cos(x)\n",
    "x_0 = np.pi / 4\n",
    "h = np.array(0.1)"
   ]
  },
  {
   "cell_type": "code",
   "execution_count": 38,
   "id": "f48a655e-cb5d-405b-bf33-3b2091530155",
   "metadata": {},
   "outputs": [],
   "source": [
    "ffd = forward_first_derivative(f=f, x_0=x_0, h=h)"
   ]
  },
  {
   "cell_type": "code",
   "execution_count": 39,
   "id": "a90741e8-d9e8-4d43-abd9-889982bfc930",
   "metadata": {},
   "outputs": [
    {
     "data": {
      "text/plain": [
       "-0.741254745095894"
      ]
     },
     "execution_count": 39,
     "metadata": {},
     "output_type": "execute_result"
    }
   ],
   "source": [
    "ffd"
   ]
  },
  {
   "cell_type": "code",
   "execution_count": 40,
   "id": "e90d850f-3c52-49c4-83d2-8b7ff0b6b756",
   "metadata": {},
   "outputs": [],
   "source": [
    "bfd = backward_first_derivative(f=f, x_0=x_0, h=h)"
   ]
  },
  {
   "cell_type": "code",
   "execution_count": 41,
   "id": "7e86c097-79ce-4c57-b6e9-aa1dccc3abf9",
   "metadata": {},
   "outputs": [
    {
     "data": {
      "text/plain": [
       "-0.6706029729039886"
      ]
     },
     "execution_count": 41,
     "metadata": {},
     "output_type": "execute_result"
    }
   ],
   "source": [
    "bfd"
   ]
  },
  {
   "cell_type": "code",
   "execution_count": 42,
   "id": "a18a1f1f-4d5d-456b-b1a7-d11c7b7ddac0",
   "metadata": {},
   "outputs": [],
   "source": [
    "cfd = central_first_derivative(f=f, x_0=x_0, h=h)"
   ]
  },
  {
   "cell_type": "code",
   "execution_count": 43,
   "id": "a26d766d-dcdf-48a5-9485-466597c2bd87",
   "metadata": {},
   "outputs": [
    {
     "data": {
      "text/plain": [
       "-0.7059288589999413"
      ]
     },
     "execution_count": 43,
     "metadata": {},
     "output_type": "execute_result"
    }
   ],
   "source": [
    "cfd"
   ]
  },
  {
   "cell_type": "code",
   "execution_count": 44,
   "id": "711d4b63-e87e-473a-b901-7351e0920e30",
   "metadata": {},
   "outputs": [],
   "source": [
    "exact_first_derivative = f_prime(x_0)"
   ]
  },
  {
   "cell_type": "code",
   "execution_count": 45,
   "id": "01a0ee53-b6d8-4076-8aa4-07b5daea435e",
   "metadata": {},
   "outputs": [
    {
     "data": {
      "text/plain": [
       "-0.7071067811865475"
      ]
     },
     "execution_count": 45,
     "metadata": {},
     "output_type": "execute_result"
    }
   ],
   "source": [
    "exact_first_derivative"
   ]
  },
  {
   "cell_type": "code",
   "execution_count": 46,
   "id": "da3bfa6e-3f53-4e1b-8e8a-26420f13bff5",
   "metadata": {},
   "outputs": [],
   "source": [
    "error_ffd = np.abs(exact_first_derivative - ffd)"
   ]
  },
  {
   "cell_type": "code",
   "execution_count": 47,
   "id": "f941784d-89a1-483f-b254-45da686d63c0",
   "metadata": {},
   "outputs": [
    {
     "data": {
      "text/plain": [
       "0.03414796390934649"
      ]
     },
     "execution_count": 47,
     "metadata": {},
     "output_type": "execute_result"
    }
   ],
   "source": [
    "error_ffd"
   ]
  },
  {
   "cell_type": "code",
   "execution_count": 48,
   "id": "9138ed82-61e2-4942-8adc-6414e31dc9b4",
   "metadata": {},
   "outputs": [],
   "source": [
    "error_bfd = np.abs(exact_first_derivative - bfd)"
   ]
  },
  {
   "cell_type": "code",
   "execution_count": 49,
   "id": "9e775f90-b844-494c-91b4-1f40239f781a",
   "metadata": {},
   "outputs": [
    {
     "data": {
      "text/plain": [
       "0.036503808282558836"
      ]
     },
     "execution_count": 49,
     "metadata": {},
     "output_type": "execute_result"
    }
   ],
   "source": [
    "error_bfd"
   ]
  },
  {
   "cell_type": "code",
   "execution_count": 50,
   "id": "bc86c3aa-5528-4dce-925f-4434a3dcf540",
   "metadata": {},
   "outputs": [],
   "source": [
    "error_cfd = np.abs(exact_first_derivative - cfd)"
   ]
  },
  {
   "cell_type": "code",
   "execution_count": 51,
   "id": "63444fce-a884-4792-917f-ac1f381f29d5",
   "metadata": {},
   "outputs": [
    {
     "data": {
      "text/plain": [
       "0.0011779221866061729"
      ]
     },
     "execution_count": 51,
     "metadata": {},
     "output_type": "execute_result"
    }
   ],
   "source": [
    "error_cfd"
   ]
  },
  {
   "cell_type": "code",
   "execution_count": 52,
   "id": "9f071604-fe39-4a2b-8de7-a1e0884c8412",
   "metadata": {},
   "outputs": [],
   "source": [
    "csd = central_second_derivative(f=f, x_0=x_0, h=h)"
   ]
  },
  {
   "cell_type": "code",
   "execution_count": 53,
   "id": "5f9cb4e1-c832-4298-a7e8-0bd86fb782f7",
   "metadata": {},
   "outputs": [
    {
     "data": {
      "text/plain": [
       "-0.7065177219190532"
      ]
     },
     "execution_count": 53,
     "metadata": {},
     "output_type": "execute_result"
    }
   ],
   "source": [
    "csd"
   ]
  },
  {
   "cell_type": "code",
   "execution_count": 54,
   "id": "af638a7f-4dd9-4e2c-8c65-e37c5a5b0f18",
   "metadata": {},
   "outputs": [],
   "source": [
    "exact_second_derivative = f_prime_prime(x_0)"
   ]
  },
  {
   "cell_type": "code",
   "execution_count": 55,
   "id": "55aa301f-a86b-4a0b-b865-c1df86a49b30",
   "metadata": {},
   "outputs": [
    {
     "data": {
      "text/plain": [
       "-0.7071067811865476"
      ]
     },
     "execution_count": 55,
     "metadata": {},
     "output_type": "execute_result"
    }
   ],
   "source": [
    "exact_second_derivative"
   ]
  },
  {
   "cell_type": "code",
   "execution_count": 56,
   "id": "34245023-d5f9-4934-8dac-43993aba3106",
   "metadata": {},
   "outputs": [],
   "source": [
    "error_csd = np.abs(exact_second_derivative - csd)"
   ]
  },
  {
   "cell_type": "code",
   "execution_count": 57,
   "id": "b8a37b72-207c-45b0-a0f7-e8c9e7f9fdd9",
   "metadata": {},
   "outputs": [
    {
     "data": {
      "text/plain": [
       "0.0005890592674944184"
      ]
     },
     "execution_count": 57,
     "metadata": {},
     "output_type": "execute_result"
    }
   ],
   "source": [
    "error_csd"
   ]
  },
  {
   "cell_type": "markdown",
   "id": "96052220-1228-4d09-888f-292f5de19f75",
   "metadata": {},
   "source": [
    "## Estimating the order of an approximation\n",
    "\n",
    "$$\n",
    "n\\approx\n",
    "\\dfrac{\\log\\left|E\\left(h_{\\max}\\right)\\right| -\\log\\left|E\\left(h_{\\min}\\right)\\right|}{\n",
    "\\log\\left(h_{\\max}\\right)-\\log\\left(h_{\\min}\\right)\n",
    "}.\n",
    "$$"
   ]
  },
  {
   "cell_type": "code",
   "execution_count": 58,
   "id": "e1e2eb4e-9d09-493b-8141-e95c47d559d9",
   "metadata": {},
   "outputs": [],
   "source": [
    "def estimate_order(h: np.array, truncation_error: np.array) -> float:\n",
    "    assert h.size == truncation_error.size\n",
    "    h_max = h.max()\n",
    "    h_min = h.min()\n",
    "    Eh_max = truncation_error[np.argmax(h, axis=0)[0]][0]\n",
    "    Eh_min = truncation_error[np.argmin(h, axis=0)[0]][0]\n",
    "\n",
    "    return (np.log(np.abs(Eh_max)) - np.log(np.abs(Eh_min))) / (\n",
    "        np.log(h_max) - np.log(h_min)\n",
    "    )"
   ]
  },
  {
   "cell_type": "markdown",
   "id": "8ae02d77-03cb-43f8-84c9-fffbb4db1eb6",
   "metadata": {},
   "source": [
    "## Table 2.1\n",
    "\n",
    "Finite-difference approximations of the first derivative of\n",
    "$f\\left(x\\right)=\\cos\\left(x\\right)$ at $x=\\dfrac{\\pi}{4}$ using\n",
    "step lengths $h\\in\\left\\{0.1,0.05,0.25,0.0125\\right\\}$."
   ]
  },
  {
   "cell_type": "code",
   "execution_count": 59,
   "id": "0938c101-ef02-4c4d-b9a9-18ddd37036b9",
   "metadata": {},
   "outputs": [],
   "source": [
    "f = np.cos\n",
    "f_prime = lambda x: -np.sin(x)\n",
    "x_0 = np.pi / 4\n",
    "h = np.reciprocal(10 * (2 ** np.arange(4).astype(float)))[np.newaxis].T"
   ]
  },
  {
   "cell_type": "code",
   "execution_count": 60,
   "id": "6ba8d75b-1dd2-4d92-944f-925148728265",
   "metadata": {},
   "outputs": [
    {
     "data": {
      "text/plain": [
       "array([[0.1   ],\n",
       "       [0.05  ],\n",
       "       [0.025 ],\n",
       "       [0.0125]])"
      ]
     },
     "execution_count": 60,
     "metadata": {},
     "output_type": "execute_result"
    }
   ],
   "source": [
    "h"
   ]
  },
  {
   "cell_type": "code",
   "execution_count": 61,
   "id": "671d2aa4-b7f1-4829-b00e-c07bfb52ad83",
   "metadata": {},
   "outputs": [],
   "source": [
    "forward = forward_first_derivative(f=f, x_0=x_0, h=h)\n",
    "backward = backward_first_derivative(f=f, x_0=x_0, h=h)\n",
    "central = central_first_derivative(f=f, x_0=x_0, h=h)"
   ]
  },
  {
   "cell_type": "code",
   "execution_count": 62,
   "id": "96478537-e0a9-4473-8634-896e9757d32a",
   "metadata": {},
   "outputs": [],
   "source": [
    "tabular = np.concatenate((h, forward, backward, central), axis=1)\n",
    "header = [\"h\", \"Forward\", \"Backward\", \"Central\"]"
   ]
  },
  {
   "cell_type": "code",
   "execution_count": 63,
   "id": "8d3e3fb3-0f97-43ca-8e99-08180cd57a2b",
   "metadata": {},
   "outputs": [
    {
     "name": "stdout",
     "output_type": "stream",
     "text": [
      "     h    Forward    Backward    Central\n",
      "------  ---------  ----------  ---------\n",
      "0.1     -0.741255   -0.670603  -0.705929\n",
      "0.05    -0.724486   -0.689138  -0.706812\n",
      "0.025   -0.715872   -0.698195  -0.707033\n",
      "0.0125  -0.711508   -0.702669  -0.707088\n"
     ]
    }
   ],
   "source": [
    "print(tabulate(tabular_data=tabular, headers=header))  # TODO: As xarray."
   ]
  },
  {
   "cell_type": "code",
   "execution_count": 64,
   "id": "fc858041-05cc-4205-b963-89ca343056b7",
   "metadata": {},
   "outputs": [
    {
     "data": {
      "text/plain": [
       "-0.7071067811865475"
      ]
     },
     "execution_count": 64,
     "metadata": {},
     "output_type": "execute_result"
    }
   ],
   "source": [
    "f_prime(x_0)"
   ]
  },
  {
   "cell_type": "code",
   "execution_count": 65,
   "id": "fe08f5c6-14f2-4c78-8eb8-b983b8900b6d",
   "metadata": {},
   "outputs": [],
   "source": [
    "error_forward = np.abs(f_prime(x_0) - forward)\n",
    "error_backward = np.abs(f_prime(x_0) - backward)\n",
    "error_central = np.abs(f_prime(x_0) - central)"
   ]
  },
  {
   "cell_type": "code",
   "execution_count": 66,
   "id": "f5f60a70-e9c5-4013-a04f-1625ad791775",
   "metadata": {},
   "outputs": [
    {
     "data": {
      "image/png": "[encoded data removed]",
      "text/plain": [
       "<Figure size 640x480 with 1 Axes>"
      ]
     },
     "metadata": {},
     "output_type": "display_data"
    }
   ],
   "source": [
    "fig, ax = plt.subplots()\n",
    "ax.loglog(h, error_forward, \"rs-\", label=\"forward\")\n",
    "ax.loglog(h, error_backward, \"bs-\", label=\"backward\")\n",
    "ax.loglog(h, error_central, \"ks-\", label=\"central\")\n",
    "ax.set_xlabel(r\"$h$\")\n",
    "ax.set_ylabel(r\"error\")\n",
    "ax.set_title(\"Plot of the error for the forward, backward and central differences\")\n",
    "ax.grid()\n",
    "legend = ax.legend(loc=\"best\", shadow=True)"
   ]
  },
  {
   "cell_type": "markdown",
   "id": "8c13d0e1-68bc-4d7c-b4ce-cc594fd3f0bb",
   "metadata": {},
   "source": [
    "## Table 2.2\n",
    "\n",
    "Truncation errors for the Taylor series approximations of\n",
    "$\\cos\\left(1+h\\right)$ for $h\\in\\left\\{0.5,0.25,0.125,0.0625\\right\\}$."
   ]
  },
  {
   "cell_type": "code",
   "execution_count": 67,
   "id": "de8fb2bc-4d7d-4180-aa47-dcc2dbfda0ba",
   "metadata": {},
   "outputs": [],
   "source": [
    "f = lambda h: np.cos(1 + h)\n",
    "f_prime = lambda h: -np.sin(1 + h)\n",
    "x_0 = 1\n",
    "h = np.reciprocal(2 ** np.arange(1, 5).astype(float))[np.newaxis].T"
   ]
  },
  {
   "cell_type": "code",
   "execution_count": 68,
   "id": "65f9d9cc-c4d2-476a-a00f-aa2d6ee791b8",
   "metadata": {},
   "outputs": [
    {
     "data": {
      "text/plain": [
       "array([[0.5   ],\n",
       "       [0.25  ],\n",
       "       [0.125 ],\n",
       "       [0.0625]])"
      ]
     },
     "execution_count": 68,
     "metadata": {},
     "output_type": "execute_result"
    }
   ],
   "source": [
    "h"
   ]
  },
  {
   "cell_type": "code",
   "execution_count": 69,
   "id": "f32fc060-526f-4a9d-b72d-251485cb00f1",
   "metadata": {},
   "outputs": [],
   "source": [
    "forward = forward_first_derivative(f=f, x_0=x_0, h=h)\n",
    "backward = backward_first_derivative(f=f, x_0=x_0, h=h)\n",
    "central = central_first_derivative(f=f, x_0=x_0, h=h)"
   ]
  },
  {
   "cell_type": "code",
   "execution_count": 70,
   "id": "7f479291-c10e-4bc8-9d75-d801f9d36805",
   "metadata": {},
   "outputs": [],
   "source": [
    "error_forward = np.abs(f_prime(x_0) - forward)\n",
    "error_backward = np.abs(f_prime(x_0) - backward)\n",
    "error_central = np.abs(f_prime(x_0) - central)"
   ]
  },
  {
   "cell_type": "code",
   "execution_count": 71,
   "id": "8c4e2359-11a2-47f9-8529-ac3f705b96b7",
   "metadata": {},
   "outputs": [],
   "source": [
    "tabular = np.concatenate((h, error_forward, error_backward, error_central), axis=1)\n",
    "header = [\"h\", \"Forward error\", \"Backward error\", \"Central error\"]"
   ]
  },
  {
   "cell_type": "code",
   "execution_count": 72,
   "id": "e176831c-ca27-4d2f-a80f-fb8e6bc957f4",
   "metadata": {},
   "outputs": [
    {
     "name": "stdout",
     "output_type": "stream",
     "text": [
      "     h    Forward error    Backward error    Central error\n",
      "------  ---------------  ----------------  ---------------\n",
      "0.5           0.139304          0.0644706      0.0374166\n",
      "0.25          0.0611903         0.0423057      0.00944229\n",
      "0.125         0.0283414         0.0236092      0.00236611\n",
      "0.0625        0.0135922         0.0124085      0.000591875\n"
     ]
    }
   ],
   "source": [
    "print(tabulate(tabular_data=tabular, headers=header))"
   ]
  },
  {
   "cell_type": "code",
   "execution_count": 73,
   "id": "7d9c8897-4247-4103-8d4b-460b433aa75a",
   "metadata": {},
   "outputs": [
    {
     "data": {
      "text/plain": [
       "1.1191270541574243"
      ]
     },
     "execution_count": 73,
     "metadata": {},
     "output_type": "execute_result"
    }
   ],
   "source": [
    "estimate_order(h, error_forward)"
   ]
  },
  {
   "cell_type": "code",
   "execution_count": 74,
   "id": "02ac6090-95e6-40bf-b54b-a4f263af4ad7",
   "metadata": {},
   "outputs": [
    {
     "data": {
      "text/plain": [
       "0.7924386666069776"
      ]
     },
     "execution_count": 74,
     "metadata": {},
     "output_type": "execute_result"
    }
   ],
   "source": [
    "estimate_order(h, error_backward)"
   ]
  },
  {
   "cell_type": "code",
   "execution_count": 75,
   "id": "df4cb6ea-be86-49f1-90b4-5f4efc1bff87",
   "metadata": {},
   "outputs": [
    {
     "data": {
      "text/plain": [
       "1.9940809174948577"
      ]
     },
     "execution_count": 75,
     "metadata": {},
     "output_type": "execute_result"
    }
   ],
   "source": [
    "estimate_order(h, error_central)"
   ]
  },
  {
   "cell_type": "markdown",
   "id": "426521e9-c2b7-4233-b53e-c9038a69d1f3",
   "metadata": {},
   "source": [
    "## Finite-difference approximations of mixed derivatives"
   ]
  },
  {
   "cell_type": "code",
   "execution_count": 76,
   "id": "504fe1c8-aa3b-4061-ab60-9b5327a8cbbb",
   "metadata": {},
   "outputs": [
    {
     "data": {
      "text/plain": [
       "0"
      ]
     },
     "execution_count": 76,
     "metadata": {},
     "output_type": "execute_result"
    }
   ],
   "source": [
    "0"
   ]
  },
  {
   "cell_type": "markdown",
   "id": "416e6b54-db12-42f2-995c-2b860bfac015",
   "metadata": {},
   "source": [
    "## Deriving finite-difference formulae using the method of undetermined coeffients"
   ]
  },
  {
   "cell_type": "markdown",
   "id": "41c53b4a-e949-4d97-9a97-f276b079b5fb",
   "metadata": {},
   "source": [
    "## Example 4"
   ]
  },
  {
   "cell_type": "code",
   "execution_count": 77,
   "id": "4e7e8b57-eabd-4407-94e1-5db1767f1231",
   "metadata": {},
   "outputs": [],
   "source": [
    "h = symbols(\"h\")"
   ]
  },
  {
   "cell_type": "code",
   "execution_count": 78,
   "id": "a3812197-0cf9-4560-80ee-a56e3f47e91e",
   "metadata": {},
   "outputs": [],
   "source": [
    "A = Matrix([[1, 1, 1], [0, 1, 2], [0, 1 / 2, 2]])\n",
    "b = Matrix([0, 1 / h, 0])"
   ]
  },
  {
   "cell_type": "code",
   "execution_count": 79,
   "id": "3af0a520-ca25-4aec-8b84-dc043bbadced",
   "metadata": {},
   "outputs": [
    {
     "data": {
      "text/latex": [
       "$\\displaystyle \\left[\\begin{matrix}1 & 1 & 1\\\\0 & 1 & 2\\\\0 & 0.5 & 2\\end{matrix}\\right]$"
      ],
      "text/plain": [
       "Matrix([\n",
       "[1,   1, 1],\n",
       "[0,   1, 2],\n",
       "[0, 0.5, 2]])"
      ]
     },
     "execution_count": 79,
     "metadata": {},
     "output_type": "execute_result"
    }
   ],
   "source": [
    "A"
   ]
  },
  {
   "cell_type": "code",
   "execution_count": 80,
   "id": "100f39f3-ac5a-43dc-8869-02d25fe9327e",
   "metadata": {},
   "outputs": [
    {
     "data": {
      "text/latex": [
       "$\\displaystyle \\left[\\begin{matrix}0\\\\\\frac{1}{h}\\\\0\\end{matrix}\\right]$"
      ],
      "text/plain": [
       "Matrix([\n",
       "[  0],\n",
       "[1/h],\n",
       "[  0]])"
      ]
     },
     "execution_count": 80,
     "metadata": {},
     "output_type": "execute_result"
    }
   ],
   "source": [
    "b"
   ]
  },
  {
   "cell_type": "code",
   "execution_count": 81,
   "id": "a7c1a87a-3cf2-40dd-8292-0580c4013e76",
   "metadata": {},
   "outputs": [
    {
     "data": {
      "text/latex": [
       "$\\displaystyle \\left[\\begin{matrix}- \\frac{1.5}{h}\\\\\\frac{2.0}{h}\\\\- \\frac{0.5}{h}\\end{matrix}\\right]$"
      ],
      "text/plain": [
       "Matrix([\n",
       "[-1.5/h],\n",
       "[ 2.0/h],\n",
       "[-0.5/h]])"
      ]
     },
     "execution_count": 81,
     "metadata": {},
     "output_type": "execute_result"
    }
   ],
   "source": [
    "A.solve(b)"
   ]
  },
  {
   "cell_type": "markdown",
   "id": "83206722-b40d-4b6b-a56a-70b8e3b7a89b",
   "metadata": {},
   "source": [
    "## Example of a finite difference scheme\n",
    "\n",
    "Let $U\\left(t,x\\right)$ the concentration of some substance and $v$ is the speed that the substance travels\n",
    "along $a\\leq x\\leq b$.\n",
    "\n",
    "$$\n",
    "\\begin{cases}\n",
    "U_{t}+v U_{x}=0\n",
    " & \\text { for }a\\leq x\\leq b, t>0. \\\\\n",
    "U\n",
    "\\left(0, x\\right)=\n",
    "f\\left(x\\right)\n",
    " & \\text { for }a\\leq x\\leq b. \\\\\n",
    "U\n",
    "\\left(t, a\\right)=\n",
    "U\\left(t, b\\right)=0\n",
    " & \\text { for }t>0. \\\\\n",
    "\\end{cases}\n",
    "$$\n",
    "\n",
    "In a uniform grid, the $i$-th node in the grid is located at $x_{i}=a+i\\Delta x$.\n",
    "\n",
    "$$\n",
    "\\Delta x=\n",
    "\\dfrac{b-a}{N-1}.\n",
    "$$\n",
    "\n",
    "$$\n",
    "\\begin{aligned}\n",
    "\\dfrac{U^{n+1}_{i}-U^{n}_{i}}{\\Delta t}+\n",
    "v\\dfrac{U^{n}_{i}-U^{n}_{i-1}}{\\Delta x}\n",
    "&=0.\\\\\n",
    "U^{n+1}_{i}\n",
    "&=\n",
    "U^{n}_{i}-\n",
    "\\dfrac{v\\Delta t}{\\Delta x}\n",
    "\\left(U^{n}_{i}-U^{n}_{i-1}\\right).\n",
    "\\end{aligned}\n",
    "$$"
   ]
  },
  {
   "cell_type": "code",
   "execution_count": 82,
   "id": "e508af81-8c1d-4159-9892-2dccb5c31ec8",
   "metadata": {},
   "outputs": [
    {
     "data": {
      "image/png": "[encoded data removed]",
      "text/plain": [
       "<Figure size 500x400 with 1 Axes>"
      ]
     },
     "metadata": {},
     "output_type": "display_data"
    }
   ],
   "source": [
    "fig = plt.figure(figsize=(5, 4))\n",
    "for i in range(4):\n",
    "    plt.plot((0, 4), (i, i), \"k\")\n",
    "for j in range(5):\n",
    "    plt.plot((j, j), (0, 3), \"k\")\n",
    "plt.plot(2, 2, \"ko\")\n",
    "plt.plot(2, 1, \"ko\")\n",
    "plt.plot(1, 1, \"ko\")\n",
    "ax = fig.gca()\n",
    "ax.axis(\"off\")\n",
    "ax.axis(\"equal\")\n",
    "plt.text(1, -0.25, \"$i-1$\")\n",
    "plt.text(2, -0.25, \"$i$\")\n",
    "plt.text(3, -0.25, \"$i+1$\")\n",
    "plt.text(1.38, 0.85, r\"$\\Delta x$\")\n",
    "plt.text(2.1, 1.1, \"$u^n_i$\")\n",
    "plt.text(2.1, 2.1, \"$u^{n+1}_i$\")\n",
    "plt.text(1.05, 1.1, \"$u^{n}_{i-1}$\")\n",
    "plt.text(0.75, 1.38, r\"$\\Delta t$\")\n",
    "plt.text(-0.45, 1, \"$n$\")\n",
    "plt.text(-0.45, 2, \"$n+1$\")\n",
    "plt.text(-0.45, 3, \"time\")\n",
    "plt.text(4, -0.25, \"space\");"
   ]
  },
  {
   "cell_type": "code",
   "execution_count": 84,
   "id": "8ef718ef-c345-406d-952a-cf00716ddbba",
   "metadata": {},
   "outputs": [],
   "source": [
    "N = 11  # number of nodes\n",
    "number_iterations = 3\n",
    "x, dx = np.linspace(start=0, stop=1, num=N, retstep=True)  # node positions\n",
    "v = 1  # speed\n",
    "dt = 0.05  # time step\n",
    "t = 0  # initial value of t"
   ]
  },
  {
   "cell_type": "code",
   "execution_count": 85,
   "id": "8739101d-0fc7-4f7c-8ae9-a95b10fdcf64",
   "metadata": {},
   "outputs": [
    {
     "data": {
      "image/png": "[encoded data removed]",
      "text/plain": [
       "<Figure size 640x480 with 1 Axes>"
      ]
     },
     "metadata": {},
     "output_type": "display_data"
    }
   ],
   "source": [
    "fig, ax = plt.subplots()\n",
    "fig.set_tight_layout(True)\n",
    "ax.plot(x, np.zeros_like(x), \"ko-\")\n",
    "ax.set_xlabel(r\"$x_{i}$\")\n",
    "for i, xi in enumerate(x):\n",
    "    ax.text(xi, -0.005, rf\"$x_{{{i}}}$\", ha=\"center\")\n",
    "ax.axes.get_yaxis().set_visible(False)\n",
    "ax.set_frame_on(False)"
   ]
  },
  {
   "cell_type": "code",
   "execution_count": 86,
   "id": "8913e45e-8300-40c7-a9be-a9ca6013f4f3",
   "metadata": {},
   "outputs": [],
   "source": [
    "C = v * dt / dx"
   ]
  },
  {
   "cell_type": "code",
   "execution_count": 87,
   "id": "66d3c808-7792-411d-b2a9-674ae20bc409",
   "metadata": {},
   "outputs": [],
   "source": [
    "U = np.empty((number_iterations + 1, x.size))\n",
    "U[0, :] = np.exp(-100 * np.power(x - 0.4, 2))  # initial conditions\n",
    "U[0, 0], U[0, -1] = (0, 0)"
   ]
  },
  {
   "cell_type": "code",
   "execution_count": 88,
   "id": "2afb3ee2-0e96-4196-9664-a446ad910414",
   "metadata": {
    "scrolled": true
   },
   "outputs": [],
   "source": [
    "for n in range(number_iterations):\n",
    "    U[n + 1, 0], U[n + 1, -1] = (0, 0)  # boundary nodes\n",
    "    for i in range(x.size):\n",
    "        U[n + 1, i] = U[n, i] - C * (U[n, i] - U[n, i - 1])"
   ]
  },
  {
   "cell_type": "code",
   "execution_count": 89,
   "id": "bf8e67a2-21b9-47b1-9213-7e80b126de77",
   "metadata": {},
   "outputs": [
    {
     "name": "stdout",
     "output_type": "stream",
     "text": [
      "-----  ------  ------  ------  ------  ------  ------  ------  ------  ------  ------  -------\n",
      "i      0.0000  1.0000  2.0000  3.0000  4.0000  5.0000  6.0000  7.0000  8.0000  9.0000  10.0000\n",
      "x_i    0.0000  0.1000  0.2000  0.3000  0.4000  0.5000  0.6000  0.7000  0.8000  0.9000   1.0000\n",
      "u^0_i  0.0000  0.0001  0.0183  0.3679  1.0000  0.3679  0.0183  0.0001  0.0000  0.0000   0.0000\n",
      "u^1_i  0.0000  0.0001  0.0092  0.1931  0.6839  0.6839  0.1931  0.0092  0.0001  0.0000   0.0000\n",
      "u^2_i  0.0000  0.0000  0.0046  0.1012  0.4385  0.6839  0.4385  0.1012  0.0046  0.0000   0.0000\n",
      "u^3_i  0.0000  0.0000  0.0023  0.0529  0.2698  0.5612  0.5612  0.2698  0.0529  0.0023   0.0000\n",
      "-----  ------  ------  ------  ------  ------  ------  ------  ------  ------  ------  -------\n"
     ]
    }
   ],
   "source": [
    "# Values of the first three iterations of the FDS used to solve the advection equation\n",
    "tabular = np.hstack(\n",
    "    (\n",
    "        np.array([\"i\", \"x_i\", \"u^0_i\", \"u^1_i\", \"u^2_i\", \"u^3_i\"])[np.newaxis].T,\n",
    "        np.vstack((np.arange(x.size)[np.newaxis], x, U)),\n",
    "    )\n",
    ")\n",
    "print(tabulate(tabular, floatfmt=\".4f\"))"
   ]
  },
  {
   "cell_type": "code",
   "execution_count": 90,
   "id": "21a8d35a-f9e4-459d-95c6-a08ab5e73e30",
   "metadata": {},
   "outputs": [
    {
     "name": "stdout",
     "output_type": "stream",
     "text": [
      "[3.14159]\n"
     ]
    }
   ],
   "source": [
    "with np.printoptions(precision=5, suppress=True):\n",
    "    print(np.array([np.pi]))"
   ]
  }
 ],
 "metadata": {
  "kernelspec": {
   "display_name": "Python 3 (ipykernel)",
   "language": "python",
   "name": "python3"
  },
  "language_info": {
   "codemirror_mode": {
    "name": "ipython",
    "version": 3
   },
   "file_extension": ".py",
   "mimetype": "text/x-python",
   "name": "python",
   "nbconvert_exporter": "python",
   "pygments_lexer": "ipython3",
   "version": "3.11.6"
  }
 },
 "nbformat": 4,
 "nbformat_minor": 5
}
