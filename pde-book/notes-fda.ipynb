{
 "cells": [
  {
   "cell_type": "markdown",
   "id": "6516ca66-5f27-4eef-b732-96986057d7b5",
   "metadata": {},
   "source": [
    "# Finite-Difference Approximations"
   ]
  },
  {
   "cell_type": "code",
   "execution_count": 1,
   "id": "a64def4e-82b2-4bdd-a204-760bf61606ca",
   "metadata": {},
   "outputs": [],
   "source": [
    "import matplotlib.pyplot as plt\n",
    "import numpy as np\n",
    "from helper import Approx, cleaner\n",
    "from jaxtyping import Array, Float\n",
    "from sympy import Derivative as D\n",
    "from sympy import (\n",
    "    Eq,\n",
    "    Function,\n",
    "    Matrix,\n",
    "    O,\n",
    "    Symbol,\n",
    "    cos,\n",
    "    solve,\n",
    "    solve_linear_system,\n",
    "    symbols,\n",
    ")\n",
    "from tabulate import tabulate"
   ]
  },
  {
   "cell_type": "code",
   "execution_count": 2,
   "id": "f89b5082-390a-4256-bf84-f533cde99b3a",
   "metadata": {},
   "outputs": [],
   "source": [
    "x = symbols(\"x\")\n",
    "h = symbols(\"h\", positive=True)\n",
    "f = Function(\"f\")"
   ]
  },
  {
   "cell_type": "markdown",
   "id": "917ae619-604e-42af-aacf-b84751d91bb8",
   "metadata": {},
   "source": [
    "## Forward Taylor Series"
   ]
  },
  {
   "cell_type": "code",
   "execution_count": 3,
   "id": "54294d07-2c92-41c3-887e-55a735851143",
   "metadata": {},
   "outputs": [
    {
     "data": {
      "text/latex": [
       "$\\displaystyle f{\\left(h + x \\right)} = f{\\left(x \\right)} + h \\frac{d}{d x} f{\\left(x \\right)} + \\frac{h^{2} \\frac{d^{2}}{d x^{2}} f{\\left(x \\right)}}{2} + \\frac{h^{3} \\frac{d^{3}}{d x^{3}} f{\\left(x \\right)}}{6} + \\frac{h^{4} \\frac{d^{4}}{d x^{4}} f{\\left(x \\right)}}{24} + O\\left(h^{5}\\right)$"
      ],
      "text/plain": [
       "Eq(f(h + x), f(x) + h*Derivative(f(x), x) + h**2*Derivative(f(x), (x, 2))/2 + h**3*Derivative(f(x), (x, 3))/6 + h**4*Derivative(f(x), (x, 4))/24 + O(h**5))"
      ]
     },
     "execution_count": 3,
     "metadata": {},
     "output_type": "execute_result"
    }
   ],
   "source": [
    "Eq(f(x + h), f(x + h).series(x=h, x0=0, n=5).simplify())"
   ]
  },
  {
   "cell_type": "markdown",
   "id": "a33f5ed4-f01e-4529-8c69-7ba7fd327659",
   "metadata": {},
   "source": [
    "## Backward Taylor Series"
   ]
  },
  {
   "cell_type": "code",
   "execution_count": 4,
   "id": "4b01411e-af4e-4ea5-911a-c688576f6956",
   "metadata": {},
   "outputs": [
    {
     "data": {
      "text/latex": [
       "$\\displaystyle f{\\left(- h + x \\right)} = f{\\left(x \\right)} - h \\frac{d}{d x} f{\\left(x \\right)} + \\frac{h^{2} \\frac{d^{2}}{d x^{2}} f{\\left(x \\right)}}{2} - \\frac{h^{3} \\frac{d^{3}}{d x^{3}} f{\\left(x \\right)}}{6} + \\frac{h^{4} \\frac{d^{4}}{d x^{4}} f{\\left(x \\right)}}{24} + O\\left(h^{5}\\right)$"
      ],
      "text/plain": [
       "Eq(f(-h + x), f(x) - h*Derivative(f(x), x) + h**2*Derivative(f(x), (x, 2))/2 - h**3*Derivative(f(x), (x, 3))/6 + h**4*Derivative(f(x), (x, 4))/24 + O(h**5))"
      ]
     },
     "execution_count": 4,
     "metadata": {},
     "output_type": "execute_result"
    }
   ],
   "source": [
    "Eq(f(x - h), f(x - h).series(x=h, x0=0, n=5).simplify())"
   ]
  },
  {
   "cell_type": "markdown",
   "id": "8862ecbb-ffef-4c92-9f8a-72ee2f479e50",
   "metadata": {},
   "source": [
    "## Truncation error"
   ]
  },
  {
   "cell_type": "code",
   "execution_count": 5,
   "id": "253a8eec-41d2-4d7b-b87f-88d08a4d8aa0",
   "metadata": {},
   "outputs": [
    {
     "data": {
      "text/latex": [
       "$\\displaystyle \\cos{\\left(h + x \\right)} \\approx - h \\sin{\\left(x \\right)} + \\cos{\\left(x \\right)}$"
      ],
      "text/plain": [
       "Eq(cos(h + x), -h*sin(x) + cos(x))"
      ]
     },
     "execution_count": 5,
     "metadata": {},
     "output_type": "execute_result"
    }
   ],
   "source": [
    "Approx(cos(x + h), cos(x + h).series(x=h, x0=0, n=2).removeO().simplify())"
   ]
  },
  {
   "cell_type": "code",
   "execution_count": 6,
   "id": "20012404-7315-4a71-8f38-7f415ebe2fa1",
   "metadata": {},
   "outputs": [],
   "source": [
    "x = 0\n",
    "h = 0.1\n",
    "exact = np.cos(x + h)\n",
    "first_order_approximation = np.cos(x) - h * np.sin(x)\n",
    "truncation_error = np.abs(exact - first_order_approximation)\n",
    "E_h = np.abs(-(np.power(h, 2)) / 2 * np.cos(x))"
   ]
  },
  {
   "cell_type": "code",
   "execution_count": 7,
   "id": "f329eb7a-bc26-42e3-8d06-44c0b94e322f",
   "metadata": {},
   "outputs": [
    {
     "name": "stdout",
     "output_type": "stream",
     "text": [
      "Truncation error: 0.0049958347219741794\n",
      "E(0.1): 0.005000000000000001\n",
      "Error: 4.165278025821534e-06\n"
     ]
    }
   ],
   "source": [
    "print(\n",
    "    f\"Truncation error: {truncation_error}\\nE({h}): {E_h}\\nError: {np.abs(truncation_error - E_h)}\"\n",
    ")"
   ]
  },
  {
   "cell_type": "markdown",
   "id": "d6d51d2d-ae6e-4e55-98b5-ce708f9fe4a0",
   "metadata": {},
   "source": [
    "#### Plot"
   ]
  },
  {
   "cell_type": "code",
   "execution_count": 8,
   "id": "5edd64e7-72c8-4665-aad4-3cab0b7f0a03",
   "metadata": {},
   "outputs": [],
   "source": [
    "h = np.flip(np.reciprocal(2 ** np.arange(1, 5).astype(float)))\n",
    "x = 1"
   ]
  },
  {
   "cell_type": "code",
   "execution_count": 9,
   "id": "b13cdf99-b1ad-4df0-b36b-21058d910f8d",
   "metadata": {},
   "outputs": [
    {
     "data": {
      "text/plain": [
       "array([0.0625, 0.125 , 0.25  , 0.5   ])"
      ]
     },
     "execution_count": 9,
     "metadata": {},
     "output_type": "execute_result"
    }
   ],
   "source": [
    "h"
   ]
  },
  {
   "cell_type": "code",
   "execution_count": 10,
   "id": "5e835615-c506-4230-bbe8-f73b7365a7ab",
   "metadata": {},
   "outputs": [],
   "source": [
    "error_truncation = np.abs(np.cos(x + h) - (np.cos(x) - h * np.sin(x)))"
   ]
  },
  {
   "cell_type": "code",
   "execution_count": 11,
   "id": "b243116c-1519-4cec-9cb8-0c6558458c2b",
   "metadata": {},
   "outputs": [
    {
     "data": {
      "text/plain": [
       "array([0.0010207 , 0.00394192, 0.0146122 , 0.04882961])"
      ]
     },
     "execution_count": 11,
     "metadata": {},
     "output_type": "execute_result"
    }
   ],
   "source": [
    "error_truncation"
   ]
  },
  {
   "cell_type": "code",
   "execution_count": 12,
   "id": "7f6af1a9-4863-458c-9a13-c28add680276",
   "metadata": {},
   "outputs": [],
   "source": [
    "h_values = np.linspace(start=0, stop=h.max())\n",
    "E_h = np.abs(-1 / 2 * h_values**2 * np.cos(x))"
   ]
  },
  {
   "cell_type": "code",
   "execution_count": 13,
   "id": "77fa5a3d-1e98-45f6-83c0-a873569f0f89",
   "metadata": {},
   "outputs": [
    {
     "data": {
      "image/png": "[encoded data removed]",
      "text/plain": [
       "<Figure size 640x480 with 1 Axes>"
      ]
     },
     "metadata": {},
     "output_type": "display_data"
    }
   ],
   "source": [
    "fig, ax = plt.subplots()\n",
    "ax.plot(\n",
    "    h,\n",
    "    error_truncation,\n",
    "    \"bo-\",\n",
    "    label=r\"Truncation error: $|\\cos(x+h) - (\\cos(x) - h\\sin(x))|$\",\n",
    ")\n",
    "ax.plot(h_values, E_h, \"r--\", label=r\"$E(h)=|-\\frac{1}{2}h^2\\cos(1)|$\")\n",
    "ax.set_xlabel(r\"$h$\")\n",
    "ax.set_ylabel(r\"Truncation error\")\n",
    "ax.set_title(\"Truncation error plot\")\n",
    "ax.grid()\n",
    "legend = ax.legend(loc=\"best\", shadow=True)"
   ]
  },
  {
   "cell_type": "markdown",
   "id": "a3e0428d-b100-42b5-ae39-a73061afaa02",
   "metadata": {},
   "source": [
    "## Properties of $O\\left(h^{n}\\right)$"
   ]
  },
  {
   "cell_type": "code",
   "execution_count": 14,
   "id": "d7e608a2-bc99-40ee-aea3-eba2f5d64a41",
   "metadata": {},
   "outputs": [
    {
     "data": {
      "text/plain": [
       "True"
      ]
     },
     "execution_count": 14,
     "metadata": {},
     "output_type": "execute_result"
    }
   ],
   "source": [
    "h = symbols(\"h\")\n",
    "m, n, k = (5, 2, -2)\n",
    "assert m > n\n",
    "k * O(h**n) == O(h**n)"
   ]
  },
  {
   "cell_type": "code",
   "execution_count": 15,
   "id": "af0a6d27-f97a-4d51-97f9-0e172fa504a2",
   "metadata": {},
   "outputs": [
    {
     "data": {
      "text/plain": [
       "True"
      ]
     },
     "execution_count": 15,
     "metadata": {},
     "output_type": "execute_result"
    }
   ],
   "source": [
    "O(h**m) + O(h**n) == O(h**n)"
   ]
  },
  {
   "cell_type": "code",
   "execution_count": 16,
   "id": "48eb1ac7-751b-4822-8742-59dd52664b61",
   "metadata": {},
   "outputs": [
    {
     "data": {
      "text/plain": [
       "True"
      ]
     },
     "execution_count": 16,
     "metadata": {},
     "output_type": "execute_result"
    }
   ],
   "source": [
    "m, n = (2, 5)\n",
    "assert m < n\n",
    "O(h**n) / h**m == O(h ** (n - m))"
   ]
  },
  {
   "cell_type": "markdown",
   "id": "0041121c-8dc9-4a28-96db-380347f363ca",
   "metadata": {},
   "source": [
    "## Deriving finite-difference approximations"
   ]
  },
  {
   "cell_type": "code",
   "execution_count": 17,
   "id": "f45e358f-a85b-4dec-97bc-1ed10be429cb",
   "metadata": {},
   "outputs": [],
   "source": [
    "x = symbols(\"x\")\n",
    "h = symbols(\"h\", positive=True)\n",
    "f = Function(\"f\")"
   ]
  },
  {
   "cell_type": "code",
   "execution_count": 18,
   "id": "0768fa7e-a698-4980-b931-b856fbb82bf8",
   "metadata": {},
   "outputs": [
    {
     "data": {
      "text/latex": [
       "$\\displaystyle f{\\left(h + x \\right)} = f{\\left(x \\right)} + h \\frac{d}{d x} f{\\left(x \\right)} + O\\left(h^{2}\\right)$"
      ],
      "text/plain": [
       "Eq(f(h + x), f(x) + h*Derivative(f(x), x) + O(h**2))"
      ]
     },
     "execution_count": 18,
     "metadata": {},
     "output_type": "execute_result"
    }
   ],
   "source": [
    "Eq(f(x + h), f(x + h).series(x=h, x0=0, n=2).simplify())"
   ]
  },
  {
   "cell_type": "code",
   "execution_count": 19,
   "id": "911026ca-240e-410d-9a5c-f8ca08782739",
   "metadata": {},
   "outputs": [
    {
     "data": {
      "text/latex": [
       "$\\displaystyle f{\\left(- h + x \\right)} = f{\\left(x \\right)} - h \\frac{d}{d x} f{\\left(x \\right)} + O\\left(h^{2}\\right)$"
      ],
      "text/plain": [
       "Eq(f(-h + x), f(x) - h*Derivative(f(x), x) + O(h**2))"
      ]
     },
     "execution_count": 19,
     "metadata": {},
     "output_type": "execute_result"
    }
   ],
   "source": [
    "Eq(f(x - h), f(x - h).series(x=h, x0=0, n=2).simplify())"
   ]
  },
  {
   "cell_type": "code",
   "execution_count": 20,
   "id": "c811de9f-dea7-45c7-bde1-102a419d41f8",
   "metadata": {},
   "outputs": [
    {
     "data": {
      "text/latex": [
       "$\\displaystyle f{\\left(h + x \\right)} = f{\\left(x \\right)} + h \\frac{d}{d x} f{\\left(x \\right)} + \\frac{h^{2} \\frac{d^{2}}{d x^{2}} f{\\left(x \\right)}}{2} + O\\left(h^{3}\\right)$"
      ],
      "text/plain": [
       "Eq(f(h + x), f(x) + h*Derivative(f(x), x) + h**2*Derivative(f(x), (x, 2))/2 + O(h**3))"
      ]
     },
     "execution_count": 20,
     "metadata": {},
     "output_type": "execute_result"
    }
   ],
   "source": [
    "Eq(f(x + h), f(x + h).series(x=h, x0=0, n=3).simplify())"
   ]
  },
  {
   "cell_type": "code",
   "execution_count": 21,
   "id": "475a3e80-f0e7-4f58-ab98-485d081fe82e",
   "metadata": {},
   "outputs": [
    {
     "data": {
      "text/latex": [
       "$\\displaystyle f{\\left(- h + x \\right)} = f{\\left(x \\right)} - h \\frac{d}{d x} f{\\left(x \\right)} + \\frac{h^{2} \\frac{d^{2}}{d x^{2}} f{\\left(x \\right)}}{2} + O\\left(h^{3}\\right)$"
      ],
      "text/plain": [
       "Eq(f(-h + x), f(x) - h*Derivative(f(x), x) + h**2*Derivative(f(x), (x, 2))/2 + O(h**3))"
      ]
     },
     "execution_count": 21,
     "metadata": {},
     "output_type": "execute_result"
    }
   ],
   "source": [
    "Eq(f(x - h), f(x - h).series(x=h, x0=0, n=3).simplify())"
   ]
  },
  {
   "cell_type": "code",
   "execution_count": 22,
   "id": "980f0954-da1d-467e-91d5-459dcf58a3fb",
   "metadata": {},
   "outputs": [
    {
     "data": {
      "text/latex": [
       "$\\displaystyle f{\\left(h + x \\right)} = f{\\left(x \\right)} + h \\frac{d}{d x} f{\\left(x \\right)} + \\frac{h^{2} \\frac{d^{2}}{d x^{2}} f{\\left(x \\right)}}{2} + \\frac{h^{3} \\frac{d^{3}}{d x^{3}} f{\\left(x \\right)}}{6} + O\\left(h^{4}\\right)$"
      ],
      "text/plain": [
       "Eq(f(h + x), f(x) + h*Derivative(f(x), x) + h**2*Derivative(f(x), (x, 2))/2 + h**3*Derivative(f(x), (x, 3))/6 + O(h**4))"
      ]
     },
     "execution_count": 22,
     "metadata": {},
     "output_type": "execute_result"
    }
   ],
   "source": [
    "Eq(f(x + h), f(x + h).series(x=h, x0=0, n=4).simplify())"
   ]
  },
  {
   "cell_type": "code",
   "execution_count": 23,
   "id": "b60596e2-e6e1-4d7b-8b49-73dd726ed950",
   "metadata": {},
   "outputs": [
    {
     "data": {
      "text/latex": [
       "$\\displaystyle f{\\left(- h + x \\right)} = f{\\left(x \\right)} - h \\frac{d}{d x} f{\\left(x \\right)} + \\frac{h^{2} \\frac{d^{2}}{d x^{2}} f{\\left(x \\right)}}{2} - \\frac{h^{3} \\frac{d^{3}}{d x^{3}} f{\\left(x \\right)}}{6} + O\\left(h^{4}\\right)$"
      ],
      "text/plain": [
       "Eq(f(-h + x), f(x) - h*Derivative(f(x), x) + h**2*Derivative(f(x), (x, 2))/2 - h**3*Derivative(f(x), (x, 3))/6 + O(h**4))"
      ]
     },
     "execution_count": 23,
     "metadata": {},
     "output_type": "execute_result"
    }
   ],
   "source": [
    "Eq(f(x - h), f(x - h).series(x=h, x0=0, n=4).simplify())"
   ]
  },
  {
   "cell_type": "markdown",
   "id": "2f471630-7539-45d9-8052-817fbebf1df1",
   "metadata": {},
   "source": [
    "### First-order forward difference"
   ]
  },
  {
   "cell_type": "code",
   "execution_count": 24,
   "id": "2cf3b106-bebd-4a05-986f-4aac24ec21dc",
   "metadata": {},
   "outputs": [],
   "source": [
    "_ = f(x + h).series(x=h, x0=0, n=2).removeO().simplify()\n",
    "forward_difference = Approx(D(f(x)), solve(Eq(_, f(x + h)), D(f(x)))[0])"
   ]
  },
  {
   "cell_type": "code",
   "execution_count": 25,
   "id": "85b3b54e-5d28-41aa-a54c-b637d5130532",
   "metadata": {},
   "outputs": [
    {
     "data": {
      "text/latex": [
       "$\\displaystyle \\frac{d}{d x} f{\\left(x \\right)} \\approx \\frac{- f{\\left(x \\right)} + f{\\left(h + x \\right)}}{h}$"
      ],
      "text/plain": [
       "Eq(Derivative(f(x), x), (-f(x) + f(h + x))/h)"
      ]
     },
     "execution_count": 25,
     "metadata": {},
     "output_type": "execute_result"
    }
   ],
   "source": [
    "forward_difference"
   ]
  },
  {
   "cell_type": "markdown",
   "id": "be3c9e7e-8ffd-471b-9879-ffc7fc33e8ba",
   "metadata": {},
   "source": [
    "### First-order backward difference"
   ]
  },
  {
   "cell_type": "code",
   "execution_count": 26,
   "id": "b915cb8a-7b5f-4227-97b6-b8e9b8d7c7ba",
   "metadata": {},
   "outputs": [],
   "source": [
    "_ = f(x - h).series(x=h, x0=0, n=2).removeO().simplify()\n",
    "backward_difference = Approx(D(f(x)), solve(Eq(_, f(x - h)), D(f(x)))[0])"
   ]
  },
  {
   "cell_type": "code",
   "execution_count": 27,
   "id": "1973cf0c-7e5a-494b-9b2b-475ace848c52",
   "metadata": {},
   "outputs": [
    {
     "data": {
      "text/latex": [
       "$\\displaystyle \\frac{d}{d x} f{\\left(x \\right)} \\approx \\frac{f{\\left(x \\right)} - f{\\left(- h + x \\right)}}{h}$"
      ],
      "text/plain": [
       "Eq(Derivative(f(x), x), (f(x) - f(-h + x))/h)"
      ]
     },
     "execution_count": 27,
     "metadata": {},
     "output_type": "execute_result"
    }
   ],
   "source": [
    "backward_difference"
   ]
  },
  {
   "cell_type": "markdown",
   "id": "4d5567a9-e0de-46e6-a78c-9a3cf2aed81d",
   "metadata": {},
   "source": [
    "### Second-order central difference"
   ]
  },
  {
   "cell_type": "code",
   "execution_count": 28,
   "id": "fc38d3b2-09e5-4a5e-aff3-7587422b5441",
   "metadata": {},
   "outputs": [],
   "source": [
    "_ = f(x + h).series(x=h, x0=0, n=3).removeO().simplify()\n",
    "__ = f(x - h).series(x=h, x0=0, n=3).removeO().simplify()\n",
    "central_difference = Approx(\n",
    "    D(f(x), x), solve(Eq(__ - _, f(x - h) - f(x + h)), D(f(x), x))[0]\n",
    ")"
   ]
  },
  {
   "cell_type": "code",
   "execution_count": 29,
   "id": "827c20aa-da49-4af0-b471-9a665bb9e30b",
   "metadata": {},
   "outputs": [
    {
     "data": {
      "text/latex": [
       "$\\displaystyle \\frac{d}{d x} f{\\left(x \\right)} \\approx \\frac{- f{\\left(- h + x \\right)} + f{\\left(h + x \\right)}}{2 h}$"
      ],
      "text/plain": [
       "Eq(Derivative(f(x), x), (-f(-h + x) + f(h + x))/(2*h))"
      ]
     },
     "execution_count": 29,
     "metadata": {},
     "output_type": "execute_result"
    }
   ],
   "source": [
    "central_difference"
   ]
  },
  {
   "cell_type": "markdown",
   "id": "8ae8e2bb-a02b-4b0e-a0f8-8fa4c157f660",
   "metadata": {},
   "source": [
    "### Second-order symmetric difference"
   ]
  },
  {
   "cell_type": "code",
   "execution_count": 30,
   "id": "9abbb006-fc11-4cd0-92e2-ca40c5e5655f",
   "metadata": {},
   "outputs": [],
   "source": [
    "_ = f(x + h).series(x=h, x0=0, n=4).removeO().simplify()\n",
    "__ = f(x - h).series(x=h, x0=0, n=4).removeO().simplify()\n",
    "symmetric_difference = Approx(\n",
    "    D(f(x), x, 2), solve(Eq(_ + __, f(x + h) + f(x - h)), D(f(x), x, 2))[0]\n",
    ")"
   ]
  },
  {
   "cell_type": "code",
   "execution_count": 31,
   "id": "01a784af-668b-4226-a225-0e0e0ec0f227",
   "metadata": {},
   "outputs": [
    {
     "data": {
      "text/latex": [
       "$\\displaystyle \\frac{d^{2}}{d x^{2}} f{\\left(x \\right)} \\approx \\frac{- 2 f{\\left(x \\right)} + f{\\left(- h + x \\right)} + f{\\left(h + x \\right)}}{h^{2}}$"
      ],
      "text/plain": [
       "Eq(Derivative(f(x), (x, 2)), (-2*f(x) + f(-h + x) + f(h + x))/h**2)"
      ]
     },
     "execution_count": 31,
     "metadata": {},
     "output_type": "execute_result"
    }
   ],
   "source": [
    "symmetric_difference"
   ]
  },
  {
   "cell_type": "code",
   "execution_count": 32,
   "id": "ad5bcfd2-08d7-4c53-975e-e1e92349e397",
   "metadata": {},
   "outputs": [
    {
     "name": "stdout",
     "output_type": "stream",
     "text": [
      "Symbolic variables already cleared\n"
     ]
    }
   ],
   "source": [
    "cleaner([\"x\", \"h\", \"f\"])"
   ]
  },
  {
   "cell_type": "markdown",
   "id": "53dda78d-6664-4272-b5a3-8e3cf1a81cae",
   "metadata": {},
   "source": [
    "## Example $3$"
   ]
  },
  {
   "cell_type": "code",
   "execution_count": 33,
   "id": "db2e40b4-9540-4a83-9d91-67f9221cd9a0",
   "metadata": {},
   "outputs": [],
   "source": [
    "def forward_first_derivative(\n",
    "    f: np.ufunc, x: float, h: Float[Array, \"dim1\"]\n",
    ") -> Float[Array, \"dim1\"]:\n",
    "    return (f(x + h) - f(x)) / h\n",
    "\n",
    "\n",
    "def backward_first_derivative(\n",
    "    f: np.ufunc, x: float, h: Float[Array, \"dim1\"]\n",
    ") -> Float[Array, \"dim1\"]:\n",
    "    return (f(x) - f(x - h)) / h\n",
    "\n",
    "\n",
    "def central_first_derivative(\n",
    "    f: np.ufunc, x: float, h: Float[Array, \"dim1\"]\n",
    ") -> Float[Array, \"dim1\"]:\n",
    "    return (f(x + h) - f(x - h)) / (2 * h)\n",
    "\n",
    "\n",
    "def central_second_derivative(\n",
    "    f: np.ufunc, x: float, h: Float[Array, \"dim1\"]\n",
    ") -> Float[Array, \"dim1\"]:\n",
    "    return (f(x + h) - 2 * f(x) + f(x - h)) / h**2"
   ]
  },
  {
   "cell_type": "code",
   "execution_count": 34,
   "id": "26c9b40d-6e39-43a3-9a1d-45ae033f9869",
   "metadata": {},
   "outputs": [],
   "source": [
    "f = np.cos\n",
    "f_prime = lambda x: -np.sin(x)\n",
    "f_prime_prime = lambda x: -np.cos(x)\n",
    "x = np.pi / 4\n",
    "h = np.array(0.1)\n",
    "exact_first_derivative = f_prime(x)\n",
    "exact_second_derivative = f_prime_prime(x)"
   ]
  },
  {
   "cell_type": "code",
   "execution_count": 35,
   "id": "f48a655e-cb5d-405b-bf33-3b2091530155",
   "metadata": {},
   "outputs": [],
   "source": [
    "ffd = forward_first_derivative(f=f, x=x, h=h)\n",
    "bfd = backward_first_derivative(f=f, x=x, h=h)\n",
    "cfd = central_first_derivative(f=f, x=x, h=h)\n",
    "csd = central_second_derivative(f=f, x=x, h=h)"
   ]
  },
  {
   "cell_type": "code",
   "execution_count": 36,
   "id": "a90741e8-d9e8-4d43-abd9-889982bfc930",
   "metadata": {},
   "outputs": [
    {
     "name": "stdout",
     "output_type": "stream",
     "text": [
      "First derivative: -0.7071067811865475\n",
      "Forward first derivative: -0.741254745095894\n",
      "Backward first derivative: -0.6706029729039886\n",
      "Central first derivative: -0.7059288589999413\n",
      "Second derivative: -0.7071067811865476\n",
      "Central second derivative: -0.7065177219190532\n"
     ]
    }
   ],
   "source": [
    "print(\n",
    "    f\"First derivative: {exact_first_derivative}\\nForward first derivative: {ffd}\\nBackward first derivative: {bfd}\\\n",
    "\\nCentral first derivative: {cfd}\\nSecond derivative: {exact_second_derivative}\\nCentral second derivative: {csd}\"\n",
    ")"
   ]
  },
  {
   "cell_type": "code",
   "execution_count": 37,
   "id": "da3bfa6e-3f53-4e1b-8e8a-26420f13bff5",
   "metadata": {},
   "outputs": [],
   "source": [
    "error_ffd = np.abs(exact_first_derivative - ffd)\n",
    "error_bfd = np.abs(exact_first_derivative - bfd)\n",
    "error_cfd = np.abs(exact_first_derivative - cfd)\n",
    "error_csd = np.abs(exact_second_derivative - csd)"
   ]
  },
  {
   "cell_type": "code",
   "execution_count": 38,
   "id": "f941784d-89a1-483f-b254-45da686d63c0",
   "metadata": {},
   "outputs": [
    {
     "name": "stdout",
     "output_type": "stream",
     "text": [
      "Error forward first derivative: 0.03414796390934649\n",
      "Error backward first derivative: 0.036503808282558836\n",
      "Error central first derivative: 0.0011779221866061729\n",
      "Error central second derivative: 0.0005890592674944184\n"
     ]
    }
   ],
   "source": [
    "print(\n",
    "    f\"Error forward first derivative: {error_ffd}\\nError backward first derivative: {error_bfd}\\\n",
    "\\nError central first derivative: {error_cfd}\\nError central second derivative: {error_csd}\"\n",
    ")"
   ]
  },
  {
   "cell_type": "markdown",
   "id": "96052220-1228-4d09-888f-292f5de19f75",
   "metadata": {},
   "source": [
    "## Estimating the order of an approximation\n",
    "\n",
    "$$\n",
    "n\\approx\n",
    "\\dfrac{\\log\\left|E\\left(h_{\\max}\\right)\\right| -\\log\\left|E\\left(h_{\\min}\\right)\\right|}{\n",
    "\\log\\left(h_{\\max}\\right)-\\log\\left(h_{\\min}\\right)\n",
    "}.\n",
    "$$"
   ]
  },
  {
   "cell_type": "code",
   "execution_count": 39,
   "id": "e1e2eb4e-9d09-493b-8141-e95c47d559d9",
   "metadata": {},
   "outputs": [],
   "source": [
    "def estimate_order(\n",
    "    h: Float[Array, \"dim1\"], truncation_error: Float[Array, \"dim1\"]\n",
    ") -> float:\n",
    "    assert h.size == truncation_error.size\n",
    "\n",
    "    Eh_max = truncation_error[np.argmax(h, axis=0)[0]][0]\n",
    "    Eh_min = truncation_error[np.argmin(h, axis=0)[0]][0]\n",
    "\n",
    "    return (np.log(np.abs(Eh_max)) - np.log(np.abs(Eh_min))) / (\n",
    "        np.log(h.max()) - np.log(h.min())\n",
    "    )"
   ]
  },
  {
   "cell_type": "markdown",
   "id": "8ae02d77-03cb-43f8-84c9-fffbb4db1eb6",
   "metadata": {},
   "source": [
    "## Table 2.1\n",
    "\n",
    "Finite-difference approximations of the first derivative of\n",
    "$f\\left(x\\right)=\\cos\\left(x\\right)$ at $x=\\dfrac{\\pi}{4}$ using\n",
    "step lengths $h\\in\\left\\{0.1,0.05,0.25,0.0125\\right\\}$."
   ]
  },
  {
   "cell_type": "code",
   "execution_count": 40,
   "id": "0938c101-ef02-4c4d-b9a9-18ddd37036b9",
   "metadata": {},
   "outputs": [],
   "source": [
    "f = np.cos\n",
    "f_prime = lambda x: -np.sin(x)\n",
    "x = np.pi / 4\n",
    "h = np.reciprocal(10 * (2 ** np.arange(4).astype(float)))[np.newaxis].T"
   ]
  },
  {
   "cell_type": "code",
   "execution_count": 41,
   "id": "6ba8d75b-1dd2-4d92-944f-925148728265",
   "metadata": {},
   "outputs": [
    {
     "data": {
      "text/plain": [
       "array([[0.1   ],\n",
       "       [0.05  ],\n",
       "       [0.025 ],\n",
       "       [0.0125]])"
      ]
     },
     "execution_count": 41,
     "metadata": {},
     "output_type": "execute_result"
    }
   ],
   "source": [
    "h"
   ]
  },
  {
   "cell_type": "code",
   "execution_count": 42,
   "id": "671d2aa4-b7f1-4829-b00e-c07bfb52ad83",
   "metadata": {},
   "outputs": [],
   "source": [
    "forward = forward_first_derivative(f=f, x=x, h=h)\n",
    "backward = backward_first_derivative(f=f, x=x, h=h)\n",
    "central = central_first_derivative(f=f, x=x, h=h)"
   ]
  },
  {
   "cell_type": "code",
   "execution_count": 43,
   "id": "96478537-e0a9-4473-8634-896e9757d32a",
   "metadata": {},
   "outputs": [],
   "source": [
    "tabular = np.concatenate((h, forward, backward, central), axis=1)\n",
    "header = [\"h\", \"Forward\", \"Backward\", \"Central\"]"
   ]
  },
  {
   "cell_type": "code",
   "execution_count": 44,
   "id": "8d3e3fb3-0f97-43ca-8e99-08180cd57a2b",
   "metadata": {},
   "outputs": [
    {
     "name": "stdout",
     "output_type": "stream",
     "text": [
      "     h    Forward    Backward    Central\n",
      "------  ---------  ----------  ---------\n",
      "0.1     -0.741255   -0.670603  -0.705929\n",
      "0.05    -0.724486   -0.689138  -0.706812\n",
      "0.025   -0.715872   -0.698195  -0.707033\n",
      "0.0125  -0.711508   -0.702669  -0.707088\n"
     ]
    }
   ],
   "source": [
    "print(tabulate(tabular_data=tabular, headers=header))  # TODO: As xarray."
   ]
  },
  {
   "cell_type": "code",
   "execution_count": 45,
   "id": "fc858041-05cc-4205-b963-89ca343056b7",
   "metadata": {},
   "outputs": [
    {
     "data": {
      "text/plain": [
       "-0.7071067811865475"
      ]
     },
     "execution_count": 45,
     "metadata": {},
     "output_type": "execute_result"
    }
   ],
   "source": [
    "f_prime(x)"
   ]
  },
  {
   "cell_type": "code",
   "execution_count": 46,
   "id": "fe08f5c6-14f2-4c78-8eb8-b983b8900b6d",
   "metadata": {},
   "outputs": [],
   "source": [
    "error_forward = np.abs(f_prime(x) - forward)\n",
    "error_backward = np.abs(f_prime(x) - backward)\n",
    "error_central = np.abs(f_prime(x) - central)"
   ]
  },
  {
   "cell_type": "code",
   "execution_count": 47,
   "id": "f5f60a70-e9c5-4013-a04f-1625ad791775",
   "metadata": {},
   "outputs": [
    {
     "data": {
      "image/png": "[encoded data removed]",
      "text/plain": [
       "<Figure size 640x480 with 1 Axes>"
      ]
     },
     "metadata": {},
     "output_type": "display_data"
    }
   ],
   "source": [
    "fig, ax = plt.subplots()\n",
    "ax.loglog(h, error_forward, \"rs-\", label=\"forward\")\n",
    "ax.loglog(h, error_backward, \"bs-\", label=\"backward\")\n",
    "ax.loglog(h, error_central, \"ks-\", label=\"central\")\n",
    "ax.set_xlabel(r\"$h$\")\n",
    "ax.set_ylabel(r\"error\")\n",
    "ax.set_title(\"Plot of the error for the forward, backward and central differences\")\n",
    "ax.grid()\n",
    "legend = ax.legend(loc=\"best\", shadow=True)"
   ]
  },
  {
   "cell_type": "markdown",
   "id": "8c13d0e1-68bc-4d7c-b4ce-cc594fd3f0bb",
   "metadata": {},
   "source": [
    "## Table 2.2\n",
    "\n",
    "Truncation errors for the Taylor series approximations of\n",
    "$\\cos\\left(1+h\\right)$ for $h\\in\\left\\{0.5,0.25,0.125,0.0625\\right\\}$."
   ]
  },
  {
   "cell_type": "code",
   "execution_count": 48,
   "id": "de8fb2bc-4d7d-4180-aa47-dcc2dbfda0ba",
   "metadata": {},
   "outputs": [],
   "source": [
    "f = lambda h: np.cos(1 + h)\n",
    "f_prime = lambda h: -np.sin(1 + h)\n",
    "x = 1\n",
    "h = np.reciprocal(2 ** np.arange(1, 5).astype(float))[np.newaxis].T"
   ]
  },
  {
   "cell_type": "code",
   "execution_count": 49,
   "id": "65f9d9cc-c4d2-476a-a00f-aa2d6ee791b8",
   "metadata": {},
   "outputs": [
    {
     "data": {
      "text/plain": [
       "array([[0.5   ],\n",
       "       [0.25  ],\n",
       "       [0.125 ],\n",
       "       [0.0625]])"
      ]
     },
     "execution_count": 49,
     "metadata": {},
     "output_type": "execute_result"
    }
   ],
   "source": [
    "h"
   ]
  },
  {
   "cell_type": "code",
   "execution_count": 50,
   "id": "f32fc060-526f-4a9d-b72d-251485cb00f1",
   "metadata": {},
   "outputs": [],
   "source": [
    "forward = forward_first_derivative(f=f, x=x, h=h)\n",
    "backward = backward_first_derivative(f=f, x=x, h=h)\n",
    "central = central_first_derivative(f=f, x=x, h=h)"
   ]
  },
  {
   "cell_type": "code",
   "execution_count": 51,
   "id": "7f479291-c10e-4bc8-9d75-d801f9d36805",
   "metadata": {},
   "outputs": [],
   "source": [
    "error_forward = np.abs(f_prime(x) - forward)\n",
    "error_backward = np.abs(f_prime(x) - backward)\n",
    "error_central = np.abs(f_prime(x) - central)"
   ]
  },
  {
   "cell_type": "code",
   "execution_count": 52,
   "id": "8c4e2359-11a2-47f9-8529-ac3f705b96b7",
   "metadata": {},
   "outputs": [],
   "source": [
    "tabular = np.concatenate((h, error_forward, error_backward, error_central), axis=1)\n",
    "header = [\"h\", \"Forward error\", \"Backward error\", \"Central error\"]"
   ]
  },
  {
   "cell_type": "code",
   "execution_count": 53,
   "id": "e176831c-ca27-4d2f-a80f-fb8e6bc957f4",
   "metadata": {},
   "outputs": [
    {
     "name": "stdout",
     "output_type": "stream",
     "text": [
      "     h    Forward error    Backward error    Central error\n",
      "------  ---------------  ----------------  ---------------\n",
      "0.5           0.139304          0.0644706      0.0374166\n",
      "0.25          0.0611903         0.0423057      0.00944229\n",
      "0.125         0.0283414         0.0236092      0.00236611\n",
      "0.0625        0.0135922         0.0124085      0.000591875\n"
     ]
    }
   ],
   "source": [
    "print(tabulate(tabular_data=tabular, headers=header))"
   ]
  },
  {
   "cell_type": "code",
   "execution_count": 54,
   "id": "7d9c8897-4247-4103-8d4b-460b433aa75a",
   "metadata": {},
   "outputs": [
    {
     "data": {
      "text/plain": [
       "1.1191270541574243"
      ]
     },
     "execution_count": 54,
     "metadata": {},
     "output_type": "execute_result"
    }
   ],
   "source": [
    "estimate_order(h, error_forward)"
   ]
  },
  {
   "cell_type": "code",
   "execution_count": 55,
   "id": "02ac6090-95e6-40bf-b54b-a4f263af4ad7",
   "metadata": {},
   "outputs": [
    {
     "data": {
      "text/plain": [
       "0.7924386666069776"
      ]
     },
     "execution_count": 55,
     "metadata": {},
     "output_type": "execute_result"
    }
   ],
   "source": [
    "estimate_order(h, error_backward)"
   ]
  },
  {
   "cell_type": "code",
   "execution_count": 56,
   "id": "df4cb6ea-be86-49f1-90b4-5f4efc1bff87",
   "metadata": {},
   "outputs": [
    {
     "data": {
      "text/plain": [
       "1.9940809174948577"
      ]
     },
     "execution_count": 56,
     "metadata": {},
     "output_type": "execute_result"
    }
   ],
   "source": [
    "estimate_order(h, error_central)"
   ]
  },
  {
   "cell_type": "markdown",
   "id": "426521e9-c2b7-4233-b53e-c9038a69d1f3",
   "metadata": {},
   "source": [
    "## Finite-difference approximations of mixed derivatives"
   ]
  },
  {
   "cell_type": "code",
   "execution_count": 57,
   "id": "504fe1c8-aa3b-4061-ab60-9b5327a8cbbb",
   "metadata": {},
   "outputs": [],
   "source": [
    "x, y = symbols(\"x y\")\n",
    "dx = Symbol(r\"\\Delta x\")\n",
    "dy = Symbol(r\"\\Delta y\")\n",
    "f = Function(\"f\")"
   ]
  },
  {
   "cell_type": "code",
   "execution_count": 58,
   "id": "99e62eb0-df8d-4dad-885b-c654a00189b8",
   "metadata": {},
   "outputs": [],
   "source": [
    "_ = Approx(f(x + dx, y), f(x + dx, y).series(x=dx, x0=0, n=2).removeO().simplify())"
   ]
  },
  {
   "cell_type": "code",
   "execution_count": 59,
   "id": "8bcb2757-207f-42b9-81ec-c64c46ac8e57",
   "metadata": {},
   "outputs": [],
   "source": [
    "__ = Approx(f(x, y + dy), f(x, y + dy).series(x=dy, x0=0, n=2).removeO().simplify())"
   ]
  },
  {
   "cell_type": "code",
   "execution_count": 60,
   "id": "2bc29465-9d01-43eb-a9e5-84a84e7aeaa3",
   "metadata": {},
   "outputs": [],
   "source": [
    "Eq1 = Approx(D(f(x, y), x), solve(_, D(f(x, y), x))[0])"
   ]
  },
  {
   "cell_type": "code",
   "execution_count": 61,
   "id": "7a109b37-29e6-42ea-8fe7-3e1d367fcfc8",
   "metadata": {},
   "outputs": [],
   "source": [
    "Eq2 = Approx(D(f(x, y), y), solve(__, D(f(x, y), y))[0])"
   ]
  },
  {
   "cell_type": "code",
   "execution_count": 62,
   "id": "669d1c8f-c47c-422a-ad1b-a884d0be694a",
   "metadata": {},
   "outputs": [
    {
     "data": {
      "text/latex": [
       "$\\displaystyle \\frac{\\partial}{\\partial x} f{\\left(x,y \\right)} \\approx \\frac{- f{\\left(x,y \\right)} + f{\\left(\\Delta x + x,y \\right)}}{\\Delta x}$"
      ],
      "text/plain": [
       "Eq(Derivative(f(x, y), x), (-f(x, y) + f(\\Delta x + x, y))/\\Delta x)"
      ]
     },
     "execution_count": 62,
     "metadata": {},
     "output_type": "execute_result"
    }
   ],
   "source": [
    "Eq1"
   ]
  },
  {
   "cell_type": "code",
   "execution_count": 63,
   "id": "ab80e86b-1b61-4177-b962-fa180fe86c51",
   "metadata": {},
   "outputs": [
    {
     "data": {
      "text/latex": [
       "$\\displaystyle \\frac{\\partial}{\\partial y} f{\\left(x,y \\right)} \\approx \\frac{- f{\\left(x,y \\right)} + f{\\left(x,\\Delta y + y \\right)}}{\\Delta y}$"
      ],
      "text/plain": [
       "Eq(Derivative(f(x, y), y), (-f(x, y) + f(x, \\Delta y + y))/\\Delta y)"
      ]
     },
     "execution_count": 63,
     "metadata": {},
     "output_type": "execute_result"
    }
   ],
   "source": [
    "Eq2"
   ]
  },
  {
   "cell_type": "code",
   "execution_count": 64,
   "id": "1221d3c0-73b5-456f-9e66-fea844b0ce33",
   "metadata": {},
   "outputs": [
    {
     "data": {
      "text/latex": [
       "$\\displaystyle \\frac{\\partial^{2}}{\\partial x\\partial y} f{\\left(x,y \\right)} \\approx \\frac{- \\frac{\\partial}{\\partial y} f{\\left(x,y \\right)} + \\frac{\\partial}{\\partial y} f{\\left(\\Delta x + x,y \\right)}}{\\Delta x}$"
      ],
      "text/plain": [
       "Eq(Derivative(f(x, y), y, x), (-Derivative(f(x, y), y) + Derivative(f(\\Delta x + x, y), y))/\\Delta x)"
      ]
     },
     "execution_count": 64,
     "metadata": {},
     "output_type": "execute_result"
    }
   ],
   "source": [
    "Approx(\n",
    "    D(D(f(x, y), y), x),\n",
    "    Eq1.rhs.subs({f(x, y): D(f(x, y), y), f(x + dx, y): D(f(x + dx, y), y)}),\n",
    ")"
   ]
  },
  {
   "cell_type": "code",
   "execution_count": 65,
   "id": "14660d9c-2204-45c3-a379-f1c81cf83089",
   "metadata": {},
   "outputs": [
    {
     "data": {
      "text/latex": [
       "$\\displaystyle \\frac{\\partial^{2}}{\\partial x\\partial y} f{\\left(x,y \\right)} \\approx \\frac{f{\\left(x,y \\right)} - f{\\left(x,\\Delta y + y \\right)} - f{\\left(\\Delta x + x,y \\right)} + f{\\left(\\Delta x + x,\\Delta y + y \\right)}}{\\Delta x \\Delta y}$"
      ],
      "text/plain": [
       "Eq(Derivative(f(x, y), y, x), (f(x, y) - f(x, \\Delta y + y) - f(\\Delta x + x, y) + f(\\Delta x + x, \\Delta y + y))/(\\Delta x*\\Delta y))"
      ]
     },
     "execution_count": 65,
     "metadata": {},
     "output_type": "execute_result"
    }
   ],
   "source": [
    "Approx(\n",
    "    D(D(f(x, y), y), x),\n",
    "    (\n",
    "        Eq2.rhs.subs({f(x, y + dy): f(x + dx, y + dy), f(x, y): f(x + dx, y)}) - Eq2.rhs\n",
    "    ).simplify()\n",
    "    / dx,\n",
    ")"
   ]
  },
  {
   "cell_type": "markdown",
   "id": "416e6b54-db12-42f2-995c-2b860bfac015",
   "metadata": {},
   "source": [
    "## Deriving finite-difference formulae using the method of undetermined coeffients"
   ]
  },
  {
   "cell_type": "code",
   "execution_count": 66,
   "id": "2ac42096-3f48-4b5d-a02f-5060b9968181",
   "metadata": {},
   "outputs": [],
   "source": [
    "c_1, c_2, c_3, x, h = symbols(\"c_1 c_2 c_3 x h\")\n",
    "f_n = Function(\"f_{(n)}\")"
   ]
  },
  {
   "cell_type": "code",
   "execution_count": 67,
   "id": "4e9355db-455f-425f-9137-a90c609d0255",
   "metadata": {},
   "outputs": [
    {
     "data": {
      "text/latex": [
       "$\\displaystyle f_{(n)}{\\left(x \\right)} = c_{1} f{\\left(- h + x \\right)} + c_{2} f{\\left(x \\right)} + c_{3} f{\\left(h + x \\right)}$"
      ],
      "text/plain": [
       "Eq(f_{(n)}(x), c_1*f(-h + x) + c_2*f(x) + c_3*f(h + x))"
      ]
     },
     "execution_count": 67,
     "metadata": {},
     "output_type": "execute_result"
    }
   ],
   "source": [
    "Eq(f_n(x), c_1 * f(x - h) + c_2 * f(x) + c_3 * f(x + h))"
   ]
  },
  {
   "cell_type": "code",
   "execution_count": 68,
   "id": "d4cafdc5-a9fe-43ad-87fd-39b5c1220bc0",
   "metadata": {},
   "outputs": [
    {
     "data": {
      "text/latex": [
       "$\\displaystyle f_{(n)}{\\left(x \\right)} = c_{3} f{\\left(x \\right)} + c_{3} h \\frac{d}{d x} f{\\left(x \\right)} + \\frac{c_{3} h^{2} \\frac{d^{2}}{d x^{2}} f{\\left(x \\right)}}{2} + c_{2} f{\\left(x \\right)} + c_{1} f{\\left(x \\right)} - c_{1} h \\frac{d}{d x} f{\\left(x \\right)} + \\frac{c_{1} h^{2} \\frac{d^{2}}{d x^{2}} f{\\left(x \\right)}}{2} + O\\left(h^{3}\\right)$"
      ],
      "text/plain": [
       "Eq(f_{(n)}(x), c_3*f(x) + c_3*h*Derivative(f(x), x) + c_3*h**2*Derivative(f(x), (x, 2))/2 + c_2*f(x) + c_1*f(x) - c_1*h*Derivative(f(x), x) + c_1*h**2*Derivative(f(x), (x, 2))/2 + O(h**3))"
      ]
     },
     "execution_count": 68,
     "metadata": {},
     "output_type": "execute_result"
    }
   ],
   "source": [
    "Eq(\n",
    "    f_n(x),\n",
    "    (\n",
    "        c_1 * f(x - h).series(x=h, x0=0, n=3).simplify()\n",
    "        + c_2 * f(x)\n",
    "        + c_3 * f(x + h).series(x=h, x0=0, n=3).simplify()\n",
    "    ).simplify(),\n",
    ")"
   ]
  },
  {
   "cell_type": "code",
   "execution_count": 69,
   "id": "e1e75e6a-92e4-414c-9b58-656b62186c2c",
   "metadata": {},
   "outputs": [
    {
     "data": {
      "text/plain": [
       "{c_1: -1/(2*h), c_2: 0, c_3: 1/(2*h)}"
      ]
     },
     "execution_count": 69,
     "metadata": {},
     "output_type": "execute_result"
    }
   ],
   "source": [
    "solve_linear_system(\n",
    "    Matrix(((1, 1, 1, 0), (-1, 0, 1, 1 / h), (1, 0, 1, 0))), c_1, c_2, c_3\n",
    ")"
   ]
  },
  {
   "cell_type": "code",
   "execution_count": 70,
   "id": "6ad0365e-5d52-44ea-bcc0-376310b56018",
   "metadata": {},
   "outputs": [
    {
     "data": {
      "text/plain": [
       "{c_1: h**(-2), c_2: -2/h**2, c_3: h**(-2)}"
      ]
     },
     "execution_count": 70,
     "metadata": {},
     "output_type": "execute_result"
    }
   ],
   "source": [
    "solve_linear_system(\n",
    "    Matrix(((1, 1, 1, 0), (-1, 0, 1, 0), (1, 0, 1, 2 / h**2))), c_1, c_2, c_3\n",
    ")"
   ]
  },
  {
   "cell_type": "markdown",
   "id": "41c53b4a-e949-4d97-9a97-f276b079b5fb",
   "metadata": {},
   "source": [
    "## Example 4"
   ]
  },
  {
   "cell_type": "code",
   "execution_count": 71,
   "id": "5594c1b3-81c7-4b80-ad50-a51dddfff9c0",
   "metadata": {},
   "outputs": [
    {
     "data": {
      "text/latex": [
       "$\\displaystyle f_{(n)}{\\left(x \\right)} = c_{1} f{\\left(x \\right)} + c_{2} f{\\left(h + x \\right)} + c_{3} f{\\left(2 h + x \\right)}$"
      ],
      "text/plain": [
       "Eq(f_{(n)}(x), c_1*f(x) + c_2*f(h + x) + c_3*f(2*h + x))"
      ]
     },
     "execution_count": 71,
     "metadata": {},
     "output_type": "execute_result"
    }
   ],
   "source": [
    "Eq(f_n(x), c_1 * f(x) + c_2 * f(x + h) + c_3 * f(x + 2 * h))"
   ]
  },
  {
   "cell_type": "code",
   "execution_count": 72,
   "id": "f8a40e19-6b2c-4c65-9920-8b8b9032b650",
   "metadata": {},
   "outputs": [
    {
     "data": {
      "text/latex": [
       "$\\displaystyle f{\\left(x \\right)} + 2 h \\frac{d}{d x} f{\\left(x \\right)} + 2 h^{2} \\frac{d^{2}}{d x^{2}} f{\\left(x \\right)} + O\\left(h^{3}\\right)$"
      ],
      "text/plain": [
       "f(x) + 2*h*Derivative(f(x), x) + 2*h**2*Derivative(f(x), (x, 2)) + O(h**3)"
      ]
     },
     "execution_count": 72,
     "metadata": {},
     "output_type": "execute_result"
    }
   ],
   "source": [
    "f(x + 2 * h).series(x=2 * h, x0=0, n=3).simplify()"
   ]
  },
  {
   "cell_type": "code",
   "execution_count": 73,
   "id": "dfdea964-64be-47eb-8f91-691e1822bcdb",
   "metadata": {},
   "outputs": [
    {
     "data": {
      "text/latex": [
       "$\\displaystyle f_{(n)}{\\left(x \\right)} = c_{3} f{\\left(x \\right)} + 2 c_{3} h \\frac{d}{d x} f{\\left(x \\right)} + 2 c_{3} h^{2} \\frac{d^{2}}{d x^{2}} f{\\left(x \\right)} + c_{2} f{\\left(x \\right)} + c_{2} h \\frac{d}{d x} f{\\left(x \\right)} + \\frac{c_{2} h^{2} \\frac{d^{2}}{d x^{2}} f{\\left(x \\right)}}{2} + c_{1} f{\\left(x \\right)} + O\\left(h^{3}\\right)$"
      ],
      "text/plain": [
       "Eq(f_{(n)}(x), c_3*f(x) + 2*c_3*h*Derivative(f(x), x) + 2*c_3*h**2*Derivative(f(x), (x, 2)) + c_2*f(x) + c_2*h*Derivative(f(x), x) + c_2*h**2*Derivative(f(x), (x, 2))/2 + c_1*f(x) + O(h**3))"
      ]
     },
     "execution_count": 73,
     "metadata": {},
     "output_type": "execute_result"
    }
   ],
   "source": [
    "Eq(\n",
    "    f_n(x),\n",
    "    (\n",
    "        c_1 * f(x)\n",
    "        + c_2 * f(x + h).series(x=h, x0=0, n=3).simplify()\n",
    "        + c_3 * f(x + 2 * h).series(x=2 * h, x0=0, n=3).simplify()\n",
    "    ).simplify(),\n",
    ")"
   ]
  },
  {
   "cell_type": "code",
   "execution_count": 74,
   "id": "deb67e55-7d26-4257-b89f-4d0486b82ad8",
   "metadata": {},
   "outputs": [
    {
     "data": {
      "text/plain": [
       "{c_1: -1.5/h, c_2: 2.0/h, c_3: -0.5/h}"
      ]
     },
     "execution_count": 74,
     "metadata": {},
     "output_type": "execute_result"
    }
   ],
   "source": [
    "solve_linear_system(\n",
    "    Matrix(((1, 1, 1, 0), (0, 1, 2, 1 / h), (0, 1 / 2, 2, 0))), c_1, c_2, c_3\n",
    ")"
   ]
  },
  {
   "cell_type": "markdown",
   "id": "59dbd604-86b1-4f10-be10-70ad120abc90",
   "metadata": {},
   "source": [
    "## The finite-difference toolkit"
   ]
  },
  {
   "cell_type": "code",
   "execution_count": 75,
   "id": "c92d5ede-f9b7-4cb8-ba1f-0194f0c97206",
   "metadata": {},
   "outputs": [],
   "source": [
    "t = symbols(\"t\")"
   ]
  },
  {
   "cell_type": "code",
   "execution_count": 76,
   "id": "98a4f154-5cd2-4cc4-a005-98e424b62ba4",
   "metadata": {},
   "outputs": [
    {
     "data": {
      "text/latex": [
       "$\\displaystyle \\frac{\\partial}{\\partial x} f{\\left(t,x \\right)} = 0$"
      ],
      "text/plain": [
       "Eq(Derivative(f(t, x), x), 0)"
      ]
     },
     "execution_count": 76,
     "metadata": {},
     "output_type": "execute_result"
    }
   ],
   "source": [
    "Eq(D(f(t, x), x), 0)"
   ]
  },
  {
   "cell_type": "markdown",
   "id": "83206722-b40d-4b6b-a56a-70b8e3b7a89b",
   "metadata": {},
   "source": [
    "## Example of a finite difference scheme\n",
    "\n",
    "Let $U\\left(t,x\\right)$ the concentration of some substance and $v$ is the speed that the substance travels\n",
    "along $a\\leq x\\leq b$.\n",
    "\n",
    "$$\n",
    "\\begin{cases}\n",
    "U_{t}+v U_{x}=0\n",
    " & \\text { for }a\\leq x\\leq b, t>0. \\\\\n",
    "U\n",
    "\\left(0, x\\right)=\n",
    "f\\left(x\\right)\n",
    " & \\text { for }a\\leq x\\leq b. \\\\\n",
    "U\n",
    "\\left(t, a\\right)=\n",
    "U\\left(t, b\\right)=0\n",
    " & \\text { for }t>0. \\\\\n",
    "\\end{cases}\n",
    "$$\n",
    "\n",
    "In a uniform grid, the $i$-th node in the grid is located at $x_{i}=a+i\\Delta x$.\n",
    "\n",
    "$$\n",
    "\\Delta x=\n",
    "\\dfrac{b-a}{N-1}.\n",
    "$$\n",
    "\n",
    "$$\n",
    "\\begin{aligned}\n",
    "\\dfrac{U^{n+1}_{i}-U^{n}_{i}}{\\Delta t}+\n",
    "v\\dfrac{U^{n}_{i}-U^{n}_{i-1}}{\\Delta x}\n",
    "&=0.\\\\\n",
    "U^{n+1}_{i}\n",
    "&=\n",
    "U^{n}_{i}-\n",
    "\\dfrac{v\\Delta t}{\\Delta x}\n",
    "\\left(U^{n}_{i}-U^{n}_{i-1}\\right).\n",
    "\\end{aligned}\n",
    "$$"
   ]
  },
  {
   "cell_type": "code",
   "execution_count": 77,
   "id": "e508af81-8c1d-4159-9892-2dccb5c31ec8",
   "metadata": {},
   "outputs": [
    {
     "data": {
      "image/png": "[encoded data removed]",
      "text/plain": [
       "<Figure size 640x480 with 1 Axes>"
      ]
     },
     "metadata": {},
     "output_type": "display_data"
    }
   ],
   "source": [
    "fig = plt.figure()\n",
    "for i in range(4):\n",
    "    plt.plot((0, 4), (i, i), \"k\")\n",
    "\n",
    "for j in range(5):\n",
    "    plt.plot((j, j), (0, 3), \"k\")\n",
    "\n",
    "plt.plot(2, 2, \"ko\")\n",
    "plt.plot(2, 1, \"ko\")\n",
    "plt.plot(1, 1, \"ko\")\n",
    "\n",
    "ax = fig.gca()\n",
    "ax.axis(\"off\")\n",
    "ax.axis(\"equal\")\n",
    "\n",
    "plt.text(0.9, -0.15, \"$i-1$\")\n",
    "plt.text(2, -0.15, \"$i$\")\n",
    "plt.text(2.9, -0.15, \"$i+1$\")\n",
    "plt.text(2.1, 1.1, \"$u^n_i$\", fontsize=14)\n",
    "plt.text(2.1, 2.1, \"$u^{n+1}_i$\", fontsize=14)\n",
    "plt.text(1.05, 1.1, \"$u^{n}_{i-1}$\", fontsize=14)\n",
    "plt.text(1.38, 0.85, r\"$\\Delta x$\", fontsize=12)\n",
    "plt.text(0.75, 1.38, r\"$\\Delta t$\", fontsize=12)\n",
    "plt.text(-0.35, 1, \"$n$\")\n",
    "plt.text(-0.35, 2, \"$n+1$\")\n",
    "plt.text(-0.35, 3, \"Time\")\n",
    "plt.text(4, -0.15, \"Space\");"
   ]
  },
  {
   "cell_type": "code",
   "execution_count": 78,
   "id": "8ef718ef-c345-406d-952a-cf00716ddbba",
   "metadata": {},
   "outputs": [],
   "source": [
    "N = 11  # number of nodes\n",
    "number_iterations = 3\n",
    "x, dx = np.linspace(start=0, stop=1, num=N, retstep=True)  # node positions\n",
    "v = 1  # speed\n",
    "dt = 0.05  # time step\n",
    "t = 0  # initial value of t"
   ]
  },
  {
   "cell_type": "code",
   "execution_count": 79,
   "id": "8739101d-0fc7-4f7c-8ae9-a95b10fdcf64",
   "metadata": {},
   "outputs": [
    {
     "data": {
      "image/png": "[encoded data removed]",
      "text/plain": [
       "<Figure size 640x480 with 1 Axes>"
      ]
     },
     "metadata": {},
     "output_type": "display_data"
    }
   ],
   "source": [
    "fig, ax = plt.subplots()\n",
    "fig.set_tight_layout(True)\n",
    "ax.plot(x, np.zeros_like(x), \"ko-\")\n",
    "ax.set_xlabel(r\"$x_{i}$\")\n",
    "for i, xi in enumerate(x):\n",
    "    ax.text(xi, -0.008, rf\"$x_{{{i}}}$\", ha=\"center\", fontsize=15)\n",
    "ax.axes.get_yaxis().set_visible(False)\n",
    "ax.set_frame_on(False)"
   ]
  },
  {
   "cell_type": "code",
   "execution_count": 80,
   "id": "8913e45e-8300-40c7-a9be-a9ca6013f4f3",
   "metadata": {},
   "outputs": [],
   "source": [
    "C = v * dt / dx"
   ]
  },
  {
   "cell_type": "code",
   "execution_count": 81,
   "id": "66d3c808-7792-411d-b2a9-674ae20bc409",
   "metadata": {},
   "outputs": [],
   "source": [
    "U = np.empty((number_iterations + 1, x.size))\n",
    "U[0, :] = np.exp(-100 * np.power(x - 0.4, 2))  # initial conditions\n",
    "U[0, 0], U[0, -1] = (0, 0)"
   ]
  },
  {
   "cell_type": "code",
   "execution_count": 82,
   "id": "2afb3ee2-0e96-4196-9664-a446ad910414",
   "metadata": {
    "scrolled": true
   },
   "outputs": [],
   "source": [
    "for n in range(number_iterations):\n",
    "    U[n + 1, 0], U[n + 1, -1] = (0, 0)  # boundary nodes\n",
    "    for i in range(x.size):\n",
    "        U[n + 1, i] = U[n, i] - C * (U[n, i] - U[n, i - 1])"
   ]
  },
  {
   "cell_type": "code",
   "execution_count": 83,
   "id": "bf8e67a2-21b9-47b1-9213-7e80b126de77",
   "metadata": {},
   "outputs": [
    {
     "name": "stdout",
     "output_type": "stream",
     "text": [
      "-----  ------  ------  ------  ------  ------  ------  ------  ------  ------  ------  -------\n",
      "i      0.0000  1.0000  2.0000  3.0000  4.0000  5.0000  6.0000  7.0000  8.0000  9.0000  10.0000\n",
      "x_i    0.0000  0.1000  0.2000  0.3000  0.4000  0.5000  0.6000  0.7000  0.8000  0.9000   1.0000\n",
      "u^0_i  0.0000  0.0001  0.0183  0.3679  1.0000  0.3679  0.0183  0.0001  0.0000  0.0000   0.0000\n",
      "u^1_i  0.0000  0.0001  0.0092  0.1931  0.6839  0.6839  0.1931  0.0092  0.0001  0.0000   0.0000\n",
      "u^2_i  0.0000  0.0000  0.0046  0.1012  0.4385  0.6839  0.4385  0.1012  0.0046  0.0000   0.0000\n",
      "u^3_i  0.0000  0.0000  0.0023  0.0529  0.2698  0.5612  0.5612  0.2698  0.0529  0.0023   0.0000\n",
      "-----  ------  ------  ------  ------  ------  ------  ------  ------  ------  ------  -------\n"
     ]
    }
   ],
   "source": [
    "# Values of the first three iterations of the FDS used to solve the advection equation\n",
    "tabular = np.hstack(\n",
    "    (\n",
    "        np.array([\"i\", \"x_i\", \"u^0_i\", \"u^1_i\", \"u^2_i\", \"u^3_i\"])[np.newaxis].T,\n",
    "        np.vstack((np.arange(x.size)[np.newaxis], x, U)),\n",
    "    )\n",
    ")\n",
    "print(tabulate(tabular, floatfmt=\".4f\"))"
   ]
  },
  {
   "cell_type": "code",
   "execution_count": 84,
   "id": "21a8d35a-f9e4-459d-95c6-a08ab5e73e30",
   "metadata": {},
   "outputs": [
    {
     "name": "stdout",
     "output_type": "stream",
     "text": [
      "[3.14159]\n"
     ]
    }
   ],
   "source": [
    "with np.printoptions(precision=5, suppress=True):\n",
    "    print(np.array([np.pi]))"
   ]
  }
 ],
 "metadata": {
  "kernelspec": {
   "display_name": "Python 3 (ipykernel)",
   "language": "python",
   "name": "python3"
  },
  "language_info": {
   "codemirror_mode": {
    "name": "ipython",
    "version": 3
   },
   "file_extension": ".py",
   "mimetype": "text/x-python",
   "name": "python",
   "nbconvert_exporter": "python",
   "pygments_lexer": "ipython3",
   "version": "3.11.6"
  }
 },
 "nbformat": 4,
 "nbformat_minor": 5
}
