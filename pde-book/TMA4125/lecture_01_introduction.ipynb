{
 "cells": [
  {
   "cell_type": "markdown",
   "metadata": {
    "slideshow": {
     "slide_type": "slide"
    }
   },
   "source": [
    "# Introduction to TMA4125\n",
    "\n",
    "\n",
    "Executing the following cell loads a non-default css style for the notebook. \n",
    "Make sure that you download the corresponding css file  `tma4125.css` from the course web page."
   ]
  },
  {
   "cell_type": "code",
   "execution_count": 1,
   "metadata": {
    "slideshow": {
     "slide_type": "slide"
    }
   },
   "outputs": [
    {
     "data": {
      "text/html": [
       "<link href='http://fonts.googleapis.com/css?family=Alegreya+Sans:100,300,400,500,700,800,900,100italic,300italic,400italic,500italic,700italic,800italic,900italic' rel='stylesheet' type='text/css'> <link href='http://fonts.googleapis.com/css?family=Arvo:400,700,400italic' rel='stylesheet' type='text/css'> <link href=\"https://fonts.googleapis.com/css?family=News+Cycle\" rel=\"stylesheet\"> <link href='http://fonts.googleapis.com/css?family=Nixie+One' rel='stylesheet' type='text/css'> <link href='http://fonts.googleapis.com/css?family=PT+Mono' rel='stylesheet' type='text/css'> <link href='http://fonts.googleapis.com/css?family=Shadows+Into+Light' rel='stylesheet' type='text/css'> <link href=\"https://fonts.googleapis.com/css?family=Source+Code+Pro\" rel=\"stylesheet\"> <style> @font-face {\n",
       "    /*font-family: \"Computer Modern\";*/\n",
       "    /*src: url('http://mirrors.ctan.org/fonts/cm-unicode/fonts/otf/cmunss.otf');*/\n",
       "    font-family: 'News Cycle', sans-serif;\n",
       "}\n",
       "\n",
       "\n",
       "/* main background */\n",
       "\n",
       "\n",
       "/*#notebook_panel { \n",
       "        background: #C9D4E2;\n",
       "    }*/\n",
       "\n",
       "div.cell {\n",
       "    /*max-width:600px;*/\n",
       "    /*margin-left:16% !important;*/\n",
       "    /*margin-right:auto;*/\n",
       "}\n",
       "\n",
       "div.text_cell {\n",
       "    max-width: 120ex;\n",
       "    /* instead of 100%, */\n",
       "}\n",
       "\n",
       "div.text_cell_render {\n",
       "    font-family: 'Alegreya Sans', Computer Modern, \"Helvetica Neue\", Arial, Helvetica, Geneva,   sans-serif;\n",
       "    line-height: 135%;\n",
       "    /*font-size:    45pt;*/\n",
       "    font-size: 130%;\n",
       "    /*width:600px;*/\n",
       "    /*margin-left:auto;*/\n",
       "    /*margin-right:auto;*/\n",
       "}\n",
       "\n",
       ".CodeMirror {\n",
       "    /*font-family: 'Source Code Pro', monospace;*/\n",
       "    /*font-style: italic;*/\n",
       "    /*font-weight: bold;*/\n",
       "    /*font-size: 120%;*/\n",
       "}\n",
       "\n",
       "\n",
       "/*.prompt{\n",
       "        display: None;\n",
       "    }*/\n",
       "\n",
       ".text_cell_render h1 {\n",
       "    font-family: 'Nixie One', serifV;\n",
       "    font-style: regular;\n",
       "    font-weight: 400;\n",
       "    font-size: 45pt;\n",
       "    line-height: 100%;\n",
       "        color: #497BB9;    \n",
       "    /*color: #5889C5;*/\n",
       "    /*color: rgb(0, 51, 102);*/\n",
       "    /*font-weight: 200;*/\n",
       "    /*font-size: 50pt;*/\n",
       "    margin-bottom: 0.5em;\n",
       "    margin-top: 0.5em;\n",
       "    display: block;\n",
       "}\n",
       "\n",
       ".text_cell_render h2 {\n",
       "    font-family: 'Nixie One', serif;\n",
       "    font-weight: 400;\n",
       "    font-size: 30pt;\n",
       "    line-height: 100%;\n",
       "    /*color: rgb(0,51,102);*/\n",
       "    color: #497BB9;    \n",
       "    margin-bottom: 0.1em;\n",
       "    margin-top: 0.3em;\n",
       "    display: block;\n",
       "}\t\n",
       "\n",
       ".text_cell_render h3 {\n",
       "    font-family: 'Nixie One', serif;\n",
       "    margin-top:16px;\n",
       "    font-size: 22pt;\n",
       "    font-weight: 600;\n",
       "    margin-bottom: 3px;\n",
       "    font-style: regular;\n",
       "    color: rgb(102,102,0);\n",
       "}\n",
       "\n",
       ".text_cell_render h4 {    /*Use this for captions*/\n",
       "    font-family: 'Nixie One', serif;\n",
       "    font-size: 14pt;\n",
       "/*    text-align: center;*/\n",
       "    margin-top: 0em;\n",
       "    margin-bottom: 2em;\n",
       "    font-style: regular;\n",
       "}\n",
       "\n",
       ".text_cell_render h5 {  /*Use this for small titles*/\n",
       "    font-family: 'Nixie One', sans-serif;\n",
       "    font-weight: 400;\n",
       "    font-size: 16pt;\n",
       "    color: rgb(163,0,0);\n",
       "    /*color: #5889C5;*/\n",
       "    /*margin-bottom: .5em;\n",
       "    margin-top: 0.5em;*/\n",
       "    font-style: italic;\n",
       "    margin-bottom: .1em;\n",
       "    margin-top: 0.8em;\n",
       "    display: block;\n",
       "}\n",
       "\n",
       ".warning {\n",
       "    color: rgb( 240, 20, 20)\n",
       "}\n",
       "\n",
       "</style> \n",
       "<script>\n",
       " MathJax.Hub.Config( {\n",
       "    TeX: {\n",
       "        Macros: {\n",
       "            NN: \"{\\\\bf N}\",\n",
       "            RR: \"{\\\\mathbb{R}}\",\n",
       "            mcO: \"{\\\\mathcal{O}}\"\n",
       "        },\n",
       "        equationNumbers: { autoNumber: \"AMS\" },\n",
       "        extensions: [\"AMSmath.js\", \"begingroup.js\"] \n",
       "    },\n",
       "    tex2jax: {\n",
       "        inlineMath: [ ['$', '$'], [\"\\\\(\", \"\\\\)\"]], displayMath: [ ['$$', '$$'], [\"\\\\[\", \"\\\\]\"]]\n",
       "    },\n",
       "    displayAlign: 'center', // Change this to 'center' to center equations.\n",
       "    \"HTML-CSS\": {\n",
       "        styles: {\n",
       "            '.MathJax_Display': {\n",
       "                \"margin\": 4\n",
       "            }\n",
       "        }\n",
       "    }\n",
       "}\n",
       ");\n",
       "</script>\n"
      ],
      "text/plain": [
       "<IPython.core.display.HTML object>"
      ]
     },
     "execution_count": 1,
     "metadata": {},
     "output_type": "execute_result"
    }
   ],
   "source": [
    "import matplotlib.pyplot as plt\n",
    "import numpy as np\n",
    "from IPython.core.display import HTML\n",
    "from numpy.linalg import norm\n",
    "\n",
    "\n",
    "def css_styling():\n",
    "    try:\n",
    "        with open(\"tma4125.css\") as f:\n",
    "            styles = f.read()\n",
    "            return HTML(styles)\n",
    "    except FileNotFoundError:\n",
    "        pass  # Do nothing\n",
    "\n",
    "\n",
    "# Comment out next line and execute this cell to restore the default notebook style\n",
    "css_styling()"
   ]
  },
  {
   "cell_type": "markdown",
   "metadata": {
    "slideshow": {
     "slide_type": "fragment"
    }
   },
   "source": [
    "We also load a number of $\\LaTeX$ commands first\n",
    "$$\n",
    "\\DeclareMathOperator{\\Div}{div}\n",
    "\\DeclareMathOperator{\\Grad}{grad}\n",
    "\\DeclareMathOperator{\\Curl}{curl}\n",
    "\\DeclareMathOperator{\\Rot}{rot}\n",
    "\\DeclareMathOperator{\\ord}{ord}\n",
    "\\DeclareMathOperator{\\Kern}{ker}\n",
    "\\DeclareMathOperator{\\Image}{im}\n",
    "\\DeclareMathOperator{\\spann}{span}\n",
    "\\DeclareMathOperator{\\rank}{rank}\n",
    "\\DeclareMathOperator{\\dist}{dist}\n",
    "\\DeclareMathOperator{\\diam}{diam}\n",
    "\\DeclareMathOperator{\\sig}{sig}\n",
    "\\DeclareMathOperator{\\Id}{Id}\n",
    "\\newcommand{\\RR}{\\mathbb{R}}\n",
    "\\newcommand{\\NN}{\\mathbb{N}}\n",
    "\\newcommand{\\VV}{\\mathbb{V}}\n",
    "\\newcommand{\\dGamma}{\\,\\mathrm{d} \\Gamma}\n",
    "\\newcommand{\\dGammah}{\\,\\mathrm{d} \\Gamma_h}\n",
    "\\newcommand{\\dx}{\\,\\mathrm{d}x}\n",
    "\\newcommand{\\dy}{\\,\\mathrm{d}y}\n",
    "\\newcommand{\\ds}{\\,\\mathrm{d}s}\n",
    "\\newcommand{\\dt}{\\,\\mathrm{d}t}\n",
    "\\newcommand{\\dS}{\\,\\mathrm{d}S}\n",
    "\\newcommand{\\dV}{\\,\\mathrm{d}V}\n",
    "\\newcommand{\\dX}{\\,\\mathrm{d}X}\n",
    "\\newcommand{\\dY}{\\,\\mathrm{d}Y}\n",
    "\\newcommand{\\dE}{\\,\\mathrm{d}E}\n",
    "\\newcommand{\\dK}{\\,\\mathrm{d}K}\n",
    "\\newcommand{\\dM}{\\,\\mathrm{d}M}\n",
    "\\newcommand{\\cd}{\\mathrm{cd}}\n",
    "\\newcommand{\\onehalf}{\\frac{1}{2}}\n",
    "\\newcommand{\\bfP}{\\boldsymbol P}\n",
    "\\newcommand{\\bfx}{\\boldsymbol x}\n",
    "\\newcommand{\\bfy}{\\boldsymbol y}\n",
    "\\newcommand{\\bfa}{\\boldsymbol a}\n",
    "\\newcommand{\\bfu}{\\boldsymbol u}\n",
    "\\newcommand{\\bfv}{\\boldsymbol v}\n",
    "\\newcommand{\\bfe}{\\boldsymbol e}\n",
    "\\newcommand{\\bfb}{\\boldsymbol b}\n",
    "\\newcommand{\\bfc}{\\boldsymbol c}\n",
    "\\newcommand{\\bfq}{\\boldsymbol q}\n",
    "\\newcommand{\\bfy}{\\boldsymbol y}\n",
    "\\newcommand{\\bff}{\\boldsymbol f}\n",
    "\\newcommand{\\bfp}{\\boldsymbol p}\n",
    "\\newcommand{\\bft}{\\boldsymbol t}\n",
    "\\newcommand{\\bfj}{\\boldsymbol j}\n",
    "\\newcommand{\\bfB}{\\boldsymbol B}\n",
    "\\newcommand{\\bfV}{\\boldsymbol V}\n",
    "\\newcommand{\\bfE}{\\boldsymbol E}\n",
    "\\newcommand{\\bfB}{\\boldsymbol B}\n",
    "\\newcommand{\\bfzero}{\\boldsymbol 0}\n",
    "$$"
   ]
  },
  {
   "cell_type": "markdown",
   "metadata": {
    "slideshow": {
     "slide_type": "slide"
    }
   },
   "source": [
    "## Overview over the course\n",
    "\n",
    " * Analytical and numerical techniques for solving ordinary differential equations (ODEs) as well as partial differential equations (ODEs)\n",
    " * Introduction into numerical methods and concepts in general\n",
    " \n",
    " All relevant course information can be found at our \n",
    "[course webpage](https://wiki.math.ntnu.no/tma4125/2021v/start)\n",
    "including a detailed description of the [curriculum](https://wiki.math.ntnu.no/tma4125/2021v/lectures)."
   ]
  },
  {
   "cell_type": "markdown",
   "metadata": {
    "slideshow": {
     "slide_type": "slide"
    }
   },
   "source": [
    "## Preliminaries\n",
    " \n",
    "In this note, we will present some mathematical results that will be \n",
    "used frequently, as well as some definitions and concepts. Most of it should be known from\n",
    "previous courses, in particular from Mathematics 1 and 3. \n",
    " "
   ]
  },
  {
   "cell_type": "markdown",
   "metadata": {
    "slideshow": {
     "slide_type": "slide"
    }
   },
   "source": [
    "## Vector spaces and norms\n",
    "**Real vector spaces.**\n",
    "\n",
    "A *real vector space* is a set $V$ together with operations $+$ (addition) \n",
    "and $\\cdot$ (multiplication with a scalar) which\n",
    "satisfy the following conditions:"
   ]
  },
  {
   "cell_type": "markdown",
   "metadata": {
    "slideshow": {
     "slide_type": "slide"
    }
   },
   "source": [
    "1. &emsp;$x+y \\in V$ for all $x$, $y \\in V$.\n",
    "2. &emsp;$x+y = y+x$ for all $x$, $y \\in V$.\n",
    "3. &emsp;$x+(y+z) = (x+y)+z$ for all $x$, $y$, $z \\in V$.\n",
    "4. &emsp;There exists some element $0 \\in V$ such that $x + 0 = x$ for all $x \\in V$.\n",
    "5. &emsp;For all $x \\in V$, there exists some element $(-x) \\in V$ such that $x + (-x) = 0$.\n",
    "6. &emsp;$\\alpha\\cdot x \\in V$ for all $x \\in V$ and $\\alpha \\in \\mathbb{R}$.\n",
    "7. &emsp;$\\alpha\\cdot(\\beta\\cdot x) = (\\alpha\\beta)\\cdot x$ for all $x \\in V$ and $\\alpha$, $\\beta \\in \\mathbb{R}$.\n",
    "8. &emsp;$1\\cdot x = x$ for all $x \\in V$.\n",
    "9. &emsp;$\\alpha\\cdot(x+y) = \\alpha\\cdot x + \\alpha\\cdot y$ for all $x$, $y \\in V$ and $\\alpha \\in \\mathbb{R}$.\n",
    "10. &emsp;$(\\alpha+\\beta)\\cdot x = \\alpha\\cdot x + \\beta\\cdot x$ for all $x \\in V$ and $\\alpha$, $\\beta \\in \\mathbb{R}$."
   ]
  },
  {
   "cell_type": "markdown",
   "metadata": {
    "slideshow": {
     "slide_type": "slide"
    }
   },
   "source": [
    "**Complex vector spaces** are defined in exactly the same way, just replacing $\\mathbb{R}$ with $\\mathbb{C}$  in the definition above, so\n",
    "that the scalars are now allowed to be complex numbers.\n"
   ]
  },
  {
   "cell_type": "markdown",
   "metadata": {
    "slideshow": {
     "slide_type": "slide"
    }
   },
   "source": [
    "#### Examples:\n",
    "The following vector spaces will be used thoughout the course:\n",
    "\n",
    "* $\\mathbb{R}^m$ is the set of all real vectors with $m$ components. \n",
    "\n",
    "* $\\mathbb{R}^{m\\times n}$ is the set of all $m\\times n$ real matrices.\n",
    "\n",
    "* $\\mathbb{P}_n$ is the set of all polynomials of degree $n$ or less.\n",
    "\n",
    "* $C^m[a,b]$ is the set of all functions with continuous first $m$ derivatives on the interval $[a,b]$. It is common to use $C[a,b]$ rather than $C^0[a,b]$ for all continuous functions.   \n",
    "\n",
    "Notice that $C^n[a,b] \\subset C^m[a,b]$ if $n > m$. \n",
    "Further, $\\mathbb{P}_n \\subset C^{\\infty}[\\mathbb{R}]$."
   ]
  },
  {
   "cell_type": "markdown",
   "metadata": {
    "slideshow": {
     "slide_type": "slide"
    }
   },
   "source": [
    "**Exercise.** Verify that $\\mathbb{P}_n$ and $C^m[a,b]$ indeed are vector spaces.\n",
    "For that recall that the operations \"adding two functions\" and \"multiplying a function with a scalar\" are defined as usual by defining the resulting functions pointwise:\n",
    "$$\n",
    "(f + g)(x) := f(x) + g(x) \\\\\n",
    "(\\alpha f)(x) :=  \\alpha f(x)\n",
    "$$ \n",
    "\n",
    "**Question from audience:** Can we define Function with different variables $ f(x), g(y)$?\n",
    "\n",
    "Addition is not immediately\n",
    "defined but you can define \"new functions\" $\\widetilde{f}(x,y) := f(x)$ and $\\widetilde{g}(x,y) := g(y)$  to make sense of it and then set\n",
    "$(f + g)(x,y) := f(x) + g(x)$"
   ]
  },
  {
   "cell_type": "markdown",
   "metadata": {
    "slideshow": {
     "slide_type": "slide"
    }
   },
   "source": [
    "### Norms\n",
    "\n",
    "**Norm $\\lVert\\cdot\\rVert$.**\n",
    "\n",
    "A norm is a function $\\lVert\\cdot\\rVert \\colon V \\to \\mathbb{R}$ such that the following hold:\n",
    "1. &emsp;$\\lVert x \\lVert \\ge 0$ for all $x \\in V$.\n",
    "2. &emsp;$\\lVert x \\rVert = 0$ if and only if $x = 0$.\n",
    "3. &emsp;$\\lVert \\alpha \\cdot x \\rVert = \\lvert \\alpha \\rvert \\,\\lVert x \\rVert$ for all $x \\in V$ and $\\alpha \\in \\mathbb{R}$.\n",
    "4. &emsp;$\\lVert x + y\\rVert \\le \\lVert x \\rVert + \\lVert y \\rVert$ for all $x$, $y \\in V$. (*triangle inequality*)\n",
    "\n",
    "The norm $\\lVert\\cdot\\rVert$ of an element $x$ in a vector space $V$ is essentially a measure of the size of the element. More importantly, the norm $\\lVert x-y\\rVert$ of a difference of two vectors $x$, $y \\in V$ is a measure for the distance between $x$ and $y$, or, put differently, of how similar $x$ and $y$ are."
   ]
  },
  {
   "cell_type": "markdown",
   "metadata": {
    "slideshow": {
     "slide_type": "slide"
    }
   },
   "source": [
    "**Norms for $\\mathbb{R}^m$ and $C[a,b]$:**\n",
    "\n",
    "For any given vector space $V$, there are usually different meanigful definitions of norm that encode different notions of similarity of elements of the vector space.\n",
    "\n",
    "For $\\mathbf{x} \\in \\mathbb{R}^m$ (note that we will use bold symbols for vectors $\\mathbf{x} \\in \\mathbb{R}^m$):\n",
    "\n",
    "  * The maximum-norm $\\|\\mathbf{x}\\|_{\\infty} = \\max_{i=1}^m |x_i|$. \n",
    "\n",
    "  * The Euclidean norm $\\|\\mathbf{x}\\|_2 = \\sqrt{\\sum_{i=1}^m x_i^2}$.\n",
    "  \n",
    "  * More, generally, we can define the $l^P$ norm of a vector $\\mathbf{x}$ by\n",
    "  $\\|\\mathbf{x}\\|_p = \\left(\\sum_{i=1}^m x_i^p\\right)^{1/p}$, $1\\leqslant p \\leqslant \\infty$\n",
    "  \n",
    " "
   ]
  },
  {
   "cell_type": "markdown",
   "metadata": {
    "slideshow": {
     "slide_type": "slide"
    }
   },
   "source": [
    "**Norms for $\\mathbb{R}^m$ and $C[a,b]$:**\n",
    "\n",
    "For any given vector space $V$, there are usually different meanigful definitions of norm that encode different notions of similarity of elements of the vector space.\n",
    "\n",
    "For $\\mathbf{x} \\in \\mathbb{R}^m$ (note that we will use bold symbols for vectors $\\mathbf{x} \\in \\mathbb{R}^m$):\n",
    "\n",
    "  * The maximum-norm $\\|\\mathbf{x}\\|_{\\infty} = \\max_{i=1}^m |x_i|$. \n",
    "\n",
    "  * The Euclidean norm $\\|\\mathbf{x}\\|_2 = \\sqrt{\\sum_{i=1}^m x_i^2}$.\n",
    "  \n",
    "  * More, generally, we can define the $l^P$ norm of a vector $\\mathbf{x}$ by\n",
    "  $\\|\\mathbf{x}\\|_p = \\left(\\sum_{i=1}^m |x_i|^p\\right)^{1/p}$.\n",
    "  \n",
    " "
   ]
  },
  {
   "cell_type": "markdown",
   "metadata": {
    "slideshow": {
     "slide_type": "slide"
    }
   },
   "source": [
    "For $f\\in C[a,b]$, similar norms can be defined: \n",
    "\n",
    "  * The maximum-norm $\\|f\\|_{\\infty} = \\max_{x\\in [a,b]}|f(x)|$.\n",
    "\n",
    "  * The $L^2$-norm $\\|f\\|_2 = \\sqrt{\\int_a^b f(x)^2 \\dx}$.\n",
    "  \n",
    "  * The $L^p$-norm $\\|f\\|_p = \\left(\\int_a^b |f(x)|^p \\dx\\right)^{1/p}$.\n",
    " \n",
    "Thus for two functions $f,g \\in C[a,b]$, the expression\n",
    " $\\|f - g\\|_{\\infty}$ measures the *maximal* pointwise difference of $f(x)$ and $g(x)$, while the term $\\|f - g\\|_2$  measures the *average* (quadratic) difference of| $f(x)$ ad $g(x)$. \n",
    "\n",
    "We will always use the absolute value as the norm of a real number, thus\n",
    "$\\|x\\|=|x|$ whenever $x\\in \\mathbb{R}$.   "
   ]
  },
  {
   "cell_type": "markdown",
   "metadata": {
    "slideshow": {
     "slide_type": "slide"
    }
   },
   "source": [
    "**Example 1:**\n",
    "Let $\\mathbf{x}=[1,-6,3,-1,5]^T\\in \\mathbb{R}^5$. Then\n",
    "\n",
    "$$\n",
    "\\begin{aligned}\n",
    "  \\|\\mathbf{x}\\|_2 &= \\sqrt{1+36+9+1+25} \\approx 8.4853, \\\\ \n",
    "  \\|\\mathbf{x}\\|_{\\infty} &= \\max\\{1,6,3,1,5\\}= 6.\n",
    "\\end{aligned}\n",
    "$$"
   ]
  },
  {
   "cell_type": "markdown",
   "metadata": {
    "slideshow": {
     "slide_type": "slide"
    }
   },
   "source": [
    "Norms of vectors in $\\mathbb{R}^m$  are implemented in Python."
   ]
  },
  {
   "cell_type": "code",
   "execution_count": 2,
   "metadata": {
    "slideshow": {
     "slide_type": "fragment"
    }
   },
   "outputs": [],
   "source": [
    "%matplotlib inline\n",
    "\n",
    "newparams = {\n",
    "    \"figure.figsize\": (8.0, 4.0),\n",
    "    \"axes.grid\": True,\n",
    "    \"lines.markersize\": 8,\n",
    "    \"lines.linewidth\": 2,\n",
    "    \"font.size\": 14,\n",
    "}\n",
    "plt.rcParams.update(newparams)"
   ]
  },
  {
   "cell_type": "code",
   "execution_count": 3,
   "metadata": {
    "slideshow": {
     "slide_type": "slide"
    }
   },
   "outputs": [
    {
     "name": "stdout",
     "output_type": "stream",
     "text": [
      "x = \n",
      " [ 1 -6  3 -1  5]\n",
      "The 2-norm   of x:   8.4853\n",
      "The max-norm of x:   6.0000\n"
     ]
    }
   ],
   "source": [
    "# The norm of a vector in R^n\n",
    "x = np.array([1, -6, 3, -1, 5])\n",
    "nx_2 = norm(x)  # The 2-norm is the default\n",
    "nx_inf = norm(x, ord=np.inf)  # The max-norm\n",
    "print(\"x = \\n\", x)\n",
    "print(f\"The 2-norm   of x: {nx_2:8.4f}\")\n",
    "print(f\"The max-norm of x: {nx_inf:8.4f}\")"
   ]
  },
  {
   "cell_type": "markdown",
   "metadata": {
    "slideshow": {
     "slide_type": "slide"
    }
   },
   "source": [
    "**Example 2:**\n",
    "Let $f(x)=\\sin(x)$ on $[0,2\\pi]$, so $f\\in C^{\\infty}[0,2\\pi]$. In this case\n",
    "\n",
    "$$\n",
    "\\begin{aligned}\n",
    "  \\|f\\|_2 &= \\displaystyle \\sqrt{\\int_0^{2\\pi} \\sin^2(x) dx} = \\sqrt{\\pi} \\approx 1.7725 \\\\ \n",
    "  \\|f\\|_{\\infty} &= \\displaystyle \\max_{x\\in[0,2\\pi]}|\\sin(x)| = 1.\n",
    "\\end{aligned}\n",
    "$$"
   ]
  },
  {
   "cell_type": "markdown",
   "metadata": {
    "slideshow": {
     "slide_type": "slide"
    }
   },
   "source": [
    "### Scalar products\n",
    "\n",
    "A **scalar product** (also called **inner product**) $\\langle \\cdot, \\cdot \\rangle$ on a **real** vector\n",
    "space $V$ is a **symmetric, positive definite bilinear form** on V; that is, it is\n",
    "a mapping $\\langle \\cdot, \\cdot \\rangle: V \\times V \\to \\mathbb{R}$\n",
    "which is a **bilinear**\n",
    "\n",
    "1.    &emsp; $\\langle \\alpha x + \\beta y, z \\rangle  \n",
    "             =  \\alpha \\langle  x , z \\rangle +  \\beta \\langle y, z \\rangle \\quad$ for all $x,y,z \\in V$ and $\\alpha, \\beta \\in \\mathbb{R}$,\n",
    "2.    &emsp; $\\langle  z, \\alpha x + \\beta y \\rangle  \n",
    "             =  \\alpha \\langle  z, x \\rangle +  \\beta \\langle z, y \\rangle \\quad$\n",
    "for all $x,y,z \\in V$ and $\\alpha, \\beta \\in \\mathbb{R}$,\n",
    "\n",
    "**symmetric**\n",
    "\n",
    "3. &emsp; $\\langle x,y \\rangle = \\langle y, x \\rangle$\n",
    "\n",
    "and **positive definite**\n",
    "\n",
    "4. &emsp;  $\\langle x, x \\rangle \\geqslant 0 \\quad$ and $\\quad \\langle x, x \\rangle = 0 \\Leftrightarrow x = 0$"
   ]
  },
  {
   "cell_type": "markdown",
   "metadata": {
    "slideshow": {
     "slide_type": "slide"
    }
   },
   "source": [
    "An inner product on $V$ automatically induces a Norm on $V$ via\n",
    "\\begin{align*}\n",
    "V \\ni x  \\mapsto \\|x\\| := \\sqrt{\\langle x, x\\rangle}  \n",
    "\\end{align*}\n",
    " \n",
    " \n",
    " **Exercise**: Verify this."
   ]
  },
  {
   "cell_type": "markdown",
   "metadata": {
    "slideshow": {
     "slide_type": "slide"
    }
   },
   "source": [
    "**Example 1:** Let $\\bfx, \\bfy \\in \\RR^m$ and define\n",
    "$$\n",
    "\\langle \\bfx, \\bfy \\rangle := \\bfx \\cdot \\bfy := \\sum_{i=1}^m x_i y_i\n",
    "$$"
   ]
  },
  {
   "cell_type": "markdown",
   "metadata": {
    "slideshow": {
     "slide_type": "slide"
    }
   },
   "source": [
    "**Example 2:** Let $f, g \\in C[a,b]$ and set\n",
    "$$\n",
    "\\langle f, g \\rangle := \\int_a^b f(x) g(x) \\dx\n",
    "$$\n",
    "$$\n",
    "\\langle \\alpha_1 f_1 + \\alpha_2 f_, g \\rangle = \\alpha_1 \\int_a^b f_1(x) g(x) \\dx + \\alpha_2 \\int_a^b f_2(x) g(x) \\dx\n",
    "$$\n",
    "\n",
    "Then this define a scalar product. Clearly, this expression defines a symmetric bilinear form on $C[a,b]$ (verify this), but what about being positive definite?\n",
    "Of course $\\langle f, f \\rangle = \\int_a^b (f(x))^2 \\dx \\geqslant 0$ \n",
    "but why does $\\langle f, f \\rangle = 0 \\Leftrightarrow  f = 0 $, that is $f(x) = 0 \\;\\forall x \\in [a,b]$  hold?\n",
    "\n",
    "Proof by contradiction: Imagine $f$ attains at $x_0$ a value $f(x_0) = c > 0$. Since $f$\n",
    "is continuous, there must be an $\\epsilon > 0$ such that $f(x) > c/2$\n",
    "for $x \\in [x_0 - \\epsilon, x_0 + \\epsilon]$. Consequently,\n",
    "$$\n",
    "\\langle f, f \\rangle = \\int_a^b (f(x))^2 \\dx \\geqslant\n",
    "\\int_{x_0 -\\epsilon}^{x_0+ \\epsilon}  (f(x))^2 dx\n",
    "\\geqslant \\int_{x_0 -\\epsilon}^{x_0+ \\epsilon}  (c/2)^2 \\dx > 0.\n",
    "$$"
   ]
  },
  {
   "cell_type": "markdown",
   "metadata": {
    "slideshow": {
     "slide_type": "slide"
    }
   },
   "source": [
    "**Orthogonal vectors.** Assume that $V$ is a vector space with a scalar product\n",
    "$\\langle \\cdot, \\cdot \\rangle$. Then $x,y \\in V$ are said to be orthogonal\n",
    "if $\\langle x, y \\rangle  = 0$."
   ]
  },
  {
   "cell_type": "markdown",
   "metadata": {
    "slideshow": {
     "slide_type": "fragment"
    }
   },
   "source": [
    "**Example 1** $V = \\RR^3$ with standard inner product, then\n",
    "$\\bfx = [1, 2, 3]^T$ and $\\bfy = [3,0,-1]^T$ are orthogonal."
   ]
  },
  {
   "cell_type": "markdown",
   "metadata": {
    "slideshow": {
     "slide_type": "fragment"
    }
   },
   "source": [
    "**Example 2:** Let $V=C[-1,1]$ with the inner produc $\\langle f, g \\rangle := \\int_{-1}^{1} f(x) g(x) \\dx$. Set\n",
    "$f(x) = x$ and $g(x) = x^2$.\n",
    "Then $\\langle f, g \\rangle = 0$ \n",
    "\n",
    "**Exercise** Verify this."
   ]
  },
  {
   "cell_type": "code",
   "execution_count": 4,
   "metadata": {
    "slideshow": {
     "slide_type": "slide"
    }
   },
   "outputs": [
    {
     "data": {
      "text/plain": [
       "<matplotlib.legend.Legend at 0x10cc00520>"
      ]
     },
     "execution_count": 4,
     "metadata": {},
     "output_type": "execute_result"
    },
    {
     "data": {
      "image/png": "[encoded data removed]",
      "text/plain": [
       "<Figure size 576x288 with 1 Axes>"
      ]
     },
     "metadata": {
      "needs_background": "light"
     },
     "output_type": "display_data"
    }
   ],
   "source": [
    "f = lambda x: x\n",
    "g = lambda x: x**2\n",
    "f_g = lambda x: f(x) * g(x)\n",
    "x = np.linspace(-1, 1, 50)\n",
    "plt.plot(x, f(x), marker=\"x\", label=\"$f$\")\n",
    "plt.plot(x, g(x), marker=\"+\", label=\"$g$\")\n",
    "plt.plot(x, f_g(x), marker=\"*\", label=r\"$f\\cdot g$\")\n",
    "plt.legend()"
   ]
  },
  {
   "cell_type": "markdown",
   "metadata": {
    "slideshow": {
     "slide_type": "slide"
    }
   },
   "source": [
    "Note that the specific interval $[a,b]$ in the definition of\n",
    "$\\langle f, g \\rangle := \\int_a^b f(x) g(x) \\dx$ is important.\n",
    "For instance the two functions $f$ and $g$ defined above are \n",
    "orthogonal on $[-1, 1]$ and any other symmetric interval $[-a, a]$ around\n",
    "$0$, but there are **not** orthogonal on the interval $[0,1]$."
   ]
  },
  {
   "cell_type": "code",
   "execution_count": 5,
   "metadata": {
    "slideshow": {
     "slide_type": "slide"
    }
   },
   "outputs": [
    {
     "data": {
      "text/plain": [
       "<matplotlib.legend.Legend at 0x112dceb80>"
      ]
     },
     "execution_count": 5,
     "metadata": {},
     "output_type": "execute_result"
    },
    {
     "data": {
      "image/png": "[encoded data removed]",
      "text/plain": [
       "<Figure size 576x288 with 1 Axes>"
      ]
     },
     "metadata": {
      "needs_background": "light"
     },
     "output_type": "display_data"
    }
   ],
   "source": [
    "x = np.linspace(0, 1, 50)\n",
    "plt.plot(x, f(x), marker=\"x\", label=\"$f$\")\n",
    "plt.plot(x, g(x), marker=\"+\", label=\"$g$\")\n",
    "plt.plot(x, f_g(x), marker=\"*\", label=r\"$f\\cdot g$\")\n",
    "plt.legend()"
   ]
  },
  {
   "cell_type": "markdown",
   "metadata": {},
   "source": [
    "### Cauchy-Schwarz inequality\n",
    "Reminder from Calculus 3.\n",
    "Assume we have a vector space $V$ endowed with an inner product \n",
    "$\\langle \\cdot, \\cdot\\rangle$. Then for $f, g \\in V$ it holds that\n",
    "$$\n",
    "|\\langle f, g \\rangle| \\leqslant \\|f\\| \\|g\\|.\n",
    "$$\n",
    "This is the Cauchy-Schwarz inequality and holds for any abstract inner product.\n",
    "More precisely, we have that\n",
    "$$\n",
    "|\\langle f, g \\rangle| < \\|f\\| \\|g\\|\n",
    "$$ \n",
    "unless $f = \\lambda g$ for some $\\lambda \\in \\RR$."
   ]
  },
  {
   "cell_type": "markdown",
   "metadata": {
    "slideshow": {
     "slide_type": "slide"
    }
   },
   "source": [
    "### Gram-Schmidt Orthogonalization\n",
    "\n",
    "Let $\\{\\bfa_1,\\ldots,\\bfa_n\\} \\subset \\RR^m$ $n$ linear independent\n",
    "vectors in $\\RR^m$. The Gram-Schmidt orthogonalization process\n",
    "allows to orthogonalizes that set, that means, we can construct\n",
    "a set $\\{\\bfq_1, \\ldots, \\bfq_n \\}$ of orthogonal (orthonormal) vectors which have the same span as the original set."
   ]
  },
  {
   "cell_type": "markdown",
   "metadata": {
    "slideshow": {
     "slide_type": "slide"
    }
   },
   "source": [
    "\\begin{alignat*}{3}\n",
    "\\bfy_1 &:= \\bfa_1, \\quad & &\\bfq_1 := \\dfrac{\\bfy_1}{\\|\\bfy_1\\|}\n",
    "\\\\\n",
    "\\bfy_2 &:= \\bfa_2 - \\langle \\bfq_1, \\bfa_2 \\rangle \\bfq_1, \\quad & &\\bfq_2 := \\dfrac{\\bfy_2}{\\|\\bfy_2\\|}\n",
    "\\\\\n",
    "\\ldots \n",
    "\\\\\n",
    "\\bfy_k &:= \\bfa_k - \\sum_{i=1}^{k-1} \\langle \\bfq_i, \\bfa_k \\rangle \\bfq_i, \\quad & &\\bfq_k := \\dfrac{\\bfy_k}{\\|\\bfy_k\\|}\n",
    "\\\\\n",
    "\\ldots\n",
    "\\\\\n",
    "\\bfy_n &:= \\bfa_n - \\sum_{i=1}^{n-1} \\langle \\bfq_i, \\bfa_n \\rangle \\bfq_i, \\quad & &\\bfq_n := \\dfrac{\\bfy_n}{\\|\\bfy_n\\|}\n",
    "\\end{alignat*}"
   ]
  },
  {
   "cell_type": "markdown",
   "metadata": {
    "slideshow": {
     "slide_type": "slide"
    }
   },
   "source": [
    "Observe that Gram-Schmidt orthogonalization makes perfect sense \n",
    "for any independent finite set of vectors $\\{f_1, \\ldots f_n\\} \\subset V$\n",
    "for some vector space $V$ endowed with a scalar product $\\langle \\cdot,\\cdot\\rangle$!\n",
    "\n",
    "**Exercise 1.** Show that the functions $\\{1, x, x^2\\} \\subset \\mathbb{P}_2$\n",
    "are linearly independent.\n",
    "\n",
    "**Exercise 2.** Use Gram-Schmidt to orthogonalize/orthonormalize the\n",
    "functions $\\{1, x, x^2\\}$ on the interval $[0,1]$."
   ]
  },
  {
   "cell_type": "markdown",
   "metadata": {
    "slideshow": {
     "slide_type": "slide"
    }
   },
   "source": [
    "### Orthogonal projection\n",
    "\n",
    "There are several equivalent ways to define an orthogonal projection.\n",
    "Assume we have a vector space $V$ endowed with an inner product \n",
    "$\\langle \\cdot, \\rangle$ and a\n",
    "finite dimensional subspace $V_n \\subset V$. Thanks to Gram-Schmidt,\n",
    "we also know that we can construc an orthornomal basis $\\{e_1, \\ldots, e_n\\}$\n",
    "of $V_n$."
   ]
  },
  {
   "cell_type": "markdown",
   "metadata": {
    "slideshow": {
     "slide_type": "slide"
    }
   },
   "source": [
    "We define the orthogonal projection \n",
    "$$\n",
    "\\Pi_{V_n} := \\Pi_n : V \\to V\n",
    "$$\n",
    "\n",
    "by requiring that for $v \\in V$, $\\Pi_n v$ must satisfy\n",
    "$$\n",
    "\\langle \\Pi_n v, w \\rangle = \\langle v, w \\rangle \\quad \\forall w \\in V_n.\n",
    "$$\n",
    "\n",
    "Or in other words, the difference vector, (also called **projection error**) $\\Pi_n v - v$ must satisfy a\n",
    "**orthorgonality property**\n",
    "with respect to the subspace $V_n$:\n",
    "$$\n",
    "\\langle \\Pi_n v - v, w \\rangle = 0 \\quad \\forall w \\in V_n.\n",
    "$$"
   ]
  },
  {
   "cell_type": "markdown",
   "metadata": {
    "slideshow": {
     "slide_type": "slide"
    }
   },
   "source": [
    "The projection is well defined.\n",
    "Assuming that $\\Pi_n v$ exists, we can express in terms of the orthonormal\n",
    "basis $\\{e_1, \\ldots, e_n\\}$:\n",
    "$$\n",
    "\\Pi_n v = \\sum \\tilde{v}_i e_i\n",
    "$$\n",
    "Any vector $w \\in V_n$ can be written as\n",
    "$$\n",
    "w = \\sum_{j=1}^n w_j e_j\n",
    "$$\n",
    "Thus\n",
    "\\begin{align*}\n",
    "\\langle \\Pi_n v, w \\rangle \n",
    "&= \\sum_{j=1} w_j \\langle \\Pi_n v, e_j \\rangle\n",
    "\\\\\n",
    "&= \\sum_{j=1} w_j \\sum_{i=1}^{n} \\tilde{v}_i \\langle v_i, e_j \\rangle\n",
    "\\end{align*}\n",
    "On the other  hand \n",
    "\\begin{align*}\n",
    "\\langle v, w \\rangle = \\sum_{j=1}^n w_j \\langle e_i, e_j \\rangle\n",
    "\\end{align*}\n",
    "\n",
    "So in order to satisfy the requirement above, we must have that\n",
    "for $ j = 1, \\ldots, n$ \n",
    "$$\n",
    "\\sum_{i=1}^{n} \\tilde{v}_i \\langle e_i, e_j \\rangle\n",
    "= \\sum_{i=1}^{n} \\tilde{v}_i \\langle e_j, e_i \\rangle\n",
    "= \\underbrace{\\langle v, e_j \\rangle}_{:= b_j}\n",
    "$$\n",
    "Since $\\langle e_i, e_j \\rangle = \\delta_{ij}$ is the Kronecker delta symbol which is $=0$ if $i\\neq j$ and $=1$ if $i=j$ we see that the last equation can be written as a simple matrix system to \n",
    "$$\n",
    "\\Id [\\tilde{v_1}, \\ldots, \\tilde{v_n}^T] = [b_1, \\ldots, b_n ]^T\n",
    "$$\n"
   ]
  },
  {
   "cell_type": "markdown",
   "metadata": {
    "slideshow": {
     "slide_type": "slide"
    }
   },
   "source": [
    "**Best approximation theorem**\n",
    "\n",
    "For any $v \\in V$, we have that \n",
    "$$\n",
    "\\|\\Pi_n v - v \\| = \\min_{w \\in V_n} \\| w - v \\|\n",
    "$$"
   ]
  },
  {
   "cell_type": "markdown",
   "metadata": {
    "slideshow": {
     "slide_type": "slide"
    }
   },
   "source": [
    "*Proof*\n",
    "\n",
    "Take any $w\\in V_n$. Then\n",
    "\\\\begin{align*}\n",
    "\\|\\Pi_n v - v \\|^2 \n",
    "&=\n",
    "\\langle \\Pi_n v - v, \\Pi_n v - v \\rangle\n",
    "\\\\\n",
    "&=\n",
    "\\langle \\Pi_n v - v, \\Pi_n v - w + w - v \\rangle\n",
    "\\\\\n",
    "&=\n",
    "\\underbrace{\\langle \\Pi_n v - v, \\Pi_n v - w \\rangle}_{=0}\n",
    "+ \\langle \\Pi_n v - v, w - v \\rangle\n",
    "\\\\\n",
    "&\\leqslant \\| \\Pi_n v - v \\| \\| w - v\\|\n",
    "\\end{align*}\n",
    "where we use the orthogonality property of the projection error and the Cauchy Schwarz inequality."
   ]
  },
  {
   "cell_type": "markdown",
   "metadata": {
    "slideshow": {
     "slide_type": "slide"
    }
   },
   "source": [
    "# Taylor-expansions\n",
    "Given a function $f\\in C^{\\infty}[a,b]$. Choose a point $x_0$ and an increment $h = x - x_0$ such that $x_0, x_0+h \\in [a,b]$. The Taylor series expansion of $f$ around $x_0$ is then given by\n",
    "\n",
    "$$\n",
    "\\sum_{k=0}^{\\infty} \\frac{f^{(k)}(x_0)}{k!}(x-x_0)^k = \\sum_{k=0}^{\\infty} \\frac{f^{(k)}(x_0)}{k!}h^k\n",
    "$$"
   ]
  },
  {
   "cell_type": "markdown",
   "metadata": {
    "slideshow": {
     "slide_type": "slide"
    }
   },
   "source": [
    "The function $f$ is called analytic in $x_0$ if the series converges for sufficiently small values of $|h|$ to $f$, that is, if\n",
    "$$\n",
    "f(x) =  \\sum_{k=0}^{\\infty} \\frac{f^{(k)}(x_0)}{k!}(x-x_0)^k\n",
    "$$"
   ]
  },
  {
   "cell_type": "markdown",
   "metadata": {
    "slideshow": {
     "slide_type": "slide"
    }
   },
   "source": [
    "In numerics, we will usually work with the trunctated series, also called the Taylor polynomial (+ remainder term), which exists for all $f \\in C^{k+1}[a,b]$:\n",
    "\n",
    "$$\n",
    "f(x) = \\underbrace{\\sum_{k=0}^{m} \\frac{f^{(k)}(x_0)}{k!}(x-x_0)^k}_{=: g(x)} + R_{m+1}(x_0).\n",
    "$$"
   ]
  },
  {
   "cell_type": "markdown",
   "metadata": {
    "slideshow": {
     "slide_type": "fragment"
    }
   },
   "source": [
    "Here the remainder term is given by\n",
    "\n",
    "$$\n",
    "R_{m+1}(x_0) = \\frac{f^{(m+1)}(\\xi)}{(m+1)!} (x-x_0)^{m+1},\n",
    "$$\n",
    "\n",
    "where $\\xi$ is some unknown point between $x_0$ and $x$."
   ]
  },
  {
   "cell_type": "markdown",
   "metadata": {
    "slideshow": {
     "slide_type": "slide"
    }
   },
   "source": [
    "Often we write this as\n",
    "$$\n",
    "f(x_0 + h) = \\sum_{k=0}^{m} \\frac{f^{(k)}(x_0)}{k!} h^k + \\mathcal{O}(h^{m+1}).\n",
    "$$"
   ]
  },
  {
   "cell_type": "markdown",
   "metadata": {
    "slideshow": {
     "slide_type": "fragment"
    }
   },
   "source": [
    "Here we used the the **Big $\\mathcal{O}$-notation**.\n",
    "Let $f$ and $g$ be some real valued function and $a \\in \\mathbb{R}$. We say that\n",
    "$$\n",
    "f(x) = \\mathcal{O}(g(x))\n",
    "\\qquad\\text{ as } x \\rightarrow a,\n",
    "$$\n",
    "if there exist $\\delta > 0$ and $M > 0$ such that\n",
    "\n",
    "$$\n",
    "|f(x)| \\leq M|g(x)| \\qquad \\text{when} \\qquad 0 < |x-a|<\\delta.\n",
    "$$\n",
    "\n",
    "That is, locally around the point $a$, the function $f$ can be bounded, up to a constant, by the function $g$."
   ]
  },
  {
   "cell_type": "markdown",
   "metadata": {
    "slideshow": {
     "slide_type": "slide"
    }
   },
   "source": [
    "# Some other useful results\n",
    "\n",
    "**Result 1:**\n",
    "Let $f\\in C[a,b]$ and let $u$ be some number between $f(a)$ and $f(b)$, then there exist at least one $\\xi \\in (a,b)$ such that $f(\\xi)=u$."
   ]
  },
  {
   "cell_type": "markdown",
   "metadata": {
    "slideshow": {
     "slide_type": "fragment"
    }
   },
   "source": [
    "**Result :2**\n",
    "(Rolle's theorem) Let $f\\in C^1[a,b]$ and $f(a)=f(b)=0$. Then there exists at least one $\\xi \\in (a,b)$ such that $f'(\\xi)=0$."
   ]
  },
  {
   "cell_type": "markdown",
   "metadata": {
    "slideshow": {
     "slide_type": "fragment"
    }
   },
   "source": [
    "**Result 3:**\n",
    " Let $f\\in C^1[a,b]$. Then there exists at least one $\\xi\\in (a,b)$ such that\n",
    "\n",
    "$$\n",
    "f'(\\xi) = \\frac{f(b)-f(a)}{b-a}\n",
    "$$"
   ]
  }
 ],
 "metadata": {
  "kernelspec": {
   "display_name": "Python 3",
   "language": "python",
   "name": "python3"
  },
  "language_info": {
   "codemirror_mode": {
    "name": "ipython",
    "version": 3
   },
   "file_extension": ".py",
   "mimetype": "text/x-python",
   "name": "python",
   "nbconvert_exporter": "python",
   "pygments_lexer": "ipython3",
   "version": "3.9.1"
  }
 },
 "nbformat": 4,
 "nbformat_minor": 2
}
