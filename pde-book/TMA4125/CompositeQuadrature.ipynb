{
 "cells": [
  {
   "cell_type": "markdown",
   "metadata": {
    "slideshow": {
     "slide_type": "slide"
    }
   },
   "source": [
    "<!-- dom:TITLE: Numerical integration: Part II -->\n",
    "# Numerical integration: Part II\n",
    "<!-- dom:AUTHOR: Anne Kværnø, André Massing -->\n",
    "<!-- Author: -->  \n",
    "**Anne Kværnø, André Massing**\n",
    "\n",
    "Date: **Jan 28, 2021**"
   ]
  },
  {
   "cell_type": "code",
   "execution_count": 9,
   "metadata": {
    "slideshow": {
     "slide_type": "slide"
    }
   },
   "outputs": [],
   "source": [
    "import matplotlib.pyplot as plt\n",
    "import numpy as np\n",
    "from IPython.core.display import HTML\n",
    "from numpy import pi\n",
    "\n",
    "\n",
    "def css_styling():\n",
    "    try:\n",
    "        with open(\"tma4125.css\") as f:\n",
    "            styles = f.read()\n",
    "            return HTML(styles)\n",
    "    except FileNotFoundError:\n",
    "        pass  # Do nothing\n",
    "\n",
    "\n",
    "# Comment out next line and execute this cell to restore the default notebook style\n",
    "css_styling()"
   ]
  },
  {
   "cell_type": "markdown",
   "metadata": {
    "slideshow": {
     "slide_type": "slide"
    }
   },
   "source": [
    "As usual, we import the necessary modules before we get started."
   ]
  },
  {
   "cell_type": "code",
   "execution_count": 10,
   "metadata": {
    "slideshow": {
     "slide_type": "fragment"
    }
   },
   "outputs": [],
   "source": [
    "%matplotlib inline\n",
    "\n",
    "newparams = {\n",
    "    \"figure.figsize\": (8.0, 4.0),\n",
    "    \"axes.grid\": True,\n",
    "    \"lines.markersize\": 8,\n",
    "    \"lines.linewidth\": 2,\n",
    "    \"font.size\": 14,\n",
    "}\n",
    "plt.rcParams.update(newparams)"
   ]
  },
  {
   "cell_type": "markdown",
   "metadata": {
    "slideshow": {
     "slide_type": "slide"
    }
   },
   "source": [
    "# General construction of quadrature rules\n",
    "In the following, you will learn the steps on how to construct realistic\n",
    "algorithms for numerical integration, similar to those used in software like\n",
    "Matlab of SciPy.  The steps are:"
   ]
  },
  {
   "cell_type": "markdown",
   "metadata": {
    "slideshow": {
     "slide_type": "slide"
    }
   },
   "source": [
    "**Construction.**\n",
    "\n",
    "1. Choose $n+1$ distinct nodes on a standard interval $I$, often chosen to be $I=[-1,1]$. \n",
    "\n",
    "2. Let $p_n(x)$ be the polynomial interpolating some general function $f$ in the nodes, and let the  $Q[f](-1,1)=I[p_n](-1,1)$.  \n",
    "\n",
    "3. Transfer the formula $Q$ from $[-1,1]$ to some interval $[a,b]$.\n",
    "\n",
    "4. Design a composite formula, by dividing the interval $[a,b]$ into\n",
    "  subintervals and applying the quadrature formula on each subinterval.\n",
    "\n",
    "5. Find an expression for the error $E[f](a,b) = I[f](a,b)-Q[f](a,b)$. \n",
    "\n",
    "6. Find an expression for an estimate of the error, and use this to create an adaptive algorithm.\n",
    "\n",
    "\n",
    "In this course, we will not have the time to cover the last two steps."
   ]
  },
  {
   "cell_type": "markdown",
   "metadata": {
    "slideshow": {
     "slide_type": "slide"
    }
   },
   "source": [
    "# Constructing quadrature rules on a single interval\n",
    "\n",
    "We have already seen in the previous Lecture how quadrature rules\n",
    "on a given interval $[a,b]$ can be constructed using polynomial\n",
    "interpolation."
   ]
  },
  {
   "cell_type": "markdown",
   "metadata": {
    "slideshow": {
     "slide_type": "fragment"
    }
   },
   "source": [
    "For $n+1$ quadrature points $\\{x_i\\}_{i=0}^n \\subset [a,b]$,\n",
    "we compute weights by\n",
    "\n",
    "$$\n",
    "w_i =\\int_a^b \\ell_i(x) {\\,\\mathrm{d}x} \\quad \\text{for } i = 0, \\ldots, n.\n",
    "$$\n",
    "\n",
    "where $\\ell_i(x)$ are the cardinal functions associated with\n",
    "$\\{x_i\\}_{i=0}^n$ satisfying $\\ell_i(x_j) = \\delta_{ij}$ for\n",
    "$i,j = 0,1,\\ldots, n$.\n",
    "The resulting quadrature rule has (at least) degree of exactness\n",
    "equal to $n$."
   ]
  },
  {
   "cell_type": "markdown",
   "metadata": {
    "slideshow": {
     "slide_type": "slide"
    }
   },
   "source": [
    "But how to you proceed if you know want to\n",
    "compute an integral on a different interval, say\n",
    "$[c,d]$?\n",
    "Do we have to reconstruct all the cardinal functions and recompute\n",
    "the weights?"
   ]
  },
  {
   "cell_type": "markdown",
   "metadata": {
    "slideshow": {
     "slide_type": "fragment"
    }
   },
   "source": [
    "The answer is NO! One can easily transfer quadrature points and weights\n",
    "from one interval to another.\n",
    "One typically choose the simple **reference interval** $\\widehat{I} = [-1, 1]$.\n",
    "Then you determine some $n+1$ quadrature points\n",
    "$\\{\\widehat{x}_i\\}_{i=0}^n \\subset [-1,1]$ and quadrature weights\n",
    "$\\{\\widehat{w}_i\\}_{i=0}^n$ to define a quadrature rule $Q(\\widehat{I})$"
   ]
  },
  {
   "cell_type": "markdown",
   "metadata": {
    "slideshow": {
     "slide_type": "slide"
    }
   },
   "source": [
    "The quadrature points can then be transferred to an arbitrary interval\n",
    "$[a,b]$ to define a quadrature rule $Q(a,b)$ using the transformation\n",
    "\n",
    "$$\n",
    "x = \\frac{b-a}{2}\\widehat{x} + \\frac{b+a}{2}, \\quad  \\text{so} \\quad {\\,\\mathrm{d}x} = \\frac{b-a}{2}\\,\\mathrm{d}\\widehat{x},\n",
    "$$"
   ]
  },
  {
   "cell_type": "markdown",
   "metadata": {
    "slideshow": {
     "slide_type": "fragment"
    }
   },
   "source": [
    "and thus we define\n",
    "$\\{x_i\\}_{i=0}^n$\n",
    "and\n",
    "$\\{w_i\\}_{i=0}^n$ by\n",
    "\n",
    "$$\n",
    "x_i = \\frac{b-a}{2}\\widehat{x}_i + \\frac{b+a}{2}, \\quad  w_i = \\frac{b-a}{2}\\widehat{w}_i\n",
    "\\quad \\text{for } i = 0, \\ldots n.\n",
    "$$"
   ]
  },
  {
   "cell_type": "markdown",
   "metadata": {
    "slideshow": {
     "slide_type": "slide"
    }
   },
   "source": [
    "## Example 1: Simpson's rule\n",
    "\n",
    "* Choose standard interval $\\left[-1,1\\right]$. For Simpson's rule, choose the\n",
    "  nodes $t_{0}=-1$, $t_{1}=0$ and $t_{2}=1$. The corresponding cardinal functions are\n",
    "\n",
    "  * $\\displaystyle\\ell_{0}=\\frac{1}{2}\\left(t^{2}-t\\right),\\qquad\\ell_{1}\\left(t\\right)=1-t^{2},\\qquad\\ell_{2}\\left(t\\right)=\\frac{1}{2}\\left(t^{2}+t\\right)$.\n",
    "\n",
    "  which gives the weights\n",
    "\n",
    "  * $\\displaystyle\n",
    "    w_{0}=\\int_{-1}^{1}\\ell_{0}\\left(t\\right)\\mathrm{d}t=\\frac{1}{3},\\qquad\n",
    "    w_{1}=\\int_{-1}^{1}\\ell_{1}\\left(t\\right)\\mathrm{d}t=\\frac{4}{3},\\qquad\n",
    "    w_{2}=\\int_{-1}^{1}\\ell_{2}\\left(t\\right)\\mathrm{d}t=\\frac{1}{3}$\n",
    "\n",
    "  such that\n",
    "\n",
    "  * $\\displaystyle\\int_{-1}^{1}f\\left(t\\right)\\mathrm{d}t\\approx\\int_{-1}^{1}p_{2}\\left(t\\right)\\mathrm{d}t=\\sum_{i=0}^{2}w_{i}f\\left(t_{i}\\right)=\\frac{1}{3}\\left[f\\left(-1\\right)+4f\\left(0\\right)+f\\left(1\\right)\\right]$. \n",
    "\n",
    "\n",
    "* After transferring the nodes and weights,\n",
    "  Simpson's rule over the interval $[a,b]$ becomes\n",
    "\n",
    "  * $\\displaystyle S\\left(a,b\\right)=\\frac{b-a}{6}\\left[f\\left(a\\right)+4f\\left(c\\right)+f\\left(b\\right)\\right],\\qquad c=\\frac{b+a}{2}$."
   ]
  },
  {
   "cell_type": "markdown",
   "metadata": {
    "slideshow": {
     "slide_type": "slide"
    }
   },
   "source": [
    "# Composite quadrature rules\n",
    "To generate more accurate quadrature rule $Q(a,b)$\n",
    "we have in principle two possibilities:\n",
    "* Increase the order of the interpolation polynomial used to construct the quadrature rule."
   ]
  },
  {
   "cell_type": "markdown",
   "metadata": {
    "slideshow": {
     "slide_type": "fragment"
    }
   },
   "source": [
    "* Subdivide the interval $[a,b]$ into smaller subintervals and apply a quadrature rule on each of\n",
    "  the subintervals, leading to **Composite Quadrature Rules** which we will consider next.\n",
    "  "
   ]
  },
  {
   "cell_type": "markdown",
   "metadata": {
    "slideshow": {
     "slide_type": "slide"
    }
   },
   "source": [
    "Select $m\\geqslant 2$ and divide $\\left[a,b\\right]$ into $m$ equally spaced\n",
    "subintervals $\\left[x_{i-1},x_{i}\\right]$ defined by $x_{i}=a+ih$ with $h=\\left(b-a\\right)/m$ for $i=1,\\ldots,m$.\n",
    "Then for a given quadrature rule $\\mathrm{Q}[\\cdot](x_{i-1},x_i)$ the corresponding\n",
    "composite quadrature rule $\\mathrm{CQ}[\\cdot]({[x_{i-1}, x_{i}]}_{i=1}^{m})$ is given by\n",
    "\n",
    "$$\n",
    "\\begin{equation}\n",
    "\\int_{a}^{b}f{\\mathrm{d}x}\\approx\n",
    "\\mathrm{CQ}[f]({[x_{i-1}, x_{i}]}_{i=1}^{m})=\n",
    "\\sum_{i=1}^{m}\n",
    "\\mathrm{Q}\\left[f\\right]\\left(x_{i-1},x_{i}\\right).\n",
    "\\tag{1}\n",
    "\\end{equation}\n",
    "$$"
   ]
  },
  {
   "cell_type": "markdown",
   "metadata": {
    "slideshow": {
     "slide_type": "slide"
    }
   },
   "source": [
    "## Composite trapezoidal rule\n",
    "\n",
    "Using the trapezoidal rule $\\mathrm{T}[f](x_{i-1},x_{i})=\\tfrac{h}{2} f(x_{i-1}) + \\tfrac{h}{2} f(x_{i})$\n",
    "the resulting composite trapezoidal rule is given by\n",
    "\n",
    "$$\n",
    "\\begin{align*}\n",
    "\\int_a^b f {\\,\\mathrm{d}x} \\approx \\mathrm{CT}[f]({[x_{i-1}, x_{i}]}_{i=1}^{m})\n",
    "= h \\left[ \\tfrac{1}{2} f(x_0) + f(x_1) + \\ldots + f(x_{m-1}) + \\tfrac{1}{2} f(x_m) \\right]\n",
    "\\end{align*}\n",
    "$$"
   ]
  },
  {
   "cell_type": "markdown",
   "metadata": {
    "slideshow": {
     "slide_type": "slide"
    }
   },
   "source": [
    "<!-- --- begin exercise --- -->\n",
    "\n",
    "## Exercise 1: Testing the accuracy of the composite trapezoidal rule\n",
    "<div id=\"quad:ex:ctr\"></div>\n",
    "\n",
    "Have a look at the `CT` function which implements the composite trapezoidal rule:"
   ]
  },
  {
   "cell_type": "code",
   "execution_count": 11,
   "metadata": {
    "slideshow": {
     "slide_type": "fragment"
    }
   },
   "outputs": [],
   "source": [
    "def CT(f, a, b, m):\n",
    "    \"\"\"Computes an approximation of the integral f\n",
    "    using the composite trapezoidal rule.\n",
    "    Input:\n",
    "        f:  integrand\n",
    "        a:  left interval endpoint\n",
    "        b:  right interval endpoint\n",
    "        m:  number of subintervals\n",
    "    \"\"\"\n",
    "    x = np.linspace(a, b, m + 1)\n",
    "    h = float(b - a) / m\n",
    "    fx = f(x[1:-1])\n",
    "    ct = h * (np.sum(fx) + 0.5 * (f(x[0]) + f(x[-1])))\n",
    "    return ct"
   ]
  },
  {
   "cell_type": "markdown",
   "metadata": {
    "slideshow": {
     "slide_type": "slide"
    }
   },
   "source": [
    "Use this function to compute an approximate value of integral\n",
    "\n",
    "$$\n",
    "I(0,1) = \\int_0^1 \\cos\\left(\\frac{\\pi}{2}x\\right) = \\frac{2}{\\pi} = 0.636619\\dotsc.\n",
    "$$\n",
    "\n",
    "for $m = 4, 8, 16, 32, 64$ corresponding to\n",
    "$ h = 2^{-2}, 2^{-3}, 2^{-4}, 2^{-5}, 2^{-6}$.\n",
    "Tabulate the corresponding quadrature errors $I(0,1) - Q(0,1)$.\n",
    "What do you observe?"
   ]
  },
  {
   "cell_type": "code",
   "execution_count": 12,
   "metadata": {
    "slideshow": {
     "slide_type": "slide"
    }
   },
   "outputs": [],
   "source": [
    "# Insert your code here."
   ]
  },
  {
   "cell_type": "markdown",
   "metadata": {
    "slideshow": {
     "slide_type": "slide"
    }
   },
   "source": [
    "<!-- --- begin solution of exercise --- -->\n",
    "**Solution.**"
   ]
  },
  {
   "cell_type": "code",
   "execution_count": 13,
   "metadata": {
    "slideshow": {
     "slide_type": "fragment"
    }
   },
   "outputs": [
    {
     "name": "stdout",
     "output_type": "stream",
     "text": [
      "Number of subintervals m = 4\n",
      "Q[f] = 0.6284174365157311\n",
      "I[f] - Q[f] = 8.2023358519e-03\n",
      "Number of subintervals m = 8\n",
      "Q[f] = 0.6345731492255537\n",
      "I[f] - Q[f] = 2.0466231420e-03\n",
      "Number of subintervals m = 16\n",
      "Q[f] = 0.6361083632808496\n",
      "I[f] - Q[f] = 5.1140908673e-04\n",
      "Number of subintervals m = 32\n",
      "Q[f] = 0.6364919355013015\n",
      "I[f] - Q[f] = 1.2783686628e-04\n",
      "Number of subintervals m = 64\n",
      "Q[f] = 0.636587814113642\n",
      "I[f] - Q[f] = 3.1958253939e-05\n"
     ]
    }
   ],
   "source": [
    "# Define function\n",
    "\n",
    "\n",
    "def f(x):\n",
    "    return np.cos(pi * x / 2)\n",
    "\n",
    "\n",
    "# Exact integral\n",
    "int_f = 2 / pi\n",
    "\n",
    "# Interval\n",
    "a, b = 0, 1\n",
    "\n",
    "# Compute integral numerically\n",
    "for m in [4, 8, 16, 32, 64]:\n",
    "    cqr_f = CT(f, a, b, m)\n",
    "    print(f\"Number of subintervals m = {m}\")\n",
    "    print(f\"Q[f] = {cqr_f}\")\n",
    "    print(f\"I[f] - Q[f] = {int_f - cqr_f:.10e}\")"
   ]
  },
  {
   "cell_type": "markdown",
   "metadata": {
    "slideshow": {
     "slide_type": "slide"
    }
   },
   "source": [
    "<!-- --- end solution of exercise --- -->\n",
    "\n",
    "<!-- Closing remarks for this Exercise -->\n",
    "\n",
    "### Remarks\n",
    "\n",
    "We observe that for each *doubling* of the number of subintervals\n",
    "we decrease the error by a *fourth*.\n",
    "That means that if we look at\n",
    "the quadrature error $I[f]-\\mathrm{CT}[f]$\n",
    "as a function of the number of subintervals $m$\n",
    "(or equivalently as a function of $h$),\n",
    "then\n",
    "$|I[f]-\\mathrm{CT}[f]| \\approx \\tfrac{C}{m^2} = C h^2$.\n",
    "\n",
    "\n",
    "<!-- --- end exercise --- -->"
   ]
  },
  {
   "cell_type": "markdown",
   "metadata": {
    "slideshow": {
     "slide_type": "slide"
    }
   },
   "source": [
    "## Error estimate for the composite trapezoidal rule\n",
    "We will now theoretically explain the experimentally observed\n",
    "convergence rate in the previous [Exercise 1: Testing the accuracy of the composite trapezoidal rule](#quad:ex:ctr)."
   ]
  },
  {
   "cell_type": "markdown",
   "metadata": {
    "slideshow": {
     "slide_type": "fragment"
    }
   },
   "source": [
    "First we have to recall the error estimate for\n",
    "for the trapezoidal rule on a single interval $[a,b]$.\n",
    "If $f\\in C^2(a,b)$, then there is a $\\xi \\in (a,b)$ such that\n",
    "\n",
    "$$\n",
    "I[f]-\\mathrm{T}[f]=\\frac{(b-a)^3}{12}f''(\\xi).\n",
    "$$"
   ]
  },
  {
   "cell_type": "markdown",
   "metadata": {
    "slideshow": {
     "slide_type": "slide"
    }
   },
   "source": [
    "## Theorem 1: Quadrature error estimate for composite trapezoidal rule\n",
    "\n",
    "Let $f\\in C^2(a,b)$, then\n",
    "the quadrature error $I[f]-\\mathrm{CT}[f]$\n",
    "for the composite trapezoidal rule can be estimated by\n",
    "\n",
    "$$\n",
    "\\begin{equation}\n",
    "|I[f]-\\mathrm{CT}[f]|\n",
    "\\leqslant\n",
    "\\dfrac{M_2}{12} \\dfrac{(b-a)^3}{m^2}\n",
    "=\n",
    "\\dfrac{M_2}{12}\n",
    "h^2(b-a)\n",
    "\\tag{2}\n",
    "\\end{equation}\n",
    "$$\n",
    "\n",
    "where  $M_2 = \\max_{\\xi\\in[a,b]} |f''(\\xi)|$."
   ]
  },
  {
   "cell_type": "markdown",
   "metadata": {
    "slideshow": {
     "slide_type": "slide"
    }
   },
   "source": [
    "**Proof.**\n",
    "\n",
    "$$\n",
    "\\begin{align*}\n",
    "|I[f]-\\mathrm{CT}[f]|\n",
    "&=\n",
    "\\biggl \\lvert\n",
    "\\sum_{i=1}^m\n",
    "\\Bigl [\n",
    "\\int_{x_{i-1}}^{x_i} f(x) {\\,\\mathrm{d}x}\n",
    "- \\bigl(\n",
    "\\tfrac{h}{2}f(x_{i-1})\n",
    "+\n",
    "\\tfrac{h}{2}f(x_{i})\n",
    "\\bigr)\n",
    "\\Bigr]\n",
    "\\biggr \\rvert\n",
    "\\\\ \n",
    "&\\leqslant\n",
    "\\sum_{i=1}^m\n",
    "\\frac{h^3}{12}|f''(\\xi_i)|\n",
    "\\leqslant \n",
    "M_2 \\sum_{i=1}^m\n",
    "\\frac{(h)^3}{12}\n",
    "\\\\ \n",
    "&=\n",
    "M_2 \n",
    "\\frac{h^3}{12}\n",
    "\\underbrace{m}_{\\tfrac{(b-a)}{h}}\n",
    "=\n",
    "\\dfrac{M_2}{12}\n",
    "h^2(b-a)\n",
    "=\n",
    "\\frac{M_2}{12}\n",
    "\\frac{(b-a)^3}{m^2}\n",
    "\\end{align*}.\n",
    "$$"
   ]
  },
  {
   "cell_type": "markdown",
   "metadata": {},
   "source": [
    "## Interlude: Convergence of $h$-dependent approximations\n",
    "\n",
    "Let $X$ be the exact solution, and $X(h)$ some numerical solution depending on a\n",
    "parameter $h$, and let $e(h)$ be the norm of the error, so $e(h)=\\|X-X(h)\\|$. The numerical approximation $X(h)$ converges to $X$ if $e(h) \\rightarrow 0$ as $h\\rightarrow 0$. \n",
    "The order of the approximation is $p$ if there exists a positive constant $M$ such that\n",
    "$$\n",
    "e(h) \\leq M h^p\n",
    "$$"
   ]
  },
  {
   "cell_type": "markdown",
   "metadata": {},
   "source": [
    "The Big $\\mathcal{O}$-notation we can simply write\n",
    "$$\n",
    "e(h) = \\mathcal{O}(h^p)\n",
    "\\qquad\\text{ as } h \\to 0.\n",
    "$$\n",
    "This is often used when we are not directly interested in any expression for the constant $M$, we only need to know it exists.\n",
    "\n",
    "Again, we see that a higher approximation order $p$ leads for small values of $h$ to a better approximation of the solution. Thus we are generally interested in approximations of higher order."
   ]
  },
  {
   "cell_type": "markdown",
   "metadata": {},
   "source": [
    "### Numerical verification\n",
    "\n",
    "The following is based on the assumption that  $e(h)\\approx C h^p$ for some\n",
    "unknown constant $C$. This assumption is often reasonable for sufficiently\n",
    "small $h$. \n",
    "\n",
    "Choose a test problem for which the exact solution is known and compute the\n",
    "error for a decreasing sequence of $h_k$'s, for instance $h_k=H/2^k$,\n",
    "$k=0,1,2,\\dots$. The procedure is then quite similar to what was done for\n",
    "iterative processes."
   ]
  },
  {
   "cell_type": "markdown",
   "metadata": {},
   "source": [
    "$$\n",
    "\\begin{array}{rcl} e(h_{k+1}) &\\approx& C h_{k+1}^p \\\\  e(h_k) &\\approx& C h_k^p \\end{array}\n",
    "  \\qquad \\Rightarrow \\qquad \n",
    "  \\frac{e(h_{k+1})}{e(h_k)} \\approx \\left( \\frac{h_{k+1}}{h_k} \\right)^p \n",
    "  \\qquad \\Rightarrow \\qquad \n",
    "  p \\approx \\frac{\\log{(e(h_{k+1})/e(h_k))}}{\\log{(h_{k+1}/h_k)}}\n",
    "$$"
   ]
  },
  {
   "cell_type": "markdown",
   "metadata": {},
   "source": [
    "For one refinement step where one passes from $h_k \\to h_{k+1}$, the number\n",
    "$$\n",
    "EOC(k) \\approx \\frac{\\log{(e(h_{k+1})/e(h_k))}}{\\log{(h_{k+1}/h_k)}}\n",
    "$$\n",
    "is often called the \"Experimental order of convergence at refinement level k\""
   ]
  },
  {
   "cell_type": "markdown",
   "metadata": {},
   "source": [
    "Since\n",
    "$$\n",
    "e(h) \\approx Ch^p \\qquad \\Rightarrow \\qquad \\log{e(h)} \\approx \\log{C} + p \\log{h}\n",
    "$$\n",
    "a plot of $e(h)$ as a function of $h$ using a logarithmic scale on both axes (a log-log plot)\n",
    "will be a straight line with slope $p$. Such a plot is referred to as\n",
    "an *error plot* or a *convergence plot*."
   ]
  },
  {
   "cell_type": "markdown",
   "metadata": {},
   "source": [
    "## Exercise 1 (extension): Examine the convergence order of composite trapezoidal rule"
   ]
  },
  {
   "cell_type": "code",
   "execution_count": 14,
   "metadata": {},
   "outputs": [],
   "source": [
    "# Insert your code here."
   ]
  },
  {
   "cell_type": "markdown",
   "metadata": {},
   "source": [
    "**Solution**"
   ]
  },
  {
   "cell_type": "code",
   "execution_count": 15,
   "metadata": {},
   "outputs": [
    {
     "name": "stdout",
     "output_type": "stream",
     "text": [
      "Number of subintervals m = 4\n",
      "Q[f] = 0.6284174365157311\n",
      "I[f] - Q[f] = 8.2023358519e-03\n",
      "Number of subintervals m = 8\n",
      "Q[f] = 0.6345731492255537\n",
      "I[f] - Q[f] = 2.0466231420e-03\n",
      "Number of subintervals m = 16\n",
      "Q[f] = 0.6361083632808496\n",
      "I[f] - Q[f] = 5.1140908673e-04\n",
      "Number of subintervals m = 32\n",
      "Q[f] = 0.6364919355013015\n",
      "I[f] - Q[f] = 1.2783686628e-04\n",
      "Number of subintervals m = 64\n",
      "Q[f] = 0.636587814113642\n",
      "I[f] - Q[f] = 3.1958253939e-05\n",
      "[2.00278934 2.00069577 2.00017385 2.00004346]\n"
     ]
    },
    {
     "data": {
      "text/plain": [
       "[<matplotlib.lines.Line2D at 0x717f7fc32390>]"
      ]
     },
     "execution_count": 15,
     "metadata": {},
     "output_type": "execute_result"
    },
    {
     "data": {
      "image/png": "[encoded data removed]",
      "text/plain": [
       "<Figure size 800x400 with 1 Axes>"
      ]
     },
     "metadata": {},
     "output_type": "display_data"
    }
   ],
   "source": [
    "# Define function\n",
    "\n",
    "\n",
    "def f(x):\n",
    "    return np.cos(pi * x / 2)\n",
    "\n",
    "\n",
    "# Exact integral\n",
    "int_f = 2 / pi\n",
    "\n",
    "# Interval\n",
    "a, b = 0, 1\n",
    "\n",
    "errs = []\n",
    "hs = []\n",
    "\n",
    "# Compute integral numerically\n",
    "for m in [4, 8, 16, 32, 64]:\n",
    "    cqr_f = CT(f, a, b, m)\n",
    "    print(f\"Number of subintervals m = {m}\")\n",
    "    print(f\"Q[f] = {cqr_f}\")\n",
    "    err = int_f - cqr_f\n",
    "    errs.append(err)\n",
    "    hs.append((b - a) / m)\n",
    "    print(f\"I[f] - Q[f] = {err:.10e}\")\n",
    "\n",
    "hs = np.array(hs)\n",
    "errs = np.array(errs)\n",
    "eoc = np.log(errs[1:] / errs[:-1]) / np.log(hs[1:] / hs[:-1])\n",
    "print(eoc)\n",
    "plt.loglog(hs, errs, \"bo-\")"
   ]
  },
  {
   "cell_type": "markdown",
   "metadata": {
    "slideshow": {
     "slide_type": "slide"
    }
   },
   "source": [
    "<!-- --- begin exercise --- -->\n",
    "\n",
    "## Exercise 2: Composite Simpson's rule\n",
    "\n",
    "We can now play the exact same game to construct\n",
    "and analyze a **Composite Simpson's rule**.\n",
    "In this set of exercises you are ask to develop the code\n",
    "and theory for the composite Simpson's rule.\n",
    "*This will be part of the next homework assignment.*"
   ]
  },
  {
   "cell_type": "markdown",
   "metadata": {
    "slideshow": {
     "slide_type": "slide"
    }
   },
   "source": [
    "**a)**\n",
    "Start from Simpson's rule\n",
    "\n",
    "$$\n",
    "\\mathrm{S}[f](x_{i-1},x_i)=\\frac{h}{6}\\left( f(x_{x_{i-1}})+4f(x_{i-1/2}) + f(x_i)\\right),\n",
    "$$\n",
    "\n",
    "where $x_{i-1/2} = \\frac{x_{i-1}+x_i}{2}$ is the midpoint of the interval $[x_{i-1},x_i]$.\n",
    "\n",
    "Show that the resulting composite Simpson's rule is given by\n",
    "\n",
    "$$\n",
    "\\begin{align*}\n",
    "\\int_a^b f {\\,\\mathrm{d}x} \\approx \\mathrm{CSR}[f]({[x_i, x_{i+1}]}_{i=1}^{m})\n",
    "&= \n",
    "\\tfrac{h}{6}\n",
    "[\n",
    "f(x_0)\n",
    "+ 4f(x_{x_{1/2}}) + 2f(x_1) \n",
    "+ 4f(x_{3/2}) +     2f(x_2)\n",
    "+ \\ldots\n",
    "\\\\ \n",
    "&\\qquad+2 f(x_{m-1})\n",
    "+\n",
    "4f(x_{x_{m-1/2}}) \n",
    "+f(x_m)\n",
    "].\n",
    "\\end{align*}\n",
    "$$"
   ]
  },
  {
   "cell_type": "markdown",
   "metadata": {
    "slideshow": {
     "slide_type": "slide"
    }
   },
   "source": [
    "**b)**\n",
    "Implement the composite Simpson's rule.\n",
    "Use this function to compute an approximate value of integral\n",
    "\n",
    "$$\n",
    "I(0,1) = \\int_0^1 \\cos\\left(\\frac{\\pi}{2}x\\right) = \\frac{2}{\\pi} = 0.636619\\dotsc.\n",
    "$$\n",
    "\n",
    "for $m = 4, 8, 16, 32, 64$ corresponding to\n",
    "$ h = 2^{-2}, 2^{-3}, 2^{-4}, 2^{-5}, 2^{-6}$.\n",
    "Tabulate the corresponding quadrature errors $I(0,1) - Q(0,1)$.\n",
    "What do you observe? How does it compare to the composite trapezoidal rule?"
   ]
  },
  {
   "cell_type": "code",
   "execution_count": 16,
   "metadata": {
    "slideshow": {
     "slide_type": "slide"
    }
   },
   "outputs": [],
   "source": [
    "# Insert your code here."
   ]
  },
  {
   "cell_type": "markdown",
   "metadata": {
    "slideshow": {
     "slide_type": "slide"
    }
   },
   "source": [
    "**c)**\n",
    "Recall the error estimate for Simpson's rule on a *single\n",
    "interval*, stating that \n",
    "there is a $\\xi \\in (a,b)$ such that\n",
    "\n",
    "$$\n",
    "I[f]-Q[f]=-\\frac{(b-a)^5}{2880} f^4(\\xi).\n",
    "$$\n",
    "whenever $f \\in C^4(a,b)$. Start from\n",
    "this estimate and prove the following theorem.\n",
    "<!-- --- end exercise --- -->"
   ]
  },
  {
   "cell_type": "markdown",
   "metadata": {
    "slideshow": {
     "slide_type": "slide"
    }
   },
   "source": [
    "## Theorem 2: Quadrature error estimate for composite Simpon's rule\n",
    "\n",
    "Let $f\\in C^4(a,b)$, then\n",
    "the quadrature error $I[f]-\\mathrm{CT}[f]$\n",
    "for the composite trapezoidal rule can be estimated by\n",
    "\n",
    "$$\n",
    "\\begin{equation}\n",
    "\\left|I[f]-\\mathrm{CSR}[f]\\right|\n",
    "\\leq\n",
    "\\dfrac{M_4}{2880}\n",
    "\\dfrac{(b-a)^5}{m^4}=\n",
    "\\dfrac{M_4}{2880}\n",
    "h^4(b-a)\n",
    "\\tag{3}\n",
    "\\end{equation}\n",
    "$$\n",
    "\n",
    "where $M_{4}=\\max_{\\xi\\in[a,b]}|f^{(4)}(\\xi)|$.\n",
    "\n",
    "**Proof.**\n",
    "\n",
    "*Insert your proof here.*"
   ]
  }
 ],
 "metadata": {
  "kernelspec": {
   "display_name": "Python 3 (ipykernel)",
   "language": "python",
   "name": "python3"
  },
  "language_info": {
   "codemirror_mode": {
    "name": "ipython",
    "version": 3
   },
   "file_extension": ".py",
   "mimetype": "text/x-python",
   "name": "python",
   "nbconvert_exporter": "python",
   "pygments_lexer": "ipython3",
   "version": "3.11.7"
  }
 },
 "nbformat": 4,
 "nbformat_minor": 4
}
