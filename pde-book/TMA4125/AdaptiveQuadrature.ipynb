{
 "cells": [
  {
   "cell_type": "markdown",
   "metadata": {
    "slideshow": {
     "slide_type": "slide"
    }
   },
   "source": [
    "<!-- KODE = \"ja\", \"nei\", default \"ja\" -->\n",
    "\n",
    "<!-- dom:TITLE: Numerical integration  -->\n",
    "# Numerical integration: Part III \n",
    "<!-- dom:AUTHOR: Anne Kværnø -->\n",
    "<!-- Author: -->  \n",
    "**Anne Kværnø**, revised by **Markus Grasmair, André Massing**\n",
    "\n",
    "Date: **Feb 1, 2021** \n",
    "\n",
    "In this note, we will discuss **practical error estimate** for numerical\n",
    "integration and **adaptive integration**."
   ]
  },
  {
   "cell_type": "code",
   "execution_count": 20,
   "metadata": {},
   "outputs": [],
   "source": [
    "import matplotlib.pyplot as plt\n",
    "import numpy as np\n",
    "from matplotlib import rcParams"
   ]
  },
  {
   "cell_type": "code",
   "execution_count": 21,
   "metadata": {
    "slideshow": {
     "slide_type": "slide"
    }
   },
   "outputs": [],
   "source": [
    "%matplotlib inline\n",
    "newparams = {\n",
    "    \"figure.figsize\": (8.0, 4.0),\n",
    "    \"axes.grid\": True,\n",
    "    \"lines.markersize\": 8,\n",
    "    \"lines.linewidth\": 2,\n",
    "    \"font.size\": 14,\n",
    "}\n",
    "rcParams.update(newparams)"
   ]
  },
  {
   "cell_type": "markdown",
   "metadata": {
    "slideshow": {
     "slide_type": "slide"
    }
   },
   "source": [
    "## Error estimate\n",
    "To simplify notation a bit, we will now write $S_{m}\\left(a,b\\right)$\n",
    "instead of\n",
    "$\n",
    "\\mathrm{CSR}\\left[f\\right]\n",
    "\\left({\\left[x_{i-1}, x_{i}\\right]}_{i=1}^{m}\\right).\n",
    "$"
   ]
  },
  {
   "cell_type": "markdown",
   "metadata": {
    "slideshow": {
     "slide_type": "slide"
    }
   },
   "source": [
    "From a practical point of view, the error expression derived for the composite Simpson's rule has some\n",
    "limitations, the main difficulty being that it depends on the unknown value $f^{\\left(4\\right)}\\left(\\xi\\right)$.\n",
    "In practice, we can at best use an error estimate of the form\n",
    "$$\n",
    "\\lvert\n",
    "I\\left(a,b\\right)-\n",
    "S_{m}\\left(a,b\\right)\n",
    "\\rvert\\le\n",
    "\\dfrac{\\left(b-a\\right)h^{4}}{2880}\n",
    "{\\lVert f^{\\left(4\\right)}\\rVert}_{\\infty}.\n",
    "$$\n",
    "This bound, however, often vastly overestimates the actual error.\n",
    "In addition, we do not always\n",
    "know (or want to find) ${\\lVert f^{\\left(4\\right)}\\rVert}_\\infty$.\n",
    "So the question arises:\n",
    "How can we find an estimate of the error, without any extra analytical\n",
    "calculations? "
   ]
  },
  {
   "cell_type": "markdown",
   "metadata": {
    "slideshow": {
     "slide_type": "slide"
    }
   },
   "source": [
    "This is the idea: \n",
    "Let the interval $\\left(a,b\\right)$ chosen small, such that $f^{\\left(4\\right)}\\left(x\\right)$ can be\n",
    "assumed to be almost constant over the interval. Let $H=b-a$ be the length of the interval.\n",
    "Let $S_{1}\\left(a,b\\right)$ and $S_{2}\\left(a,b\\right)$ be the results from Simpson's formula over one and two subintervals respectively. Further, let $C=-\\dfrac{f^{\\left(4\\right)}\\left(x\\right)}{2880}$ for some $x\\in\\left[a,b\\right]$ --- which $x$ does not matter, as $f^{\\left(4\\right)}$ is assumed almost constant anyway. "
   ]
  },
  {
   "cell_type": "markdown",
   "metadata": {
    "slideshow": {
     "slide_type": "slide"
    }
   },
   "source": [
    "The errors of the two approximations are then given by\n",
    "\\begin{align*}\n",
    "I\\left(a,b\\right)-S_{1}\\left(a,b\\right) &\\approx CH^{5},  \\\\ \n",
    "I\\left(a,b\\right)-S_{2}\\left(a,b\\right) &\\approx 2C{\\left(\\frac{H}{2}\\right)}^{5}.\n",
    "\\end{align*}"
   ]
  },
  {
   "cell_type": "markdown",
   "metadata": {
    "slideshow": {
     "slide_type": "fragment"
    }
   },
   "source": [
    "Subtract the two expressions to eliminate $I\\left(a,b\\right)$:"
   ]
  },
  {
   "cell_type": "markdown",
   "metadata": {
    "slideshow": {
     "slide_type": "fragment"
    }
   },
   "source": [
    "$$\n",
    "S_{2}\\left(a,b\\right)-\n",
    "S_{1}\\left(a,b\\right)\\approx\n",
    "\\frac{15}{16}\n",
    "CH^{5}\\quad\\Longrightarrow\\quad\n",
    "CH^{5}\\approx\\dfrac{16}{15}\n",
    "\\left(\n",
    "S_{2}\\left(a,b\\right)-\n",
    "S_{1}\\left(a,b\\right)\n",
    "\\right).\n",
    "$$"
   ]
  },
  {
   "cell_type": "markdown",
   "metadata": {
    "slideshow": {
     "slide_type": "slide"
    }
   },
   "source": [
    "Insert this  in the expression for the error:\n",
    "\n",
    "\\begin{equation}\n",
    "E_{1}\\left(a,b\\right)=\n",
    "I\\left(a,b\\right)-\n",
    "S_{1}\\left(a,b\\right)\\approx\n",
    "\\dfrac{16}{15}\n",
    "\\left(S_{2}\\left(a,b\\right)-S_{1}\\left(a,b\\right)\\right)=\n",
    "\\mathcal{E}_{1}\\left(a,b\\right), \n",
    "\\tag{13}\n",
    "\\end{equation}\n",
    "\n",
    "\\begin{equation}\n",
    "E_{2}\\left(a,b\\right)=\n",
    "I\\left(a,b\\right)-\n",
    "S_{2}\\left(a,b\\right)\\approx\n",
    "\\frac{1}{15}\\left(S_{2}\\left(a,b\\right)-S_{1}\\left(a,b\\right)\\right)=\n",
    "\\mathcal{E}_{2}\\left(a,b\\right).\n",
    "\\tag{14}\n",
    "\\end{equation}"
   ]
  },
  {
   "cell_type": "markdown",
   "metadata": {
    "slideshow": {
     "slide_type": "slide"
    }
   },
   "source": [
    "This gives us a computable estimate for the error, both in $S_{1}$ and $S_{2}$.\n",
    "As the error in $S_{2}\\left(a,b\\right)$ is about $\\frac{1}{16}$ of the error in $S_{1}\\left(a,b\\right)$,\n",
    "and we anyway need to compute both, we will use $S_{2}\\left(a,b\\right)$ as our approximation.\n",
    "An even better approximation to the integral is given for free by just adding the error estimate:\n",
    "$$\n",
    "I\\left(a,b\\right)\\approx\n",
    "S_{2}\\left(a,b\\right)+\n",
    "\\mathcal{E}_{2}\\left(a,b\\right)=\n",
    "\\frac{16}{15} S_{2}\\left(a,b\\right)-\n",
    "\\frac{1}{15} S_{1}\\left(a,b\\right).\n",
    "$$"
   ]
  },
  {
   "cell_type": "markdown",
   "metadata": {
    "slideshow": {
     "slide_type": "slide"
    }
   },
   "source": [
    "**Example 5:**\n",
    "Find an approximation to the integral $\\int\\limits_{0}^{1}\\cos\\left(x\\right)\\mathrm{d}x=\\sin\\left(1\\right)$ by Simpson's\n",
    "rule over one and two subintervals. Find the error estimates $\\mathcal{E}_m$,\n",
    "$m=1,2$  and compare with the exact error. "
   ]
  },
  {
   "cell_type": "markdown",
   "metadata": {
    "slideshow": {
     "slide_type": "slide"
    }
   },
   "source": [
    "*Solution:*\n",
    "\n",
    "\\begin{equation}\n",
    "S_{1}\\left(0,1\\right)=\n",
    "\\frac{1}{6}\n",
    "\\big[\\cos\\left(0.0\\right)+4\\cos\\left(0.5\\right)+\\cos\\left(1.0\\right)\\big]=\n",
    "0.8417720923 \n",
    "\\tag{15}\n",
    "\\end{equation}\n",
    "\n",
    "\\begin{equation}  \n",
    "S_{2}\\left(0,1\\right)=\n",
    "\\frac{1}{12}\n",
    "\\big[\\cos\\left(0.0\\right)+\n",
    "4\\cos\\left(0.25\\right)+\n",
    "2\\cos\\left(0.5\\right)+\n",
    "4\\cos\\left(0.75\\right)+\n",
    "\\cos\\left(1.0\\right)\\big]=\n",
    "0.8414893826\n",
    "\\tag{16}\n",
    "\\end{equation}"
   ]
  },
  {
   "cell_type": "markdown",
   "metadata": {
    "slideshow": {
     "slide_type": "slide"
    }
   },
   "source": [
    "The exact error and the error estimate become:\n",
    "\n",
    "<!-- Equation labels as ordinary links -->\n",
    "<div id=\"_auto17\"></div>\n",
    "\n",
    "\\begin{equation}\n",
    "E_1(0,1) = \\sin(1) - S_1(0,1) = -3.011 \\cdot 10^{-4}, \\quad\n",
    "\\mathcal{E}_1(0,1) = \\frac{16}{15}(S_2-S_1) = -3.016\\cdot 10^{-4},  \n",
    "\\label{_auto17} \\tag{17}\n",
    "\\end{equation}\n",
    "\n",
    "<!-- Equation labels as ordinary links -->\n",
    "<div id=\"_auto18\"></div>\n",
    "\n",
    "\\begin{equation}  \n",
    "E_2(0,1) = \\sin(1)-S_2(0,1) = -1.840 \\cdot 10^{-5}, \\quad \n",
    "\\mathcal{E}_2(0,1) = \\frac{1}{16} (S_2-S_1) = -1.885 \\cdot 10^{-5}.\n",
    "\\label{_auto18} \\tag{18}\n",
    "\\end{equation}"
   ]
  },
  {
   "cell_type": "markdown",
   "metadata": {
    "slideshow": {
     "slide_type": "slide"
    }
   },
   "source": [
    "In this case, it is a very good correspondence between the error estimate and\n",
    "the exact error. An even better approximation is obtained by adding the error\n",
    "estimate to $S_{2}$:\n",
    "\n",
    "$$\n",
    "Q=\n",
    "S_{2}\\left(0,1\\right)+\n",
    "\\mathcal{E}_{2}\\left(0,1\\right)=\n",
    "0.8414705353607151.\n",
    "$$\n",
    "\n",
    "with an error $\\sin\\left(1\\right)-Q=4.4945\\cdot 10^{-7}$. This gives a lot of additional\n",
    "accuracy without any extra work. "
   ]
  },
  {
   "cell_type": "markdown",
   "metadata": {
    "slideshow": {
     "slide_type": "slide"
    }
   },
   "source": [
    "### Implementation of Simpson's method with an error estimate\n",
    "\n",
    "The function `simpson_basic` returns\n",
    "\n",
    "$$\n",
    "S_{2}\\left(a,b\\right)\\approx\n",
    "\\int\\limits_{a}^{b}\n",
    "f\\left(x\\right)\\mathrm{d}x\n",
    "$$\n",
    "\n",
    "including an error estimate."
   ]
  },
  {
   "cell_type": "code",
   "execution_count": 22,
   "metadata": {
    "slideshow": {
     "slide_type": "slide"
    }
   },
   "outputs": [],
   "source": [
    "def simpson_basic(f, a, b):\n",
    "    # Simpson's method with error estimate\n",
    "    # Input:\n",
    "    #   f:    integrand\n",
    "    #   a, b: integration interval\n",
    "    # Output:\n",
    "    #   S_2(a,b) and the error estimate.\n",
    "\n",
    "    # The nodes\n",
    "    c = 0.5 * (a + b)\n",
    "    d = 0.5 * (a + c)\n",
    "    e = 0.5 * (c + b)\n",
    "\n",
    "    # Calculate S1=S_1(a,b), S2=S_2(a,b)\n",
    "    H = b - a\n",
    "    S1 = H * (f(a) + 4 * f(c) + f(b)) / 6\n",
    "    S2 = 0.5 * H * (f(a) + 4 * f(d) + 2 * f(c) + 4 * f(e) + f(b)) / 6\n",
    "\n",
    "    error_estimate = (S2 - S1) / 15  # Error estimate for S2\n",
    "    return S2, error_estimate"
   ]
  },
  {
   "cell_type": "markdown",
   "metadata": {
    "slideshow": {
     "slide_type": "slide"
    }
   },
   "source": [
    "**Test:**\n",
    "As a first check of the implementation, use the example above, and make sure\n",
    "that the results are the same:"
   ]
  },
  {
   "cell_type": "code",
   "execution_count": 23,
   "metadata": {
    "slideshow": {
     "slide_type": "slide"
    }
   },
   "outputs": [
    {
     "name": "stdout",
     "output_type": "stream",
     "text": [
      "Numerical solution = 0.84148938, exact solution = 0.84147098\n",
      "Error in S2 = -1.840e-05,  error estimate for S2 = -1.885e-05\n"
     ]
    }
   ],
   "source": [
    "# Test of simpson_basic\n",
    "\n",
    "\n",
    "def f(x):  # Integrand\n",
    "    return np.cos(x)\n",
    "\n",
    "\n",
    "a, b = 0, 1  # Integration interval\n",
    "\n",
    "I_exact = np.sin(1)  # Exact solution for comparision\n",
    "\n",
    "# Simpson's method over two intervals, with error estimate\n",
    "S, error_estimate = simpson_basic(f, a, b)\n",
    "\n",
    "# Print the result and the exact solution\n",
    "print(f\"Numerical solution = {S:.8f}, exact solution = {I_exact:.8f}\")\n",
    "\n",
    "# Compare the error and the error estimate\n",
    "print(\n",
    "    \"Error in S2 = {:.3e},  error estimate for S2 = {:.3e}\".format(\n",
    "        I_exact - S, error_estimate\n",
    "    )\n",
    ")"
   ]
  },
  {
   "cell_type": "markdown",
   "metadata": {
    "slideshow": {
     "slide_type": "slide"
    }
   },
   "source": [
    "Next, let us see how reliable the quadrature and the error estimates are for\n",
    "another example, which you have to do yourself: \n",
    "\n",
    "**Numerical experiment 3:**\n",
    "Given the integral (with solution)\n",
    "\n",
    "$$\n",
    "I\\left(a,b\\right)=\n",
    "\\int\\limits_{a}^{b}\n",
    "\\dfrac{\\mathrm{d}x}{1+16x^{2}}=\n",
    "{\\left.\\dfrac{\\arctan\\left(4x\\right)}{4}\\right|}_{a}^{b}\n",
    "$$"
   ]
  },
  {
   "cell_type": "markdown",
   "metadata": {
    "slideshow": {
     "slide_type": "slide"
    }
   },
   "source": [
    "1. Use `simpson_basic` to find an approximation to the integral over the interval $\\left[0,8\\right]$. Print out $S_{2}\\left(0,8\\right)$, the error estimate $\\mathcal{E}_{2}\\left(0,8\\right)$ and the real error $E_{2}\\left(0,8\\right)$. How reliable are the error estimates?\n",
    "\n",
    "2. Repeat the experiment over the intervals $\\left[0,1\\right]$ and $\\left[4, 8\\right]$. Notice the difference between exact error of the two intervals.\n",
    "\n",
    "3. Repeat the experiment over the interval $\\left[0,0.1\\right]$.\n",
    "\n",
    "**Please do this numerical experiment at home!** "
   ]
  },
  {
   "cell_type": "markdown",
   "metadata": {},
   "source": [
    "This is what you should observe from the experiment:\n",
    "1. Interval $\\left[0,8\\right]$: The error is large, and the error estimate is significantly smaller than the real error (the error is *under-estimated*).\n",
    "\n",
    "2. Interval $\\left[0,1\\right]$: As for the interval $\\left[0,8\\right]$.\n",
    "\n",
    "3. Interval $\\left[4,8\\right]$: Small error, and a reasonable error estimate.\n",
    "\n",
    "4. Interval $\\left[0,0.1\\right]$: Small error, reasonable error estimate.\n",
    "\n",
    "Why is it so, and how can we deal with it? Obviously, we need small subintervals\n",
    "near $x=0$, while large subintervals are acceptable in the last half of the\n",
    "interval. "
   ]
  },
  {
   "cell_type": "markdown",
   "metadata": {
    "slideshow": {
     "slide_type": "slide"
    }
   },
   "source": [
    "**Explanation:**\n",
    "The error in Simpson's method is given by\n",
    "\n",
    "$$\n",
    "E\\left(a,b\\right)=\n",
    "-\\dfrac{{\\left(b-a\\right)}^{5}}{2880}f^{\\left(4\\right)}\\left(\\xi\\right).\n",
    "$$"
   ]
  },
  {
   "cell_type": "markdown",
   "metadata": {
    "slideshow": {
     "slide_type": "fragment"
    }
   },
   "source": [
    "So let us take a look at $f^{\\left(4\\right)}\\left(x\\right)$:\n",
    "\n",
    "$$\n",
    "f\\left(x\\right)=\n",
    "\\dfrac{1}{1+16x^2}\\quad\\Longrightarrow\\quad\n",
    "f^{\\left(4\\right)}\\left(x\\right)=6144\n",
    "\\frac{1280 x^{4}-160x^{2}+1}{\\left(1-16x^{2}\\right)^{5}}\n",
    "$$"
   ]
  },
  {
   "cell_type": "code",
   "execution_count": 14,
   "metadata": {
    "slideshow": {
     "slide_type": "slide"
    }
   },
   "outputs": [
    {
     "data": {
      "image/png": "[encoded data removed]",
      "text/plain": [
       "<Figure size 800x400 with 2 Axes>"
      ]
     },
     "metadata": {},
     "output_type": "display_data"
    }
   ],
   "source": [
    "# Plot the 4th derivate of Runge's function:\n",
    "\n",
    "\n",
    "def f(x):\n",
    "    return 1 / (1 + 16 * x**2)\n",
    "\n",
    "\n",
    "def df4(x):\n",
    "    return 6144 * (1280 * x**4 - 160 * x**2 + 1) / ((1 + 16 * x**2) ** 5)\n",
    "\n",
    "\n",
    "x = np.linspace(0, 8, 1001)\n",
    "\n",
    "plt.subplot(1, 2, 1)\n",
    "plt.plot(x, f(x))\n",
    "plt.title(\"Runges function\")\n",
    "plt.xlabel(\"x\")\n",
    "\n",
    "plt.subplot(1, 2, 2)\n",
    "plt.plot(x, df4(x))\n",
    "plt.title(\"The 4th derivative of Runges function\")\n",
    "plt.xlabel(\"x\");"
   ]
  },
  {
   "cell_type": "markdown",
   "metadata": {
    "slideshow": {
     "slide_type": "slide"
    }
   },
   "source": [
    "It is no surprise that the error is large and the error estimates fail (we have assumed $f^{\\left(4\\right)}$ almost constant for the estimates) over the interval $\\left[0,1\\right]$. The part of the interval where $f^{\\left(4\\right)}\\left(x\\right)$ is large has to be partitioned in significantly smaller subintervals to get an acceptable result. But how, as $f^{\\left(4\\right)}$ is in general not known? This is the topic of the next section. "
   ]
  },
  {
   "cell_type": "markdown",
   "metadata": {
    "slideshow": {
     "slide_type": "slide"
    }
   },
   "source": [
    "## Adaptive integration"
   ]
  },
  {
   "cell_type": "markdown",
   "metadata": {
    "slideshow": {
     "slide_type": "slide"
    }
   },
   "source": [
    "Given a basic function, for example `simpson_basic`, returning an approximation $Q\\left(a,b\\right)$ to the integral, as well as an error estimate $\\mathcal{E}\\left(a,b\\right)$. Based on this, we want to find a partitioning of the interval:\n",
    "\n",
    "$$\n",
    "a=\n",
    "X_{0}<X_{1}\\cdots<X_{m}=\n",
    "b\n",
    "$$"
   ]
  },
  {
   "cell_type": "markdown",
   "metadata": {
    "slideshow": {
     "slide_type": "fragment"
    }
   },
   "source": [
    "such that\n",
    "\n",
    "$$\n",
    "\\left|\\mathcal{E}\\left(X_{j},X_{j+1}\\right)\\right|\\approx\n",
    "\\frac{X_{k+1}-X_k}{b-a}\\cdot\\text{Tol}\n",
    "$$\n",
    "\n",
    "where $\\text{Tol}$ is a tolerance given by the user."
   ]
  },
  {
   "cell_type": "markdown",
   "metadata": {
    "slideshow": {
     "slide_type": "slide"
    }
   },
   "source": [
    "In this case\n",
    "\n",
    "$$\n",
    "\\text{Accumulated error over $\\left(a,b\\right)$}\\approx\n",
    "\\sum_{j=0}^{m-1}\n",
    "\\mathcal{E}\\left(X_{k},X_{k+1}\\right)\\leq\n",
    "\\text{Tol}.\n",
    "$$"
   ]
  },
  {
   "cell_type": "markdown",
   "metadata": {
    "slideshow": {
     "slide_type": "slide"
    }
   },
   "source": [
    "Such a partitioning can be done by an recursive algorithm:\n",
    "\n",
    "**Algorithm: Adaptive quadrature.**\n",
    "\n",
    "Given $f$, $a$, $b$ and a user defined tolerance Tol.\n",
    "* Calculate $Q\\left(a,b\\right)$ and $\\mathcal{E}\\left(a,b)$.\n",
    "\n",
    "* **if** $|\\mathcal{E}(a,b)| \\leq \\text{Tol}$:\n",
    "\n",
    "    * Accept the result, return $Q(a,b) + \\mathcal{E}(a,b)$ as an approximation to $I(a,b)$.\n",
    "\n",
    "\n",
    "* **else**:\n",
    "\n",
    "    * Let $c=(a+b)/2$, and repeat the process on each of the subintervals $[a,c]$ and $[c,b]$, with tolerance  $\\text{Tol}/2$.\n",
    "\n",
    "\n",
    "* Sum up the accepted results from each subinterval."
   ]
  },
  {
   "cell_type": "markdown",
   "metadata": {
    "slideshow": {
     "slide_type": "slide"
    }
   },
   "source": [
    "### Implementation\n",
    "\n",
    "The adaptive algorithm is implemented below with `simpson_basic` as the basic quadrature routine. \n",
    "The function `simpson_adaptive` is a recursive function, that is a function that calls itself.\n",
    "To avoid it to do so infinitely many times, an extra variable `level` is introduced, this will increase by one for each time the function calls itself. If `level` is over some maximum value, the result is returned, and a warning printed."
   ]
  },
  {
   "cell_type": "code",
   "execution_count": 15,
   "metadata": {
    "slideshow": {
     "slide_type": "slide"
    }
   },
   "outputs": [],
   "source": [
    "def simpson_basic(f, a, b):\n",
    "    # Simpson's method with error estimate\n",
    "    # Input:\n",
    "    #   f:    integrand\n",
    "    #   a, b: integration interval\n",
    "    # Output:\n",
    "    #   S_2(a,b) and the error estimate.\n",
    "\n",
    "    # The nodes\n",
    "    c = 0.5 * (a + b)\n",
    "    d = 0.5 * (a + c)\n",
    "    e = 0.5 * (c + b)\n",
    "\n",
    "    # Calculate S1=S_1(a,b), S2=S_2(a,b)\n",
    "    H = b - a\n",
    "    S1 = H * (f(a) + 4 * f(c) + f(b)) / 6\n",
    "    S2 = 0.5 * H * (f(a) + 4 * f(d) + 2 * f(c) + 4 * f(e) + f(b)) / 6\n",
    "\n",
    "    error_estimate = (S2 - S1) / 15  # Error estimate for S2\n",
    "    return S2, error_estimate"
   ]
  },
  {
   "cell_type": "code",
   "execution_count": 18,
   "metadata": {
    "slideshow": {
     "slide_type": "slide"
    }
   },
   "outputs": [],
   "source": [
    "def simpson_adaptive(f, a, b, tol=1.0e-6, level=0, maks_level=15):\n",
    "    # Simpson's adaptive method\n",
    "    # Input:\n",
    "    #   f:    integrand\n",
    "    #   a, b: integration interval\n",
    "    #   tol:  tolerance\n",
    "    #   level, maks_level: For the recursion. Just ignore them.\n",
    "    # Output:\n",
    "    #   The approximation to the integral\n",
    "\n",
    "    Q, error_estimate = simpson_basic(f, a, b)  # The quadrature and the error estimate\n",
    "\n",
    "    # -------------------------------------------------\n",
    "    # Write the output, and plot the nodes.\n",
    "    # This part is only for illustration.\n",
    "    if level == 0:\n",
    "        print(\" l   a           b         feil_est   tol\")\n",
    "        print(\"==============================================\")\n",
    "    print(\n",
    "        \"{:2d}   {:.6f}   {:.6f}   {:.2e}   {:.2e}\".format(\n",
    "            level, a, b, abs(error_estimate), tol\n",
    "        )\n",
    "    )\n",
    "\n",
    "    x = np.linspace(a, b, 101)\n",
    "    plt.plot(x, f(x), [a, b], [f(a), f(b)], \".r\")\n",
    "    plt.title(\"The integrand and the subintervals\")\n",
    "    # -------------------------------------------------\n",
    "\n",
    "    if level >= maks_level:\n",
    "        print(\"Warning: Maximum number of levels used.\")\n",
    "        return Q\n",
    "\n",
    "    if abs(error_estimate) < tol:  # Accept the result, and return\n",
    "        result = Q + error_estimate\n",
    "    else:\n",
    "        # Divide the interval in two, and apply the algorithm to each interval.\n",
    "        c = 0.5 * (b + a)\n",
    "        result_left = simpson_adaptive(f, a, c, tol=0.5 * tol, level=level + 1)\n",
    "        result_right = simpson_adaptive(f, c, b, tol=0.5 * tol, level=level + 1)\n",
    "        result = result_right + result_left\n",
    "    return result"
   ]
  },
  {
   "cell_type": "markdown",
   "metadata": {
    "slideshow": {
     "slide_type": "slide"
    }
   },
   "source": [
    "**Numerical experiment 4:**\n",
    "Use adaptive Simpson to find an approximation to the integral $ \\int_0^5 1/(1+16x^2)dx $ using the tolerances Tol=$10^{-3}, 10^{-5}, 10^{-7}$. Compare the numerical result with the exact one."
   ]
  },
  {
   "cell_type": "code",
   "execution_count": 19,
   "metadata": {
    "slideshow": {
     "slide_type": "slide"
    }
   },
   "outputs": [
    {
     "name": "stdout",
     "output_type": "stream",
     "text": [
      " l   a           b         feil_est   tol\n",
      "==============================================\n",
      " 0   0.000000   8.000000   4.25e-02   1.00e-03\n",
      " 1   0.000000   4.000000   1.85e-02   5.00e-04\n",
      " 2   0.000000   2.000000   5.11e-03   2.50e-04\n",
      " 3   0.000000   1.000000   7.84e-04   1.25e-04\n",
      " 4   0.000000   0.500000   6.41e-04   6.25e-05\n",
      " 5   0.000000   0.250000   3.43e-05   3.13e-05\n",
      " 6   0.000000   0.125000   1.21e-06   1.56e-05\n",
      " 6   0.125000   0.250000   1.31e-06   1.56e-05\n",
      " 5   0.250000   0.500000   7.82e-07   3.13e-05\n",
      " 4   0.500000   1.000000   1.45e-05   6.25e-05\n",
      " 3   1.000000   2.000000   1.40e-05   1.25e-04\n",
      " 2   2.000000   4.000000   8.29e-06   2.50e-04\n",
      " 1   4.000000   8.000000   4.33e-06   5.00e-04\n",
      "\n",
      "Numerical solution = 0.384903, exact solution = 0.384889\n",
      "\n",
      "Tolerance = 1.0e-03, error = 1.343e-05\n"
     ]
    },
    {
     "data": {
      "image/png": "[encoded data removed]",
      "text/plain": [
       "<Figure size 800x400 with 1 Axes>"
      ]
     },
     "metadata": {},
     "output_type": "display_data"
    }
   ],
   "source": [
    "# Test: The adaptive Simpson's method\n",
    "\n",
    "\n",
    "def f(x):  # Integrand\n",
    "    return 1 / (1 + (4 * x) ** 2)\n",
    "\n",
    "\n",
    "a, b = 0, 8  # Integration interval\n",
    "I_exact = 0.25 * (np.arctan(4 * b) - np.arctan(4 * a))  # Exact integral\n",
    "tol = 1.0e-3  # Tolerance\n",
    "# Apply the algorithm\n",
    "result = simpson_adaptive(f, a, b, tol=tol)\n",
    "# Print the result and the exact solution\n",
    "print(f\"\\nNumerical solution = {result:8f}, exact solution = {I_exact:8f}\")\n",
    "# Compare the measured error and the tolerance\n",
    "err = I_exact - result\n",
    "print(f\"\\nTolerance = {tol:.1e}, error = {abs(err):.3e}\")"
   ]
  }
 ],
 "metadata": {
  "celltoolbar": "Slideshow",
  "kernelspec": {
   "display_name": "Python 3 (ipykernel)",
   "language": "python",
   "name": "python3"
  },
  "language_info": {
   "codemirror_mode": {
    "name": "ipython",
    "version": 3
   },
   "file_extension": ".py",
   "mimetype": "text/x-python",
   "name": "python",
   "nbconvert_exporter": "python",
   "pygments_lexer": "ipython3",
   "version": "3.11.7"
  }
 },
 "nbformat": 4,
 "nbformat_minor": 2
}
