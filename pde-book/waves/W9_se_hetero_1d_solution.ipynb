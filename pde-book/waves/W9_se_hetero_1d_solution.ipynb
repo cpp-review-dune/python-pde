{
 "cells": [
  {
   "cell_type": "markdown",
   "metadata": {},
   "source": [
    "<div style='background-image: url(\"title01.png\") ; padding: 0px ; background-size: cover ; border-radius: 5px ; height: 200px'>\n",
    "<div style=\"float: right ; margin: 50px ; padding: 20px ; background: rgba(255 , 255 , 255 , 0.7) ; width: 50% ; height: 150px\">\n",
    "        <div style=\"position: relative ; top: 50% ; transform: translatey(-50%)\">\n",
    "            <div style=\"font-size: xx-large ; font-weight: 900 ; color: rgba(0 , 0 , 0 , 0.8) ; line-height: 100%\">Computers, Waves, Simulations</div>\n",
    "            <div style=\"font-size: large ; padding-top: 20px ; color: rgba(0 , 0 , 0 , 0.5)\">Spectral Element Method - Elastic Wave Equation 1D, Heterogeneous case</div>\n",
    "        </div>\n",
    "    </div>\n",
    "</div>"
   ]
  },
  {
   "cell_type": "markdown",
   "metadata": {},
   "source": [
    "# Spectral Element Method - Elastic Wave Equation 1D, Heterogeneous case\n",
    "\n",
    "## Basic Equations\n",
    "\n",
    "The numerical description of 1D-elastic waves propagating in a heterogeneous media is a natural extension of the homogeneous case. From an algorithmic point of view, now we allow both mass, and stiffness matrices to be initialized separately for each element. In contrast with the homogeneous case, elastic parameters $\\lambda$ and $\\mu$ may vary at each collocation point. \n",
    "\n",
    "From a theoretical point of view, we basically follow the same strategy developed in the homogeneous case. The numerical solution for the 1D elastic wave equation\n",
    "\n",
    "\\begin{equation}\n",
    "\\rho(x) \\partial_t^2 u(x,t) = \\partial_x (\\mu(x) \\partial_x u(x,t)) + f(x,t),\n",
    "\\end{equation}\n",
    "\n",
    "using the spectral element method is done after a series of steps summarized as follow:\n",
    "\n",
    "1) The wave equation is written into its weak form\n",
    "\n",
    "2) Assume stress-free boundary condition after integration by parts \n",
    "\n",
    "3) Approximate the wave field as a linear combination of some basis\n",
    "\n",
    "\\begin{equation}\n",
    "u(x,t) \\ \\approx \\ \\overline{u}(x,t) \\ = \\ \\sum_{i=1}^{n} u_i(t) \\ \\varphi_i(x)\n",
    "\\end{equation}\n",
    "\n",
    "4) Use the same basis functions in $u(x, t)$ as test functions in the weak form, the so call Galerkin principle.\n",
    "\n",
    "6) The continuous weak form is written as a system of linear equations by considering the approximated displacement field.\n",
    "\n",
    "\\begin{equation}\n",
    "\\mathbf{M}^T\\partial_t^2 \\mathbf{u} + \\mathbf{K}^T\\mathbf{u} = \\mathbf{f}\n",
    "\\end{equation}\n",
    "\n",
    "7) Time extrapolation with centered finite differences scheme\n",
    "\n",
    "\\begin{equation}\n",
    "\\mathbf{u}(t + dt) = dt^2 (\\mathbf{M}^T)^{-1}[\\mathbf{f} - \\mathbf{K}^T\\mathbf{u}] + 2\\mathbf{u} - \\mathbf{u}(t-dt).\n",
    "\\end{equation}\n",
    "\n",
    "where $\\mathbf{M}$ is known as the mass matrix, and $\\mathbf{K}$ the stiffness matrix.\n",
    "\n",
    "The above solution is exactly the same presented for the classic finite-element method. Now we introduce appropriated basis functions and integration scheme to efficiently solve the system of matrices.\n",
    "\n",
    "#### Interpolation with Lagrange Polynomials\n",
    "At the elemental level (see section 7.4), we introduce as interpolating functions the Lagrange polynomials and use $\\xi$ as the space variable representing our elemental domain:\n",
    "\n",
    "\\begin{equation}\n",
    "\\varphi_i \\ \\rightarrow \\ \\ell_i^{(N)} (\\xi) \\ := \\ \\prod_{j \\neq i}^{N+1} \\frac{\\xi - \\xi_j}{\\xi_i-\\xi_j}, \\qquad   i,j = 1, 2, \\dotsc , N + 1  \n",
    "\\end{equation}\n",
    "\n",
    "#### Numerical Integration\n",
    "The integral of a continuous function $f(x)$ can be calculated after replacing $f(x)$ by a polynomial approximation that can be integrated analytically. As interpolating functions we use again the Lagrange polynomials and\n",
    "obtain Gauss-Lobatto-Legendre quadrature. Here, the GLL points are used to perform the integral. \n",
    "\n",
    "\\begin{equation}\n",
    "\\int_{-1}^1 f(x) \\ dx \\approx \\int _{-1}^1 P_N(x) dx = \\sum_{i=1}^{N+1}\n",
    " w_i f(x_i) \n",
    "\\end{equation}\n"
   ]
  },
  {
   "cell_type": "code",
   "execution_count": 1,
   "metadata": {
    "code_folding": [
     0
    ]
   },
   "outputs": [],
   "source": [
    "import matplotlib.pyplot as plt\n",
    "import numpy as np\n",
    "from gll import gll\n",
    "from lagrange1st import lagrange1st\n",
    "from ricker import ricker"
   ]
  },
  {
   "cell_type": "code",
   "execution_count": 3,
   "metadata": {},
   "outputs": [],
   "source": [
    "# Show Plot in The Notebook\n",
    "# matplotlib.use(\"nbagg\")"
   ]
  },
  {
   "cell_type": "markdown",
   "metadata": {},
   "source": [
    "### 1. Initialization of setup"
   ]
  },
  {
   "cell_type": "code",
   "execution_count": 4,
   "metadata": {},
   "outputs": [],
   "source": [
    "# Initialization of setup\n",
    "# ---------------------------------------------------------------\n",
    "nt = 7500  # number of time steps\n",
    "xmax = 8000.0  # Length of domain [m]\n",
    "N = 3  # Order of Lagrange polynomials\n",
    "ne = 150  # Number of elements\n",
    "Tdom = 0.4  # Dominant period of Ricker source wavelet\n",
    "iplot = 30  # Plotting each iplot snapshot\n",
    "vs = 2500.0  # S velocity [m/s]\n",
    "rho = 2000  # Density [kg/m^3]\n",
    "\n",
    "# variables for elemental matrices\n",
    "Me = np.zeros(N + 1, dtype=float)\n",
    "Ke = np.zeros((N + 1, N + 1), dtype=float)\n",
    "# ----------------------------------------------------------------\n",
    "\n",
    "# Initialization of GLL points integration weights\n",
    "[xi, w] = gll(N)  # xi, N+1 coordinates [-1 1] of GLL points\n",
    "# w Integration weights at GLL locations\n",
    "# Space domain\n",
    "le = xmax / ne  # Length of elements\n",
    "# Vector with GLL points\n",
    "k = 0\n",
    "xg = np.zeros((N * ne) + 1)\n",
    "xg[k] = 0\n",
    "for i in range(1, ne + 1):\n",
    "    for j in range(0, N):\n",
    "        k = k + 1\n",
    "        xg[k] = (i - 1) * le + 0.5 * (xi[j + 1] + 1) * le\n",
    "\n",
    "# ---------------------------------------------------------------\n",
    "dxmin = min(np.diff(xg))\n",
    "eps = 0.1  # Courant value\n",
    "dt = eps * dxmin / vs  # Global time step\n",
    "\n",
    "# Mapping - Jacobian\n",
    "J = le / 2\n",
    "Ji = 1 / J  # Inverse Jacobian\n",
    "\n",
    "# 1st derivative of Lagrange polynomials\n",
    "l1d = lagrange1st(N)  # Array with GLL as columns for each N+1 polynomial"
   ]
  },
  {
   "cell_type": "markdown",
   "metadata": {
    "solution2": "hidden",
    "solution2_first": true
   },
   "source": [
    "### 2. Low velocity zone\n",
    "The introduction of an specific velocity model is done after allowing space-dependent elastic parameters. i.e. \n",
    "\n",
    "\\begin{equation}\n",
    "\\mu(x) = \\rho(x) v_s(x)\n",
    "\\end{equation}\n",
    "\n",
    "The following python code introduces a low-velocity zone (-40%) at the center of the model spanning 50 elements and visualizes the model. There is the possibility to try different velocity and density models by defining new python methods."
   ]
  },
  {
   "cell_type": "code",
   "execution_count": 5,
   "metadata": {
    "solution2": "hidden"
   },
   "outputs": [],
   "source": [
    "# Elastic parameters, Low velocity zone(-40%)\n",
    "# ----------------------------------------------------------------\n",
    "el_span = 25  # Number of elements spanning the Low velocity zone\n",
    "percent = 0.4  # percentage of velocity reduction\n",
    "a = el_span * N + 1  # width of the fault zone in grid points\n",
    "b = int(np.floor((N * ne + 1) / 2))  # half of the space domain.\n",
    "\n",
    "vs = vs * np.ones(N * ne + 1)\n",
    "rho = rho * np.ones(N * ne + 1)\n",
    "\n",
    "vs[b - int(a / 2) : b + int(a / 2)] = max(vs) * percent\n",
    "mu = rho * vs**2  # Shear modulus mu"
   ]
  },
  {
   "cell_type": "code",
   "execution_count": 6,
   "metadata": {
    "code_folding": [
     0
    ]
   },
   "outputs": [
    {
     "data": {
      "image/png": "[encoded data removed]",
      "text/plain": [
       "<Figure size 640x480 with 1 Axes>"
      ]
     },
     "metadata": {},
     "output_type": "display_data"
    }
   ],
   "source": [
    "# Plot velocity model, Low velocity zone(-40%)\n",
    "# ----------------------------------------------------------------\n",
    "plt.plot(xg, vs, lw=1.5)\n",
    "plt.title(\"Velocity model\", fontsize=16)\n",
    "plt.ylabel(\"Velocity $(m/s)$\", fontsize=16)\n",
    "plt.xlabel(\"space $(m)$\", fontsize=16)\n",
    "plt.xlim((0, xmax))\n",
    "plt.ylim((0, max(vs) + 50))\n",
    "plt.tight_layout()\n",
    "plt.show()"
   ]
  },
  {
   "cell_type": "markdown",
   "metadata": {
    "solution2": "hidden",
    "solution2_first": true
   },
   "source": [
    "### 3. The Mass Matrix\n",
    "Now we initialize the mass and stiffness matrices. In general, the mass matrix at the elemental level is given\n",
    "\n",
    "\\begin{equation}\n",
    "M_{ji}^e \\ = \\ w_j  \\ \\rho (\\xi)  \\ \\frac{\\mathrm{d}x}{\\mathrm{d}\\xi} \\delta_{ij} \\vert_ {\\xi = \\xi_j}\n",
    "\\end{equation}\n",
    "\n",
    " \n",
    "We implement the mass matrix at each element using the integration weights at GLL locations $w$, the Jacobian $J$, and density $\\rho$. Then, perform the global assembly of the mass matrix, compute its inverse, and display the inverse mass matrix to visually inspect how it looks like."
   ]
  },
  {
   "cell_type": "code",
   "execution_count": 7,
   "metadata": {
    "solution2": "hidden"
   },
   "outputs": [
    {
     "data": {
      "image/png": "[encoded data removed]",
      "text/plain": [
       "<Figure size 640x480 with 1 Axes>"
      ]
     },
     "metadata": {},
     "output_type": "display_data"
    }
   ],
   "source": [
    "# Global Mass matrix\n",
    "# ---------------------------------------------------------------\n",
    "k = -1\n",
    "m = -1\n",
    "ng = (ne - 1) * N + N + 1\n",
    "M = np.zeros(2 * ng)\n",
    "for i in range(1, ne + 1):\n",
    "    # ------------------------------------\n",
    "    # Elemental Mass matrix\n",
    "    # ------------------------------------\n",
    "    for l in range(0, N + 1):\n",
    "        m += 1\n",
    "        Me[l] = rho[m] * w[l] * J  # stored as a vector since it's diagonal\n",
    "    m -= 1\n",
    "    # ------------------------------------\n",
    "    for j in range(0, N + 1):\n",
    "        k = k + 1\n",
    "        if i > 1:\n",
    "            if j == 0:\n",
    "                k = k - 1\n",
    "        M[k] = M[k] + Me[j]\n",
    "\n",
    "# Inverse matrix of M\n",
    "# ---------------------------------------------------------------\n",
    "Minv = np.identity(ng)\n",
    "for i in range(0, ng):\n",
    "    Minv[i, i] = 1.0 / M[i]\n",
    "\n",
    "\n",
    "# Display inverse mass matrix inv(M)\n",
    "# --------------------------------------------------------------\n",
    "plt.figure()\n",
    "plt.imshow(Minv)\n",
    "plt.title(r\"Mass Matrix $\\mathbf{M}$\")\n",
    "plt.axis(\"off\")\n",
    "plt.tight_layout()\n",
    "plt.show()"
   ]
  },
  {
   "cell_type": "markdown",
   "metadata": {
    "solution2": "hidden",
    "solution2_first": true
   },
   "source": [
    "### 4. The Stiffness matrix\n",
    "On the other hand, the general form of the stiffness matrix at the elemental level is\n",
    "\n",
    "\\begin{equation}\n",
    "K_{ji}^e \\ = \\ \\sum_{k = 1}^{N+1} w_k \\mu (\\xi) \\partial_\\xi \\ell_j (\\xi) \\partial_\\xi \\ell_i (\\xi) \\left(\\frac{\\mathrm{d}\\xi}{\\mathrm{d}x} \\right)^2 \\frac{\\mathrm{d}x}{\\mathrm{d}\\xi} \\vert_{\\xi = \\xi_k}\n",
    "\\end{equation} \n",
    "\n",
    "Implementing, now, for the stiffness matrix at each element using the integration weights at GLL locations $w$, the Jacobian $J$, and shear stress $\\mu$. Then, perform the global assembly of the mass matrix and display the matrix."
   ]
  },
  {
   "cell_type": "code",
   "execution_count": 8,
   "metadata": {
    "solution2": "hidden"
   },
   "outputs": [
    {
     "data": {
      "image/png": "[encoded data removed]",
      "text/plain": [
       "<Figure size 640x480 with 1 Axes>"
      ]
     },
     "metadata": {},
     "output_type": "display_data"
    }
   ],
   "source": [
    "# Global Stiffness Matrix\n",
    "# ---------------------------------------------------------------\n",
    "K = np.zeros([ng, ng])\n",
    "xe = 0\n",
    "\n",
    "for e in range(1, ne + 1):\n",
    "    i0 = (e - 1) * N + 1\n",
    "    j0 = i0\n",
    "    # ------------------------------------\n",
    "    # Elemental Stiffness Matrix\n",
    "    # ------------------------------------\n",
    "    for i in range(-1, N):\n",
    "        for j in range(-1, N):\n",
    "            sum = 0\n",
    "            for k in range(-1, N):\n",
    "                sum = (\n",
    "                    sum\n",
    "                    + mu[k + 1 + xe]\n",
    "                    * w[k + 1]\n",
    "                    * Ji**2\n",
    "                    * J\n",
    "                    * l1d[i + 1, k + 1]\n",
    "                    * l1d[j + 1, k + 1]\n",
    "                )\n",
    "            Ke[i + 1, j + 1] = sum\n",
    "    xe += N\n",
    "\n",
    "    for i in range(-1, N):\n",
    "        for j in range(-1, N):\n",
    "            K[i0 + i, j0 + j] += Ke[i + 1, j + 1]\n",
    "\n",
    "# --------------------------------------------------------------\n",
    "# Display stiffness matrix K\n",
    "# --------------------------------------------------------------\n",
    "plt.figure()\n",
    "plt.imshow(K)\n",
    "plt.title(r\"Stiffness Matrix $\\mathbf{K}$\")\n",
    "plt.axis(\"off\")\n",
    "\n",
    "plt.tight_layout()\n",
    "plt.show()"
   ]
  },
  {
   "cell_type": "markdown",
   "metadata": {},
   "source": [
    "### 5. Finite element solution \n",
    "\n",
    "Finally we implement the spectral element solution using the computed mass $M$ and stiffness $K$ matrices together with a finite differences extrapolation scheme\n",
    "\n",
    "\\begin{equation}\n",
    "\\mathbf{u}(t + dt) = dt^2 (\\mathbf{M}^T)^{-1}[\\mathbf{f} - \\mathbf{K}^T\\mathbf{u}] + 2\\mathbf{u} - \\mathbf{u}(t-dt).\n",
    "\\end{equation}"
   ]
  },
  {
   "cell_type": "code",
   "execution_count": null,
   "metadata": {
    "code_folding": []
   },
   "outputs": [
    {
     "data": {
      "image/png": "[encoded data removed]",
      "text/plain": [
       "<Figure size 1000x600 with 1 Axes>"
      ]
     },
     "metadata": {},
     "output_type": "display_data"
    }
   ],
   "source": [
    "# SE Solution, Time extrapolation\n",
    "# ---------------------------------------------------------------\n",
    "\n",
    "# initialize source time function and force vector f\n",
    "src = ricker(dt, Tdom)\n",
    "isrc = int(np.floor(ng / 2))  # Source location\n",
    "\n",
    "# Initialization of solution vectors\n",
    "u = np.zeros(ng)\n",
    "uold = u\n",
    "unew = u\n",
    "f = u\n",
    "\n",
    "# --------------------------------------------------------------\n",
    "# Initialize animated plot\n",
    "# --------------------------------------------------------------\n",
    "plt.figure(figsize=(10, 6))\n",
    "# plt.figure(figsize=(18,10))\n",
    "\n",
    "# ploting low velocity zone\n",
    "half = np.floor(xmax / 2)\n",
    "plt.axvspan(half - el_span / 2 * le, half + el_span / 2 * le, alpha=0.2, facecolor=\"b\")\n",
    "plt.title(\"SEM 1D Animation\")\n",
    "plt.xlabel(\" x (m)\")\n",
    "plt.ylabel(\" Amplitude \")\n",
    "font = {\n",
    "    \"family\": \"serif\",\n",
    "    \"color\": \"black\",\n",
    "    \"weight\": \"normal\",\n",
    "    \"size\": 14,\n",
    "}\n",
    "\n",
    "lines = plt.plot(xg, u, lw=1.5)\n",
    "plt.title(\"SEM 1D Animation   $v_{min} = %s v_{max}$\" % percent, size=14)\n",
    "plt.xlabel(\" x (m)\", size=12)\n",
    "plt.ylabel(\" Displacement \", size=12)\n",
    "\n",
    "plt.ion()  # set interective mode\n",
    "plt.show()\n",
    "\n",
    "# ---------------------------------------------------------------\n",
    "# Time extrapolation\n",
    "# ---------------------------------------------------------------\n",
    "x_t = []\n",
    "for it in range(nt):\n",
    "    # Source initialization\n",
    "    f = np.zeros(ng)\n",
    "    if it < len(src):\n",
    "        f[isrc - 1] = src[it - 1]\n",
    "\n",
    "    # Time extrapolation\n",
    "    unew = dt**2 * Minv @ (f - K @ u) + 2 * u - uold\n",
    "    uold, u = u, unew\n",
    "\n",
    "    # Solution in space-time\n",
    "    x_t.append(u)\n",
    "\n",
    "    # --------------------------------------\n",
    "    # Animation plot. Display solution\n",
    "    if not it % iplot:\n",
    "        for l in lines:\n",
    "            l.remove()\n",
    "            del l\n",
    "        # --------------------------------------\n",
    "        # Display lines\n",
    "        lines = plt.plot(xg, u, color=\"black\", lw=1.5)\n",
    "        plt.xlim((0, xmax))\n",
    "\n",
    "        plt.gcf().canvas.draw()"
   ]
  },
  {
   "cell_type": "markdown",
   "metadata": {},
   "source": [
    "### 6. Displaying the wave-field "
   ]
  },
  {
   "cell_type": "code",
   "execution_count": null,
   "metadata": {
    "code_folding": []
   },
   "outputs": [],
   "source": [
    "# Solution in space-time\n",
    "x_t = np.asanyarray(x_t)\n",
    "\n",
    "# -------------------\n",
    "# Initialize plot\n",
    "plt.figure()\n",
    "plt.subplot(1, 1, 1)\n",
    "plt.imshow(x_t, cmap=\"hot\", aspect=\"auto\", extent=[0, xmax, nt * dt, 0])\n",
    "plt.title(\"u(x,t) Wavefield\")\n",
    "plt.ylabel(\"Time [s]\")\n",
    "plt.xlabel(\"Space [m]\")\n",
    "plt.show()"
   ]
  }
 ],
 "metadata": {
  "anaconda-cloud": {},
  "kernelspec": {
   "display_name": "Python 3 (ipykernel)",
   "language": "python",
   "name": "python3"
  },
  "language_info": {
   "codemirror_mode": {
    "name": "ipython",
    "version": 3
   },
   "file_extension": ".py",
   "mimetype": "text/x-python",
   "name": "python",
   "nbconvert_exporter": "python",
   "pygments_lexer": "ipython3",
   "version": "3.11.7"
  }
 },
 "nbformat": 4,
 "nbformat_minor": 1
}
