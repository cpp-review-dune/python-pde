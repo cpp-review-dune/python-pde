{
 "cells": [
  {
   "cell_type": "markdown",
   "metadata": {},
   "source": [
    "<div style='background-image: url(\"title01.png\") ; padding: 0px ; background-size: cover ; border-radius: 5px ; height: 200px'>\n",
    "<div style=\"float: right ; margin: 50px ; padding: 20px ; background: rgba(255 , 255 , 255 , 0.7) ; width: 50% ; height: 150px\">\n",
    "        <div style=\"position: relative ; top: 50% ; transform: translatey(-50%)\">\n",
    "            <div style=\"font-size: xx-large ; font-weight: 900 ; color: rgba(0 , 0 , 0 , 0.8) ; line-height: 100%\">Computers, Waves, Simulations</div>\n",
    "            <div style=\"font-size: large ; padding-top: 20px ; color: rgba(0 , 0 , 0 , 0.5)\">Finite Differences - Grid-Staggering Elastic 1D</div>\n",
    "        </div>\n",
    "    </div>\n",
    "</div>"
   ]
  },
  {
   "cell_type": "markdown",
   "metadata": {},
   "source": [
    "# Grid-Staggering Elastic 1D\n",
    "\n",
    "This exercise covers the following aspects:\n",
    "\n",
    "* Solving velocity-stress formulation of 1D wave equation with finite difference method\n",
    "* Understanding the grid-staggering in connection with finite difference solution to the elastic wave equation\n",
    "---"
   ]
  },
  {
   "cell_type": "markdown",
   "metadata": {},
   "source": [
    "## Basic Equations\n",
    "\n",
    "The 1D wave equation (velocity-stress formulation) as a coupled system of two first-order partial differential equations\n",
    "\n",
    "$$\n",
    "\\rho \\partial_t v = \\partial_x \\sigma + f \n",
    "$$\n",
    "$$\n",
    "\\partial_t \\sigma = \\mu \\partial_x v \n",
    "$$\n",
    "\n",
    "where,\n",
    "\n",
    "$ \\sigma $ is the stress,\n",
    "\n",
    "$ \\rho $ is the density,\n",
    "\n",
    "$ v $ is the velocity,\n",
    "\n",
    "$ \\mu $ is the shear modulus, and\n",
    "\n",
    "$ f $ is the source.\n",
    "\n",
    "Grid- staggering is the concept in connection with finite-difference solutions to the elastic wave equation. \n",
    "The discrete velocity and stress are defined on a regular spaced grid in space and time. Then, partial derivatives are replaced with centered finite-difference approximations to first derivative. However, these are not defined at the grid points of a function but in-between the grid points.\n",
    "In grid staggering the following computational scheme is used\n",
    "\n",
    "$$\n",
    "\\frac{v_i^{j+ \\tfrac{1}{2}} - v_i^{j- \\tfrac{1}{2}} }{dt} \\ = \\ \\frac{1}{\\rho_i}\\frac{\\sigma_{i + \\tfrac{1}{2}}^j - \\sigma_{i - \\tfrac{1}{2}}^j }{dx} + \\frac{f_i^j}{\\rho_i} \\\n",
    "$$\n",
    "\n",
    "$$\n",
    "\\frac{\\sigma_{i+\\tfrac{1}{2}}^{j+1} - \\sigma_{i+\\tfrac{1}{2}}^j }{dt} \\ = \\ \\mu_{i+\\tfrac{1}{2}}  \\frac{v_{i + 1}^{j +\\tfrac{1}{2}} - v_i^{j + \\tfrac{1}{2}} }{dx}\n",
    "$$\n",
    "\n",
    "The extrapolation scheme becomes\n",
    "\n",
    "$$\n",
    "v_i^{j+ \\tfrac{1}{2}} \\ = \\ \\frac{dt}{\\rho_i} \\frac{\\sigma_{i + \\tfrac{1}{2}}^j - \\sigma_{i - \\tfrac{1}{2}}^j }{dx} \\ + \\ v_i^{j- \\tfrac{1}{2}}  + \\frac{dt}{\\rho_i} \\ f_i^j  \\\n",
    "$$\n",
    "\n",
    "$$\n",
    "\\sigma_{i+\\tfrac{1}{2}}^{j+1} \\ = \\ dt \\ \\mu_{i+\\tfrac{1}{2}} \\frac{v_{i + 1}^{j +\\tfrac{1}{2}} - v_i^{j + \\tfrac{1}{2}} }{dx} \\ + \\ \\sigma_{i+\\tfrac{1}{2}}^j  \\ \\\n",
    "$$\n",
    "\n",
    "\n",
    "**Note that in the codes below we do not deal with the index fractions.**"
   ]
  },
  {
   "cell_type": "code",
   "execution_count": 1,
   "metadata": {
    "code_folding": []
   },
   "outputs": [],
   "source": [
    "# Import libraries (Please run it before the simulation code!)\n",
    "\n",
    "import matplotlib\n",
    "import matplotlib.pyplot as plt\n",
    "import numpy as np\n",
    "\n",
    "# Show Plot in The Notebook\n",
    "matplotlib.use(\"nbagg\")\n",
    "matplotlib.rcParams[\"figure.facecolor\"] = \"w\"  # remove grey background"
   ]
  },
  {
   "cell_type": "code",
   "execution_count": 4,
   "metadata": {},
   "outputs": [],
   "source": [
    "%matplotlib widget"
   ]
  },
  {
   "cell_type": "code",
   "execution_count": 5,
   "metadata": {
    "code_folding": []
   },
   "outputs": [],
   "source": [
    "# Initialization of parameters\n",
    "\n",
    "# Simple finite difference solver\n",
    "# Elastic wave equation\n",
    "# 1-D regular staggered grid\n",
    "\n",
    "# Basic parameters\n",
    "nt = 1300  # number of time steps\n",
    "nx = 1000  # number of grid points in x\n",
    "c0 = 4500  # velocity (m/sec) (shear wave)\n",
    "eps = 0.8  # stability limit\n",
    "isnap = 2  # snapshot frequency\n",
    "isx = round(nx / 2)  # source location\n",
    "f0 = 0.1  # frequency (Hz)\n",
    "xmax = 1000000.0  # maximum range (m)\n",
    "rho0 = 2500.0  # density (kg/m**3)\n",
    "mu0 = rho0 * c0**2.0  # shear modulus (Pa)\n",
    "nop = 4  # number of operator either 2 or 4\n",
    "\n",
    "dx = xmax / (nx - 1)  # calculate space increment (m)\n",
    "x = np.arange(nx) * dx  # initialize space coordinates\n",
    "dt = eps * dx / c0  # calculate time step from stability criterion(s)\n",
    "\n",
    "# Source time function\n",
    "t = np.arange(0, nt) * dt  # initialize time axis\n",
    "T0 = 1.0 / f0  # period\n",
    "a = 4.0 / T0  # half-width (so called sigma)\n",
    "t0 = T0 / dt\n",
    "tmp = np.zeros(nt)\n",
    "for it in range(nt):\n",
    "    t = (it - t0) * dt\n",
    "    tmp[it] = (\n",
    "        -2 * a * t * np.exp(-((a * t) ** 2))\n",
    "    )  # derivative of Gaussian (so called sigma)\n",
    "src = np.zeros(nt)  # source\n",
    "src[0 : len(tmp)] = tmp\n",
    "lam = c0 * T0  # wavelength"
   ]
  },
  {
   "cell_type": "code",
   "execution_count": 6,
   "metadata": {
    "code_folding": []
   },
   "outputs": [
    {
     "name": "stdout",
     "output_type": "stream",
     "text": [
      "rho = 2500.0 , f_dom = 0.1 , stability limit = 0.8 , n_lambda 44.955\n"
     ]
    },
    {
     "data": {
      "image/png": "[encoded data removed]",
      "text/plain": [
       "<Figure size 1000x800 with 2 Axes>"
      ]
     },
     "metadata": {},
     "output_type": "display_data"
    }
   ],
   "source": [
    "# Extrapolation scheme and the plots\n",
    "# Initialization of plot\n",
    "\n",
    "# Initialization of fields\n",
    "v = np.zeros(nx)  # velocity\n",
    "vnew = v\n",
    "dv = v\n",
    "\n",
    "s = np.zeros(nx)  # stress\n",
    "snew = s\n",
    "ds = s\n",
    "\n",
    "mu = np.zeros(nx)  # shear modulus\n",
    "rho = mu\n",
    "rho = rho + rho0\n",
    "mu = mu + mu0\n",
    "\n",
    "# Print setup parameters\n",
    "print(\n",
    "    \"rho =\", rho0, \", f_dom =\", f0, \", stability limit =\", eps, \", n_lambda\", (lam / dx)\n",
    ")\n",
    "\n",
    "# Initialize the plot\n",
    "title = \"FD Elastic 1D staggered grid\"\n",
    "fig = plt.figure(figsize=(10, 8))\n",
    "ax1 = fig.add_subplot(2, 1, 1)\n",
    "ax2 = fig.add_subplot(2, 1, 2)\n",
    "line1 = ax1.plot(x, v, color=\"red\", lw=1.5)\n",
    "line2 = ax2.plot(x, s, color=\"blue\", lw=1.5)\n",
    "ax1.set_ylabel(\"velocity (m/s)\")\n",
    "ax2.set_xlabel(\"x (m)\")\n",
    "ax2.set_ylabel(\"stress (Pa)\")\n",
    "plt.ion()\n",
    "plt.show()"
   ]
  },
  {
   "cell_type": "code",
   "execution_count": 7,
   "metadata": {},
   "outputs": [
    {
     "data": {
      "text/plain": [
       "<Figure size 640x480 with 0 Axes>"
      ]
     },
     "metadata": {},
     "output_type": "display_data"
    }
   ],
   "source": [
    "# Begin extrapolation and update the plot\n",
    "for it in range(nt):\n",
    "    # Stress derivative\n",
    "    for i in range(2, nx - 2):\n",
    "        ds[i] = (\n",
    "            0.0416666 * s[i - 1]\n",
    "            - 1.125 * s[i]\n",
    "            + 1.125 * s[i + 1]\n",
    "            - 0.0416666 * s[i + 2]\n",
    "        ) / (dx)\n",
    "\n",
    "    # Velocity extrapolation\n",
    "    v = v + dt * ds / rho\n",
    "\n",
    "    # Add source term at isx\n",
    "    v[isx] = v[isx] + dt * src[it] / (dt * rho[isx])\n",
    "\n",
    "    # Velocity derivative\n",
    "    for i in range(2, nx - 2):\n",
    "        dv[i] = (\n",
    "            0.0416666 * v[i - 2]\n",
    "            - 1.125 * v[i - 1]\n",
    "            + 1.125 * v[i]\n",
    "            - 0.0416666 * v[i + 1]\n",
    "        ) / (dx)\n",
    "\n",
    "    # Stress extrapolation\n",
    "    s = s + dt * mu * dv\n",
    "\n",
    "    # Updating the plots\n",
    "    if not it % isnap:\n",
    "        for l in line1:\n",
    "            l.remove()\n",
    "            del l\n",
    "        for l in line2:\n",
    "            l.remove()\n",
    "            del l\n",
    "        line1 = ax1.plot(x, v, color=\"red\", lw=1.5)\n",
    "        line2 = ax2.plot(x, s, color=\"blue\", lw=1.5)\n",
    "\n",
    "        ax1.set_title(title + \", time step: %i\" % (it))\n",
    "        plt.gcf().canvas.draw()\n",
    "\n",
    "plt.ioff()\n",
    "plt.show()"
   ]
  }
 ],
 "metadata": {
  "anaconda-cloud": {},
  "kernelspec": {
   "display_name": "Python 3 (ipykernel)",
   "language": "python",
   "name": "python3"
  },
  "language_info": {
   "codemirror_mode": {
    "name": "ipython",
    "version": 3
   },
   "file_extension": ".py",
   "mimetype": "text/x-python",
   "name": "python",
   "nbconvert_exporter": "python",
   "pygments_lexer": "ipython3",
   "version": "3.11.7"
  }
 },
 "nbformat": 4,
 "nbformat_minor": 1
}
