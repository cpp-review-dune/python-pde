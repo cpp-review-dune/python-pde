{
 "cells": [
  {
   "cell_type": "markdown",
   "metadata": {},
   "source": [
    "<div style='background-image: url(\"./title01.png\") ; padding: 0px ; background-size: cover ; border-radius: 5px ; height: 200px'>\n",
    "<div style=\"float: right ; margin: 50px ; padding: 20px ; background: rgba(255 , 255 , 255 , 0.7) ; width: 50% ; height: 150px\">\n",
    "<div style=\"position: relative ; top: 50% ; transform: translatey(-50%)\">\n",
    "            <div style=\"font-size: xx-large ; font-weight: 900 ; color: rgba(0 , 0 , 0 , 0.8) ; line-height: 100%\">Computers, Waves, Simulations</div>\n",
    "            <div style=\"font-size: large ; padding-top: 20px ; color: rgba(0 , 0 , 0 , 0.5)\">The Pseudo-Spectral Method - Acoustic Waves in 2D</div>\n",
    "        </div>\n",
    "    </div>\n",
    "</div>"
   ]
  },
  {
   "cell_type": "markdown",
   "metadata": {},
   "source": [
    "# The Pseudo-Spectral Method - Acoustic Waves in 2D\n",
    "\n",
    "This notebook covers the following aspects:\n",
    "\n",
    "* Present a  Fourier Pseudospectral code for solving the 2D acoustic wave equation\n",
    "* Compute the same using using finite difference scheme \n",
    "* Analyze the disperion behaviour in each case \n"
   ]
  },
  {
   "cell_type": "markdown",
   "metadata": {},
   "source": [
    "## Basic Equations\n",
    "\n",
    "This notebook presents a Fourier Pseudospectral code for solving the 2D acoustic wave equation. Additionally, a solution using finite difference scheme is given for comparison.\n",
    "\n",
    "The problem of solving the wave equation\n",
    "\n",
    "\\begin{equation}\n",
    "\\partial_t^2 p = c^2 (\\partial_{x}^{2}p + \\partial_{z}^{2}p) + s\n",
    "\\end{equation}\n",
    "\n",
    "can be achieved using finite differeces in combination with spectral methods. Here, spatial partial derivatives with respect to $x$ and $z$ are computed via the Fourier method, i.e. \n",
    "\n",
    "\\begin{equation}\n",
    "\\partial_{x}^{2}p + \\partial_{z}^{2}p = \\mathscr{F}^{-1}[-k_{x}^{2}\\mathscr{F}[p]] + \\mathscr{F}^{-1}[-k_{z}^{2}\\mathscr{F}[p]]\n",
    "\\end{equation}\n",
    "\n",
    "where $\\mathscr{F}$ represents the Fourier transform operator.\n",
    "\n",
    "As it was the case in previous numerical solutions, we use a standard 3-point finite-difference operator to approximate the time derivatives. Then, the pressure field is extrapolated as\n",
    "\n",
    "\\begin{equation}\n",
    "\\frac{p_{j,k}^{n+1} - 2p_{j,k}^{n} + p_{j,k}^{n-1}}{dt^2}= c_{j,k}^{2} (\\partial_{x}^{2}p + \\partial_{z}^{2}p)_{j,k} + s_{j,k}^{n}\n",
    "\\end{equation}"
   ]
  },
  {
   "cell_type": "code",
   "execution_count": 1,
   "metadata": {},
   "outputs": [],
   "source": [
    "import matplotlib.pyplot as plt\n",
    "import numpy as np\n",
    "from ricker import ricker"
   ]
  },
  {
   "cell_type": "code",
   "execution_count": 2,
   "metadata": {
    "code_folding": []
   },
   "outputs": [],
   "source": [
    "# Show Plot in The Notebook\n",
    "# matplotlib.use(\"nbagg\")"
   ]
  },
  {
   "cell_type": "markdown",
   "metadata": {},
   "source": [
    "### 1. Fourier derivative method  "
   ]
  },
  {
   "cell_type": "code",
   "execution_count": 3,
   "metadata": {
    "code_folding": [
     0
    ]
   },
   "outputs": [],
   "source": [
    "def fourier_derivative_2nd(f, dx):\n",
    "    # Length of vector f\n",
    "    nx = np.size(f)\n",
    "    # Initialize k vector up to Nyquist wavenumber\n",
    "    kmax = np.pi / dx\n",
    "    dk = kmax / (nx / 2)\n",
    "    k = np.arange(float(nx))\n",
    "    k[: int(nx / 2)] = k[: int(nx / 2)] * dk\n",
    "    k[int(nx / 2) :] = k[: int(nx / 2)] - kmax\n",
    "\n",
    "    # Fourier derivative\n",
    "    ff = np.fft.fft(f)\n",
    "    ff = (1j * k) ** 2 * ff\n",
    "    df_num = np.real(np.fft.ifft(ff))\n",
    "    return df_num"
   ]
  },
  {
   "cell_type": "markdown",
   "metadata": {},
   "source": [
    "### 2. Initialization of setup"
   ]
  },
  {
   "cell_type": "code",
   "execution_count": 4,
   "metadata": {
    "code_folding": []
   },
   "outputs": [],
   "source": [
    "# Basic parameters\n",
    "# ---------------------------------------------------------------\n",
    "nt = 600  # number of time steps\n",
    "nx = 256  # number of grid points in x\n",
    "nz = nx  # number of grid points in z\n",
    "c = 343.0  # acoustic velocity\n",
    "eps = 0.2  # stability limit\n",
    "isnap = 600  # snapshot frequency\n",
    "isx = int(nx / 2)  # source location\n",
    "isz = int(nz / 2)\n",
    "f0 = 200.0  # Frequency (div by 5)\n",
    "xmax = 200\n",
    "iplot = 20\n",
    "\n",
    "# initialization of pressure fields\n",
    "ap = np.zeros((nx, nz), dtype=float)\n",
    "apnew = np.zeros((nx, nz), dtype=float)\n",
    "apold = np.zeros((nx, nz), dtype=float)\n",
    "ad2px = np.zeros((nx, nz), dtype=float)\n",
    "ad2pz = np.zeros((nx, nz), dtype=float)\n",
    "\n",
    "sp = np.zeros((nx, nz), dtype=float)\n",
    "spnew = np.zeros((nx, nz), dtype=float)\n",
    "spold = np.zeros((nx, nz), dtype=float)\n",
    "sd2px = np.zeros((nx, nz), dtype=float)\n",
    "sd2pz = np.zeros((nx, nz), dtype=float)\n",
    "\n",
    "sp_sec = -np.abs(sp[1 : int(nx / 2), 1 : int(nz / 2)])\n",
    "ap_sec = -np.abs(ap[int(nx / 2) : nx, 1 : int(nz / 2)].T)\n",
    "\n",
    "dx = xmax / (nx - 1)  # calculate space increment\n",
    "x = np.arange(0, nx) * dx  # initialize space coordinates\n",
    "z = np.arange(0, nx) * dx  # initialize space coordinates\n",
    "dt = eps * dx / c  # calculate tim step from stability criterion"
   ]
  },
  {
   "cell_type": "markdown",
   "metadata": {},
   "source": [
    "### 3. Source Initialization "
   ]
  },
  {
   "cell_type": "code",
   "execution_count": 5,
   "metadata": {
    "code_folding": []
   },
   "outputs": [],
   "source": [
    "# source time function\n",
    "# ---------------------------------------------------------------\n",
    "t = np.arange(1, nt + 1) * dt  # initialize time axis\n",
    "T0 = 1.0 / f0\n",
    "tmp = ricker(dt, T0)\n",
    "tmp = np.diff(tmp)\n",
    "src = np.zeros(nt)\n",
    "src[0 : np.size(tmp)] = tmp\n",
    "lam = c * T0\n",
    "\n",
    "# spatial source function\n",
    "# ---------------------------------------------------------------\n",
    "sg = np.zeros((nx, nz), dtype=float)\n",
    "sigma = 1.5 * dx\n",
    "x0 = x[isx - 1]\n",
    "z0 = z[isz - 1]\n",
    "for i in range(nx):\n",
    "    for j in range(nz):\n",
    "        sg[i, j] = np.exp(-1 / sigma**2 * ((x[i] - x0) ** 2 + (z[j] - z0) ** 2))\n",
    "\n",
    "sg = sg / np.amax(sg)"
   ]
  },
  {
   "cell_type": "markdown",
   "metadata": {},
   "source": [
    "### 4. Time Extrapolation\n",
    "The final solution for our 2D acoustic wave problem after taking into account the finite differences time extrapolation can be written as \n",
    "\n",
    "\\begin{equation}\n",
    "p_{j,k}^{n+1} = dt^2c_{j,k}^{2} (\\partial_{x}^{2}p + \\partial_{z}^{2}p)_{j,k} + dt^2s_{j,k}^{n} + 2p_{j,k}^{n} - p_{j,k}^{n-1}\n",
    "\\end{equation}\n",
    "\n",
    "In order to compare the above numerical solution, we implement a 5-point finite difference operator to compute spatial derivatives\n",
    "\n",
    "\\begin{equation}\n",
    "\\partial_t^2 p(x,t) = \\frac{-p(x,t+2\\mathrm{d}t) + 16p(x,t+\\mathrm{d}t) - 30p(x,t) + 16p(x,t-\\mathrm{d}t) - p(x,t-2\\mathrm{d}t)}{12\\mathrm{d}t^2} \n",
    "\\end{equation}\n",
    "\n",
    "temporal derivative is done with a 3-point finite difference operator.\n",
    "\n",
    "#### Numerical dispersion and anysotropy\n",
    "\n",
    "One of the most significant characteristics of the fourier method is the low numerical dispersion in comparison with the finite difference method. The snapshots displayed below for both solutions allow us to brifly comment two significant observations:\n",
    "\n",
    "1) There is strong anisotropic dispersion behaviour visible for the finite-difference solution. The most accurate direction occur at $\\theta = \\pi/4$ \n",
    "\n",
    "2) The Fourier solution do not exhibit significant dispersion, but the most importantly, it does not seem to be directionally dependent. In other words the error is isotropic. "
   ]
  },
  {
   "cell_type": "code",
   "execution_count": 8,
   "metadata": {
    "code_folding": []
   },
   "outputs": [
    {
     "data": {
      "image/png": "[encoded data removed]",
      "text/plain": [
       "<Figure size 1000x600 with 2 Axes>"
      ]
     },
     "metadata": {},
     "output_type": "display_data"
    }
   ],
   "source": [
    "# Initialize animated plot\n",
    "# ---------------------------------------------------------------\n",
    "fig = plt.figure(figsize=(10, 6))\n",
    "ax1 = fig.add_subplot(1, 2, 1)\n",
    "ax2 = fig.add_subplot(1, 2, 2)\n",
    "line1 = ax1.imshow(sp_sec, interpolation=\"bicubic\", cmap=plt.cm.RdBu)\n",
    "line2 = ax2.imshow(ap_sec, interpolation=\"bicubic\", cmap=plt.cm.RdBu)\n",
    "ax1.set_title(\"Fourier Method\", size=14)\n",
    "ax2.set_title(\"Finite-Difference Method\", size=14)\n",
    "\n",
    "plt.ion();  # set interective mode"
   ]
  },
  {
   "cell_type": "code",
   "execution_count": 6,
   "metadata": {
    "code_folding": []
   },
   "outputs": [],
   "source": [
    "# Time extrapolation\n",
    "# ---------------------------------------------------------------\n",
    "for it in range(nt):\n",
    "    # ----------------------------------------\n",
    "    # Fourier Pseudospectral Method\n",
    "    # ----------------------------------------\n",
    "    # 2nd space derivative\n",
    "    for j in np.arange(nz):\n",
    "        sd2px[:, j] = fourier_derivative_2nd(sp[:, j].T, dx)\n",
    "    for i in np.arange(nx):\n",
    "        sd2pz[i, :] = fourier_derivative_2nd(sp[i, :], dx)\n",
    "\n",
    "    # Time Extrapolation\n",
    "    spnew = 2 * sp - spold + c**2 * dt**2 * (sd2px + sd2pz)\n",
    "    spnew = spnew + sg * src[it] * dt**2  # Add sources\n",
    "    spold, sp = sp, spnew  # Time levels\n",
    "\n",
    "    # ----------------------------------------\n",
    "    # Finite Differences Method 5pt\n",
    "    # ----------------------------------------\n",
    "    for i in range(2, nz - 2):\n",
    "        ad2px[i, :] = (\n",
    "            -1.0 / 12 * ap[i + 2, :]\n",
    "            + 4.0 / 3 * ap[i + 1, :]\n",
    "            - 5.0 / 2 * ap[i, :]\n",
    "            + 4.0 / 3 * ap[i - 1, :]\n",
    "            - 1.0 / 12 * ap[i - 2, :]\n",
    "        ) / dx**2  # Space derivative\n",
    "    for i in range(2, nx - 2):\n",
    "        ad2pz[:, i] = (\n",
    "            -1.0 / 12 * ap[:, i + 2]\n",
    "            + 4.0 / 3 * ap[:, i + 1]\n",
    "            - 5.0 / 2 * ap[:, i]\n",
    "            + 4.0 / 3 * ap[:, i - 1]\n",
    "            - 1.0 / 12 * ap[:, i - 2]\n",
    "        ) / dx**2  # Space derivative\n",
    "\n",
    "    apnew = 2 * ap - apold + dt**2 * c**2 * (ad2px + ad2pz)  # Time Extrapolation\n",
    "    apnew = apnew + sg * src[it] * dt**2  # Add source\n",
    "    apold, ap = ap, apnew  # Time levels\n",
    "\n",
    "    # Select Sections for plotting\n",
    "    sp_sec = -np.abs(sp[1 : int(nx / 2), 1 : int(nz / 2)])\n",
    "    ap_sec = -np.abs(ap[int(nx / 2) : nx, 1 : int(nz / 2)].T)\n",
    "\n",
    "    # --------------------------------------\n",
    "    # Animation plot. Display solution\n",
    "    # --------------------------------------\n",
    "    if not it % iplot:\n",
    "        # Display Solution\n",
    "        # --------------------------------------\n",
    "        line1 = ax1.imshow(sp_sec, interpolation=\"bicubic\", cmap=plt.cm.RdBu)\n",
    "        line2 = ax2.imshow(ap_sec, interpolation=\"bicubic\", cmap=plt.cm.RdBu)\n",
    "        plt.gcf().canvas.draw()"
   ]
  }
 ],
 "metadata": {
  "anaconda-cloud": {},
  "kernelspec": {
   "display_name": "Python 3 (ipykernel)",
   "language": "python",
   "name": "python3"
  },
  "language_info": {
   "codemirror_mode": {
    "name": "ipython",
    "version": 3
   },
   "file_extension": ".py",
   "mimetype": "text/x-python",
   "name": "python",
   "nbconvert_exporter": "python",
   "pygments_lexer": "ipython3",
   "version": "3.11.7"
  }
 },
 "nbformat": 4,
 "nbformat_minor": 1
}
