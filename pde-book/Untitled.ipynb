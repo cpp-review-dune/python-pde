{
 "cells": [
  {
   "cell_type": "code",
   "execution_count": 2,
   "id": "33861dbf-5e89-4d7d-b359-9888aafb1b48",
   "metadata": {},
   "outputs": [],
   "source": [
    "import numpy as np"
   ]
  },
  {
   "cell_type": "code",
   "execution_count": 3,
   "id": "93c19739-49e7-40ad-ad90-7b6b84c11549",
   "metadata": {},
   "outputs": [],
   "source": [
    "# Numerical differentiation\n",
    "# Forward diffearence\n",
    "def diff_forward(f, x, h=0.1):\n",
    "    return (f(x+h)-f(x))/h\n",
    "# Backward difference\n",
    "def diff_backward(f, x, h=0.1):\n",
    "    return (f(x)-f(x-h))/h\n",
    "# Central difference for f’(x):\n",
    "def diff_central(f, x, h=0.1):\n",
    "    return (f(x+h)-f(x-h))/(2*h)\n",
    "# end of diff_central\n",
    "# Central difference for f’’(x):\n",
    "def diff2_central(f, x, h=0.1):\n",
    "    return (f(x+h)-2*f(x)+f(x-h))/h**2"
   ]
  },
  {
   "cell_type": "code",
   "execution_count": 6,
   "id": "6a600019-23b2-47f2-b806-1890ae56b5ff",
   "metadata": {},
   "outputs": [
    {
     "name": "stdout",
     "output_type": "stream",
     "text": [
      "Approximations to the first derivative\n",
      "Forward difference: df =   0.67060297, Error =  3.650e-02\n",
      "Backward difference: df =   0.74125475, Error = -3.415e-02\n",
      "Central difference: df =   0.70592886, Error =  1.178e-03\n",
      "Approximation to the second derivative\n",
      "Central difference: ddf=  -0.70651772, Error = -5.891e-04\n"
     ]
    }
   ],
   "source": [
    "# Numerical example 1\n",
    "x = np.pi/4;\n",
    "df_exact = np.cos(x)\n",
    "ddf_exact = -np.sin(x)\n",
    "h = 0.1\n",
    "f = np.sin\n",
    "df = diff_forward(f, x, h)\n",
    "print(\"Approximations to the first derivative\")\n",
    "print(\"Forward difference: df = {:12.8f}, Error = {:10.3e}\".format(df, df_exact-df))\n",
    "df = diff_backward(f, x, h)\n",
    "print(\"Backward difference: df = {:12.8f}, Error = {:10.3e}\".format(df, df_exact-df))\n",
    "df = diff_central(f, x, h)\n",
    "print(\"Central difference: df = {:12.8f}, Error = {:10.3e}\".format(df, df_exact-df))\n",
    "print(\"Approximation to the second derivative\")\n",
    "ddf = diff2_central(f, x, h)\n",
    "print(\"Central difference: ddf= {:12.8f}, Error = {:10.3e}\".format(ddf, ddf_exact-ddf))"
   ]
  },
  {
   "cell_type": "code",
   "execution_count": 9,
   "id": "5c9dcaea-640b-493a-b427-2ff1237cef13",
   "metadata": {},
   "outputs": [],
   "source": [
    "def tridiag(v, d, w, N):\n",
    "    \"\"\"\n",
    "    Help function\n",
    "    Returns a tridiagonal matrix A=tridiag(v, d, w) of dimension N x N.\n",
    "    \"\"\"\n",
    "    e = np.ones(N) # array [1,1,...,1] of length N\n",
    "    A = v*np.diag(e[1:],-1)+d*np.diag(e)+w*np.diag(e[1:],1)\n",
    "    return A"
   ]
  },
  {
   "cell_type": "code",
   "execution_count": 10,
   "id": "b712ac90-1130-4fb0-b0f1-dab3e4ae8184",
   "metadata": {},
   "outputs": [],
   "source": [
    "# Example 1, BVP\n",
    "# Define the equation\n",
    "# u’’ + p*u’ + q*u = r(x) on the interval [a,b]\n",
    "# Boundary condition: u(a)=ua and u(b)=ub\n",
    "p = 2\n",
    "q = -3\n",
    "def r(x):\n",
    "    return 9*x\n",
    "a, b = 0, 1\n",
    "ua, ub = 1, np.exp(-3)+2*np.exp(1)-5\n",
    "# The exact solution (if known)\n",
    "def u_eksakt(x):\n",
    "    return np.exp(-3*x)+2*np.exp(x)-3*x-2\n",
    "# Set up the discrete system\n",
    "N = 4\n",
    "# Number of intervals\n",
    "# Start the discretization\n",
    "h = (b-a)/N\n",
    "# Stepsize\n",
    "x = np.linspace(a, b, N+1)\n",
    "# The gridpoints x_0=a, x_1=a+h, .... , x_N=b\n",
    "# Make a draft of the A-matrix (first and last row have to be adjusted)\n",
    "v = 1-0.5*h*p\n",
    "# Subdiagonal\n",
    "d = -2+h**2*q\n",
    "# Diagonal\n",
    "w = 1+0.5*h*p\n",
    "# Superdiagonal\n",
    "A = tridiag(v, d, w, N+1)\n",
    "# Make a draft of the b-vector\n",
    "b = h**2*r(x)"
   ]
  },
  {
   "cell_type": "code",
   "execution_count": 13,
   "id": "90bee8d5-b597-465b-83a9-2e55afff21f2",
   "metadata": {},
   "outputs": [],
   "source": [
    "# Modify the first equation (left boundary)\n",
    "A[0,0] = 1\n",
    "A[0,1] = 0\n",
    "b[0] = ua\n",
    "# Modify the last equation (right boundary)\n",
    "A[N,N] = 1\n",
    "A[N,N-1] = 0\n",
    "b[N] = ub\n",
    "U = np.linalg.solve(A, b)\n",
    "# Solve the equation"
   ]
  },
  {
   "cell_type": "code",
   "execution_count": 14,
   "id": "82573681-c79b-4db3-9775-f2d71b718a6d",
   "metadata": {},
   "outputs": [
    {
     "name": "stdout",
     "output_type": "stream",
     "text": [
      "A =\n",
      " [[ 1.      0.      0.      0.      0.    ]\n",
      " [ 0.75   -2.1875  1.25    0.      0.    ]\n",
      " [ 0.      0.75   -2.1875  1.25    0.    ]\n",
      " [ 0.      0.      0.75   -2.1875  1.25  ]\n",
      " [ 0.      0.      0.      0.      1.    ]]\n",
      "\n",
      "b =\n",
      "  [1.         0.140625   0.28125    0.421875   0.48635073]\n",
      "\n",
      "U =\n",
      "  [1.         0.29317568 0.02555744 0.09382011 0.48635073]\n",
      "\n",
      "u(x)=\n",
      " [1.         0.29041739 0.0205727  0.08939926 0.48635073]\n"
     ]
    }
   ],
   "source": [
    "# Print the matrix A, the right hand side b the numerical and exact solution\n",
    "print(\"A =\\n\", A)\n",
    "print(\"\\nb =\\n \", b)\n",
    "print(\"\\nU =\\n \", U)\n",
    "print(\"\\nu(x)=\\n\", u_eksakt(x))"
   ]
  },
  {
   "cell_type": "code",
   "execution_count": null,
   "id": "70e44c16-9017-4d1a-8f7c-31fdf26021a3",
   "metadata": {},
   "outputs": [],
   "source": [
    "# Plot the solution of the BVP\n",
    "xe = np.linspace(0,1,101)\n",
    "plot(x,U,’.-’)\n",
    "plot(xe, u_eksakt(xe),’:’)\n",
    "xlabel(’x’)\n",
    "ylabel(’u’)\n",
    "legend([’Numerical’,’Exact’])\n",
    "title(’Solution of a two-point BVP’);"
   ]
  }
 ],
 "metadata": {
  "kernelspec": {
   "display_name": "Python 3 (ipykernel)",
   "language": "python",
   "name": "python3"
  },
  "language_info": {
   "codemirror_mode": {
    "name": "ipython",
    "version": 3
   },
   "file_extension": ".py",
   "mimetype": "text/x-python",
   "name": "python",
   "nbconvert_exporter": "python",
   "pygments_lexer": "ipython3",
   "version": "3.11.7"
  }
 },
 "nbformat": 4,
 "nbformat_minor": 5
}
