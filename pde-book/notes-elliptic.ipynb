{
 "cells": [
  {
   "cell_type": "markdown",
   "id": "554e9468-567c-4c40-b6bd-1b0307addb38",
   "metadata": {},
   "source": [
    "# Elliptic Partial Differential Equations"
   ]
  },
  {
   "cell_type": "code",
   "execution_count": 1,
   "id": "6b888762-d086-4c3d-9232-8fd6844a5071",
   "metadata": {},
   "outputs": [],
   "source": [
    "import matplotlib.pyplot as plt"
   ]
  },
  {
   "cell_type": "code",
   "execution_count": 25,
   "id": "27c43f54-0c94-4941-b852-f650bddc0900",
   "metadata": {},
   "outputs": [
    {
     "data": {
      "text/plain": [
       "Text(1.05, 1.1, '$u^{n}_{i-1}$')"
      ]
     },
     "execution_count": 25,
     "metadata": {},
     "output_type": "execute_result"
    },
    {
     "data": {
      "image/png": "[encoded data removed]",
      "text/plain": [
       "<Figure size 640x480 with 1 Axes>"
      ]
     },
     "metadata": {},
     "output_type": "display_data"
    }
   ],
   "source": [
    "fig = plt.figure()\n",
    "for i in range(3):\n",
    "    plt.plot((0, 2), (i, i), \"k\")\n",
    "for j in range(3):\n",
    "    plt.plot((j, j), (0, 2), \"k\")\n",
    "plt.plot(0, 0, \"ko\")\n",
    "plt.plot(1, 0, \"ko\")\n",
    "plt.plot(2, 0, \"ko\")\n",
    "plt.plot(0, 1, \"ko\")\n",
    "plt.plot(1, 1, \"ko\")\n",
    "plt.plot(2, 1, \"ko\")\n",
    "plt.plot(0, 2, \"ko\")\n",
    "plt.plot(1, 2, \"ko\")\n",
    "plt.plot(2, 2, \"ko\")\n",
    "ax = fig.gca()\n",
    "ax.axis(\"off\")\n",
    "ax.axis(\"equal\")\n",
    "plt.text(0, -0.25, \"$i-1$\")\n",
    "plt.text(1, -0.25, \"$i$\")\n",
    "plt.text(2, -0.25, \"$i+1$\")\n",
    "plt.text(-0.45, 0, \"$n-1$\")\n",
    "plt.text(-0.45, 1, \"$n$\")\n",
    "plt.text(-0.45, 2, \"$n+1$\")\n",
    "plt.text(2.1, 1.1, \"$u^j_i$\")\n",
    "plt.text(2.1, 2.1, \"$u^{n+1}_i$\")\n",
    "plt.text(1.05, 1.1, \"$u^{n}_{i-1}$\")\n",
    "# plt.text(-0.45, 3, 'y')\n",
    "# plt.text(4, -0.25, 'x');"
   ]
  },
  {
   "cell_type": "code",
   "execution_count": null,
   "id": "e2b7ebcc-9d36-40c1-8a96-73f0a33351b0",
   "metadata": {},
   "outputs": [],
   "source": []
  }
 ],
 "metadata": {
  "kernelspec": {
   "display_name": "Python 3 (ipykernel)",
   "language": "python",
   "name": "python3"
  },
  "language_info": {
   "codemirror_mode": {
    "name": "ipython",
    "version": 3
   },
   "file_extension": ".py",
   "mimetype": "text/x-python",
   "name": "python",
   "nbconvert_exporter": "python",
   "pygments_lexer": "ipython3",
   "version": "3.11.6"
  }
 },
 "nbformat": 4,
 "nbformat_minor": 5
}
