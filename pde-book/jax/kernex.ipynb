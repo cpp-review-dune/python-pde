{
 "cells": [
  {
   "cell_type": "markdown",
   "id": "14dcbb56-8d21-4a28-a2cf-c85cca87bdd6",
   "metadata": {},
   "source": [
    "# kernex"
   ]
  },
  {
   "cell_type": "code",
   "execution_count": 1,
   "id": "28b30c90-08f3-479d-8d21-5e5fddb5fba3",
   "metadata": {},
   "outputs": [],
   "source": [
    "import jax\n",
    "import jax.numpy as jnp\n",
    "import kernex as kex\n",
    "import matplotlib.pyplot as plt"
   ]
  },
  {
   "cell_type": "code",
   "execution_count": 2,
   "id": "93bd1c53-2ca8-40ff-bfd2-23ceb425ff54",
   "metadata": {},
   "outputs": [],
   "source": [
    "%matplotlib widget"
   ]
  },
  {
   "cell_type": "code",
   "execution_count": 3,
   "id": "5d457b7b-c411-4b69-8b64-d41608c42c32",
   "metadata": {},
   "outputs": [],
   "source": [
    "@kex.kmap(kernel_size=(3,))\n",
    "def sum_all(x):\n",
    "    return jnp.sum(x)"
   ]
  },
  {
   "cell_type": "code",
   "execution_count": 4,
   "id": "6185bc71-800d-41f5-ba9c-e687144c3570",
   "metadata": {},
   "outputs": [],
   "source": [
    "x = jnp.array([1, 2, 3, 4, 5])"
   ]
  },
  {
   "cell_type": "code",
   "execution_count": 5,
   "id": "71186627-7f65-4038-bb52-4351bf5eb6c3",
   "metadata": {},
   "outputs": [
    {
     "name": "stdout",
     "output_type": "stream",
     "text": [
      "[ 6  9 12]\n"
     ]
    }
   ],
   "source": [
    "print(sum_all(x))"
   ]
  },
  {
   "cell_type": "code",
   "execution_count": 6,
   "id": "73aae6f1-50de-4cd7-90fb-e6f986de5980",
   "metadata": {},
   "outputs": [],
   "source": [
    "@kex.kscan(kernel_size=(3,))\n",
    "def sum_all(x):\n",
    "    return jnp.sum(x)"
   ]
  },
  {
   "cell_type": "code",
   "execution_count": 7,
   "id": "e8000e1b-b17f-4dd8-a4ff-c849edda8a16",
   "metadata": {},
   "outputs": [],
   "source": [
    "x = jnp.array([1, 2, 3, 4, 5])"
   ]
  },
  {
   "cell_type": "code",
   "execution_count": 8,
   "id": "5bf82090-88bb-4a79-9f6a-63277672e4b8",
   "metadata": {},
   "outputs": [
    {
     "name": "stdout",
     "output_type": "stream",
     "text": [
      "[ 6 13 22]\n"
     ]
    }
   ],
   "source": [
    "print(sum_all(x))"
   ]
  },
  {
   "cell_type": "code",
   "execution_count": 9,
   "id": "df9fa2f7-bf09-4a76-b61b-c4a8f6585607",
   "metadata": {},
   "outputs": [],
   "source": [
    "@jax.jit\n",
    "@kex.kmap(kernel_size=(3, 3, 3), padding=(\"valid\", \"same\", \"same\"))\n",
    "def kernex_conv2d(x, w):\n",
    "    # JAX channel first conv2d with 3x3x3 kernel_size\n",
    "    return jnp.sum(x * w)"
   ]
  },
  {
   "cell_type": "code",
   "execution_count": 10,
   "id": "e8e8cbbf-89ce-4adf-83b2-fb82d962952e",
   "metadata": {},
   "outputs": [],
   "source": [
    "@kex.kmap(\n",
    "    kernel_size=(3, 3), padding=\"valid\", relative=True\n",
    ")  # `relative`= True enables relative indexing\n",
    "def laplacian(x):\n",
    "    return (\n",
    "        0 * x[1, -1]\n",
    "        + 1 * x[1, 0]\n",
    "        + 0 * x[1, 1]\n",
    "        + 1 * x[0, -1]\n",
    "        + -4 * x[0, 0]\n",
    "        + 1 * x[0, 1]\n",
    "        + 0 * x[-1, -1]\n",
    "        + 1 * x[-1, 0]\n",
    "        + 0 * x[-1, 1]\n",
    "    )"
   ]
  },
  {
   "cell_type": "code",
   "execution_count": 11,
   "id": "66b37c0e-19f3-4036-b5c3-bf99dc821d5b",
   "metadata": {},
   "outputs": [
    {
     "name": "stdout",
     "output_type": "stream",
     "text": [
      "[[0. 0. 0. 0. 0. 0. 0. 0.]\n",
      " [0. 0. 0. 0. 0. 0. 0. 0.]\n",
      " [0. 0. 0. 0. 0. 0. 0. 0.]\n",
      " [0. 0. 0. 0. 0. 0. 0. 0.]\n",
      " [0. 0. 0. 0. 0. 0. 0. 0.]\n",
      " [0. 0. 0. 0. 0. 0. 0. 0.]\n",
      " [0. 0. 0. 0. 0. 0. 0. 0.]\n",
      " [0. 0. 0. 0. 0. 0. 0. 0.]]\n"
     ]
    }
   ],
   "source": [
    "print(laplacian(jnp.ones([10, 10])))"
   ]
  },
  {
   "cell_type": "code",
   "execution_count": 12,
   "id": "7e144421-5d05-42f8-ac07-b740765f8a1a",
   "metadata": {},
   "outputs": [],
   "source": [
    "@kex.kmap(kernel_size=(3, 3), relative=True)\n",
    "def identity(x):\n",
    "    return x[0, 0]"
   ]
  },
  {
   "cell_type": "code",
   "execution_count": 13,
   "id": "dc7dd5ba-9f9d-42c3-b211-4de088e921e2",
   "metadata": {},
   "outputs": [],
   "source": [
    "@jax.jit\n",
    "@kex.kmap(kernel_size=(3, 3), padding=\"same\")\n",
    "def get_3x3_patches(x):\n",
    "    # returns 5x5x3x3 array\n",
    "    return x"
   ]
  },
  {
   "cell_type": "code",
   "execution_count": 14,
   "id": "cb456e0a-bda0-47db-92ee-0b6ecaf137e2",
   "metadata": {},
   "outputs": [],
   "source": [
    "mat = jnp.arange(1, 26).reshape(5, 5)"
   ]
  },
  {
   "cell_type": "code",
   "execution_count": 15,
   "id": "80f70621-1eb6-456a-89c9-388bbf0b00e6",
   "metadata": {},
   "outputs": [
    {
     "name": "stdout",
     "output_type": "stream",
     "text": [
      "[[ 1  2  3  4  5]\n",
      " [ 6  7  8  9 10]\n",
      " [11 12 13 14 15]\n",
      " [16 17 18 19 20]\n",
      " [21 22 23 24 25]]\n"
     ]
    }
   ],
   "source": [
    "print(mat)"
   ]
  },
  {
   "cell_type": "code",
   "execution_count": 16,
   "id": "b5cc05dd-f489-488c-b62a-87faf68c34a5",
   "metadata": {},
   "outputs": [
    {
     "name": "stdout",
     "output_type": "stream",
     "text": [
      "[[0 0 0]\n",
      " [0 1 2]\n",
      " [0 6 7]]\n"
     ]
    }
   ],
   "source": [
    "print(get_3x3_patches(mat)[0, 0])"
   ]
  },
  {
   "cell_type": "code",
   "execution_count": 17,
   "id": "35f2bda1-8bd3-45f5-b24a-372744087cde",
   "metadata": {},
   "outputs": [],
   "source": [
    "# # see https://nbviewer.org/github/barbagroup/CFDPython/blob/master/lessons/01_Step_1.ipynb\n",
    "# tmax,xmax = 0.5,2.0\n",
    "# nt,nx = 151,51\n",
    "# dt,dx = tmax/(nt-1) , xmax/(nx-1)\n",
    "# u = jnp.ones([nt,nx])\n",
    "# c = 0.5"
   ]
  },
  {
   "cell_type": "code",
   "execution_count": 18,
   "id": "9dd9c026-0632-41a9-9b65-73651e03440d",
   "metadata": {},
   "outputs": [],
   "source": [
    "# # kscan moves sequentially in row-major order and updates in-place using lax.scan.\n",
    "# F = kernex.kscan(\n",
    "#         kernel_size = (3,3),\n",
    "#         padding = ((1,1),(1,1)),\n",
    "#         # n for time axis , i for spatial axis (optional naming)\n",
    "#         named_axis={0:'n',1:'i'},\n",
    "#         relative=True\n",
    "#     )"
   ]
  },
  {
   "cell_type": "code",
   "execution_count": 19,
   "id": "bc6dca9d-357f-4529-8765-a3922e9d9271",
   "metadata": {},
   "outputs": [],
   "source": [
    "# # boundary condtion as a function\n",
    "# def bc(u):\n",
    "#     return 1\n",
    "\n",
    "# # initial condtion as a function\n",
    "# def ic1(u):\n",
    "#     return 1\n",
    "\n",
    "# def ic2(u):\n",
    "#     return 2\n",
    "\n",
    "# def linear_convection(u):\n",
    "#     return ( u['i','n-1'] - (c*dt/dx) * (u['i','n-1'] - u['i-1','n-1']) )"
   ]
  },
  {
   "cell_type": "code",
   "execution_count": 20,
   "id": "6027dfef-9a61-486a-977e-547b19c12a1a",
   "metadata": {},
   "outputs": [],
   "source": [
    "# F[:,0]  = F[:,-1] = bc # assign 1 for left and right boundary for all t\n",
    "\n",
    "# # square wave initial condition\n",
    "# F[:,:int((nx-1)/4)+1] = F[:,int((nx-1)/2):] = ic1\n",
    "# F[0:1, int((nx-1)/4)+1 : int((nx-1)/2)] = ic2\n",
    "\n",
    "# # assign linear convection function for\n",
    "# # interior spatial location [1:-1]\n",
    "# # and start from t>0  [1:]\n",
    "# F[1:,1:-1] = linear_convection"
   ]
  },
  {
   "cell_type": "code",
   "execution_count": 21,
   "id": "e99d00ed-2f6c-4680-99c1-9f561a572b21",
   "metadata": {},
   "outputs": [],
   "source": [
    "# kx_solution = F(jnp.array(u))"
   ]
  },
  {
   "cell_type": "code",
   "execution_count": 22,
   "id": "c3750c47-5c5e-4cb6-99f0-657e4455971e",
   "metadata": {},
   "outputs": [],
   "source": [
    "# plt.figure(figsize=(20,7))\n",
    "# for line in kx_solution[::20]:\n",
    "#     plt.plot(jnp.linspace(0,xmax,nx),line)"
   ]
  },
  {
   "cell_type": "code",
   "execution_count": 23,
   "id": "60ff5594-8e2e-4ae3-9efb-6562d654ee0d",
   "metadata": {},
   "outputs": [],
   "source": [
    "def gaussian_blur(image, sigma, kernel_size):\n",
    "    x = jnp.linspace(-(kernel_size - 1) / 2.0, (kernel_size - 1) / 2.0, kernel_size)\n",
    "    w = jnp.exp(-0.5 * jnp.square(x) * jax.lax.rsqrt(sigma))\n",
    "    w = jnp.outer(w, w)\n",
    "    w = w / w.sum()\n",
    "\n",
    "    @kex.kmap(kernel_size=(kernel_size, kernel_size), padding=\"same\")\n",
    "    def conv(x):\n",
    "        return jnp.sum(x * w)\n",
    "\n",
    "    return conv(image)"
   ]
  },
  {
   "cell_type": "code",
   "execution_count": 24,
   "id": "9389593d-758a-451f-989a-dafc3859ad03",
   "metadata": {},
   "outputs": [],
   "source": [
    "@jax.jit\n",
    "@jax.vmap\n",
    "@kex.kmap(kernel_size=(3, 3), padding=(\"same\", \"same\"))\n",
    "def kernex_depthwise_conv2d(x, w):\n",
    "    return jnp.sum(x * w)"
   ]
  },
  {
   "cell_type": "code",
   "execution_count": 25,
   "id": "59da7f7a-2047-4f04-a38c-eff7d74bf934",
   "metadata": {},
   "outputs": [],
   "source": [
    "h, w, c = 5, 5, 2\n",
    "k = 3"
   ]
  },
  {
   "cell_type": "code",
   "execution_count": 26,
   "id": "9d35342d-6507-4f84-a326-939e2a90409a",
   "metadata": {},
   "outputs": [],
   "source": [
    "x = jnp.arange(1, h * w * c + 1).reshape(c, h, w)\n",
    "w = jnp.arange(1, k * k * c + 1).reshape(c, k, k)"
   ]
  },
  {
   "cell_type": "code",
   "execution_count": 27,
   "id": "8a621df7-fd7f-45ac-8858-d94f9406ff04",
   "metadata": {},
   "outputs": [
    {
     "name": "stdout",
     "output_type": "stream",
     "text": [
      "[[[ 128  202  241  280  184]\n",
      "  [ 276  411  456  501  318]\n",
      "  [ 441  636  681  726  453]\n",
      "  [ 606  861  906  951  588]\n",
      "  [ 320  436  457  478  280]]\n",
      "\n",
      " [[1872 2770 2863 2956 1936]\n",
      "  [2802 4128 4254 4380 2856]\n",
      "  [3237 4758 4884 5010 3261]\n",
      "  [3672 5388 5514 5640 3666]\n",
      "  [2304 3364 3439 3514 2272]]]\n"
     ]
    }
   ],
   "source": [
    "print(kernex_depthwise_conv2d(x, w))"
   ]
  },
  {
   "cell_type": "code",
   "execution_count": 28,
   "id": "d724c022-c310-4d4f-b233-2619cdc63696",
   "metadata": {},
   "outputs": [],
   "source": [
    "@jax.vmap  # vectorize over the channel dimension\n",
    "@kex.kmap(kernel_size=(3, 3), strides=(2, 2))\n",
    "def avgpool_2d(x):\n",
    "    # define the kernel for the Average pool operation over the spatial dimensions\n",
    "    return jnp.mean(x)"
   ]
  },
  {
   "cell_type": "code",
   "execution_count": 29,
   "id": "90d66894-dc2c-4591-a744-5d8ac7ab8d52",
   "metadata": {},
   "outputs": [],
   "source": [
    "# lets solve dydt = y, where y0 = 1 and y(t)=e^t\n",
    "# using Runge-Kutta 4th order method\n",
    "# f(t,y) = y\n",
    "\n",
    "\n",
    "t = jnp.linspace(0, 1, 5)\n",
    "y = jnp.zeros(5)\n",
    "x = jnp.stack([y, t], axis=0)\n",
    "dt = t[1] - t[0]  # 0.1\n",
    "f = lambda tn, yn: yn"
   ]
  },
  {
   "cell_type": "code",
   "execution_count": 30,
   "id": "d144b409-a57b-4a18-bd53-d95788b81e53",
   "metadata": {},
   "outputs": [],
   "source": [
    "def ic(x):\n",
    "    \"\"\"initial condition y0 = 1\"\"\"\n",
    "    return 1.0\n",
    "\n",
    "\n",
    "def rk4(x):\n",
    "    \"\"\"runge kutta 4th order integration step\"\"\"\n",
    "    # ┌────┬────┬────┐      ┌──────┬──────┬──────┐\n",
    "    # │ y0 │*y1*│ y2 │      │[0,-1]│[0, 0]│[0, 1]│\n",
    "    # ├────┼────┼────┤ ==>  ├──────┼──────┼──────┤\n",
    "    # │ t0 │ t1 │ t2 │      │[1,-1]│[1, 0]│[1, 1]│\n",
    "    # └────┴────┴────┘      └──────┴──────┴──────┘\n",
    "    t0 = x[1, -1]\n",
    "    y0 = x[0, -1]\n",
    "    k1 = dt * f(t0, y0)\n",
    "    k2 = dt * f(t0 + dt / 2, y0 + 1 / 2 * k1)\n",
    "    k3 = dt * f(t0 + dt / 2, y0 + 1 / 2 * k2)\n",
    "    k4 = dt * f(t0 + dt, y0 + k3)\n",
    "    yn_1 = y0 + 1 / 6 * (k1 + 2 * k2 + 2 * k3 + k4)\n",
    "    return yn_1"
   ]
  },
  {
   "cell_type": "code",
   "execution_count": 31,
   "id": "aead5b7e-e615-4e2b-8f01-0489b72e6b6e",
   "metadata": {},
   "outputs": [],
   "source": [
    "F = kex.kscan(kernel_size=(2, 3), relative=True, padding=((0, 1)))  # kernel size = 3\n",
    "\n",
    "F[0:1, 1:] = rk4\n",
    "F[0, 0] = ic"
   ]
  },
  {
   "cell_type": "code",
   "execution_count": 32,
   "id": "ebf4d288-baa5-4867-a0f2-09d5ac385033",
   "metadata": {},
   "outputs": [],
   "source": [
    "# compile the solver\n",
    "solver = jax.jit(F.__call__)\n",
    "y = solver(x)[0, :]"
   ]
  },
  {
   "cell_type": "code",
   "execution_count": 33,
   "id": "cec6a061-470e-4ede-bdc9-7ee9c2e06619",
   "metadata": {},
   "outputs": [
    {
     "data": {
      "application/vnd.jupyter.widget-view+json": {
       "model_id": "5259f89b3f4d439a9836819dbb0fd3df",
       "version_major": 2,
       "version_minor": 0
      },
      "image/png": "[encoded data removed]",
      "text/html": [
       "\n",
       "            <div style=\"display: inline-block;\">\n",
       "                <div class=\"jupyter-widgets widget-label\" style=\"text-align: center;\">\n",
       "                    Figure\n",
       "                </div>\n",
       "                <img src='data:image/png;base64,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' width=640.0/>\n",
       "            </div>\n",
       "        "
      ],
      "text/plain": [
       "Canvas(toolbar=Toolbar(toolitems=[('Home', 'Reset original view', 'home', 'home'), ('Back', 'Back to previous …"
      ]
     },
     "metadata": {},
     "output_type": "display_data"
    }
   ],
   "source": [
    "plt.plot(t, y, \"-o\", label=\"rk4\")\n",
    "plt.plot(t, jnp.exp(t), \"-o\", label=\"analytical\")\n",
    "plt.legend()\n",
    "plt.show()"
   ]
  }
 ],
 "metadata": {
  "kernelspec": {
   "display_name": "Python 3 (ipykernel)",
   "language": "python",
   "name": "python3"
  },
  "language_info": {
   "codemirror_mode": {
    "name": "ipython",
    "version": 3
   },
   "file_extension": ".py",
   "mimetype": "text/x-python",
   "name": "python",
   "nbconvert_exporter": "python",
   "pygments_lexer": "ipython3",
   "version": "3.11.7"
  }
 },
 "nbformat": 4,
 "nbformat_minor": 5
}
